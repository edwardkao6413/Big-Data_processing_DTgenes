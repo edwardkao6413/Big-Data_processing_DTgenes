{
 "cells": [
  {
   "cell_type": "code",
   "execution_count": 1,
   "id": "c0c2ee81-ac05-42f8-af7f-36922e608fd7",
   "metadata": {},
   "outputs": [],
   "source": [
    "import pandas as pd\n",
    "import numpy as np\n",
    "pd.set_option('display.max_columns', 50)\n",
    "# pd.set_option('display.max_rows', 50)\n",
    "import tabula\n",
    "from pandasql import sqldf\n",
    "import math\n",
    "from scipy.stats import chi2\n",
    "from scipy import stats\n",
    "from matplotlib import pyplot as plt"
   ]
  },
  {
   "cell_type": "code",
   "execution_count": null,
   "id": "d9556f1e-bd72-42a7-b1f7-a485a6133a72",
   "metadata": {
    "tags": []
   },
   "outputs": [],
   "source": [
    "DNA_inside_w = pd.read_excel(r\"C:\\Users\\edwar\\Desktop\\農藝\\paper2\\data collection\\integrated_results_DNAinside.xlsx\", sheet_name = 'weighted')\n",
    "# DNA_inside_uw = pd.read_excel(r\"C:\\Users\\edwar\\Desktop\\農藝\\paper2\\data collection\\integrated_results_DNAinside.xlsx\", sheet_name = 'unweighted')\n",
    "RNA_inside_w = pd.read_excel(r\"C:\\Users\\edwar\\Desktop\\農藝\\paper2\\data collection\\integrated_results_RNAinside.xlsx\", sheet_name = 'weighted')\n",
    "# RNA_inside_uw = pd.read_excel(r\"C:\\Users\\edwar\\Desktop\\農藝\\paper2\\data collection\\integrated_results_RNAinside.xlsx\", sheet_name = 'unweighted')\n",
    "dna_dt = DNA_inside_w.iloc[:135].copy()\n",
    "rna_dt = RNA_inside_w.iloc[:133].copy()"
   ]
  },
  {
   "cell_type": "code",
   "execution_count": null,
   "id": "11f96ac8-a6ea-42ef-b878-dca22ef61f9b",
   "metadata": {
    "tags": []
   },
   "outputs": [],
   "source": [
    "dna_pw = pd.read_excel(r\"C:\\Users\\edwar\\Desktop\\農藝\\paper2\\sys_biology\\soyNet_results\\dt_genes_fromPW\\DNA_gene_lists.xlsx\")\n",
    "rna_pw = pd.read_excel(r\"C:\\Users\\edwar\\Desktop\\農藝\\paper2\\sys_biology\\soyNet_results\\dt_genes_fromPW\\RNA_gene_lists.xlsx\")"
   ]
  },
  {
   "cell_type": "code",
   "execution_count": null,
   "id": "cf4fdb14-feb0-47dd-a296-a304bbc749b4",
   "metadata": {
    "tags": []
   },
   "outputs": [],
   "source": [
    "print('overlapped:', len(set(dna_pw['gene']) & set(rna_pw['gene'])))\n",
    "print('union:', len(set(dna_pw['gene']) | set(rna_pw['gene'])))"
   ]
  },
  {
   "cell_type": "code",
   "execution_count": null,
   "id": "24e7440b-7050-4a83-8c6e-b51afa575115",
   "metadata": {},
   "outputs": [],
   "source": []
  },
  {
   "cell_type": "code",
   "execution_count": 8,
   "id": "e60e5df3-8d7a-4708-b8f1-393b2225bcf9",
   "metadata": {
    "tags": []
   },
   "outputs": [],
   "source": [
    "## validation\n",
    "# inner_cirle & dtgenes\n",
    "# two circles & dtgenes\n",
    "# intermediate genes\n",
    "# remaining genes"
   ]
  },
  {
   "cell_type": "code",
   "execution_count": null,
   "id": "f16740b7-6064-406e-a5ac-914bbee2dbc6",
   "metadata": {
    "tags": []
   },
   "outputs": [],
   "source": [
    "pw_results = pd.read_excel(r\"C:\\Users\\edwar\\Desktop\\農藝\\paper2\\sys_biology\\DNA_hypergeom_results.xlsx\")\n",
    "pw_results_swap = pd.read_excel(r\"C:\\Users\\edwar\\Desktop\\農藝\\paper2\\sys_biology\\RNA_hypergeom_results.xlsx\")"
   ]
  },
  {
   "cell_type": "code",
   "execution_count": null,
   "id": "e5133c79-73d3-4908-bbe3-0882099e08f3",
   "metadata": {
    "tags": []
   },
   "outputs": [],
   "source": [
    "pw_bonf = pw_results[pw_results['p_Bonf'] < 0.005].reset_index().drop(['index'], axis = 1)\n",
    "pw_swap_bonf = pw_results_swap[pw_results_swap['p_Bonf'] < 0.005].reset_index().drop(['index'], axis = 1)"
   ]
  },
  {
   "cell_type": "code",
   "execution_count": null,
   "id": "e0484756-8411-4b2f-b1ff-f21a3af53b54",
   "metadata": {
    "tags": []
   },
   "outputs": [],
   "source": [
    "set(pw_swap_bonf['Pathway']) & set(pw_bonf['Pathway'])"
   ]
  },
  {
   "cell_type": "code",
   "execution_count": null,
   "id": "9ba48186-b5cb-4dd7-87cd-a1193261a5b4",
   "metadata": {
    "tags": []
   },
   "outputs": [],
   "source": [
    "len(set(pw_swap_bonf['Pathway']) & set(pw_bonf['Pathway']))"
   ]
  },
  {
   "cell_type": "code",
   "execution_count": null,
   "id": "d954620d-018f-4835-90c5-09f04896cbde",
   "metadata": {},
   "outputs": [],
   "source": []
  },
  {
   "cell_type": "code",
   "execution_count": null,
   "id": "4e3ff3a4-e829-4381-a487-b222f095ebe9",
   "metadata": {},
   "outputs": [],
   "source": []
  },
  {
   "cell_type": "markdown",
   "id": "948d0ee8-7b48-40dd-bfe0-624f85f4f937",
   "metadata": {},
   "source": [
    "##### DNA inside"
   ]
  },
  {
   "cell_type": "code",
   "execution_count": null,
   "id": "1d9b6ee2-a756-4e77-a0df-a0a763b934c1",
   "metadata": {
    "tags": []
   },
   "outputs": [],
   "source": [
    "DNA_nw = pd.read_csv(r\"C:\\Users\\edwar\\Desktop\\農藝\\paper2\\sys_biology\\cytoscape\\DNA_inside24\\DNA_inside_network24_node.csv\")\n",
    "len(DNA_nw)"
   ]
  },
  {
   "cell_type": "code",
   "execution_count": null,
   "id": "ed25a9f4-f3e5-4066-bf55-de342f81d133",
   "metadata": {
    "tags": []
   },
   "outputs": [],
   "source": [
    "dna_list_in = pd.read_excel(r\"C:\\Users\\edwar\\Desktop\\農藝\\paper2\\sys_biology\\cytoscape\\DNA_inside24\\dna_genes_id.xlsx\", sheet_name = 'inner')\n",
    "dna_list_out = pd.read_excel(r\"C:\\Users\\edwar\\Desktop\\農藝\\paper2\\sys_biology\\cytoscape\\DNA_inside24\\dna_genes_id.xlsx\", sheet_name = 'outer')"
   ]
  },
  {
   "cell_type": "code",
   "execution_count": 5,
   "id": "c31a2f1c-77f0-4e7e-98dd-46d59b9c40b5",
   "metadata": {
    "tags": []
   },
   "outputs": [],
   "source": [
    "# dna_list_in['gene_fv'] = dna_list_in['gene_id'].apply(lambda x : x.replace('_', '.').lower().capitalize())\n",
    "# dna_list_out['gene_fv'] = dna_list_out['gene_id'].apply(lambda x : x.replace('_', '.').lower().capitalize())\n",
    "\n",
    "# DNA_nw_inner = DNA_nw[DNA_nw['selected'] == True].reset_index().drop(['index'], axis = 1)\n",
    "# DNA_nw_outer = DNA_nw[(DNA_nw['gene'].isin(DNA_nw_inner['gene']) == False) & (DNA_nw['degree.layout'] != 0)].reset_index().drop(['index'], axis = 1)\n",
    "\n",
    "# DNA_nw_inner = DNA_nw_inner.merge(dna_list_in, left_on = ['shared name'], right_on = ['gene_name'], how = 'left').drop(['gene_name', 'gene_id'], axis = 1)\n",
    "# DNA_nw_inner.loc[(DNA_nw_inner['gene_fv'].isna()), 'gene_fv'] = DNA_nw_inner['gene']\n",
    "\n",
    "# DNA_nw_outer = DNA_nw_outer.merge(dna_list_out, left_on = ['shared name'], right_on = ['gene_name'], how = 'left').drop(['gene_name', 'gene_id'], axis = 1)\n",
    "# DNA_nw_outer.loc[(DNA_nw_outer['gene_fv'].isna()), 'gene_fv'] = DNA_nw_outer['gene']\n",
    "\n",
    "# DNA_nw = pd.concat([DNA_nw_inner, DNA_nw_outer]).reset_index().drop(['index'], axis = 1)"
   ]
  },
  {
   "cell_type": "code",
   "execution_count": null,
   "id": "a9c4a85f-c491-4511-a0cf-fdeaf40e3d63",
   "metadata": {},
   "outputs": [],
   "source": [
    "def transfer(cytoscape_list, inner_map, outer_map):\n",
    "    inner_map['gene_fv'] = inner_map['gene_id'].apply(lambda x : x.replace('_', '.').lower().capitalize())\n",
    "    outer_map['gene_fv'] = outer_map['gene_id'].apply(lambda x : x.replace('_', '.').lower().capitalize())\n",
    "    gene_inner = cytoscape_list[cytoscape_list['selected'] == True].reset_index().drop(['index'], axis = 1)\n",
    "    gene_outer = cytoscape_list[(cytoscape_list['gene'].isin(gene_inner['gene']) == False) & (cytoscape_list['degree.layout'] != 0)].reset_index().drop(['index'], axis = 1)\n",
    "    gene_inner = gene_inner.merge(inner_map, left_on = ['shared name'], right_on = ['gene_name'], how = 'left').drop(['gene_name', 'gene_id'], axis = 1)\n",
    "    gene_outer = gene_outer.merge(outer_map, left_on = ['shared name'], right_on = ['gene_name'], how = 'left').drop(['gene_name', 'gene_id'], axis = 1)\n",
    "    gene_inner.loc[(gene_inner['gene_fv'].isna()), 'gene_fv'] = gene_inner['gene']\n",
    "    gene_outer.loc[(gene_outer['gene_fv'].isna()), 'gene_fv'] = gene_outer['gene']\n",
    "    gene_nw = pd.concat([gene_inner, gene_outer]).reset_index().drop(['index'], axis = 1)\n",
    "    return gene_nw"
   ]
  },
  {
   "cell_type": "code",
   "execution_count": null,
   "id": "70ca3f9f-8746-4ea4-83d3-08af20d27487",
   "metadata": {
    "tags": []
   },
   "outputs": [],
   "source": [
    "DNA_nw = transfer(DNA_nw, dna_list_in, dna_list_out)"
   ]
  },
  {
   "cell_type": "code",
   "execution_count": null,
   "id": "1c380d3f-6391-45a3-8c71-b445970d0acb",
   "metadata": {
    "tags": []
   },
   "outputs": [],
   "source": [
    "dna_inner_dt = set(DNA_nw[DNA_nw['selected'] == True].reset_index().drop(['index'], axis = 1)['gene_fv']) & set(dna_dt['gene'])\n",
    "dna_all_dt = set(DNA_nw['gene_fv']) & set(dna_dt['gene'])\n",
    "dna_inter = set(DNA_nw['gene_fv']) - set(dna_dt['gene'])\n",
    "dna_outer_dt = set(DNA_nw[DNA_nw['selected'] == False].reset_index().drop(['index'], axis = 1)['gene_fv']) & set(dna_dt['gene'])\n",
    "len(dna_inner_dt), len(dna_all_dt), len(dna_inter), len(dna_outer_dt)"
   ]
  },
  {
   "cell_type": "code",
   "execution_count": null,
   "id": "040ebaab-fd80-4686-b17e-9bbfb35a188c",
   "metadata": {},
   "outputs": [],
   "source": []
  },
  {
   "cell_type": "code",
   "execution_count": null,
   "id": "22198570-e380-4d2b-985b-3939a682ce75",
   "metadata": {},
   "outputs": [],
   "source": []
  },
  {
   "cell_type": "code",
   "execution_count": null,
   "id": "855aeecd-c15e-4deb-aa4a-4c2dd00f7725",
   "metadata": {},
   "outputs": [],
   "source": []
  },
  {
   "cell_type": "markdown",
   "id": "15fe376e-c6dd-405b-a770-5a3f80a3b6e4",
   "metadata": {},
   "source": [
    "##### DNA inside pw"
   ]
  },
  {
   "cell_type": "code",
   "execution_count": 19,
   "id": "db22d2e3-1144-42d9-9240-6117c1a39cd0",
   "metadata": {
    "tags": []
   },
   "outputs": [
    {
     "data": {
      "text/plain": [
       "136"
      ]
     },
     "execution_count": 19,
     "metadata": {},
     "output_type": "execute_result"
    }
   ],
   "source": [
    "DNA_nwpw = pd.read_csv(r\"C:\\Users\\edwar\\Desktop\\農藝\\paper2\\sys_biology\\cytoscape\\DNA_insidePW\\DNA_inside_PWnetwork_fv.csv\")\n",
    "len(DNA_nwpw)"
   ]
  },
  {
   "cell_type": "code",
   "execution_count": 20,
   "id": "e80bce56-4c43-4d65-938c-19eadaa99b50",
   "metadata": {
    "tags": []
   },
   "outputs": [],
   "source": [
    "dnapw_list_in = pd.read_excel(r\"C:\\Users\\edwar\\Desktop\\農藝\\paper2\\sys_biology\\cytoscape\\DNA_insidePW\\dnapw_genes_id.xlsx\", sheet_name = 'inner')\n",
    "dnapw_list_out = pd.read_excel(r\"C:\\Users\\edwar\\Desktop\\農藝\\paper2\\sys_biology\\cytoscape\\DNA_insidePW\\dnapw_genes_id.xlsx\", sheet_name = 'outer')"
   ]
  },
  {
   "cell_type": "code",
   "execution_count": 21,
   "id": "1d052e63-f907-4e00-b606-c3e4270bda37",
   "metadata": {
    "tags": []
   },
   "outputs": [],
   "source": [
    "DNA_nwpw = transfer(cytoscape_list = DNA_nwpw, inner_map = dnapw_list_in, outer_map = dnapw_list_out)"
   ]
  },
  {
   "cell_type": "code",
   "execution_count": 27,
   "id": "cfd6284c-6579-4e37-91f7-4a9e9e1b0581",
   "metadata": {
    "tags": []
   },
   "outputs": [],
   "source": [
    "# DNA_nwpw.to_excel(r\"C:\\Users\\edwar\\Desktop\\農藝\\paper2\\sys_biology\\cytoscape\\DNA_insidePW\\DNA_inside_PWnetwork_FV1.xlsx\", index = False)"
   ]
  },
  {
   "cell_type": "code",
   "execution_count": 120,
   "id": "5e9a944d-3b58-4f0c-94a3-0c4bc0c85eb1",
   "metadata": {
    "tags": []
   },
   "outputs": [
    {
     "data": {
      "text/plain": [
       "(18, 72, 25, 54)"
      ]
     },
     "execution_count": 120,
     "metadata": {},
     "output_type": "execute_result"
    }
   ],
   "source": [
    "dnapw_inner_dt = set(DNA_nwpw[DNA_nwpw['selected'] == True].reset_index().drop(['index'], axis = 1)['gene_fv']) & set(dna_dt['gene'])\n",
    "dnapw_all_dt = set(DNA_nwpw['gene_fv']) & set(dna_dt['gene'])\n",
    "dnapw_inter = set(DNA_nwpw['gene_fv']) - set(dna_dt['gene'])\n",
    "dnapw_outer_dt = set(DNA_nwpw[DNA_nwpw['selected'] == False].reset_index().drop(['index'], axis = 1)['gene_fv']) & set(dna_dt['gene'])\n",
    "len(dnapw_inner_dt), len(dnapw_all_dt), len(dnapw_inter), len(dnapw_outer_dt)"
   ]
  },
  {
   "cell_type": "code",
   "execution_count": null,
   "id": "64f4f393-fdaf-412e-bfc8-633287894250",
   "metadata": {},
   "outputs": [],
   "source": []
  },
  {
   "cell_type": "code",
   "execution_count": null,
   "id": "6c50d590-1a1e-4951-b864-abd05f9aa954",
   "metadata": {},
   "outputs": [],
   "source": []
  },
  {
   "cell_type": "markdown",
   "id": "3a4ff977-b1e4-459f-ae74-5a5f9c81e766",
   "metadata": {},
   "source": [
    "##### RNA inside"
   ]
  },
  {
   "cell_type": "code",
   "execution_count": 23,
   "id": "117e93e5-4904-4b85-93d7-fd6e85624a99",
   "metadata": {
    "tags": []
   },
   "outputs": [
    {
     "data": {
      "text/plain": [
       "156"
      ]
     },
     "execution_count": 23,
     "metadata": {},
     "output_type": "execute_result"
    }
   ],
   "source": [
    "RNA_nw = pd.read_csv(r\"C:\\Users\\edwar\\Desktop\\農藝\\paper2\\sys_biology\\cytoscape\\RNA_inside\\RNA_inside_network_fv.csv\")\n",
    "len(RNA_nw)"
   ]
  },
  {
   "cell_type": "code",
   "execution_count": 24,
   "id": "2aede0f5-7570-415b-acf1-bf38741da58d",
   "metadata": {
    "tags": []
   },
   "outputs": [],
   "source": [
    "rna_nw_inner = pd.read_excel(r\"C:\\Users\\edwar\\Desktop\\農藝\\paper2\\sys_biology\\cytoscape\\RNA_inside\\rna_genes_id.xlsx\", sheet_name = 'inner')\n",
    "rna_nw_outer = pd.read_excel(r\"C:\\Users\\edwar\\Desktop\\農藝\\paper2\\sys_biology\\cytoscape\\RNA_inside\\rna_genes_id.xlsx\", sheet_name = 'outer')"
   ]
  },
  {
   "cell_type": "code",
   "execution_count": 25,
   "id": "f193fe4e-df4a-4447-bd4f-fc678fb85a00",
   "metadata": {
    "tags": []
   },
   "outputs": [],
   "source": [
    "RNA_nw = transfer(RNA_nw, rna_nw_inner, rna_nw_outer)"
   ]
  },
  {
   "cell_type": "code",
   "execution_count": 32,
   "id": "e01351da-5eb0-4909-9f37-212ca8f8596f",
   "metadata": {},
   "outputs": [],
   "source": [
    "# RNA_nw.to_excel(r\"C:\\Users\\edwar\\Desktop\\農藝\\paper2\\sys_biology\\cytoscape\\RNA_inside\\RNA_inside_network_FV1.xlsx\", index = False)"
   ]
  },
  {
   "cell_type": "code",
   "execution_count": 122,
   "id": "0b80a339-72f3-431e-99e9-5e3286d2164e",
   "metadata": {
    "tags": []
   },
   "outputs": [
    {
     "data": {
      "text/plain": [
       "(15, 86, 27, 71)"
      ]
     },
     "execution_count": 122,
     "metadata": {},
     "output_type": "execute_result"
    }
   ],
   "source": [
    "rna_inner_dt = set(RNA_nw[RNA_nw['selected'] == True].reset_index().drop(['index'], axis = 1)['gene_fv']) & set(rna_dt['gene'])\n",
    "rna_all_dt = set(RNA_nw['gene_fv']) & set(rna_dt['gene'])\n",
    "rna_inter = set(RNA_nw['gene_fv']) - set(rna_dt['gene'])\n",
    "rna_outer_dt = set(RNA_nw[RNA_nw['selected'] == False].reset_index().drop(['index'], axis = 1)['gene_fv']) & set(rna_dt['gene'])\n",
    "len(rna_inner_dt), len(rna_all_dt), len(rna_inter), len(rna_outer_dt)"
   ]
  },
  {
   "cell_type": "code",
   "execution_count": null,
   "id": "af631e67-e9c8-45d0-bb87-0c6ae5da791d",
   "metadata": {},
   "outputs": [],
   "source": []
  },
  {
   "cell_type": "code",
   "execution_count": null,
   "id": "62078fb9-4832-4e66-b1d0-7001b5a1e2b7",
   "metadata": {},
   "outputs": [],
   "source": []
  },
  {
   "cell_type": "markdown",
   "id": "b481fc06-9dc1-4390-8194-9097f09961cc",
   "metadata": {},
   "source": [
    "##### RNA inside pw"
   ]
  },
  {
   "cell_type": "code",
   "execution_count": 27,
   "id": "7c5fac14-5eb1-496d-8c50-cdcc3deb0d35",
   "metadata": {
    "tags": []
   },
   "outputs": [
    {
     "data": {
      "text/plain": [
       "135"
      ]
     },
     "execution_count": 27,
     "metadata": {},
     "output_type": "execute_result"
    }
   ],
   "source": [
    "RNA_nwpw = pd.read_csv(r\"C:\\Users\\edwar\\Desktop\\農藝\\paper2\\sys_biology\\cytoscape\\RNA_insidePW\\RNA_inside_PWnetwork.csv\")\n",
    "len(RNA_nwpw)"
   ]
  },
  {
   "cell_type": "code",
   "execution_count": 28,
   "id": "da56ee1a-ca7b-4999-a300-b16e5cea4922",
   "metadata": {
    "tags": []
   },
   "outputs": [],
   "source": [
    "rnapw_nw_inner = pd.read_excel(r\"C:\\Users\\edwar\\Desktop\\農藝\\paper2\\sys_biology\\cytoscape\\RNA_insidePW\\rnapw_genes_id.xlsx\", sheet_name = 'inner')\n",
    "rnapw_nw_outer = pd.read_excel(r\"C:\\Users\\edwar\\Desktop\\農藝\\paper2\\sys_biology\\cytoscape\\RNA_insidePW\\rnapw_genes_id.xlsx\", sheet_name = 'outer')"
   ]
  },
  {
   "cell_type": "code",
   "execution_count": 29,
   "id": "b959c8d3-2834-4d0a-a686-279c3d29400b",
   "metadata": {
    "tags": []
   },
   "outputs": [],
   "source": [
    "RNA_nwpw = transfer(RNA_nwpw, rnapw_nw_inner, rnapw_nw_outer)"
   ]
  },
  {
   "cell_type": "code",
   "execution_count": 123,
   "id": "8f75c357-0666-4720-9980-89040a4f456d",
   "metadata": {
    "tags": []
   },
   "outputs": [
    {
     "data": {
      "text/plain": [
       "(14, 72, 27, 58)"
      ]
     },
     "execution_count": 123,
     "metadata": {},
     "output_type": "execute_result"
    }
   ],
   "source": [
    "rnapw_inner_dt = set(RNA_nwpw[RNA_nwpw['selected'] == True].reset_index().drop(['index'], axis = 1)['gene_fv']) & set(rna_dt['gene'])\n",
    "rnapw_all_dt = set(RNA_nwpw['gene_fv']) & set(rna_dt['gene'])\n",
    "rnapw_inter = set(RNA_nwpw['gene_fv']) - set(rna_dt['gene'])\n",
    "rnapw_outer_dt = set(RNA_nwpw[RNA_nwpw['selected'] == False].reset_index().drop(['index'], axis = 1)['gene_fv']) & set(rna_dt['gene'])\n",
    "len(rnapw_inner_dt), len(rnapw_all_dt), len(rnapw_inter), len(rnapw_outer_dt)"
   ]
  },
  {
   "cell_type": "code",
   "execution_count": null,
   "id": "e43958c2-e682-4ca8-b358-3096123e3989",
   "metadata": {},
   "outputs": [],
   "source": []
  },
  {
   "cell_type": "code",
   "execution_count": null,
   "id": "b065d4f3-c10e-4039-8506-8be5234d540d",
   "metadata": {},
   "outputs": [],
   "source": []
  },
  {
   "cell_type": "markdown",
   "id": "0cdd555e-c84e-4e12-954e-5cdf5f3a5324",
   "metadata": {},
   "source": [
    "#### integration"
   ]
  },
  {
   "cell_type": "code",
   "execution_count": 92,
   "id": "8be445e1-6d78-4b05-ae78-7985acb37875",
   "metadata": {},
   "outputs": [
    {
     "data": {
      "text/plain": [
       "(121, 98, 114, 100)"
      ]
     },
     "execution_count": 92,
     "metadata": {},
     "output_type": "execute_result"
    }
   ],
   "source": [
    "dna_nw = pd.read_excel(r'C:\\Users\\edwar\\Desktop\\農藝\\paper2\\sys_biology\\cytoscape\\DNA_inside24\\DNA_inside_network_FV1.xlsx')\n",
    "dnapw_nw = pd.read_excel(r'C:\\Users\\edwar\\Desktop\\農藝\\paper2\\sys_biology\\cytoscape\\DNA_insidePW\\DNA_inside_PWnetwork_FV1.xlsx')\n",
    "rna_nw = pd.read_excel(r\"C:\\Users\\edwar\\Desktop\\農藝\\paper2\\sys_biology\\cytoscape\\RNA_inside\\RNA_inside_network_FV1.xlsx\")\n",
    "rnapw_nw = pd.read_excel(r\"C:\\Users\\edwar\\Desktop\\農藝\\paper2\\sys_biology\\cytoscape\\RNA_insidePW\\RNA_inside_PWnetwork_FV1.xlsx\")\n",
    "len(dna_nw), len(dnapw_nw), len(rna_nw), len(rnapw_nw)"
   ]
  },
  {
   "cell_type": "markdown",
   "id": "19196e59-4ce2-400b-8c5f-ff1f6f7cbe0d",
   "metadata": {},
   "source": [
    "DNA_inside"
   ]
  },
  {
   "cell_type": "code",
   "execution_count": 41,
   "id": "b07701a4-0311-4a92-bb22-82f045b0ac01",
   "metadata": {},
   "outputs": [
    {
     "data": {
      "text/plain": [
       "(24, 97)"
      ]
     },
     "execution_count": 41,
     "metadata": {},
     "output_type": "execute_result"
    }
   ],
   "source": [
    "dna_nw_inner = dna_nw[dna_nw['selected'] == True].reset_index().drop(['index'], axis = 1)\n",
    "dna_nw_outer = dna_nw[dna_nw['selected'] == False].reset_index().drop(['index'], axis = 1)\n",
    "len(dna_nw_inner), len(dna_nw_outer)"
   ]
  },
  {
   "cell_type": "code",
   "execution_count": 52,
   "id": "9b0f820f-e342-4f7a-a2b1-9fca16c9bd3f",
   "metadata": {},
   "outputs": [
    {
     "name": "stdout",
     "output_type": "stream",
     "text": [
      "dna inside No.DTgenes: 14\n"
     ]
    }
   ],
   "source": [
    "dna_nw_dt = list(set(dna_nw_inner['gene_fv']) & set(dna_dt['gene']))\n",
    "print('dna inside No.DTgenes:', len(dna_nw_dt))"
   ]
  },
  {
   "cell_type": "code",
   "execution_count": null,
   "id": "408f5047-e385-49c5-9dd1-36074d8f0156",
   "metadata": {},
   "outputs": [],
   "source": []
  },
  {
   "cell_type": "code",
   "execution_count": null,
   "id": "f59b943b-4026-4d9e-959c-834117277ebc",
   "metadata": {},
   "outputs": [],
   "source": []
  },
  {
   "cell_type": "markdown",
   "id": "42834857-e409-40ee-b7bf-dd128af322e0",
   "metadata": {},
   "source": [
    "dna_inside pw"
   ]
  },
  {
   "cell_type": "code",
   "execution_count": 57,
   "id": "0c68dd81-7ad1-4772-a03b-68fb079e62f2",
   "metadata": {
    "tags": []
   },
   "outputs": [
    {
     "data": {
      "text/plain": [
       "35"
      ]
     },
     "execution_count": 57,
     "metadata": {},
     "output_type": "execute_result"
    }
   ],
   "source": [
    "dnapw_nw_inner = dnapw_nw[dnapw_nw['selected'] == True].reset_index().drop(['index'], axis = 1)\n",
    "len(dnapw_nw_inner)"
   ]
  },
  {
   "cell_type": "code",
   "execution_count": 53,
   "id": "203170b7-50d7-4122-96bb-d86226116fa1",
   "metadata": {
    "tags": []
   },
   "outputs": [
    {
     "name": "stdout",
     "output_type": "stream",
     "text": [
      "dna pw inside No.DTgenes: 18\n"
     ]
    }
   ],
   "source": [
    "dnapw_nw_dt = list(set(dnapw_nw_inner['gene_fv']) & set(dna_dt['gene']))\n",
    "print('dna pw inside No.DTgenes:', len(dnapw_nw_dt))"
   ]
  },
  {
   "cell_type": "code",
   "execution_count": null,
   "id": "18a85b55-a58f-41f1-af10-4582fdab526c",
   "metadata": {},
   "outputs": [],
   "source": []
  },
  {
   "cell_type": "code",
   "execution_count": null,
   "id": "f23f8fa8-856c-4b17-89f2-92af890eb3ab",
   "metadata": {},
   "outputs": [],
   "source": []
  },
  {
   "cell_type": "markdown",
   "id": "92549db8-c5d1-4dd2-a0f5-e8105a920b5f",
   "metadata": {},
   "source": [
    "dna summarization"
   ]
  },
  {
   "cell_type": "code",
   "execution_count": 54,
   "id": "a2a74fce-73d7-4b38-b043-9bc46ecd7a65",
   "metadata": {
    "tags": []
   },
   "outputs": [
    {
     "name": "stdout",
     "output_type": "stream",
     "text": [
      "dna union 19\n"
     ]
    }
   ],
   "source": [
    "dna_union = list(set(dna_nw_dt) | set(dnapw_nw_dt))\n",
    "print('dna union', len(dna_union))"
   ]
  },
  {
   "cell_type": "code",
   "execution_count": 99,
   "id": "a579388e-a359-497d-997b-d99a6bcc0ddc",
   "metadata": {
    "tags": []
   },
   "outputs": [
    {
     "name": "stdout",
     "output_type": "stream",
     "text": [
      "dna overlap 13\n"
     ]
    }
   ],
   "source": [
    "dna_overlap = list(set(dna_nw_dt) & set(dnapw_nw_dt))\n",
    "print('dna overlap', len(dna_overlap))"
   ]
  },
  {
   "cell_type": "code",
   "execution_count": 101,
   "id": "5f21cb4d-6094-473c-a3ae-0402be86b623",
   "metadata": {
    "tags": []
   },
   "outputs": [],
   "source": [
    "dna_summary = pd.DataFrame()\n",
    "dna_summary['Union_DNA'] = dna_union\n",
    "dna_summary['dna_DTgenes'] = dna_nw_dt + [np.nan for i in range(len(dna_union) - len(dna_nw_dt))]\n",
    "dna_summary['dnapw_DTgenes'] = dnapw_nw_dt + [np.nan for i in range(len(dna_union) - len(dnapw_nw_dt))]\n",
    "dna_summary['overlapped_DNA'] = dna_overlap + [np.nan for i in range(len(dna_union) - len(dna_overlap))]"
   ]
  },
  {
   "cell_type": "code",
   "execution_count": 103,
   "id": "5f4b9e4a-d360-42a6-a73d-4bcf8db8e832",
   "metadata": {
    "tags": []
   },
   "outputs": [],
   "source": [
    "# dna_summary.to_excel(r'C:\\Users\\edwar\\Desktop\\農藝\\paper2\\sys_biology\\cytoscape\\dna_DTgenes.xlsx', index = False)。"
   ]
  },
  {
   "cell_type": "code",
   "execution_count": null,
   "id": "1c8dbe04-22ea-4600-b7a3-e5e53a668e04",
   "metadata": {},
   "outputs": [],
   "source": []
  },
  {
   "cell_type": "markdown",
   "id": "4eea6f4f-d767-4ec9-94dd-d8ed27529367",
   "metadata": {},
   "source": [
    "RNA_inside"
   ]
  },
  {
   "cell_type": "code",
   "execution_count": 58,
   "id": "7ac546a4-8d63-4fda-bd8f-8e760f224fbb",
   "metadata": {
    "tags": []
   },
   "outputs": [
    {
     "data": {
      "text/plain": [
       "30"
      ]
     },
     "execution_count": 58,
     "metadata": {},
     "output_type": "execute_result"
    }
   ],
   "source": [
    "rna_nw_inner = rna_nw[rna_nw['selected'] == True].reset_index().drop(['index'], axis = 1)\n",
    "len(rna_nw_inner)"
   ]
  },
  {
   "cell_type": "code",
   "execution_count": 59,
   "id": "a6dad46f-5585-426c-8817-3687b6585d12",
   "metadata": {
    "tags": []
   },
   "outputs": [
    {
     "name": "stdout",
     "output_type": "stream",
     "text": [
      "rna inside No.DTgenes: 15\n"
     ]
    }
   ],
   "source": [
    "rna_nw_dt = list(set(rna_nw_inner['gene_fv']) & set(rna_dt['gene']))\n",
    "print('rna inside No.DTgenes:', len(rna_nw_dt))"
   ]
  },
  {
   "cell_type": "code",
   "execution_count": null,
   "id": "9d01db3f-0886-4830-9ab9-da795074b9f9",
   "metadata": {},
   "outputs": [],
   "source": []
  },
  {
   "cell_type": "code",
   "execution_count": null,
   "id": "8599ba2f-d50d-4e44-8e5d-7f4fb56ff80e",
   "metadata": {},
   "outputs": [],
   "source": []
  },
  {
   "cell_type": "markdown",
   "id": "e2c70894-625b-4410-a343-3bae10f1e2db",
   "metadata": {},
   "source": [
    "RNA_inside pw"
   ]
  },
  {
   "cell_type": "code",
   "execution_count": 60,
   "id": "71537181-6b94-41e2-9096-8e532b268d17",
   "metadata": {
    "tags": []
   },
   "outputs": [
    {
     "data": {
      "text/plain": [
       "27"
      ]
     },
     "execution_count": 60,
     "metadata": {},
     "output_type": "execute_result"
    }
   ],
   "source": [
    "rnapw_nw_inner = rnapw_nw[rnapw_nw['selected'] == True].reset_index().drop(['index'], axis = 1)\n",
    "len(rnapw_nw_inner)"
   ]
  },
  {
   "cell_type": "code",
   "execution_count": 72,
   "id": "92e5ccc6-18d2-4a64-ac1e-0b933f60e69e",
   "metadata": {
    "tags": []
   },
   "outputs": [
    {
     "name": "stdout",
     "output_type": "stream",
     "text": [
      "rna pw inside No.DTgenes: 14\n"
     ]
    }
   ],
   "source": [
    "rnapw_nw_dt = list(set(rnapw_nw_inner['gene_fv']) & set(rna_dt['gene']))\n",
    "print('rna pw inside No.DTgenes:', len(rnapw_nw_dt))"
   ]
  },
  {
   "cell_type": "code",
   "execution_count": null,
   "id": "1f6ce118-ed6a-4d1e-b446-546fe42ca14a",
   "metadata": {},
   "outputs": [],
   "source": []
  },
  {
   "cell_type": "code",
   "execution_count": null,
   "id": "afb7c742-c577-41dd-9315-1e759f395edc",
   "metadata": {},
   "outputs": [],
   "source": []
  },
  {
   "cell_type": "markdown",
   "id": "b9af63c6-b55e-4a55-aca7-43b98c3523dd",
   "metadata": {},
   "source": [
    "RNA summarization"
   ]
  },
  {
   "cell_type": "code",
   "execution_count": 79,
   "id": "45e53bd2-9e73-491e-9236-594b6b74f08f",
   "metadata": {
    "tags": []
   },
   "outputs": [
    {
     "name": "stdout",
     "output_type": "stream",
     "text": [
      "rna union 16\n"
     ]
    }
   ],
   "source": [
    "rna_union = list(set(rnapw_nw_dt) | set(rna_nw_dt))\n",
    "print('rna union', len(rna_union))"
   ]
  },
  {
   "cell_type": "code",
   "execution_count": 97,
   "id": "66a31293-a0d3-43b2-91a0-50ed35d34ebf",
   "metadata": {
    "tags": []
   },
   "outputs": [
    {
     "name": "stdout",
     "output_type": "stream",
     "text": [
      "rna overlap 13\n"
     ]
    }
   ],
   "source": [
    "rna_overlap = list(set(rnapw_nw_dt) & set(rna_nw_dt))\n",
    "print('rna overlap', len(rna_overlap))"
   ]
  },
  {
   "cell_type": "code",
   "execution_count": 104,
   "id": "89a6252e-ebb0-4df7-bff9-bac6de96090e",
   "metadata": {
    "tags": []
   },
   "outputs": [],
   "source": [
    "rna_summary = pd.DataFrame()\n",
    "rna_summary['Union_RNA'] = rna_union\n",
    "rna_summary['rna_DTgenes'] = rna_nw_dt + [np.nan for i in range(len(rna_union) - len(rna_nw_dt))]\n",
    "rna_summary['rnapw_DTgenes'] = rnapw_nw_dt + [np.nan for i in range(len(rna_union) - len(rnapw_nw_dt))]\n",
    "rna_summary['overlapped_RNA'] = rna_overlap + [np.nan for i in range(len(rna_union) - len(rna_overlap))]"
   ]
  },
  {
   "cell_type": "code",
   "execution_count": 106,
   "id": "c3918004-6613-49cc-a673-e5af9841248b",
   "metadata": {
    "tags": []
   },
   "outputs": [],
   "source": [
    "# rna_summary.to_excel(r'C:\\Users\\edwar\\Desktop\\農藝\\paper2\\sys_biology\\cytoscape\\rna_DTgenes.xlsx', index = False)"
   ]
  },
  {
   "cell_type": "code",
   "execution_count": null,
   "id": "9eda03c8-9714-4b3c-bb8c-c9ffbb49a119",
   "metadata": {},
   "outputs": [],
   "source": []
  },
  {
   "cell_type": "markdown",
   "id": "27597202-2fa4-43fa-a036-d87c2cc45e81",
   "metadata": {},
   "source": [
    "outer DTgenes in 4 networks"
   ]
  },
  {
   "cell_type": "code",
   "execution_count": 129,
   "id": "50a40d1a-df82-4589-ace1-3a9fdaec3195",
   "metadata": {
    "tags": []
   },
   "outputs": [
    {
     "data": {
      "text/plain": [
       "107"
      ]
     },
     "execution_count": 129,
     "metadata": {},
     "output_type": "execute_result"
    }
   ],
   "source": [
    "all_outer_dt = set(list(dna_outer_dt) + list(dnapw_outer_dt) + list(rna_outer_dt) + list(rnapw_outer_dt))\n",
    "len(all_outer_dt)"
   ]
  },
  {
   "cell_type": "code",
   "execution_count": null,
   "id": "51bb58a4-975a-4ecd-ac58-a8d365f90675",
   "metadata": {},
   "outputs": [],
   "source": []
  },
  {
   "cell_type": "code",
   "execution_count": null,
   "id": "a2dc7878-b590-4c24-ab8b-a8681caaa356",
   "metadata": {},
   "outputs": [],
   "source": []
  },
  {
   "cell_type": "code",
   "execution_count": null,
   "id": "26715e77-4e37-4db8-ba37-699986d8ea54",
   "metadata": {},
   "outputs": [],
   "source": []
  },
  {
   "cell_type": "markdown",
   "id": "dced3d99-611d-4839-b4a0-645bb41c96af",
   "metadata": {},
   "source": [
    "overall summary"
   ]
  },
  {
   "cell_type": "code",
   "execution_count": 88,
   "id": "55e5f007-226f-4456-9ed9-8dd84725b114",
   "metadata": {
    "tags": []
   },
   "outputs": [
    {
     "name": "stdout",
     "output_type": "stream",
     "text": [
      "total overlapped genes: 7\n"
     ]
    }
   ],
   "source": [
    "# DNA_U & RNA_U\n",
    "print('total overlapped genes:', len(set(dna_union) & set(rna_union)))"
   ]
  },
  {
   "cell_type": "code",
   "execution_count": 89,
   "id": "df41799b-3540-4ab0-ad74-8675505a0520",
   "metadata": {
    "tags": []
   },
   "outputs": [
    {
     "name": "stdout",
     "output_type": "stream",
     "text": [
      "total union genes: 28\n"
     ]
    }
   ],
   "source": [
    "# DNA_U | RNA_U\n",
    "print('total union genes:', len(set(dna_union) | set(rna_union)))"
   ]
  },
  {
   "cell_type": "code",
   "execution_count": 98,
   "id": "020c53d5-0fce-4cbb-a11e-c6b34caf542a",
   "metadata": {
    "tags": []
   },
   "outputs": [
    {
     "data": {
      "text/plain": [
       "4"
      ]
     },
     "execution_count": 98,
     "metadata": {},
     "output_type": "execute_result"
    }
   ],
   "source": [
    "# DNA_overlap & RNA_overlap\n",
    "len(set(rna_overlap) & set(dna_overlap))"
   ]
  },
  {
   "cell_type": "code",
   "execution_count": 100,
   "id": "b00a97fd-1fc0-4be2-84c1-2081a80a149b",
   "metadata": {
    "tags": []
   },
   "outputs": [
    {
     "name": "stdout",
     "output_type": "stream",
     "text": [
      "Union of dna overlap and rna overlap: 22\n",
      "Intersetion of dna overlap and rna overlap: 4\n"
     ]
    }
   ],
   "source": [
    "print('Union of dna overlap and rna overlap:', len(set(dna_overlap) | set(rna_overlap)))\n",
    "print('Intersetion of dna overlap and rna overlap:', len(set(dna_overlap) & set(rna_overlap)))"
   ]
  },
  {
   "cell_type": "code",
   "execution_count": 107,
   "id": "cadfd444-e2fc-43ee-b844-e7be6b1d56e4",
   "metadata": {
    "tags": []
   },
   "outputs": [],
   "source": [
    "summary = pd.DataFrame()\n",
    "summary['Union_dnaU_rnaU'] = list(set(dna_union) | set(rna_union))\n",
    "summary['Overlapped_dnaU_rnaU'] = list(set(dna_union) & set(rna_union)) + [np.nan for i in range(len(list(set(dna_union) | set(rna_union))) - len(list(set(dna_union) & set(rna_union))))]"
   ]
  },
  {
   "cell_type": "code",
   "execution_count": 109,
   "id": "58c88b91-ed3d-43c7-b2c0-899917b8fcd1",
   "metadata": {
    "tags": []
   },
   "outputs": [],
   "source": [
    "# summary.to_excel(r'C:\\Users\\edwar\\Desktop\\農藝\\paper2\\sys_biology\\cytoscape\\summary_DTgenes.xlsx', index = False)"
   ]
  },
  {
   "cell_type": "code",
   "execution_count": null,
   "id": "3fa539bb-0556-4618-96e3-fac23b06bdae",
   "metadata": {},
   "outputs": [],
   "source": []
  },
  {
   "cell_type": "code",
   "execution_count": null,
   "id": "3fc2a46e-f42a-4dca-b664-267aea18b6b0",
   "metadata": {},
   "outputs": [],
   "source": []
  },
  {
   "cell_type": "markdown",
   "id": "a8316d89-ad50-402a-94af-1a3cdcf86406",
   "metadata": {},
   "source": [
    "## validation"
   ]
  },
  {
   "cell_type": "markdown",
   "id": "e6641da1-5228-4381-8fe9-462a1eca10c5",
   "metadata": {},
   "source": [
    "### unswap (DNA_inside) dna_inner_dt, dna_all_dt, dna_inter / dnapw_inner_dt, dnapw_all_dt, dnapw_inter"
   ]
  },
  {
   "cell_type": "code",
   "execution_count": 33,
   "id": "8576dbe1-d4f4-4524-b6d3-bd794b914f85",
   "metadata": {
    "tags": []
   },
   "outputs": [],
   "source": [
    "# RNA\n",
    "shin_2015 = pd.read_excel(r'C:\\Users\\edwar\\Desktop\\農藝\\paper2\\data collection\\whole genome data\\complete\\gene expression\\Shin-2015\\Shin2015_wgd.xlsx')\n",
    "tamang_2021 = pd.read_excel(r'C:\\Users\\edwar\\Desktop\\農藝\\paper2\\data collection\\whole genome data\\complete\\gene expression\\Tamang-2021\\Tamang2021_wgd.xlsx')\n",
    "\n",
    "glyma_gene_ver = pd.read_csv(r'C:\\Users\\edwar\\Desktop\\農藝\\paper2\\Glyma_genes_correspondence_final.txt', delimiter = '\\t')"
   ]
  },
  {
   "cell_type": "code",
   "execution_count": 34,
   "id": "da243927-3172-4f91-9c0a-2511c7b2d382",
   "metadata": {
    "tags": []
   },
   "outputs": [],
   "source": [
    "shin_2015_6h = shin_2015[shin_2015['drought_treatment_span'] == 6].reset_index().drop(['index'], axis = 1)[['mapped_gene', 'fc']].rename(columns = {'mapped_gene':'gene_org'})\n",
    "shin_2015_12h = shin_2015[shin_2015['drought_treatment_span'] == 12].reset_index().drop(['index'], axis = 1)[['mapped_gene', 'fc']].rename(columns = {'mapped_gene':'gene_org'})\n",
    "shin_2015_24h = shin_2015[shin_2015['drought_treatment_span'] == 24].reset_index().drop(['index'], axis = 1)[['mapped_gene', 'fc']].rename(columns = {'mapped_gene':'gene_org'})\n",
    "\n",
    "shin_2015_6h = shin_2015_6h.merge(glyma_gene_ver, left_on = ['gene_org'], right_on = ['Wm82.a1.v1'], how = 'left').drop(['Wm82.a1.v1', 'Wm82.a1.v1.1'], axis = 1).rename(columns = {'Wm82.a2.v1':'gene'})\n",
    "shin_2015_12h = shin_2015_12h.merge(glyma_gene_ver, left_on = ['gene_org'], right_on = ['Wm82.a1.v1'], how = 'left').drop(['Wm82.a1.v1', 'Wm82.a1.v1.1'], axis = 1).rename(columns = {'Wm82.a2.v1':'gene'})\n",
    "shin_2015_24h = shin_2015_24h.merge(glyma_gene_ver, left_on = ['gene_org'], right_on = ['Wm82.a1.v1'], how = 'left').drop(['Wm82.a1.v1', 'Wm82.a1.v1.1'], axis = 1).rename(columns = {'Wm82.a2.v1':'gene'})\n",
    "\n",
    "shin_2015_6h = shin_2015_6h[shin_2015_6h['gene'].isna() == False].reset_index().drop(['index'], axis = 1)\n",
    "shin_2015_12h = shin_2015_12h[shin_2015_12h['gene'].isna() == False].reset_index().drop(['index'], axis = 1)\n",
    "shin_2015_24h = shin_2015_24h[shin_2015_24h['gene'].isna() == False].reset_index().drop(['index'], axis = 1)\n",
    "\n",
    "shin_2015_6h.loc[(shin_2015_6h['fc'] < 1), 'fc'] = 1 / shin_2015_6h['fc']\n",
    "shin_2015_12h.loc[(shin_2015_12h['fc'] < 1), 'fc'] = 1 / shin_2015_12h['fc']\n",
    "shin_2015_24h.loc[(shin_2015_24h['fc'] < 1), 'fc'] = 1 / shin_2015_24h['fc']\n",
    "\n",
    "shin_2015_6h['p_val'] = 0.1 ** np.log2(shin_2015_6h['fc'])\n",
    "shin_2015_12h['p_val'] = 0.1 ** np.log2(shin_2015_12h['fc'])\n",
    "shin_2015_24h['p_val'] = 0.1 ** np.log2(shin_2015_24h['fc'])\n",
    "\n",
    "shin_2015_6h['-logP'] = -np.log10(shin_2015_6h['p_val'])\n",
    "shin_2015_12h['-logP'] = -np.log10(shin_2015_12h['p_val'])\n",
    "shin_2015_24h['-logP'] = -np.log10(shin_2015_24h['p_val'])"
   ]
  },
  {
   "cell_type": "code",
   "execution_count": 35,
   "id": "b0d0a6d2-d2f6-45fe-a463-5b9c521067f9",
   "metadata": {
    "tags": []
   },
   "outputs": [],
   "source": [
    "tamang_2021_5d = tamang_2021[tamang_2021['drought_treatment_span'] == 120].reset_index().drop(['index'], axis = 1)[['mapped_gene', 'p', 'fc']].reset_index().drop(['index'], axis = 1).rename(columns = {'mapped_gene':'gene'})\n",
    "tamang_2021_7d = tamang_2021[tamang_2021['drought_treatment_span'] == 144].reset_index().drop(['index'], axis = 1)[['mapped_gene', 'p', 'fc']].reset_index().drop(['index'], axis = 1).rename(columns = {'mapped_gene':'gene'})\n",
    "tamang_2021_5d = tamang_2021_5d[tamang_2021_5d['fc'].isna() == False].reset_index().drop(['index'], axis = 1)\n",
    "tamang_2021_7d = tamang_2021_7d[tamang_2021_7d['fc'].isna() == False].reset_index().drop(['index'], axis = 1)\n",
    "\n",
    "tamang_2021_5d.loc[(tamang_2021_5d['fc'] < 1), 'fc'] = 1 / tamang_2021_5d['fc']\n",
    "tamang_2021_7d.loc[(tamang_2021_7d['fc'] < 1), 'fc'] = 1 / tamang_2021_7d['fc']\n",
    "\n",
    "tamang_2021_5d['p_val'] = 0.1 ** np.log2(tamang_2021_5d['fc'])\n",
    "tamang_2021_7d['p_val'] = 0.1 ** np.log2(tamang_2021_7d['fc'])\n",
    "\n",
    "tamang_2021_5d['-logP'] = -np.log10(tamang_2021_5d['p_val'])\n",
    "tamang_2021_7d['-logP'] = -np.log10(tamang_2021_7d['p_val'])"
   ]
  },
  {
   "cell_type": "markdown",
   "id": "a5b60cf1-60d0-4b11-9a73-ee2afb4b9169",
   "metadata": {},
   "source": [
    "dna"
   ]
  },
  {
   "cell_type": "code",
   "execution_count": 42,
   "id": "721521e4-ed8d-4a29-afdb-6be79c53434a",
   "metadata": {
    "tags": []
   },
   "outputs": [
    {
     "name": "stdout",
     "output_type": "stream",
     "text": [
      "inner DTgenes: RanksumsResult(statistic=1.4540022579904386, pvalue=0.07297284008768239)\n",
      "all DTgenes: RanksumsResult(statistic=6.283683341326315, pvalue=1.653219265359191e-10)\n",
      "intermediate genes: RanksumsResult(statistic=1.4989471826697292, pvalue=0.06694366733997151)\n"
     ]
    }
   ],
   "source": [
    "# 6h\n",
    "p_inner_6h = ranksums(shin_2015_6h[shin_2015_6h['gene'].isin(dna_inner_dt)]['-logP'], shin_2015_6h['-logP'], 'greater')\n",
    "p_all_6h = ranksums(shin_2015_6h[shin_2015_6h['gene'].isin(dna_all_dt)]['-logP'], shin_2015_6h['-logP'], 'greater')\n",
    "p_inter_6h = ranksums(shin_2015_6h[shin_2015_6h['gene'].isin(dna_inter)]['-logP'], shin_2015_6h['-logP'], 'greater')\n",
    "print('inner DTgenes:', p_inner_6h)\n",
    "print('all DTgenes:', p_all_6h)\n",
    "print('intermediate genes:', p_inter_6h)"
   ]
  },
  {
   "cell_type": "code",
   "execution_count": 43,
   "id": "2964013d-ae03-4744-abaa-dc677b2882e6",
   "metadata": {
    "tags": []
   },
   "outputs": [
    {
     "name": "stdout",
     "output_type": "stream",
     "text": [
      "inner DTgenes: RanksumsResult(statistic=2.353919856889006, pvalue=0.009288307873214512)\n",
      "all DTgenes: RanksumsResult(statistic=7.730459706837893, pvalue=5.357945237658638e-15)\n",
      "intermediate genes: RanksumsResult(statistic=2.160563216999108, pvalue=0.015364547680936553)\n"
     ]
    }
   ],
   "source": [
    "# 12h\n",
    "p_inner_12h = ranksums(shin_2015_12h[shin_2015_12h['gene'].isin(dna_inner_dt)]['-logP'], shin_2015_12h['-logP'], 'greater')\n",
    "p_all_12h = ranksums(shin_2015_12h[shin_2015_12h['gene'].isin(dna_all_dt)]['-logP'], shin_2015_12h['-logP'], 'greater')\n",
    "p_inter_12h = ranksums(shin_2015_12h[shin_2015_12h['gene'].isin(dna_inter)]['-logP'], shin_2015_12h['-logP'], 'greater')\n",
    "print('inner DTgenes:', p_inner_12h)\n",
    "print('all DTgenes:', p_all_12h)\n",
    "print('intermediate genes:', p_inter_12h)"
   ]
  },
  {
   "cell_type": "code",
   "execution_count": 44,
   "id": "453d1db5-8fc8-40e2-884b-47628b4c34ea",
   "metadata": {
    "tags": []
   },
   "outputs": [
    {
     "name": "stdout",
     "output_type": "stream",
     "text": [
      "inner DTgenes: RanksumsResult(statistic=1.3768270122831427, pvalue=0.0842828686288607)\n",
      "all DTgenes: RanksumsResult(statistic=5.674891103639842, pvalue=6.938845389919216e-09)\n",
      "intermediate genes: RanksumsResult(statistic=0.9832331431479349, pvalue=0.16274635314398972)\n"
     ]
    }
   ],
   "source": [
    "# 24h\n",
    "p_inner_24h = ranksums(shin_2015_24h[shin_2015_24h['gene'].isin(dna_inner_dt)]['-logP'], shin_2015_24h['-logP'], 'greater')\n",
    "p_all_24h = ranksums(shin_2015_24h[shin_2015_24h['gene'].isin(dna_all_dt)]['-logP'], shin_2015_24h['-logP'], 'greater')\n",
    "p_inter_24h = ranksums(shin_2015_24h[shin_2015_24h['gene'].isin(dna_inter)]['-logP'], shin_2015_24h['-logP'], 'greater')\n",
    "print('inner DTgenes:', p_inner_24h)\n",
    "print('all DTgenes:', p_all_24h)\n",
    "print('intermediate genes:', p_inter_24h)"
   ]
  },
  {
   "cell_type": "code",
   "execution_count": 46,
   "id": "63d1af2a-7207-4dfc-8c0d-70dcb1a4606f",
   "metadata": {
    "tags": []
   },
   "outputs": [
    {
     "name": "stdout",
     "output_type": "stream",
     "text": [
      "inner DTgenes: RanksumsResult(statistic=1.413829874587369, pvalue=0.07870592984543362)\n",
      "all DTgenes: RanksumsResult(statistic=6.969820523625478, pvalue=1.5867278566522455e-12)\n",
      "intermediate genes: RanksumsResult(statistic=0.9193668121872337, pvalue=0.17895187110233807)\n"
     ]
    }
   ],
   "source": [
    "# 5d\n",
    "p_inner_5d = ranksums(tamang_2021_5d[tamang_2021_5d['gene'].isin(dna_inner_dt)]['-logP'], tamang_2021_5d['-logP'], 'greater')\n",
    "p_all_5d = ranksums(tamang_2021_5d[tamang_2021_5d['gene'].isin(dna_all_dt)]['-logP'], tamang_2021_5d['-logP'], 'greater')\n",
    "p_inter_5d = ranksums(tamang_2021_5d[tamang_2021_5d['gene'].isin(dna_inter)]['-logP'], tamang_2021_5d['-logP'], 'greater')\n",
    "print('inner DTgenes:', p_inner_5d)\n",
    "print('all DTgenes:', p_all_5d)\n",
    "print('intermediate genes:', p_inter_5d)"
   ]
  },
  {
   "cell_type": "code",
   "execution_count": 47,
   "id": "e27e3363-0dca-499c-aafd-58af6dadd33a",
   "metadata": {
    "tags": []
   },
   "outputs": [
    {
     "name": "stdout",
     "output_type": "stream",
     "text": [
      "inner DTgenes: RanksumsResult(statistic=1.2146921188083042, pvalue=0.1122417697766761)\n",
      "all DTgenes: RanksumsResult(statistic=6.136743610941887, pvalue=4.211507971872905e-10)\n",
      "intermediate genes: RanksumsResult(statistic=-0.09698013593080032, pvalue=0.5386289153439138)\n"
     ]
    }
   ],
   "source": [
    "# 7d\n",
    "p_inner_7d = ranksums(tamang_2021_7d[tamang_2021_7d['gene'].isin(dna_inner_dt)]['-logP'], tamang_2021_7d['-logP'], 'greater')\n",
    "p_all_7d = ranksums(tamang_2021_7d[tamang_2021_7d['gene'].isin(dna_all_dt)]['-logP'], tamang_2021_7d['-logP'], 'greater')\n",
    "p_inter_7d = ranksums(tamang_2021_7d[tamang_2021_7d['gene'].isin(dna_inter)]['-logP'], tamang_2021_7d['-logP'], 'greater')\n",
    "print('inner DTgenes:', p_inner_7d)\n",
    "print('all DTgenes:', p_all_7d)\n",
    "print('intermediate genes:', p_inter_7d)"
   ]
  },
  {
   "cell_type": "code",
   "execution_count": null,
   "id": "caa45257-57b8-47f1-bc34-4966587c48e0",
   "metadata": {},
   "outputs": [],
   "source": []
  },
  {
   "cell_type": "markdown",
   "id": "a417f5f3-3edc-49cd-8221-21bacb69f3c4",
   "metadata": {},
   "source": [
    "dnapw"
   ]
  },
  {
   "cell_type": "code",
   "execution_count": 55,
   "id": "8a097cc9-d91b-42b1-8a92-a0f07878ac15",
   "metadata": {
    "tags": []
   },
   "outputs": [
    {
     "name": "stdout",
     "output_type": "stream",
     "text": [
      "inner DTgenes: RanksumsResult(statistic=2.4720680601930423, pvalue=0.006716696945053399)\n",
      "all DTgenes: RanksumsResult(statistic=6.062384528586278, pvalue=6.705904651181025e-10)\n",
      "intermediate genes: RanksumsResult(statistic=2.0403081489172403, pvalue=0.020659821845569252)\n"
     ]
    }
   ],
   "source": [
    "# 6h\n",
    "from scipy.stats import ranksums\n",
    "p_pw_inner_6h = ranksums(shin_2015_6h[shin_2015_6h['gene'].isin(dnapw_inner_dt)]['-logP'], shin_2015_6h['-logP'], 'greater')\n",
    "p_pw_all_6h = ranksums(shin_2015_6h[shin_2015_6h['gene'].isin(dnapw_all_dt)]['-logP'], shin_2015_6h['-logP'], 'greater')\n",
    "p_pw_inter_6h = ranksums(shin_2015_6h[shin_2015_6h['gene'].isin(dnapw_inter)]['-logP'], shin_2015_6h['-logP'], 'greater')\n",
    "print('inner DTgenes:', p_pw_inner_6h)\n",
    "print('all DTgenes:', p_pw_all_6h)\n",
    "print('intermediate genes:', p_pw_inter_6h)"
   ]
  },
  {
   "cell_type": "code",
   "execution_count": 56,
   "id": "0bbf603c-bb31-43a8-8085-ada614c1736c",
   "metadata": {
    "tags": []
   },
   "outputs": [
    {
     "name": "stdout",
     "output_type": "stream",
     "text": [
      "inner DTgenes: RanksumsResult(statistic=2.91491717039213, pvalue=0.0017789147751104382)\n",
      "all DTgenes: RanksumsResult(statistic=7.261521667252509, pvalue=1.9137983728689335e-13)\n",
      "intermediate genes: RanksumsResult(statistic=2.5035881233668573, pvalue=0.00614705300162438)\n"
     ]
    }
   ],
   "source": [
    "# 12h\n",
    "from scipy.stats import ranksums\n",
    "p_pw_inner_12h = ranksums(shin_2015_12h[shin_2015_12h['gene'].isin(dnapw_inner_dt)]['-logP'], shin_2015_12h['-logP'], 'greater')\n",
    "p_pw_all_12h = ranksums(shin_2015_12h[shin_2015_12h['gene'].isin(dnapw_all_dt)]['-logP'], shin_2015_12h['-logP'], 'greater')\n",
    "p_pw_inter_12h = ranksums(shin_2015_12h[shin_2015_12h['gene'].isin(dnapw_inter)]['-logP'], shin_2015_12h['-logP'], 'greater')\n",
    "print('inner DTgenes:', p_pw_inner_12h)\n",
    "print('all DTgenes:', p_pw_all_12h)\n",
    "print('intermediate genes:', p_pw_inter_12h)"
   ]
  },
  {
   "cell_type": "code",
   "execution_count": 57,
   "id": "f33bc605-0e6e-45df-a429-ecbe3a5fa4a6",
   "metadata": {
    "tags": []
   },
   "outputs": [
    {
     "name": "stdout",
     "output_type": "stream",
     "text": [
      "inner DTgenes: RanksumsResult(statistic=1.7372284298756058, pvalue=0.04117342931733234)\n",
      "all DTgenes: RanksumsResult(statistic=4.810521566730852, pvalue=7.526847932885243e-07)\n",
      "intermediate genes: RanksumsResult(statistic=1.0835342886408563, pvalue=0.13928566993442243)\n"
     ]
    }
   ],
   "source": [
    "# 24h\n",
    "from scipy.stats import ranksums\n",
    "p_pw_inner_24h = ranksums(shin_2015_24h[shin_2015_24h['gene'].isin(dnapw_inner_dt)]['-logP'], shin_2015_24h['-logP'], 'greater')\n",
    "p_pw_all_24h = ranksums(shin_2015_24h[shin_2015_24h['gene'].isin(dnapw_all_dt)]['-logP'], shin_2015_24h['-logP'], 'greater')\n",
    "p_pw_inter_24h = ranksums(shin_2015_24h[shin_2015_24h['gene'].isin(dnapw_inter)]['-logP'], shin_2015_24h['-logP'], 'greater')\n",
    "print('inner DTgenes:', p_pw_inner_24h)\n",
    "print('all DTgenes:', p_pw_all_24h)\n",
    "print('intermediate genes:', p_pw_inter_24h)"
   ]
  },
  {
   "cell_type": "code",
   "execution_count": 58,
   "id": "d9b1f910-6941-4f57-8a82-2a73afad8731",
   "metadata": {
    "tags": []
   },
   "outputs": [
    {
     "name": "stdout",
     "output_type": "stream",
     "text": [
      "inner DTgenes: RanksumsResult(statistic=1.9832182454910199, pvalue=0.02367152836306738)\n",
      "all DTgenes: RanksumsResult(statistic=6.152047884752183, pvalue=3.824438719860722e-10)\n",
      "intermediate genes: RanksumsResult(statistic=0.4540842764989781, pvalue=0.32488408491178883)\n"
     ]
    }
   ],
   "source": [
    "# 5d\n",
    "p_pw_inner_5d = ranksums(tamang_2021_5d[tamang_2021_5d['gene'].isin(dnapw_inner_dt)]['-logP'], tamang_2021_5d['-logP'], 'greater')\n",
    "p_pw_all_5d = ranksums(tamang_2021_5d[tamang_2021_5d['gene'].isin(dnapw_all_dt)]['-logP'], tamang_2021_5d['-logP'], 'greater')\n",
    "p_pw_inter_5d = ranksums(tamang_2021_5d[tamang_2021_5d['gene'].isin(dnapw_inter)]['-logP'], tamang_2021_5d['-logP'], 'greater')\n",
    "print('inner DTgenes:', p_pw_inner_5d)\n",
    "print('all DTgenes:', p_pw_all_5d)\n",
    "print('intermediate genes:', p_pw_inter_5d)"
   ]
  },
  {
   "cell_type": "code",
   "execution_count": 59,
   "id": "7ac0d9a1-6b08-4d14-b4ea-e80f836f1293",
   "metadata": {
    "tags": []
   },
   "outputs": [
    {
     "name": "stdout",
     "output_type": "stream",
     "text": [
      "inner DTgenes: RanksumsResult(statistic=1.2850977198827203, pvalue=0.09937906913531996)\n",
      "all DTgenes: RanksumsResult(statistic=5.199396198537669, pvalue=9.996847195149822e-08)\n",
      "intermediate genes: RanksumsResult(statistic=-0.37719269051960863, pvalue=0.6469847940308037)\n"
     ]
    }
   ],
   "source": [
    "# 7d\n",
    "p_pw_inner_7d = ranksums(tamang_2021_7d[tamang_2021_7d['gene'].isin(dnapw_inner_dt)]['-logP'], tamang_2021_7d['-logP'], 'greater')\n",
    "p_pw_all_7d = ranksums(tamang_2021_7d[tamang_2021_7d['gene'].isin(dnapw_all_dt)]['-logP'], tamang_2021_7d['-logP'], 'greater')\n",
    "p_pw_inter_7d = ranksums(tamang_2021_7d[tamang_2021_7d['gene'].isin(dnapw_inter)]['-logP'], tamang_2021_7d['-logP'], 'greater')\n",
    "print('inner DTgenes:', p_pw_inner_7d)\n",
    "print('all DTgenes:', p_pw_all_7d)\n",
    "print('intermediate genes:', p_pw_inter_7d)"
   ]
  },
  {
   "cell_type": "code",
   "execution_count": null,
   "id": "12f90901-8a06-45c5-85ab-a16fe3a9b01d",
   "metadata": {},
   "outputs": [],
   "source": []
  },
  {
   "cell_type": "code",
   "execution_count": null,
   "id": "d7e93269-9128-4287-bf25-3f6629d9099e",
   "metadata": {},
   "outputs": [],
   "source": []
  },
  {
   "cell_type": "markdown",
   "id": "674b5aa1-41cb-4798-9fb7-a241559b0954",
   "metadata": {},
   "source": [
    "### swap (RNA_inside)"
   ]
  },
  {
   "cell_type": "code",
   "execution_count": 36,
   "id": "5fd07e6a-1968-42e2-926a-439b34ecb0f1",
   "metadata": {
    "tags": []
   },
   "outputs": [],
   "source": [
    "val_data = pd.read_excel(r\"C:\\Users\\edwar\\Desktop\\農藝\\paper2\\data collection\\whole genome data\\complete\\GWAS\\Saleem-2022\\saleem2022_integration_v1.xlsx\")\n",
    "val_data['-logP_SD'] = -np.log10(val_data['p_SD'])\n",
    "val_data['-logP_LD'] = -np.log10(val_data['p_LD'])\n",
    "val_data_v1 = val_data[['gene', '-logP_SD', '-logP_LD']]"
   ]
  },
  {
   "cell_type": "code",
   "execution_count": 49,
   "id": "48233907-852b-44a9-b626-cca5b65d1879",
   "metadata": {
    "tags": []
   },
   "outputs": [
    {
     "data": {
      "text/html": [
       "<div>\n",
       "<style scoped>\n",
       "    .dataframe tbody tr th:only-of-type {\n",
       "        vertical-align: middle;\n",
       "    }\n",
       "\n",
       "    .dataframe tbody tr th {\n",
       "        vertical-align: top;\n",
       "    }\n",
       "\n",
       "    .dataframe thead th {\n",
       "        text-align: right;\n",
       "    }\n",
       "</style>\n",
       "<table border=\"1\" class=\"dataframe\">\n",
       "  <thead>\n",
       "    <tr style=\"text-align: right;\">\n",
       "      <th></th>\n",
       "      <th>gene</th>\n",
       "      <th>p_SD</th>\n",
       "      <th>p_LD</th>\n",
       "      <th>p_val</th>\n",
       "      <th>sig_flag</th>\n",
       "      <th>nonsig_flag</th>\n",
       "      <th>score_raw</th>\n",
       "      <th>-logP_SD</th>\n",
       "      <th>-logP_LD</th>\n",
       "    </tr>\n",
       "  </thead>\n",
       "  <tbody>\n",
       "    <tr>\n",
       "      <th>0</th>\n",
       "      <td>Glyma.01g000100</td>\n",
       "      <td>0.088000</td>\n",
       "      <td>0.066671</td>\n",
       "      <td>0.036014</td>\n",
       "      <td>0</td>\n",
       "      <td>2</td>\n",
       "      <td>1.443523</td>\n",
       "      <td>1.055517</td>\n",
       "      <td>1.176061</td>\n",
       "    </tr>\n",
       "    <tr>\n",
       "      <th>1</th>\n",
       "      <td>Glyma.01g000200</td>\n",
       "      <td>0.088000</td>\n",
       "      <td>0.045717</td>\n",
       "      <td>0.026213</td>\n",
       "      <td>1</td>\n",
       "      <td>1</td>\n",
       "      <td>1.581482</td>\n",
       "      <td>1.055517</td>\n",
       "      <td>1.339926</td>\n",
       "    </tr>\n",
       "    <tr>\n",
       "      <th>2</th>\n",
       "      <td>Glyma.01g000300</td>\n",
       "      <td>0.364076</td>\n",
       "      <td>0.045717</td>\n",
       "      <td>0.084814</td>\n",
       "      <td>1</td>\n",
       "      <td>1</td>\n",
       "      <td>1.071532</td>\n",
       "      <td>0.438808</td>\n",
       "      <td>1.339926</td>\n",
       "    </tr>\n",
       "    <tr>\n",
       "      <th>3</th>\n",
       "      <td>Glyma.01g000400</td>\n",
       "      <td>0.001046</td>\n",
       "      <td>0.022245</td>\n",
       "      <td>0.000271</td>\n",
       "      <td>2</td>\n",
       "      <td>0</td>\n",
       "      <td>3.566280</td>\n",
       "      <td>2.980526</td>\n",
       "      <td>1.652771</td>\n",
       "    </tr>\n",
       "    <tr>\n",
       "      <th>4</th>\n",
       "      <td>Glyma.01g000500</td>\n",
       "      <td>0.001046</td>\n",
       "      <td>0.022245</td>\n",
       "      <td>0.000271</td>\n",
       "      <td>2</td>\n",
       "      <td>0</td>\n",
       "      <td>3.566280</td>\n",
       "      <td>2.980526</td>\n",
       "      <td>1.652771</td>\n",
       "    </tr>\n",
       "  </tbody>\n",
       "</table>\n",
       "</div>"
      ],
      "text/plain": [
       "              gene      p_SD      p_LD     p_val  sig_flag  nonsig_flag  \\\n",
       "0  Glyma.01g000100  0.088000  0.066671  0.036014         0            2   \n",
       "1  Glyma.01g000200  0.088000  0.045717  0.026213         1            1   \n",
       "2  Glyma.01g000300  0.364076  0.045717  0.084814         1            1   \n",
       "3  Glyma.01g000400  0.001046  0.022245  0.000271         2            0   \n",
       "4  Glyma.01g000500  0.001046  0.022245  0.000271         2            0   \n",
       "\n",
       "   score_raw  -logP_SD  -logP_LD  \n",
       "0   1.443523  1.055517  1.176061  \n",
       "1   1.581482  1.055517  1.339926  \n",
       "2   1.071532  0.438808  1.339926  \n",
       "3   3.566280  2.980526  1.652771  \n",
       "4   3.566280  2.980526  1.652771  "
      ]
     },
     "execution_count": 49,
     "metadata": {},
     "output_type": "execute_result"
    }
   ],
   "source": [
    "val_data.head()"
   ]
  },
  {
   "cell_type": "markdown",
   "id": "e971067f-49d7-4e33-b34b-bd1cd5962cfc",
   "metadata": {},
   "source": [
    "rna"
   ]
  },
  {
   "cell_type": "code",
   "execution_count": 52,
   "id": "288cc21c-0d6f-4e74-8c66-3f9193cc9931",
   "metadata": {},
   "outputs": [
    {
     "name": "stdout",
     "output_type": "stream",
     "text": [
      "inner DTgenes: 0.04362969100396669\n",
      "all DTgenes: 0.009447717669760745\n",
      "intermediate genes: 0.08458548330972693\n"
     ]
    }
   ],
   "source": [
    "# short\n",
    "p_inner_s = ranksums(val_data[val_data['gene'].isin(rna_inner_dt)]['-logP_SD'], val_data['-logP_SD'], 'greater')[1]\n",
    "p_all_s = ranksums(val_data[val_data['gene'].isin(rna_all_dt)]['-logP_SD'], val_data['-logP_SD'], 'greater')[1]\n",
    "p_inter_s = ranksums(val_data[val_data['gene'].isin(rna_inter)]['-logP_SD'], val_data['-logP_SD'], 'greater')[1]\n",
    "print('inner DTgenes:', p_inner_s)\n",
    "print('all DTgenes:', p_all_s)\n",
    "print('intermediate genes:', p_inter_s)"
   ]
  },
  {
   "cell_type": "code",
   "execution_count": 54,
   "id": "8182ba46-f95a-46d6-8199-e28e111b43f9",
   "metadata": {
    "tags": []
   },
   "outputs": [
    {
     "name": "stdout",
     "output_type": "stream",
     "text": [
      "inner DTgenes: 0.0327400424345162\n",
      "all DTgenes: 0.015197734669992738\n",
      "intermediate genes: 0.5718848287753369\n"
     ]
    }
   ],
   "source": [
    "# long\n",
    "p_inner_l = ranksums(val_data[val_data['gene'].isin(rna_inner_dt)]['-logP_LD'], val_data['-logP_LD'], 'greater')[1]\n",
    "p_all_l = ranksums(val_data[val_data['gene'].isin(rna_all_dt)]['-logP_LD'], val_data['-logP_LD'], 'greater')[1]\n",
    "p_inter_l = ranksums(val_data[val_data['gene'].isin(rna_inter)]['-logP_LD'], val_data['-logP_LD'], 'greater')[1]\n",
    "print('inner DTgenes:', p_inner_l)\n",
    "print('all DTgenes:', p_all_l)\n",
    "print('intermediate genes:', p_inter_l)"
   ]
  },
  {
   "cell_type": "code",
   "execution_count": null,
   "id": "a36c7b9c-4e7b-4101-a83a-e08e904dc2bb",
   "metadata": {},
   "outputs": [],
   "source": []
  },
  {
   "cell_type": "markdown",
   "id": "fdd06ca7-c344-4777-89f9-44042205fd4b",
   "metadata": {},
   "source": [
    "rna pw"
   ]
  },
  {
   "cell_type": "code",
   "execution_count": 61,
   "id": "a69f93f1-768c-4dbc-816a-10450a19b049",
   "metadata": {
    "tags": []
   },
   "outputs": [
    {
     "name": "stdout",
     "output_type": "stream",
     "text": [
      "inner DTgenes: 0.09734282579035142\n",
      "all DTgenes: 0.02767715212985398\n",
      "intermediate genes: 0.2671966024173458\n"
     ]
    }
   ],
   "source": [
    "# short\n",
    "p_pw_inner_s = ranksums(val_data[val_data['gene'].isin(rnapw_inner_dt)]['-logP_SD'], val_data['-logP_SD'], 'greater')[1]\n",
    "p_pw_all_s = ranksums(val_data[val_data['gene'].isin(rnapw_all_dt)]['-logP_SD'], val_data['-logP_SD'], 'greater')[1]\n",
    "p_pw_inter_s = ranksums(val_data[val_data['gene'].isin(rnapw_inter)]['-logP_SD'], val_data['-logP_SD'], 'greater')[1]\n",
    "print('inner DTgenes:', p_pw_inner_s)\n",
    "print('all DTgenes:', p_pw_all_s)\n",
    "print('intermediate genes:', p_pw_inter_s)"
   ]
  },
  {
   "cell_type": "code",
   "execution_count": 62,
   "id": "f3c75acf-852d-4537-811b-a19a4dcdfcb2",
   "metadata": {
    "tags": []
   },
   "outputs": [
    {
     "name": "stdout",
     "output_type": "stream",
     "text": [
      "inner DTgenes: 0.06157318802846702\n",
      "all DTgenes: 0.05252950054346674\n",
      "intermediate genes: 0.7812203832326514\n"
     ]
    }
   ],
   "source": [
    "# long\n",
    "p_pw_inner_l = ranksums(val_data[val_data['gene'].isin(rnapw_inner_dt)]['-logP_LD'], val_data['-logP_LD'], 'greater')[1]\n",
    "p_pw_all_l = ranksums(val_data[val_data['gene'].isin(rnapw_all_dt)]['-logP_LD'], val_data['-logP_LD'], 'greater')[1]\n",
    "p_pw_inter_l = ranksums(val_data[val_data['gene'].isin(rnapw_inter)]['-logP_LD'], val_data['-logP_LD'], 'greater')[1]\n",
    "print('inner DTgenes:', p_pw_inner_l)\n",
    "print('all DTgenes:', p_pw_all_l)\n",
    "print('intermediate genes:', p_pw_inter_l)"
   ]
  },
  {
   "cell_type": "code",
   "execution_count": null,
   "id": "532591f3-d2b6-4c49-aa5a-2019924ff7c4",
   "metadata": {},
   "outputs": [],
   "source": []
  },
  {
   "cell_type": "code",
   "execution_count": null,
   "id": "f425a01c-d18d-4e86-ac9a-50b52fd0beea",
   "metadata": {},
   "outputs": [],
   "source": []
  },
  {
   "cell_type": "markdown",
   "id": "89bfaab5-422c-4b84-852f-bd2975f3d70c",
   "metadata": {},
   "source": [
    "### Union genes"
   ]
  },
  {
   "cell_type": "code",
   "execution_count": 68,
   "id": "dd7eeae7-f2ad-4c35-8e0f-a2873512db4b",
   "metadata": {
    "tags": []
   },
   "outputs": [],
   "source": [
    "union_genes = pd.read_excel(r\"C:\\Users\\edwar\\Desktop\\農藝\\paper2\\sys_biology\\sysBio_results_summary_formal.xlsx\", sheet_name = 'key_genes')"
   ]
  },
  {
   "cell_type": "code",
   "execution_count": 85,
   "id": "d63d2324-c841-4b7b-8733-7a92b716275b",
   "metadata": {
    "tags": []
   },
   "outputs": [],
   "source": [
    "union_genes.columns = ['union', 'overlap']\n",
    "key_genes = list(union_genes['union'])\n",
    "overlap_genes = list(union_genes['overlap'])"
   ]
  },
  {
   "cell_type": "markdown",
   "id": "dde12fcd-1647-4464-a218-cdc6dbf69f52",
   "metadata": {},
   "source": [
    "###### compared with whole genome"
   ]
  },
  {
   "cell_type": "code",
   "execution_count": 74,
   "id": "23b6ca8e-1ee1-40bb-82e0-691966020c12",
   "metadata": {
    "tags": []
   },
   "outputs": [
    {
     "name": "stdout",
     "output_type": "stream",
     "text": [
      "p-value of union genes: 6h 0.0007640813447379839, 12h 2.4435834046249826e-05, 24h 0.00019861584877187654, 5d 0.005312258262523946 ,and 7d 0.02971176093806974\n"
     ]
    }
   ],
   "source": [
    "# 28 keygenes validation\n",
    "p_union_6h = ranksums(shin_2015_6h[shin_2015_6h['gene'].isin(key_genes)]['-logP'], shin_2015_6h['-logP'], alternative = 'greater')[1]\n",
    "p_union_12h = ranksums(shin_2015_12h[shin_2015_12h['gene'].isin(key_genes)]['-logP'], shin_2015_12h['-logP'], alternative = 'greater')[1]\n",
    "p_union_24h = ranksums(shin_2015_24h[shin_2015_24h['gene'].isin(key_genes)]['-logP'], shin_2015_24h['-logP'], alternative = 'greater')[1]\n",
    "p_union_7d = ranksums(tamang_2021_7d[tamang_2021_7d['gene'].isin(key_genes)]['-logP'], tamang_2021_7d['-logP'], alternative = 'greater')[1]\n",
    "p_union_5d = ranksums(tamang_2021_5d[tamang_2021_5d['gene'].isin(key_genes)]['-logP'], tamang_2021_5d['-logP'], alternative = 'greater')[1]\n",
    "print('p-value of union genes: 6h {}, 12h {}, 24h {}, 5d {} ,and 7d {}'.format(p_union_6h, p_union_12h, p_union_24h, p_union_5d, p_union_7d))"
   ]
  },
  {
   "cell_type": "code",
   "execution_count": 75,
   "id": "44850080-8235-4546-b7ca-7ecb951b01ea",
   "metadata": {
    "tags": []
   },
   "outputs": [
    {
     "name": "stdout",
     "output_type": "stream",
     "text": [
      "DNA database validation, short 9.927617977595599e-05 and long 0.00012216245011823334\n"
     ]
    }
   ],
   "source": [
    "# 28 keygenes validation\n",
    "p_union_short = ranksums(val_data[val_data['gene'].isin(key_genes)]['-logP_SD'], val_data['-logP_SD'], alternative = 'greater')[1]\n",
    "p_union_long = ranksums(val_data[val_data['gene'].isin(key_genes)]['-logP_LD'], val_data['-logP_LD'], alternative = 'greater')[1]\n",
    "print('DNA database validation, short {} and long {}'.format(p_union_short, p_union_long))"
   ]
  },
  {
   "cell_type": "code",
   "execution_count": 95,
   "id": "45add39c-69f9-4f75-ba73-89d9b0da8287",
   "metadata": {
    "tags": []
   },
   "outputs": [
    {
     "name": "stdout",
     "output_type": "stream",
     "text": [
      "DNA database validation, p-value of overlapped genes: 6h 0.0029598636218384606, 12h 0.0033743808742076778, 24h 0.024633889504836345, 5d 0.03654308298871939, and 7d 0.039966968148679886\n"
     ]
    }
   ],
   "source": [
    "# 8 overlapped genes validation\n",
    "p_overlap_6h = ranksums(shin_2015_6h[shin_2015_6h['gene'].isin(overlap_genes)]['-logP'], shin_2015_6h['-logP'], alternative = 'greater')[1]\n",
    "p_overlap_12h = ranksums(shin_2015_12h[shin_2015_12h['gene'].isin(overlap_genes)]['-logP'], shin_2015_12h['-logP'], alternative = 'greater')[1]\n",
    "p_overlap_24h = ranksums(shin_2015_24h[shin_2015_24h['gene'].isin(overlap_genes)]['-logP'], shin_2015_24h['-logP'], alternative = 'greater')[1]\n",
    "p_overlap_5d = ranksums(tamang_2021_5d[tamang_2021_5d['gene'].isin(overlap_genes)]['-logP'], tamang_2021_5d['-logP'], alternative = 'greater')[1]\n",
    "p_overlap_7d = ranksums(tamang_2021_7d[tamang_2021_7d['gene'].isin(overlap_genes)]['-logP'], tamang_2021_7d['-logP'], alternative = 'greater')[1]\n",
    "print('DNA database validation, p-value of overlapped genes: 6h {}, 12h {}, 24h {}, 5d {}, and 7d {}'.format(p_overlap_6h, p_overlap_12h, p_overlap_24h, p_overlap_5d, p_overlap_7d))"
   ]
  },
  {
   "cell_type": "code",
   "execution_count": 96,
   "id": "a5ab53fc-719a-4b0c-84db-4dcbf663a368",
   "metadata": {
    "tags": []
   },
   "outputs": [
    {
     "name": "stdout",
     "output_type": "stream",
     "text": [
      "DNA database validation p-value of overlapped genes: short 0.4196953324813108 and long 0.3265583080553123\n"
     ]
    }
   ],
   "source": [
    "# 8 overlapped genes validation\n",
    "p_overlap_short = ranksums(val_data[val_data['gene'].isin(overlap_genes)]['-logP_SD'], val_data['-logP_SD'], alternative = 'greater')[1]\n",
    "p_overlap_long = ranksums(val_data[val_data['gene'].isin(overlap_genes)]['-logP_LD'], val_data['-logP_LD'], alternative = 'greater')[1]\n",
    "print('DNA database validation p-value of overlapped genes: short {} and long {}'.format(p_overlap_short, p_overlap_long))"
   ]
  },
  {
   "cell_type": "code",
   "execution_count": 78,
   "id": "874c483a-a8e6-4bb3-ad65-164a5e1f1f80",
   "metadata": {
    "tags": []
   },
   "outputs": [
    {
     "name": "stdout",
     "output_type": "stream",
     "text": [
      "total unique genes in 4 networks: 171\n"
     ]
    }
   ],
   "source": [
    "all_nw_genes = list(DNA_nw['gene_fv']) + list(DNA_nwpw['gene_fv']) + list(RNA_nw['gene_fv']) + list(RNA_nwpw['gene_fv'])\n",
    "all_nw_genes = list(set(all_nw_genes))\n",
    "print('total unique genes in 4 networks: {}'.format(len(all_nw_genes)))"
   ]
  },
  {
   "cell_type": "code",
   "execution_count": 83,
   "id": "b3d824ea-b772-4c88-85e7-88fbeb5dee60",
   "metadata": {
    "tags": []
   },
   "outputs": [
    {
     "name": "stdout",
     "output_type": "stream",
     "text": [
      "total unique intermediate genes in 4 networks: 45\n"
     ]
    }
   ],
   "source": [
    "dtgenes_dnarna = set(list(dna_dt['gene']) + list(rna_dt['gene']))\n",
    "all_inter_genes = set(all_nw_genes) - dtgenes_dnarna\n",
    "print('total unique intermediate genes in 4 networks:', len(all_inter_genes))"
   ]
  },
  {
   "cell_type": "code",
   "execution_count": 84,
   "id": "3c2fd575-dbe9-4861-b374-e2b9f80819c3",
   "metadata": {
    "tags": []
   },
   "outputs": [
    {
     "name": "stdout",
     "output_type": "stream",
     "text": [
      "total unique DTgenes in 4 networks: 126\n"
     ]
    }
   ],
   "source": [
    "all_dtgenes_innw = list(set(dtgenes_dnarna) & set(all_nw_genes))\n",
    "print('total unique DTgenes in 4 networks:', len(all_dtgenes_innw))"
   ]
  },
  {
   "cell_type": "code",
   "execution_count": 90,
   "id": "85bfaf69-02f9-4989-939f-6f7a50053cc2",
   "metadata": {
    "tags": []
   },
   "outputs": [
    {
     "name": "stdout",
     "output_type": "stream",
     "text": [
      "p-value of all unique DTgenes in network: 6h 1.1606620202496683e-18, 12h 1.544529199382915e-25, 24 1.7493089452974037e-18, 5d 1.4738999673761374e-15 and 7d 6.035874882053862e-13\n"
     ]
    }
   ],
   "source": [
    "# all unique DTgenes in networks validation\n",
    "p_dtgenes_innw_6h = ranksums(shin_2015_6h[shin_2015_6h['gene'].isin(all_dtgenes_innw)]['-logP'], shin_2015_6h['-logP'], alternative = 'greater')[1]\n",
    "p_dtgenes_innw_12h = ranksums(shin_2015_12h[shin_2015_12h['gene'].isin(all_dtgenes_innw)]['-logP'], shin_2015_12h['-logP'], alternative = 'greater')[1]\n",
    "p_dtgenes_innw_24h = ranksums(shin_2015_24h[shin_2015_24h['gene'].isin(all_dtgenes_innw)]['-logP'], shin_2015_24h['-logP'], alternative = 'greater')[1]\n",
    "p_dtgenes_innw_5d = ranksums(tamang_2021_5d[tamang_2021_5d['gene'].isin(all_dtgenes_innw)]['-logP'], tamang_2021_5d['-logP'], alternative = 'greater')[1]\n",
    "p_dtgenes_innw_7d = ranksums(tamang_2021_7d[tamang_2021_7d['gene'].isin(all_dtgenes_innw)]['-logP'], tamang_2021_7d['-logP'], alternative = 'greater')[1]\n",
    "print('p-value of all unique DTgenes in network: 6h {}, 12h {}, 24 {}, 5d {} and 7d {}'.format(p_dtgenes_innw_6h, p_dtgenes_innw_12h, p_dtgenes_innw_24h, p_dtgenes_innw_5d, p_dtgenes_innw_7d))"
   ]
  },
  {
   "cell_type": "code",
   "execution_count": 97,
   "id": "23aba55b-ba47-443e-9d0a-fe8918a7285c",
   "metadata": {
    "tags": []
   },
   "outputs": [
    {
     "name": "stdout",
     "output_type": "stream",
     "text": [
      "DNA database validation p-value of all unique DTgenes: short 1.72998153260704e-07 and long 4.777971400724239e-07\n"
     ]
    }
   ],
   "source": [
    "# all unique DTgenes in networks validation\n",
    "p_dtgenes_innw_short = ranksums(val_data[val_data['gene'].isin(all_dtgenes_innw)]['-logP_SD'], val_data['-logP_SD'], alternative = 'greater')[1]\n",
    "p_dtgenes_innw_long = ranksums(val_data[val_data['gene'].isin(all_dtgenes_innw)]['-logP_LD'], val_data['-logP_LD'], alternative = 'greater')[1]\n",
    "print('DNA database validation p-value of all unique DTgenes: short {} and long {}'.format(p_dtgenes_innw_short, p_dtgenes_innw_long))"
   ]
  },
  {
   "cell_type": "code",
   "execution_count": 93,
   "id": "a46f816d-4023-4124-acd0-d61087836912",
   "metadata": {
    "tags": []
   },
   "outputs": [
    {
     "name": "stdout",
     "output_type": "stream",
     "text": [
      "p-value of all unique intermediate genes in network: 6h 0.003997961122322545, 12h 0.0027899410483288047, 24 0.025486730909178256, 5d 0.40586995739069975 and 7d 0.8142601706664636\n"
     ]
    }
   ],
   "source": [
    "# all unique intermediate genes in networks validation\n",
    "p_allinter_6h = ranksums(shin_2015_6h[shin_2015_6h['gene'].isin(all_inter_genes)]['-logP'], shin_2015_6h['-logP'], alternative = 'greater')[1]\n",
    "p_allinter_12h = ranksums(shin_2015_12h[shin_2015_12h['gene'].isin(all_inter_genes)]['-logP'], shin_2015_12h['-logP'], alternative = 'greater')[1]\n",
    "p_allinter_24h = ranksums(shin_2015_24h[shin_2015_24h['gene'].isin(all_inter_genes)]['-logP'], shin_2015_24h['-logP'], alternative = 'greater')[1]\n",
    "p_allinter_5d = ranksums(tamang_2021_5d[tamang_2021_5d['gene'].isin(all_inter_genes)]['-logP'], tamang_2021_5d['-logP'], alternative = 'greater')[1]\n",
    "p_allinter_7d = ranksums(tamang_2021_7d[tamang_2021_7d['gene'].isin(all_inter_genes)]['-logP'], tamang_2021_7d['-logP'], alternative = 'greater')[1]\n",
    "print('p-value of all unique intermediate genes in network: 6h {}, 12h {}, 24 {}, 5d {} and 7d {}'.format(p_allinter_6h, p_allinter_12h, p_allinter_24h, p_allinter_5d, p_allinter_7d))"
   ]
  },
  {
   "cell_type": "code",
   "execution_count": 98,
   "id": "f819e0bf-40ac-46a1-8c6b-6ab9822bccdc",
   "metadata": {
    "tags": []
   },
   "outputs": [
    {
     "name": "stdout",
     "output_type": "stream",
     "text": [
      "DNA database validation, p-value of all unique intermediate genes: short 0.5314171081427305 and long 0.9327244892030643\n"
     ]
    }
   ],
   "source": [
    "# all unique intermediate genes in networks validation\n",
    "p_allinter_short = ranksums(val_data[val_data['gene'].isin(all_inter_genes)]['-logP_SD'], val_data['-logP_SD'], alternative = 'greater')[1]\n",
    "p_allinter_long = ranksums(val_data[val_data['gene'].isin(all_inter_genes)]['-logP_LD'], val_data['-logP_LD'], alternative = 'greater')[1]\n",
    "print('DNA database validation, p-value of all unique intermediate genes: short {} and long {}'.format(p_allinter_short, p_allinter_long))"
   ]
  },
  {
   "cell_type": "code",
   "execution_count": null,
   "id": "24ce23f6-d733-4186-bb20-a2d26129e9ae",
   "metadata": {},
   "outputs": [],
   "source": []
  },
  {
   "cell_type": "markdown",
   "id": "5534ed59-3587-478f-a378-4a7df0c6a474",
   "metadata": {},
   "source": [
    "###### sample comparison validation\n",
    "###### s1: Union genes; s2: all DTgenes in 4 networks; s3: intermediate genes in 4 networks; s4: remaining genes in whole genome\n",
    "###### s1 vs s2, s1 vs s3, s1 vs s4"
   ]
  },
  {
   "cell_type": "code",
   "execution_count": 131,
   "id": "e11f74b0-6ea7-468f-963f-f00a02207e5f",
   "metadata": {
    "tags": []
   },
   "outputs": [
    {
     "name": "stdout",
     "output_type": "stream",
     "text": [
      "6 hours trt comparison: p-value of key genes compared with all DTgenes 0.932823175290504, outer DTgenes 0.9706584860388439, all intermediate genes 0.15458012266865756, and remaining genes 0.0007640813447379839.\n"
     ]
    }
   ],
   "source": [
    "# 6h\n",
    "p_union_alldt_6h = ranksums(shin_2015_6h[shin_2015_6h['gene'].isin(key_genes)]['-logP'], shin_2015_6h[shin_2015_6h['gene'].isin(all_dtgenes_innw)]['-logP'], alternative = 'greater')[1]\n",
    "p_union_allinter_6h = ranksums(shin_2015_6h[shin_2015_6h['gene'].isin(key_genes)]['-logP'], shin_2015_6h[shin_2015_6h['gene'].isin(all_inter_genes)]['-logP'], alternative = 'greater')[1]\n",
    "p_union_allouter_6h = ranksums(shin_2015_6h[shin_2015_6h['gene'].isin(key_genes)]['-logP'], shin_2015_6h[shin_2015_6h['gene'].isin(list(all_outer_dt))]['-logP'], alternative = 'greater')[1]\n",
    "p_union_remaining_6h = ranksums(shin_2015_6h[shin_2015_6h['gene'].isin(key_genes)]['-logP'], shin_2015_6h['-logP'], alternative = 'greater')[1]\n",
    "print('6 hours trt comparison: p-value of key genes compared with all DTgenes {}, outer DTgenes {}, all intermediate genes {}, and remaining genes {}.'.format(p_union_alldt_6h, p_union_allouter_6h, p_union_allinter_6h, p_union_remaining_6h))"
   ]
  },
  {
   "cell_type": "code",
   "execution_count": 132,
   "id": "4f4a92ff-eef8-4b2a-81b1-6e12dfc3e10d",
   "metadata": {
    "tags": []
   },
   "outputs": [
    {
     "name": "stdout",
     "output_type": "stream",
     "text": [
      "12 hours trt comparison: p-value of key genes compared with all DTgenes 0.9512880906905451, all outer DTgenes 0.9863630537256822, all intermediate genes 0.07543115829094191, and remaining genes 2.4435834046249826e-05.\n"
     ]
    }
   ],
   "source": [
    "# 12h\n",
    "p_union_alldt_12h = ranksums(shin_2015_12h[shin_2015_12h['gene'].isin(key_genes)]['-logP'], shin_2015_12h[shin_2015_12h['gene'].isin(all_dtgenes_innw)]['-logP'], alternative = 'greater')[1]\n",
    "p_union_allouter_12h = ranksums(shin_2015_12h[shin_2015_12h['gene'].isin(key_genes)]['-logP'], shin_2015_12h[shin_2015_12h['gene'].isin(all_outer_dt)]['-logP'], alternative = 'greater')[1]\n",
    "p_union_allinter_12h = ranksums(shin_2015_12h[shin_2015_12h['gene'].isin(key_genes)]['-logP'], shin_2015_12h[shin_2015_12h['gene'].isin(all_inter_genes)]['-logP'], alternative = 'greater')[1]\n",
    "p_union_remaining_12h = ranksums(shin_2015_12h[shin_2015_12h['gene'].isin(key_genes)]['-logP'], shin_2015_12h['-logP'], alternative = 'greater')[1]\n",
    "print('12 hours trt comparison: p-value of key genes compared with all DTgenes {}, all outer DTgenes {}, all intermediate genes {}, and remaining genes {}.'.format(p_union_alldt_12h, p_union_allouter_12h, p_union_allinter_12h, p_union_remaining_12h))"
   ]
  },
  {
   "cell_type": "code",
   "execution_count": 136,
   "id": "e3e106f3-a7cf-4627-9051-09a51ca1a384",
   "metadata": {
    "tags": []
   },
   "outputs": [
    {
     "name": "stdout",
     "output_type": "stream",
     "text": [
      "24 hours trt comparison: p-value of key genes compared with all DTgenes 0.8758138149129526, all outer DTgenes 0.9415339840149494, all intermediate genes 0.04792505959609199, and remaining genes 0.00019861584877187654.\n"
     ]
    }
   ],
   "source": [
    "# 24h\n",
    "p_union_alldt_24h = ranksums(shin_2015_24h[shin_2015_24h['gene'].isin(key_genes)]['-logP'], shin_2015_24h[shin_2015_24h['gene'].isin(all_dtgenes_innw)]['-logP'], alternative = 'greater')[1]\n",
    "p_union_allouter_24h = ranksums(shin_2015_24h[shin_2015_24h['gene'].isin(key_genes)]['-logP'], shin_2015_24h[shin_2015_24h['gene'].isin(all_outer_dt)]['-logP'], alternative = 'greater')[1]\n",
    "p_union_allinter_24h = ranksums(shin_2015_24h[shin_2015_24h['gene'].isin(key_genes)]['-logP'], shin_2015_24h[shin_2015_24h['gene'].isin(all_inter_genes)]['-logP'], alternative = 'greater')[1]\n",
    "p_union_remaining_24h = ranksums(shin_2015_24h[shin_2015_24h['gene'].isin(key_genes)]['-logP'], shin_2015_24h['-logP'], alternative = 'greater')[1]\n",
    "print('24 hours trt comparison: p-value of key genes compared with all DTgenes {}, all outer DTgenes {}, all intermediate genes {}, and remaining genes {}.'.format(p_union_alldt_24h, p_union_allouter_24h, p_union_allinter_24h, p_union_remaining_24h))"
   ]
  },
  {
   "cell_type": "code",
   "execution_count": 109,
   "id": "f3d7f600-3599-44f3-b16f-c4bdd2d7098e",
   "metadata": {
    "tags": []
   },
   "outputs": [
    {
     "name": "stdout",
     "output_type": "stream",
     "text": [
      "5 days trt comparison: p-value of key genes compared with all DTgenes 0.9324573975950288, all intermediate genes 0.003424865406886619, and remaining genes 0.005312258262523946.\n"
     ]
    }
   ],
   "source": [
    "# 5D\n",
    "p_union_alldt_5d = ranksums(tamang_2021_5d[tamang_2021_5d['gene'].isin(key_genes)]['-logP'], tamang_2021_5d[tamang_2021_5d['gene'].isin(all_dtgenes_innw)]['-logP'], alternative = 'greater')[1]\n",
    "p_union_allinter_5d = ranksums(tamang_2021_5d[tamang_2021_5d['gene'].isin(key_genes)]['-logP'], tamang_2021_5d[tamang_2021_5d['gene'].isin(all_inter_genes)]['-logP'], alternative = 'greater')[1]\n",
    "p_union_remaining_5d = ranksums(tamang_2021_5d[tamang_2021_5d['gene'].isin(key_genes)]['-logP'], tamang_2021_5d['-logP'], alternative = 'greater')[1]\n",
    "print('5 days trt comparison: p-value of key genes compared with all DTgenes {}, all intermediate genes {}, and remaining genes {}.'.format(p_union_alldt_5d, p_union_allinter_5d, p_union_remaining_5d))"
   ]
  },
  {
   "cell_type": "code",
   "execution_count": 110,
   "id": "c410f36b-544c-48c5-a29b-d10e22d6e949",
   "metadata": {
    "tags": []
   },
   "outputs": [
    {
     "name": "stdout",
     "output_type": "stream",
     "text": [
      "7 days trt comparison: p-value of key genes compared with all DTgenes 0.9704763848706586, all intermediate genes 0.007047354106573594, and remaining genes 0.02971176093806974.\n"
     ]
    }
   ],
   "source": [
    "# 7D\n",
    "p_union_alldt_7d = ranksums(tamang_2021_7d[tamang_2021_7d['gene'].isin(key_genes)]['-logP'], tamang_2021_7d[tamang_2021_7d['gene'].isin(all_dtgenes_innw)]['-logP'], alternative = 'greater')[1]\n",
    "p_union_allinter_7d = ranksums(tamang_2021_7d[tamang_2021_7d['gene'].isin(key_genes)]['-logP'], tamang_2021_7d[tamang_2021_7d['gene'].isin(all_inter_genes)]['-logP'], alternative = 'greater')[1]\n",
    "p_union_remaining_7d = ranksums(tamang_2021_7d[tamang_2021_7d['gene'].isin(key_genes)]['-logP'], tamang_2021_7d['-logP'], alternative = 'greater')[1]\n",
    "print('7 days trt comparison: p-value of key genes compared with all DTgenes {}, all intermediate genes {}, and remaining genes {}.'.format(p_union_alldt_7d, p_union_allinter_7d, p_union_remaining_7d))"
   ]
  },
  {
   "cell_type": "code",
   "execution_count": 116,
   "id": "dfdcc8b3-ebb2-40c3-94d6-175b60d536f3",
   "metadata": {
    "tags": []
   },
   "outputs": [
    {
     "name": "stdout",
     "output_type": "stream",
     "text": [
      "3~4 weeks trt comparison: p-value of key genes compared with all DTgenes 0.11126857757681818, all intermediate genes 0.001561950616521565, and remaining genes 9.927617977595599e-05.\n"
     ]
    }
   ],
   "source": [
    "# short: 3~4 weeks\n",
    "p_union_alldt_4w = ranksums(val_data[val_data['gene'].isin(key_genes)]['-logP_SD'], val_data[val_data['gene'].isin(all_dtgenes_innw)]['-logP_SD'], alternative = 'greater')[1]\n",
    "p_union_allinter_4w = ranksums(val_data[val_data['gene'].isin(key_genes)]['-logP_SD'], val_data[val_data['gene'].isin(all_inter_genes)]['-logP_SD'], alternative = 'greater')[1]\n",
    "p_union_remaining_4w = ranksums(val_data[val_data['gene'].isin(key_genes)]['-logP_SD'], val_data['-logP_SD'], alternative = 'greater')[1]\n",
    "print('3~4 weeks trt comparison: p-value of key genes compared with all DTgenes {}, all intermediate genes {}, and remaining genes {}.'.format(p_union_alldt_4w, p_union_allinter_4w, p_union_remaining_4w))"
   ]
  },
  {
   "cell_type": "code",
   "execution_count": 117,
   "id": "29ec2f45-db5c-42b6-a9f6-0dc641388d94",
   "metadata": {
    "tags": []
   },
   "outputs": [
    {
     "name": "stdout",
     "output_type": "stream",
     "text": [
      "6~7 weeks trt comparison: p-value of key genes compared with all DTgenes 0.14149340964795915, all intermediate genes 3.0756884365871145e-05, and remaining genes 0.00012216245011823334.\n"
     ]
    }
   ],
   "source": [
    "# long: 6~7 weeks\n",
    "p_union_alldt_7w = ranksums(val_data[val_data['gene'].isin(key_genes)]['-logP_LD'], val_data[val_data['gene'].isin(all_dtgenes_innw)]['-logP_LD'], alternative = 'greater')[1]\n",
    "p_union_allinter_7w = ranksums(val_data[val_data['gene'].isin(key_genes)]['-logP_LD'], val_data[val_data['gene'].isin(all_inter_genes)]['-logP_LD'], alternative = 'greater')[1]\n",
    "p_union_remaining_7w = ranksums(val_data[val_data['gene'].isin(key_genes)]['-logP_LD'], val_data['-logP_LD'], alternative = 'greater')[1]\n",
    "print('6~7 weeks trt comparison: p-value of key genes compared with all DTgenes {}, all intermediate genes {}, and remaining genes {}.'.format(p_union_alldt_7w, p_union_allinter_7w, p_union_remaining_7w))"
   ]
  },
  {
   "cell_type": "code",
   "execution_count": null,
   "id": "b2dd5963-c103-4d19-84ff-fa0b57843306",
   "metadata": {},
   "outputs": [],
   "source": []
  },
  {
   "cell_type": "markdown",
   "id": "82111968-5d5a-4e49-9c24-772ec84e9a45",
   "metadata": {},
   "source": [
    "###### sample comparison validation\n",
    "###### s1: Union genes; s2: outer DTgenes in 4 networks; s3: intermediate genes in 4 networks; s4: remaining genes in whole genome\n",
    "###### s1 vs s2, s1 vs s3, s1 vs s4"
   ]
  },
  {
   "cell_type": "code",
   "execution_count": null,
   "id": "46a88bfb-7b59-4632-b5d1-cd6dcd2ab3d7",
   "metadata": {},
   "outputs": [],
   "source": []
  },
  {
   "cell_type": "code",
   "execution_count": null,
   "id": "cf4ab345-4334-4023-9035-13c25c61219b",
   "metadata": {},
   "outputs": [],
   "source": []
  },
  {
   "cell_type": "code",
   "execution_count": null,
   "id": "f516d62f-6cc5-4f1f-a64f-890a692916fb",
   "metadata": {},
   "outputs": [],
   "source": []
  },
  {
   "cell_type": "code",
   "execution_count": null,
   "id": "de8c0e8e-00d6-4d79-ae1a-7e84dad61420",
   "metadata": {},
   "outputs": [],
   "source": []
  },
  {
   "cell_type": "code",
   "execution_count": null,
   "id": "dc2a0802-dd1e-4cc4-a83d-e20943cb7cb2",
   "metadata": {},
   "outputs": [],
   "source": []
  },
  {
   "cell_type": "code",
   "execution_count": null,
   "id": "ccf1ed9f-7fa1-41bd-9568-e7fb7205a151",
   "metadata": {},
   "outputs": [],
   "source": []
  },
  {
   "cell_type": "code",
   "execution_count": 102,
   "id": "3c8506a2-655f-48dc-ad2a-2b583a026c77",
   "metadata": {
    "tags": []
   },
   "outputs": [
    {
     "data": {
      "image/png": "[encoded data removed]",
      "text/plain": [
       "<Figure size 640x480 with 1 Axes>"
      ]
     },
     "metadata": {},
     "output_type": "display_data"
    }
   ],
   "source": [
    "import numpy as np\n",
    "import matplotlib.pyplot as plt\n",
    "\n",
    "# Data for the first group\n",
    "data1 = [3, 5, 2, 4, 6]\n",
    "errors1 = [0.5, 1, 0.7, 0.3, 0.9]\n",
    "labels1 = ['A', 'B', 'C', 'D', 'E']\n",
    "\n",
    "# Data for the second group\n",
    "data2 = [2, 4, 1, 3, 5]\n",
    "errors2 = [0.3, 0.7, 0.5, 0.2, 0.8]\n",
    "labels2 = ['F', 'G', 'H', 'I', 'J']\n",
    "\n",
    "# Calculate the positions for the bars in each group\n",
    "x = np.arange(len(labels1))\n",
    "width = 0.35\n",
    "\n",
    "# Create the figure and axes\n",
    "fig, ax = plt.subplots()\n",
    "\n",
    "# Plot the first group\n",
    "rects1 = ax.bar(x - width/2, data1, width, yerr=errors1, capsize=4, label='Group 1')\n",
    "\n",
    "# Plot the second group\n",
    "rects2 = ax.bar(x + width/2, data2, width, yerr=errors2, capsize=4, label='Group 2')\n",
    "\n",
    "# Set the axis labels and title\n",
    "ax.set_xlabel('Categories')\n",
    "ax.set_ylabel('Values')\n",
    "ax.set_title('Clustered Bar Chart')\n",
    "\n",
    "# Set the x-axis ticks and labels\n",
    "ax.set_xticks(x)\n",
    "ax.set_xticklabels(labels1)\n",
    "\n",
    "# Add a legend\n",
    "ax.legend()\n",
    "\n",
    "# Show the bar chart\n",
    "plt.tight_layout()\n",
    "plt.show()"
   ]
  },
  {
   "cell_type": "code",
   "execution_count": 103,
   "id": "caf4477f-a22b-4b0c-871e-03aae6939ccd",
   "metadata": {
    "tags": []
   },
   "outputs": [
    {
     "data": {
      "image/png": "[encoded data removed]",
      "text/plain": [
       "<Figure size 640x480 with 1 Axes>"
      ]
     },
     "metadata": {},
     "output_type": "display_data"
    }
   ],
   "source": [
    "import numpy as np\n",
    "import matplotlib.pyplot as plt\n",
    "\n",
    "# Data for the first group\n",
    "data1 = [3, 5, 2, 4, 6]\n",
    "errors1 = [0.5, 1, 0.7, 0.3, 0.9]\n",
    "labels1 = ['A', 'B', 'C', 'D', 'E']\n",
    "\n",
    "# Data for the second group\n",
    "data2 = [2, 4, 1, 3, 5]\n",
    "errors2 = [0.3, 0.7, 0.5, 0.2, 0.8]\n",
    "labels2 = ['F', 'G', 'H', 'I', 'J']\n",
    "\n",
    "# Calculate the positions for the bars in each group\n",
    "x = np.arange(len(labels1))\n",
    "width = 0.35\n",
    "\n",
    "# Calculate the mean values for each group\n",
    "mean1 = np.mean(data1)\n",
    "mean2 = np.mean(data2)\n",
    "\n",
    "# Create the figure and axes\n",
    "fig, ax = plt.subplots()\n",
    "\n",
    "# Plot the first group\n",
    "rects1 = ax.bar(x - width/2, data1, width, yerr=errors1, capsize=4, label='Group 1')\n",
    "\n",
    "# Plot the second group\n",
    "rects2 = ax.bar(x + width/2, data2, width, yerr=errors2, capsize=4, label='Group 2')\n",
    "\n",
    "# Add horizontal lines for the means\n",
    "ax.axhline(mean1, color='red', linestyle='dashed', linewidth=2, label='Mean 1')\n",
    "ax.axhline(mean2, color='blue', linestyle='dashed', linewidth=2, label='Mean 2')\n",
    "\n",
    "# Set the axis labels and title\n",
    "ax.set_xlabel('Categories')\n",
    "ax.set_ylabel('Values')\n",
    "ax.set_title('Clustered Bar Chart with Mean')\n",
    "\n",
    "# Set the x-axis ticks and labels\n",
    "ax.set_xticks(x)\n",
    "ax.set_xticklabels(labels1)\n",
    "\n",
    "# Add a legend\n",
    "ax.legend()\n",
    "\n",
    "# Show the bar chart\n",
    "plt.tight_layout()\n",
    "plt.show()\n"
   ]
  },
  {
   "cell_type": "code",
   "execution_count": null,
   "id": "80e3c3d1-7263-4845-ac96-913f9421c8cf",
   "metadata": {},
   "outputs": [],
   "source": []
  },
  {
   "cell_type": "code",
   "execution_count": null,
   "id": "f70faf9d-6bf1-4e0d-9ad0-c6c367e1b684",
   "metadata": {},
   "outputs": [],
   "source": []
  },
  {
   "cell_type": "code",
   "execution_count": null,
   "id": "aa61b3e2-d87a-4dca-874c-37360876f814",
   "metadata": {},
   "outputs": [],
   "source": []
  },
  {
   "cell_type": "code",
   "execution_count": null,
   "id": "cf97225c-abd0-4483-8c8a-d43682bf4375",
   "metadata": {},
   "outputs": [],
   "source": []
  }
 ],
 "metadata": {
  "kernelspec": {
   "display_name": "Python 3 (ipykernel)",
   "language": "python",
   "name": "python3"
  },
  "language_info": {
   "codemirror_mode": {
    "name": "ipython",
    "version": 3
   },
   "file_extension": ".py",
   "mimetype": "text/x-python",
   "name": "python",
   "nbconvert_exporter": "python",
   "pygments_lexer": "ipython3",
   "version": "3.12.7"
  }
 },
 "nbformat": 4,
 "nbformat_minor": 5
}
