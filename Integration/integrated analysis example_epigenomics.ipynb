{
 "cells": [
  {
   "cell_type": "code",
   "execution_count": 1,
   "metadata": {},
   "outputs": [],
   "source": [
    "import pandas as pd\n",
    "import numpy as np\n",
    "pd.set_option('display.max_columns', 50)\n",
    "# pd.set_option('display.max_rows', 50)\n",
    "import tabula\n",
    "from pandasql import sqldf\n",
    "import math\n",
    "from scipy.stats import chi2\n",
    "from scipy import stats\n",
    "from matplotlib import pyplot as plt"
   ]
  },
  {
   "cell_type": "code",
   "execution_count": 7,
   "metadata": {},
   "outputs": [],
   "source": [
    "epigenomics = pd.read_excel(r'C:\\Users\\edwar\\Desktop\\農藝\\paper2\\metaData_soybean_drought.xlsx', sheet_name = 'DNA')"
   ]
  },
  {
   "cell_type": "code",
   "execution_count": 14,
   "metadata": {},
   "outputs": [],
   "source": [
    "epi_data = epigenomics[epigeomics['omics_type'].str.contains('Epigenomic')].reset_index().drop(['index'], axis = 1)"
   ]
  },
  {
   "cell_type": "code",
   "execution_count": 23,
   "metadata": {},
   "outputs": [],
   "source": [
    "epi_data_mapped = epi_data[epi_data['mapped_gene'].isna()].reset_index().drop(['index'], axis = 1)[['marker', 'mapped_gene', 'chr', 'bp0', 'bp1', 'fc', 'drought_treatment_span', 'article_name', 'gene_version']]\n",
    "epi_data_already = epi_data[epi_data['mapped_gene'].isna() == False].reset_index().drop(['index'], axis = 1)[['mapped_gene', 'fc', 'drought_treatment_span', 'article_name', 'gene_version']]"
   ]
  },
  {
   "cell_type": "code",
   "execution_count": 44,
   "metadata": {},
   "outputs": [],
   "source": [
    "glyma_gene_ver = pd.read_csv(r'C:\\Users\\edwar\\Desktop\\農藝\\paper2\\Glyma_genes_correspondence_final.txt', delimiter = '\\t')"
   ]
  },
  {
   "cell_type": "code",
   "execution_count": 24,
   "metadata": {},
   "outputs": [
    {
     "data": {
      "text/html": [
       "<div>\n",
       "<style scoped>\n",
       "    .dataframe tbody tr th:only-of-type {\n",
       "        vertical-align: middle;\n",
       "    }\n",
       "\n",
       "    .dataframe tbody tr th {\n",
       "        vertical-align: top;\n",
       "    }\n",
       "\n",
       "    .dataframe thead th {\n",
       "        text-align: right;\n",
       "    }\n",
       "</style>\n",
       "<table border=\"1\" class=\"dataframe\">\n",
       "  <thead>\n",
       "    <tr style=\"text-align: right;\">\n",
       "      <th></th>\n",
       "      <th>marker</th>\n",
       "      <th>mapped_gene</th>\n",
       "      <th>chr</th>\n",
       "      <th>bp0</th>\n",
       "      <th>bp1</th>\n",
       "      <th>fc</th>\n",
       "      <th>drought_treatment_span</th>\n",
       "      <th>article_name</th>\n",
       "      <th>gene_version</th>\n",
       "    </tr>\n",
       "  </thead>\n",
       "  <tbody>\n",
       "    <tr>\n",
       "      <th>0</th>\n",
       "      <td>mir166a-5p</td>\n",
       "      <td>NaN</td>\n",
       "      <td>16</td>\n",
       "      <td>1912570.0</td>\n",
       "      <td>1912715.0</td>\n",
       "      <td>1.50</td>\n",
       "      <td>2.5</td>\n",
       "      <td>Identification of novel soybean microRNAs invo...</td>\n",
       "      <td>1.0</td>\n",
       "    </tr>\n",
       "    <tr>\n",
       "      <th>1</th>\n",
       "      <td>mir166f</td>\n",
       "      <td>NaN</td>\n",
       "      <td>20</td>\n",
       "      <td>43105394.0</td>\n",
       "      <td>43105500.0</td>\n",
       "      <td>0.71</td>\n",
       "      <td>2.5</td>\n",
       "      <td>Identification of novel soybean microRNAs invo...</td>\n",
       "      <td>1.0</td>\n",
       "    </tr>\n",
       "    <tr>\n",
       "      <th>2</th>\n",
       "      <td>mir169f-3p</td>\n",
       "      <td>NaN</td>\n",
       "      <td>20</td>\n",
       "      <td>46876643.0</td>\n",
       "      <td>46876727.0</td>\n",
       "      <td>1.40</td>\n",
       "      <td>2.5</td>\n",
       "      <td>Identification of novel soybean microRNAs invo...</td>\n",
       "      <td>1.0</td>\n",
       "    </tr>\n",
       "    <tr>\n",
       "      <th>3</th>\n",
       "      <td>mir1513c</td>\n",
       "      <td>NaN</td>\n",
       "      <td>20</td>\n",
       "      <td>223679.0</td>\n",
       "      <td>223766.0</td>\n",
       "      <td>1.80</td>\n",
       "      <td>2.5</td>\n",
       "      <td>Identification of novel soybean microRNAs invo...</td>\n",
       "      <td>1.0</td>\n",
       "    </tr>\n",
       "    <tr>\n",
       "      <th>4</th>\n",
       "      <td>mir4415b</td>\n",
       "      <td>NaN</td>\n",
       "      <td>8</td>\n",
       "      <td>23142767.0</td>\n",
       "      <td>23142922.0</td>\n",
       "      <td>2.20</td>\n",
       "      <td>2.5</td>\n",
       "      <td>Identification of novel soybean microRNAs invo...</td>\n",
       "      <td>1.0</td>\n",
       "    </tr>\n",
       "    <tr>\n",
       "      <th>5</th>\n",
       "      <td>mir-seq07</td>\n",
       "      <td>NaN</td>\n",
       "      <td>1</td>\n",
       "      <td>44787899.0</td>\n",
       "      <td>44787988.0</td>\n",
       "      <td>1.50</td>\n",
       "      <td>2.5</td>\n",
       "      <td>Identification of novel soybean microRNAs invo...</td>\n",
       "      <td>1.0</td>\n",
       "    </tr>\n",
       "    <tr>\n",
       "      <th>6</th>\n",
       "      <td>mir-seq11</td>\n",
       "      <td>NaN</td>\n",
       "      <td>16</td>\n",
       "      <td>5744795.0</td>\n",
       "      <td>5744863.0</td>\n",
       "      <td>1.87</td>\n",
       "      <td>2.5</td>\n",
       "      <td>Identification of novel soybean microRNAs invo...</td>\n",
       "      <td>1.0</td>\n",
       "    </tr>\n",
       "    <tr>\n",
       "      <th>7</th>\n",
       "      <td>mir-seq13</td>\n",
       "      <td>NaN</td>\n",
       "      <td>4</td>\n",
       "      <td>28578972.0</td>\n",
       "      <td>28579075.0</td>\n",
       "      <td>1.75</td>\n",
       "      <td>2.5</td>\n",
       "      <td>Identification of novel soybean microRNAs invo...</td>\n",
       "      <td>1.0</td>\n",
       "    </tr>\n",
       "  </tbody>\n",
       "</table>\n",
       "</div>"
      ],
      "text/plain": [
       "       marker mapped_gene  chr         bp0         bp1    fc  \\\n",
       "0  mir166a-5p         NaN   16   1912570.0   1912715.0  1.50   \n",
       "1     mir166f         NaN   20  43105394.0  43105500.0  0.71   \n",
       "2  mir169f-3p         NaN   20  46876643.0  46876727.0  1.40   \n",
       "3    mir1513c         NaN   20    223679.0    223766.0  1.80   \n",
       "4    mir4415b         NaN    8  23142767.0  23142922.0  2.20   \n",
       "5   mir-seq07         NaN    1  44787899.0  44787988.0  1.50   \n",
       "6   mir-seq11         NaN   16   5744795.0   5744863.0  1.87   \n",
       "7   mir-seq13         NaN    4  28578972.0  28579075.0  1.75   \n",
       "\n",
       "   drought_treatment_span                                       article_name  \\\n",
       "0                     2.5  Identification of novel soybean microRNAs invo...   \n",
       "1                     2.5  Identification of novel soybean microRNAs invo...   \n",
       "2                     2.5  Identification of novel soybean microRNAs invo...   \n",
       "3                     2.5  Identification of novel soybean microRNAs invo...   \n",
       "4                     2.5  Identification of novel soybean microRNAs invo...   \n",
       "5                     2.5  Identification of novel soybean microRNAs invo...   \n",
       "6                     2.5  Identification of novel soybean microRNAs invo...   \n",
       "7                     2.5  Identification of novel soybean microRNAs invo...   \n",
       "\n",
       "   gene_version  \n",
       "0           1.0  \n",
       "1           1.0  \n",
       "2           1.0  \n",
       "3           1.0  \n",
       "4           1.0  \n",
       "5           1.0  \n",
       "6           1.0  \n",
       "7           1.0  "
      ]
     },
     "execution_count": 24,
     "metadata": {},
     "output_type": "execute_result"
    }
   ],
   "source": [
    "epi_data_mapped"
   ]
  },
  {
   "cell_type": "markdown",
   "metadata": {},
   "source": [
    "only gene version 1.0 and one article"
   ]
  },
  {
   "cell_type": "code",
   "execution_count": 25,
   "metadata": {},
   "outputs": [],
   "source": [
    "# gene mapping\n",
    "template_a1v10 = pd.read_csv(r'C:\\Users\\edwar\\Desktop\\農藝\\paper2\\Glyma1.0_mapping.txt', delimiter = '\\t')\n",
    "template_a1v10['bp0'] = template_a1v10['bp0'].apply(lambda x : x - 20000)\n",
    "template_a1v10['bp1'] = template_a1v10['bp1'].apply(lambda x : x + 20000)\n",
    "\n",
    "def gene_mapping_ver(df, template, i):\n",
    "    cri1 = (df.iloc[i]['bp0'] - template['bp0']) * (df.iloc[i]['bp0'] - template['bp1']) <= 0\n",
    "    cri2 = (df.iloc[i]['bp1'] - template['bp1']) * (df.iloc[i]['bp1'] - template['bp0']) <= 0\n",
    "    cri3 = (df.iloc[i]['bp1'] < template['bp1']) & (df.iloc[i]['bp0'] > template['bp0'])\n",
    "    cri4 = (df.iloc[i]['chr'] == template['chr'])\n",
    "    return template[((cri1 | cri2) | cri3) & (cri4)].reset_index().drop(['index'], axis = 1)"
   ]
  },
  {
   "cell_type": "code",
   "execution_count": 29,
   "metadata": {},
   "outputs": [
    {
     "data": {
      "text/plain": [
       "1.5"
      ]
     },
     "execution_count": 29,
     "metadata": {},
     "output_type": "execute_result"
    }
   ],
   "source": [
    "i = 0\n",
    "gene_mapping_ver(epi_data_mapped, template_a1v10, i)\n",
    "epi_data_mapped.iloc[i]['fc']"
   ]
  },
  {
   "cell_type": "code",
   "execution_count": 30,
   "metadata": {},
   "outputs": [
    {
     "name": "stdout",
     "output_type": "stream",
     "text": [
      "0\n",
      "1\n",
      "2\n",
      "3\n",
      "4\n",
      "5\n",
      "6\n",
      "7\n"
     ]
    }
   ],
   "source": [
    "gene_mapped_data = pd.DataFrame()\n",
    "\n",
    "for i in range(len(epi_data_mapped['mapped_gene'])):\n",
    "    df_gene_v1 = pd.DataFrame()\n",
    "    df_gene = gene_mapping_ver(epi_data_mapped, template_a1v10, i)\n",
    "    df_gene_v1['gene'] = df_gene['gene']\n",
    "    df_gene_v1['fc'] = epi_data_mapped.iloc[i]['fc']\n",
    "    df_gene_v1['gene_version'] = epi_data_mapped.iloc[i]['gene_version']\n",
    "    gene_mapped_data = pd.concat([gene_mapped_data, df_gene_v1]).reset_index().drop(['index'], axis = 1)\n",
    "    \n",
    "    print(i)"
   ]
  },
  {
   "cell_type": "code",
   "execution_count": 32,
   "metadata": {},
   "outputs": [],
   "source": [
    "gene_mapped_data.loc[(gene_mapped_data['fc'] < 1), 'fc'] = 1 / gene_mapped_data['fc']"
   ]
  },
  {
   "cell_type": "code",
   "execution_count": 38,
   "metadata": {},
   "outputs": [],
   "source": [
    "epi_data_already = epi_data_already.rename(columns = {'mapped_gene':'gene'})"
   ]
  },
  {
   "cell_type": "code",
   "execution_count": 40,
   "metadata": {},
   "outputs": [],
   "source": [
    "gene_data_all = pd.concat([gene_mapped_data, epi_data_already[['gene', 'fc', 'gene_version']]]).reset_index().drop(['index'], axis = 1)"
   ]
  },
  {
   "cell_type": "code",
   "execution_count": 51,
   "metadata": {},
   "outputs": [],
   "source": [
    "gene_data_all = gene_data_all.merge(glyma_gene_ver[['Wm82.a2.v1', 'Wm82.a1.v1']], how = 'left', left_on = ['gene'], right_on = ['Wm82.a1.v1']).drop(['Wm82.a1.v1'], axis = 1).rename(columns = {'gene':'gene_org', 'Wm82.a2.v1':'gene'})"
   ]
  },
  {
   "cell_type": "code",
   "execution_count": 55,
   "metadata": {},
   "outputs": [],
   "source": [
    "gene_data_all_v1 = gene_data_all[gene_data_all['gene'].isna() == False].drop(['gene_version', 'gene_org'], axis = 1).reset_index().drop(['index'], axis = 1)[['gene', 'fc']]"
   ]
  },
  {
   "cell_type": "code",
   "execution_count": 57,
   "metadata": {},
   "outputs": [],
   "source": [
    "gene_data_all_v1['score'] = gene_data_all_v1['fc']"
   ]
  },
  {
   "cell_type": "code",
   "execution_count": 59,
   "metadata": {},
   "outputs": [],
   "source": [
    "gene_data_all_v1['sig_flag'] = ''\n",
    "gene_data_all_v1['nonsig_flag'] = ''\n",
    "gene_data_all_v1.loc[(gene_data_all_v1['fc'] > 1.5), 'sig_flag'] = 1\n",
    "gene_data_all_v1.loc[(gene_data_all_v1['fc'] > 1.5), 'nonsig_flag'] = 0\n",
    "gene_data_all_v1.loc[(gene_data_all_v1['fc'] <= 1.5), 'sig_flag'] = 0\n",
    "gene_data_all_v1.loc[(gene_data_all_v1['fc'] <= 1.5), 'nonsig_flag'] = 1"
   ]
  },
  {
   "cell_type": "code",
   "execution_count": 61,
   "metadata": {},
   "outputs": [],
   "source": [
    "gene_data_all_v1.to_excel(r'C:\\Users\\edwar\\Desktop\\農藝\\paper2\\data collection\\epigenomics_fv.xlsx', index = False)"
   ]
  },
  {
   "cell_type": "code",
   "execution_count": null,
   "metadata": {},
   "outputs": [],
   "source": []
  },
  {
   "cell_type": "code",
   "execution_count": null,
   "metadata": {},
   "outputs": [],
   "source": []
  },
  {
   "cell_type": "code",
   "execution_count": null,
   "metadata": {},
   "outputs": [],
   "source": []
  }
 ],
 "metadata": {
  "kernelspec": {
   "display_name": "Python 3 (ipykernel)",
   "language": "python",
   "name": "python3"
  },
  "language_info": {
   "codemirror_mode": {
    "name": "ipython",
    "version": 3
   },
   "file_extension": ".py",
   "mimetype": "text/x-python",
   "name": "python",
   "nbconvert_exporter": "python",
   "pygments_lexer": "ipython3",
   "version": "3.10.9"
  }
 },
 "nbformat": 4,
 "nbformat_minor": 4
}
