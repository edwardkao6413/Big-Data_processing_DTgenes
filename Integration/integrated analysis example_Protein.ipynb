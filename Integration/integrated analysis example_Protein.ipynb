{
 "cells": [
  {
   "cell_type": "code",
   "execution_count": 22,
   "metadata": {
    "tags": []
   },
   "outputs": [],
   "source": [
    "import pandas as pd\n",
    "import numpy as np\n",
    "pd.set_option('display.max_columns', 50)\n",
    "# pd.set_option('display.max_rows', 50)\n",
    "import tabula\n",
    "from pandasql import sqldf\n",
    "import math\n",
    "from scipy.stats import chi2\n",
    "from scipy import stats\n",
    "from matplotlib import pyplot as plt"
   ]
  },
  {
   "cell_type": "markdown",
   "metadata": {},
   "source": [
    "-----Protein Layer--------"
   ]
  },
  {
   "cell_type": "code",
   "execution_count": 2,
   "metadata": {
    "tags": []
   },
   "outputs": [],
   "source": [
    "# integrated dataset\n",
    "protein_layer = pd.read_excel(r'C:\\Users\\edwar\\Desktop\\農藝\\paper2\\metaData_soybean_drought.xlsx', sheet_name = 'Protein')\n",
    "\n",
    "# whole genome data\n",
    "zhou_2022 = pd.read_excel(r'C:\\Users\\edwar\\Desktop\\農藝\\paper2\\data collection\\whole genome data\\incomplete\\protein\\Zhou-2022\\Zhou2022_iwgd.xlsx')"
   ]
  },
  {
   "cell_type": "code",
   "execution_count": 3,
   "metadata": {
    "tags": []
   },
   "outputs": [],
   "source": [
    "protein_layer = pd.concat([protein_layer, zhou_2022]).reset_index().drop(['index'], axis = 1)"
   ]
  },
  {
   "cell_type": "code",
   "execution_count": 4,
   "metadata": {
    "tags": []
   },
   "outputs": [],
   "source": [
    "# import gene_version\n",
    "glyma_gene_ver = pd.read_csv(r'C:\\Users\\edwar\\Desktop\\農藝\\paper2\\Glyma_genes_correspondence_final.txt', delimiter = '\\t')"
   ]
  },
  {
   "cell_type": "code",
   "execution_count": 5,
   "metadata": {
    "tags": []
   },
   "outputs": [],
   "source": [
    "# 分離成兩種不同基因分數型態\n",
    "gene_data_score = protein_layer[protein_layer['score'].isna() == False].reset_index().drop(['index'], axis = 1)[['methodology', 'mapped_gene', 'p', 'score', 'gene_version', 'article_name']]\n",
    "gene_data_p = protein_layer[protein_layer['p'].isna() == False].reset_index().drop(['index'], axis = 1)[['methodology', 'mapped_gene', 'p', 'score', 'gene_version', 'article_name']]"
   ]
  },
  {
   "cell_type": "code",
   "execution_count": 6,
   "metadata": {
    "tags": []
   },
   "outputs": [
    {
     "data": {
      "text/plain": [
       "400"
      ]
     },
     "execution_count": 6,
     "metadata": {},
     "output_type": "execute_result"
    }
   ],
   "source": [
    "# score分數型態以及 p分數型態的資料有重疊，故要考慮 score以及 p轉換後分數的整合\n",
    "len(set(gene_data_p['mapped_gene']) & set(gene_data_score['mapped_gene']))"
   ]
  },
  {
   "cell_type": "code",
   "execution_count": 7,
   "metadata": {
    "tags": []
   },
   "outputs": [],
   "source": [
    "gene_data_p.columns = ['methodology', 'gene_org', 'p', 'score', 'gene_version', 'article_name']\n",
    "gene_data_score.columns = ['methodology', 'gene_org', 'p', 'score', 'gene_version', 'article_name']"
   ]
  },
  {
   "cell_type": "code",
   "execution_count": 8,
   "metadata": {
    "tags": []
   },
   "outputs": [
    {
     "name": "stderr",
     "output_type": "stream",
     "text": [
      "C:\\Users\\edwar\\AppData\\Local\\Temp\\ipykernel_1420\\1116403056.py:7: SettingWithCopyWarning: \n",
      "A value is trying to be set on a copy of a slice from a DataFrame.\n",
      "Try using .loc[row_indexer,col_indexer] = value instead\n",
      "\n",
      "See the caveats in the documentation: https://pandas.pydata.org/pandas-docs/stable/user_guide/indexing.html#returning-a-view-versus-a-copy\n",
      "  gene_data_p_v2['gene'] = gene_data_p_v2['gene_org']\n"
     ]
    }
   ],
   "source": [
    "# gene_version a2v1 transformed\n",
    "# p data transformed\n",
    "gene_data_p_v2 = gene_data_p[gene_data_p['gene_version'] == 2]\n",
    "gene_data_p_v1 = gene_data_p[gene_data_p['gene_version'] == 1]\n",
    "\n",
    "gene_data_p_v1 = gene_data_p_v1.merge(glyma_gene_ver[['Wm82.a1.v1', 'Wm82.a2.v1']], how = 'left', left_on = ['gene_org'], right_on = ['Wm82.a1.v1']).drop(['Wm82.a1.v1'], axis = 1).rename(columns = {'Wm82.a2.v1':'gene'})\n",
    "gene_data_p_v2['gene'] = gene_data_p_v2['gene_org']\n",
    "\n",
    "gene_data_p = pd.concat([gene_data_p_v1, gene_data_p_v2]).reset_index().drop(['index'], axis = 1)[['methodology', 'gene', 'p', 'score', 'gene_version', 'article_name', 'gene_org']]\n",
    "\n",
    "# score data transformed (only gene version 1 is in score data)\n",
    "gene_data_score = gene_data_score.merge(glyma_gene_ver[['Wm82.a1.v1', 'Wm82.a2.v1']], how = 'left', left_on = ['gene_org'], right_on = ['Wm82.a1.v1']).drop(['Wm82.a1.v1'], axis = 1).rename(columns = {'Wm82.a2.v1':'gene'})\n"
   ]
  },
  {
   "cell_type": "code",
   "execution_count": 9,
   "metadata": {
    "tags": []
   },
   "outputs": [
    {
     "data": {
      "text/html": [
       "<div>\n",
       "<style scoped>\n",
       "    .dataframe tbody tr th:only-of-type {\n",
       "        vertical-align: middle;\n",
       "    }\n",
       "\n",
       "    .dataframe tbody tr th {\n",
       "        vertical-align: top;\n",
       "    }\n",
       "\n",
       "    .dataframe thead th {\n",
       "        text-align: right;\n",
       "    }\n",
       "</style>\n",
       "<table border=\"1\" class=\"dataframe\">\n",
       "  <thead>\n",
       "    <tr style=\"text-align: right;\">\n",
       "      <th></th>\n",
       "      <th>methodology</th>\n",
       "      <th>gene</th>\n",
       "      <th>p</th>\n",
       "      <th>score</th>\n",
       "      <th>gene_version</th>\n",
       "      <th>article_name</th>\n",
       "      <th>gene_org</th>\n",
       "    </tr>\n",
       "  </thead>\n",
       "  <tbody>\n",
       "    <tr>\n",
       "      <th>0</th>\n",
       "      <td>Proteomes</td>\n",
       "      <td>Glyma.01g030500</td>\n",
       "      <td>0.001</td>\n",
       "      <td>NaN</td>\n",
       "      <td>1</td>\n",
       "      <td>Organ-specific proteomics of soybean seedlings...</td>\n",
       "      <td>Glyma01g03720</td>\n",
       "    </tr>\n",
       "    <tr>\n",
       "      <th>1</th>\n",
       "      <td>Proteomes</td>\n",
       "      <td>Glyma.02g035000</td>\n",
       "      <td>0.001</td>\n",
       "      <td>NaN</td>\n",
       "      <td>1</td>\n",
       "      <td>Organ-specific proteomics of soybean seedlings...</td>\n",
       "      <td>Glyma02g03990</td>\n",
       "    </tr>\n",
       "    <tr>\n",
       "      <th>2</th>\n",
       "      <td>Proteomes</td>\n",
       "      <td>Glyma.02g140900</td>\n",
       "      <td>0.001</td>\n",
       "      <td>NaN</td>\n",
       "      <td>1</td>\n",
       "      <td>Organ-specific proteomics of soybean seedlings...</td>\n",
       "      <td>Glyma02g15910</td>\n",
       "    </tr>\n",
       "    <tr>\n",
       "      <th>3</th>\n",
       "      <td>Proteomes</td>\n",
       "      <td>Glyma.03g221400</td>\n",
       "      <td>0.001</td>\n",
       "      <td>NaN</td>\n",
       "      <td>1</td>\n",
       "      <td>Organ-specific proteomics of soybean seedlings...</td>\n",
       "      <td>Glyma03g38000</td>\n",
       "    </tr>\n",
       "    <tr>\n",
       "      <th>4</th>\n",
       "      <td>Proteomes</td>\n",
       "      <td>Glyma.19g218300</td>\n",
       "      <td>0.001</td>\n",
       "      <td>NaN</td>\n",
       "      <td>1</td>\n",
       "      <td>Organ-specific proteomics of soybean seedlings...</td>\n",
       "      <td>Glyma19g40610</td>\n",
       "    </tr>\n",
       "  </tbody>\n",
       "</table>\n",
       "</div>"
      ],
      "text/plain": [
       "  methodology             gene      p  score  gene_version  \\\n",
       "0   Proteomes  Glyma.01g030500  0.001    NaN             1   \n",
       "1   Proteomes  Glyma.02g035000  0.001    NaN             1   \n",
       "2   Proteomes  Glyma.02g140900  0.001    NaN             1   \n",
       "3   Proteomes  Glyma.03g221400  0.001    NaN             1   \n",
       "4   Proteomes  Glyma.19g218300  0.001    NaN             1   \n",
       "\n",
       "                                        article_name       gene_org  \n",
       "0  Organ-specific proteomics of soybean seedlings...  Glyma01g03720  \n",
       "1  Organ-specific proteomics of soybean seedlings...  Glyma02g03990  \n",
       "2  Organ-specific proteomics of soybean seedlings...  Glyma02g15910  \n",
       "3  Organ-specific proteomics of soybean seedlings...  Glyma03g38000  \n",
       "4  Organ-specific proteomics of soybean seedlings...  Glyma19g40610  "
      ]
     },
     "execution_count": 9,
     "metadata": {},
     "output_type": "execute_result"
    }
   ],
   "source": [
    "gene_data_p.head()"
   ]
  },
  {
   "cell_type": "code",
   "execution_count": 27,
   "metadata": {
    "tags": []
   },
   "outputs": [],
   "source": [
    "# pd.DataFrame(Protein_genes['gene'].value_counts()[:100]).reset_index().rename(columns = {'gene':'count', 'index':'gene'}).to_excel(r'C:\\Users\\edwar\\Downloads\\protein_genes.xlsx', index = False)"
   ]
  },
  {
   "cell_type": "code",
   "execution_count": null,
   "metadata": {},
   "outputs": [],
   "source": []
  },
  {
   "cell_type": "code",
   "execution_count": 9,
   "metadata": {
    "tags": []
   },
   "outputs": [
    {
     "name": "stdout",
     "output_type": "stream",
     "text": [
      "1\n",
      "2\n",
      "3\n",
      "4\n",
      "5\n",
      "6\n"
     ]
    }
   ],
   "source": [
    "# 整理 p資料\n",
    "article_list_p = list(gene_data_p['article_name'].unique())\n",
    "gene_score_data_p = pd.DataFrame()\n",
    "\n",
    "count = 0\n",
    "for article in article_list_p:\n",
    "    gene_data_article_p = gene_data_p[gene_data_p['article_name'] == article]\n",
    "    gene_list = list(gene_data_article_p['gene'].unique())\n",
    "    \n",
    "    for gene in gene_list:\n",
    "        df_gene = gene_data_article_p[gene_data_article_p['gene'] == gene]\n",
    "        \n",
    "        if len(df_gene['gene']) > 1:\n",
    "            df_gene_v1 = pd.DataFrame()\n",
    "            p_values = list(df_gene['p'])\n",
    "            p_value = stats.combine_pvalues(p_values, method = 'fisher')[1]\n",
    "            df_gene_v1['gene'] = df_gene['gene'].unique()\n",
    "            df_gene_v1['p'] = p_value\n",
    "            df_gene_v1['score'] = ''\n",
    "            df_gene_v1['article_name'] = df_gene['article_name'].unique()\n",
    "#             df_gene_v1['gene_org'] = df_gene['gene_org'].unique()\n",
    "            gene_score_data_p = pd.concat([gene_score_data_p, df_gene_v1]).reset_index().drop(['index'], axis = 1)\n",
    "            \n",
    "        else:\n",
    "            gene_score_data_p = pd.concat([gene_score_data_p, df_gene[['gene', 'p', 'score', 'article_name']]]).reset_index().drop(['index'], axis = 1)\n",
    "            \n",
    "    count += 1\n",
    "    print(count)"
   ]
  },
  {
   "cell_type": "code",
   "execution_count": 11,
   "metadata": {},
   "outputs": [],
   "source": [
    "# 算 sig_flag\n",
    "gene_score_data_p['sig_flag'] = ''\n",
    "gene_score_data_p['nonsig_flag'] = ''\n",
    "p_thres = 0.05\n",
    "\n",
    "gene_score_data_p.loc[(gene_score_data_p['p'] < p_thres), 'sig_flag'] = 1\n",
    "gene_score_data_p.loc[(gene_score_data_p['p'] < p_thres), 'nonsig_flag'] = 0\n",
    "\n",
    "gene_score_data_p.loc[(gene_score_data_p['p'] >= p_thres), 'sig_flag'] = 0\n",
    "gene_score_data_p.loc[(gene_score_data_p['p'] >= p_thres), 'nonsig_flag'] = 1"
   ]
  },
  {
   "cell_type": "code",
   "execution_count": 12,
   "metadata": {
    "collapsed": true,
    "jupyter": {
     "outputs_hidden": true
    }
   },
   "outputs": [
    {
     "name": "stdout",
     "output_type": "stream",
     "text": [
      "500\n",
      "1000\n",
      "1500\n",
      "2000\n",
      "2500\n",
      "3000\n",
      "3500\n",
      "4000\n",
      "4500\n",
      "5000\n",
      "5500\n",
      "6000\n",
      "6500\n",
      "7000\n",
      "7500\n"
     ]
    }
   ],
   "source": [
    "# # 算 sig_flag_fv\n",
    "# gene_list = list(gene_score_data_p['gene'].unique())\n",
    "# gene_score_data_p_v1 = pd.DataFrame()\n",
    "\n",
    "# count = 0\n",
    "# for gene in gene_list:\n",
    "#     df_gene = gene_score_data_p[gene_score_data_p['gene'] == gene].reset_index().drop(['index'], axis = 1)\n",
    "    \n",
    "#     if df_gene['sig_flag'].sum() > df_gene['nonsig_flag'].sum():\n",
    "#         df_gene['sig_flag_fv'] = '1'  \n",
    "#     elif df_gene['sig_flag'].sum() == df_gene['nonsig_flag'].sum():\n",
    "#         df_gene['sig_flag_fv'] = '0'\n",
    "#     elif df_gene['sig_flag'].sum() < df_gene['nonsig_flag'].sum():\n",
    "#         df_gene['sig_flag_fv'] = '-1'\n",
    "    \n",
    "#     gene_score_data_p_v1 = pd.concat([gene_score_data_p_v1, df_gene]).reset_index().drop(['index'], axis = 1)\n",
    "#     count += 1\n",
    "#     if count % 500 == 0:\n",
    "#         print(count)"
   ]
  },
  {
   "cell_type": "code",
   "execution_count": 12,
   "metadata": {},
   "outputs": [
    {
     "name": "stdout",
     "output_type": "stream",
     "text": [
      "500\n",
      "1000\n",
      "1500\n",
      "2000\n",
      "2500\n",
      "3000\n",
      "3500\n",
      "4000\n",
      "4500\n",
      "5000\n",
      "5500\n",
      "6000\n",
      "6500\n",
      "7000\n",
      "7500\n"
     ]
    }
   ],
   "source": [
    "# 整合不同篇 report 的 p 值\n",
    "gene_list = list(gene_score_data_p['gene'].unique())\n",
    "gene_score_data_p_v1 = pd.DataFrame()\n",
    "\n",
    "count = 0\n",
    "for gene in gene_list:\n",
    "    df_gene = gene_score_data_p[gene_score_data_p['gene'] == gene].reset_index().drop(['index'], axis = 1)\n",
    "    \n",
    "    if len(df_gene['gene']) > 1:\n",
    "        df_gene_v1 = pd.DataFrame()\n",
    "        p_values = list(df_gene['p'])\n",
    "        p_value = stats.combine_pvalues(p_values, method = 'fisher')[1]\n",
    "        df_gene_v1['gene'] = df_gene['gene'].unique()\n",
    "        df_gene_v1['p'] = p_value\n",
    "        df_gene_v1['sig_flag'] = df_gene['sig_flag'].sum()\n",
    "        df_gene_v1['nonsig_flag'] = df_gene['nonsig_flag'].sum()\n",
    "        gene_score_data_p_v1 = pd.concat([gene_score_data_p_v1, df_gene_v1]).reset_index().drop(['index'], axis = 1)\n",
    "        \n",
    "    elif len(df_gene['gene']) == 1:\n",
    "        gene_score_data_p_v1 = pd.concat([gene_score_data_p_v1, df_gene[['gene', 'p', 'sig_flag', 'nonsig_flag']]]).reset_index().drop(['index'], axis = 1)\n",
    "    \n",
    "    count += 1\n",
    "    if count % 500 == 0:\n",
    "        print(count)"
   ]
  },
  {
   "cell_type": "code",
   "execution_count": 13,
   "metadata": {},
   "outputs": [],
   "source": [
    "gene_score_data_p_v1['score'] = -np.log10(gene_score_data_p_v1['p'])"
   ]
  },
  {
   "cell_type": "code",
   "execution_count": 14,
   "metadata": {},
   "outputs": [
    {
     "data": {
      "text/plain": [
       "count    7535.000000\n",
       "mean        1.724167\n",
       "std         1.790369\n",
       "min         0.000208\n",
       "25%         0.435794\n",
       "50%         1.093585\n",
       "75%         2.573481\n",
       "max        14.461298\n",
       "Name: score, dtype: float64"
      ]
     },
     "execution_count": 14,
     "metadata": {},
     "output_type": "execute_result"
    }
   ],
   "source": [
    "gene_score_data_p_v1['score'].describe()"
   ]
  },
  {
   "cell_type": "code",
   "execution_count": 16,
   "metadata": {},
   "outputs": [
    {
     "data": {
      "image/png": "[encoded data removed]",
      "text/plain": [
       "<Figure size 432x288 with 1 Axes>"
      ]
     },
     "metadata": {
      "needs_background": "light"
     },
     "output_type": "display_data"
    }
   ],
   "source": [
    "plt.hist(gene_score_data_p_v1['score'], bins = 30)\n",
    "plt.show()"
   ]
  },
  {
   "cell_type": "code",
   "execution_count": null,
   "metadata": {},
   "outputs": [],
   "source": []
  },
  {
   "cell_type": "code",
   "execution_count": 10,
   "metadata": {
    "tags": []
   },
   "outputs": [
    {
     "data": {
      "text/html": [
       "<div>\n",
       "<style scoped>\n",
       "    .dataframe tbody tr th:only-of-type {\n",
       "        vertical-align: middle;\n",
       "    }\n",
       "\n",
       "    .dataframe tbody tr th {\n",
       "        vertical-align: top;\n",
       "    }\n",
       "\n",
       "    .dataframe thead th {\n",
       "        text-align: right;\n",
       "    }\n",
       "</style>\n",
       "<table border=\"1\" class=\"dataframe\">\n",
       "  <thead>\n",
       "    <tr style=\"text-align: right;\">\n",
       "      <th></th>\n",
       "      <th>methodology</th>\n",
       "      <th>gene_org</th>\n",
       "      <th>p</th>\n",
       "      <th>score</th>\n",
       "      <th>gene_version</th>\n",
       "      <th>article_name</th>\n",
       "      <th>gene</th>\n",
       "    </tr>\n",
       "  </thead>\n",
       "  <tbody>\n",
       "    <tr>\n",
       "      <th>0</th>\n",
       "      <td>Proteomes</td>\n",
       "      <td>Glyma06g10650</td>\n",
       "      <td>NaN</td>\n",
       "      <td>6.0</td>\n",
       "      <td>1</td>\n",
       "      <td>Gel-Free/Label-Free Proteomic Analysis of Endo...</td>\n",
       "      <td>Glyma.06g101500</td>\n",
       "    </tr>\n",
       "    <tr>\n",
       "      <th>1</th>\n",
       "      <td>Proteomes</td>\n",
       "      <td>Glyma02g37120</td>\n",
       "      <td>NaN</td>\n",
       "      <td>5.0</td>\n",
       "      <td>1</td>\n",
       "      <td>Gel-Free/Label-Free Proteomic Analysis of Endo...</td>\n",
       "      <td>Glyma.02g208700</td>\n",
       "    </tr>\n",
       "    <tr>\n",
       "      <th>2</th>\n",
       "      <td>Proteomes</td>\n",
       "      <td>Glyma10g37960</td>\n",
       "      <td>NaN</td>\n",
       "      <td>5.0</td>\n",
       "      <td>1</td>\n",
       "      <td>Gel-Free/Label-Free Proteomic Analysis of Endo...</td>\n",
       "      <td>Glyma.10g235100</td>\n",
       "    </tr>\n",
       "    <tr>\n",
       "      <th>3</th>\n",
       "      <td>Proteomes</td>\n",
       "      <td>Glyma08g47900</td>\n",
       "      <td>NaN</td>\n",
       "      <td>4.0</td>\n",
       "      <td>1</td>\n",
       "      <td>Gel-Free/Label-Free Proteomic Analysis of Endo...</td>\n",
       "      <td>Glyma.08g363800</td>\n",
       "    </tr>\n",
       "    <tr>\n",
       "      <th>4</th>\n",
       "      <td>Proteomes</td>\n",
       "      <td>Glyma01g26950</td>\n",
       "      <td>NaN</td>\n",
       "      <td>4.0</td>\n",
       "      <td>1</td>\n",
       "      <td>Gel-Free/Label-Free Proteomic Analysis of Endo...</td>\n",
       "      <td>Glyma.01g109300</td>\n",
       "    </tr>\n",
       "    <tr>\n",
       "      <th>...</th>\n",
       "      <td>...</td>\n",
       "      <td>...</td>\n",
       "      <td>...</td>\n",
       "      <td>...</td>\n",
       "      <td>...</td>\n",
       "      <td>...</td>\n",
       "      <td>...</td>\n",
       "    </tr>\n",
       "    <tr>\n",
       "      <th>554</th>\n",
       "      <td>Proteomes</td>\n",
       "      <td>Glyma08g06790</td>\n",
       "      <td>NaN</td>\n",
       "      <td>1.0</td>\n",
       "      <td>1</td>\n",
       "      <td>Medicago truncatula and Glycine max: Different...</td>\n",
       "      <td>Glyma.08g063500</td>\n",
       "    </tr>\n",
       "    <tr>\n",
       "      <th>555</th>\n",
       "      <td>Proteomes</td>\n",
       "      <td>Glyma11g12300</td>\n",
       "      <td>NaN</td>\n",
       "      <td>1.0</td>\n",
       "      <td>1</td>\n",
       "      <td>Medicago truncatula and Glycine max: Different...</td>\n",
       "      <td>Glyma.11g115400</td>\n",
       "    </tr>\n",
       "    <tr>\n",
       "      <th>556</th>\n",
       "      <td>Proteomes</td>\n",
       "      <td>Glyma11g15230</td>\n",
       "      <td>NaN</td>\n",
       "      <td>1.0</td>\n",
       "      <td>1</td>\n",
       "      <td>Medicago truncatula and Glycine max: Different...</td>\n",
       "      <td>Glyma.11g143400</td>\n",
       "    </tr>\n",
       "    <tr>\n",
       "      <th>557</th>\n",
       "      <td>Proteomes</td>\n",
       "      <td>Glyma06g42460</td>\n",
       "      <td>NaN</td>\n",
       "      <td>1.0</td>\n",
       "      <td>1</td>\n",
       "      <td>Medicago truncatula and Glycine max: Different...</td>\n",
       "      <td>Glyma.06g272500</td>\n",
       "    </tr>\n",
       "    <tr>\n",
       "      <th>558</th>\n",
       "      <td>Proteomes</td>\n",
       "      <td>Glyma20g28780</td>\n",
       "      <td>NaN</td>\n",
       "      <td>1.0</td>\n",
       "      <td>1</td>\n",
       "      <td>Medicago truncatula and Glycine max: Different...</td>\n",
       "      <td>Glyma.20g149400</td>\n",
       "    </tr>\n",
       "  </tbody>\n",
       "</table>\n",
       "<p>559 rows × 7 columns</p>\n",
       "</div>"
      ],
      "text/plain": [
       "    methodology       gene_org   p  score  gene_version  \\\n",
       "0     Proteomes  Glyma06g10650 NaN    6.0             1   \n",
       "1     Proteomes  Glyma02g37120 NaN    5.0             1   \n",
       "2     Proteomes  Glyma10g37960 NaN    5.0             1   \n",
       "3     Proteomes  Glyma08g47900 NaN    4.0             1   \n",
       "4     Proteomes  Glyma01g26950 NaN    4.0             1   \n",
       "..          ...            ...  ..    ...           ...   \n",
       "554   Proteomes  Glyma08g06790 NaN    1.0             1   \n",
       "555   Proteomes  Glyma11g12300 NaN    1.0             1   \n",
       "556   Proteomes  Glyma11g15230 NaN    1.0             1   \n",
       "557   Proteomes  Glyma06g42460 NaN    1.0             1   \n",
       "558   Proteomes  Glyma20g28780 NaN    1.0             1   \n",
       "\n",
       "                                          article_name             gene  \n",
       "0    Gel-Free/Label-Free Proteomic Analysis of Endo...  Glyma.06g101500  \n",
       "1    Gel-Free/Label-Free Proteomic Analysis of Endo...  Glyma.02g208700  \n",
       "2    Gel-Free/Label-Free Proteomic Analysis of Endo...  Glyma.10g235100  \n",
       "3    Gel-Free/Label-Free Proteomic Analysis of Endo...  Glyma.08g363800  \n",
       "4    Gel-Free/Label-Free Proteomic Analysis of Endo...  Glyma.01g109300  \n",
       "..                                                 ...              ...  \n",
       "554  Medicago truncatula and Glycine max: Different...  Glyma.08g063500  \n",
       "555  Medicago truncatula and Glycine max: Different...  Glyma.11g115400  \n",
       "556  Medicago truncatula and Glycine max: Different...  Glyma.11g143400  \n",
       "557  Medicago truncatula and Glycine max: Different...  Glyma.06g272500  \n",
       "558  Medicago truncatula and Glycine max: Different...  Glyma.20g149400  \n",
       "\n",
       "[559 rows x 7 columns]"
      ]
     },
     "execution_count": 10,
     "metadata": {},
     "output_type": "execute_result"
    }
   ],
   "source": [
    "gene_data_score"
   ]
  },
  {
   "cell_type": "code",
   "execution_count": 11,
   "metadata": {
    "tags": []
   },
   "outputs": [
    {
     "name": "stdout",
     "output_type": "stream",
     "text": [
      "1\n",
      "2\n"
     ]
    }
   ],
   "source": [
    "article_list_score = list(gene_data_score['article_name'].unique())\n",
    "gene_score_data_score = pd.DataFrame()\n",
    "\n",
    "count = 0\n",
    "for article in article_list_score:\n",
    "    gene_data_article_score = gene_data_score[gene_data_score['article_name'] == article]\n",
    "    gene_list = list(gene_data_article_score['gene'].unique())\n",
    "    \n",
    "    for gene in gene_list:\n",
    "        df_gene = gene_data_article_score[gene_data_article_score['gene'] == gene].reset_index().drop(['index'], axis = 1)\n",
    "        \n",
    "        if len(df_gene['gene']) > 1:\n",
    "            df_gene_v1 = pd.DataFrame()\n",
    "            df_gene_v1['gene'] = df_gene['gene'].unique()\n",
    "            # 同篇的分數取最大的 score\n",
    "            df_gene_v1['score'] = df_gene['score'].max()\n",
    "            df_gene_v1['p'] = ''\n",
    "            df_gene_v1['article_name'] = df_gene_v1['article_name']\n",
    "            gene_score_data_score = pd.concat([gene_score_data_score, df_gene_v1]).reset_index().drop(['index'], axis = 1)\n",
    "            \n",
    "        else:\n",
    "            gene_score_data_score = pd.concat([gene_score_data_score, df_gene[['gene', 'score', 'p', 'article_name']]]).reset_index().drop(['index'], axis = 1)\n",
    "            \n",
    "    count += 1\n",
    "    print(count)"
   ]
  },
  {
   "cell_type": "code",
   "execution_count": 19,
   "metadata": {},
   "outputs": [
    {
     "name": "stdout",
     "output_type": "stream",
     "text": [
      "50\n",
      "100\n",
      "150\n",
      "200\n",
      "250\n",
      "300\n",
      "350\n",
      "400\n",
      "450\n"
     ]
    }
   ],
   "source": [
    "gene_list = list(gene_score_data_score['gene'].unique())\n",
    "gene_score_data_score_v1 = pd.DataFrame()\n",
    "\n",
    "count = 0\n",
    "for gene in gene_list:\n",
    "    df_gene = gene_score_data_score[gene_score_data_score['gene'] == gene].reset_index().drop(['index'], axis = 1)\n",
    "    \n",
    "    if len(df_gene['gene']) > 1:\n",
    "        df_gene_v1 = pd.DataFrame()\n",
    "        df_gene_v1['gene'] = df_gene['gene'].unique()\n",
    "        df_gene_v1['score'] = df_gene['score'].mean()\n",
    "        df_gene_v1['p'] = ''\n",
    "        gene_score_data_score_v1 = pd.concat([gene_score_data_score_v1, df_gene_v1]).reset_index().drop(['index'], axis = 1)\n",
    "        \n",
    "    else:\n",
    "        gene_score_data_score_v1 = pd.concat([gene_score_data_score_v1, df_gene[['gene', 'score', 'p']]]).reset_index().drop(['index'], axis = 1)\n",
    "    \n",
    "    count += 1\n",
    "    if count % 50 == 0:\n",
    "        print(count)"
   ]
  },
  {
   "cell_type": "code",
   "execution_count": 20,
   "metadata": {},
   "outputs": [
    {
     "data": {
      "text/plain": [
       "count    476.000000\n",
       "mean       1.194328\n",
       "std        0.641174\n",
       "min        1.000000\n",
       "25%        1.000000\n",
       "50%        1.000000\n",
       "75%        1.000000\n",
       "max        6.000000\n",
       "Name: score, dtype: float64"
      ]
     },
     "execution_count": 20,
     "metadata": {},
     "output_type": "execute_result"
    }
   ],
   "source": [
    "gene_score_data_score_v1['score'].describe()"
   ]
  },
  {
   "cell_type": "code",
   "execution_count": 21,
   "metadata": {},
   "outputs": [
    {
     "data": {
      "image/png": "[encoded data removed]",
      "text/plain": [
       "<Figure size 432x288 with 1 Axes>"
      ]
     },
     "metadata": {
      "needs_background": "light"
     },
     "output_type": "display_data"
    }
   ],
   "source": [
    "plt.hist(gene_score_data_score_v1['score'], bins = 8)\n",
    "plt.show()"
   ]
  },
  {
   "cell_type": "code",
   "execution_count": 22,
   "metadata": {},
   "outputs": [],
   "source": [
    "gene_score_data_score_v1 = gene_score_data_score_v1.rename(columns = {'score':'score_self_designed'})"
   ]
  },
  {
   "cell_type": "code",
   "execution_count": 24,
   "metadata": {},
   "outputs": [],
   "source": [
    "gene_score_data = gene_score_data_p_v1.merge(gene_score_data_score_v1[['gene', 'score_self_designed']], how = 'outer', on = ['gene'])"
   ]
  },
  {
   "cell_type": "code",
   "execution_count": 25,
   "metadata": {},
   "outputs": [],
   "source": [
    "gene_score_data.loc[(gene_score_data['score'].isna()), 'score'] = 0\n",
    "gene_score_data.loc[(gene_score_data['score_self_designed'].isna()), 'score_self_designed'] = 0"
   ]
  },
  {
   "cell_type": "code",
   "execution_count": 26,
   "metadata": {},
   "outputs": [],
   "source": [
    "gene_score_data['comb_score'] = gene_score_data['score'] + gene_score_data['score_self_designed']"
   ]
  },
  {
   "cell_type": "code",
   "execution_count": 27,
   "metadata": {},
   "outputs": [
    {
     "data": {
      "text/plain": [
       "(array([4.506e+03, 1.325e+03, 9.660e+02, 3.970e+02, 2.170e+02, 1.110e+02,\n",
       "        3.300e+01, 1.300e+01, 6.000e+00, 1.000e+00]),\n",
       " array([2.07585525e-04, 1.44631658e+00, 2.89242558e+00, 4.33853458e+00,\n",
       "        5.78464358e+00, 7.23075258e+00, 8.67686157e+00, 1.01229706e+01,\n",
       "        1.15690796e+01, 1.30151886e+01, 1.44612976e+01]),\n",
       " <a list of 10 Patch objects>)"
      ]
     },
     "execution_count": 27,
     "metadata": {},
     "output_type": "execute_result"
    },
    {
     "data": {
      "image/png": "[encoded data removed]",
      "text/plain": [
       "<Figure size 432x288 with 1 Axes>"
      ]
     },
     "metadata": {
      "needs_background": "light"
     },
     "output_type": "display_data"
    }
   ],
   "source": [
    "plt.hist(gene_score_data['comb_score'])"
   ]
  },
  {
   "cell_type": "code",
   "execution_count": 28,
   "metadata": {},
   "outputs": [
    {
     "data": {
      "text/html": [
       "<div>\n",
       "<style scoped>\n",
       "    .dataframe tbody tr th:only-of-type {\n",
       "        vertical-align: middle;\n",
       "    }\n",
       "\n",
       "    .dataframe tbody tr th {\n",
       "        vertical-align: top;\n",
       "    }\n",
       "\n",
       "    .dataframe thead th {\n",
       "        text-align: right;\n",
       "    }\n",
       "</style>\n",
       "<table border=\"1\" class=\"dataframe\">\n",
       "  <thead>\n",
       "    <tr style=\"text-align: right;\">\n",
       "      <th></th>\n",
       "      <th>platform</th>\n",
       "      <th>trait</th>\n",
       "      <th>population</th>\n",
       "      <th>marker</th>\n",
       "      <th>mapped gene</th>\n",
       "      <th>CHR</th>\n",
       "      <th>BP0</th>\n",
       "      <th>BP1</th>\n",
       "      <th>P</th>\n",
       "      <th>LOD</th>\n",
       "      <th>FC</th>\n",
       "      <th>score</th>\n",
       "      <th>N</th>\n",
       "      <th>Rep</th>\n",
       "      <th>Lab/Field</th>\n",
       "      <th>抗性</th>\n",
       "      <th>感性</th>\n",
       "      <th>對照</th>\n",
       "      <th>ref</th>\n",
       "      <th>gene_version</th>\n",
       "      <th>journal</th>\n",
       "      <th>IF(Max)</th>\n",
       "    </tr>\n",
       "  </thead>\n",
       "  <tbody>\n",
       "    <tr>\n",
       "      <th>0</th>\n",
       "      <td>ppin</td>\n",
       "      <td>flooding</td>\n",
       "      <td>soybean</td>\n",
       "      <td>Glyma.02g000100</td>\n",
       "      <td>Glyma.02g000100</td>\n",
       "      <td>NaN</td>\n",
       "      <td>NaN</td>\n",
       "      <td>NaN</td>\n",
       "      <td>NaN</td>\n",
       "      <td>NaN</td>\n",
       "      <td>NaN</td>\n",
       "      <td>2</td>\n",
       "      <td>NaN</td>\n",
       "      <td>NaN</td>\n",
       "      <td>NaN</td>\n",
       "      <td>NaN</td>\n",
       "      <td>NaN</td>\n",
       "      <td>NaN</td>\n",
       "      <td>PlantRegMap</td>\n",
       "      <td>2</td>\n",
       "      <td>NaN</td>\n",
       "      <td>1</td>\n",
       "    </tr>\n",
       "    <tr>\n",
       "      <th>1</th>\n",
       "      <td>ppin</td>\n",
       "      <td>flooding</td>\n",
       "      <td>soybean</td>\n",
       "      <td>Glyma.03g000100</td>\n",
       "      <td>Glyma.03g000100</td>\n",
       "      <td>NaN</td>\n",
       "      <td>NaN</td>\n",
       "      <td>NaN</td>\n",
       "      <td>NaN</td>\n",
       "      <td>NaN</td>\n",
       "      <td>NaN</td>\n",
       "      <td>2</td>\n",
       "      <td>NaN</td>\n",
       "      <td>NaN</td>\n",
       "      <td>NaN</td>\n",
       "      <td>NaN</td>\n",
       "      <td>NaN</td>\n",
       "      <td>NaN</td>\n",
       "      <td>PlantRegMap</td>\n",
       "      <td>2</td>\n",
       "      <td>NaN</td>\n",
       "      <td>1</td>\n",
       "    </tr>\n",
       "    <tr>\n",
       "      <th>2</th>\n",
       "      <td>ppin</td>\n",
       "      <td>flooding</td>\n",
       "      <td>soybean</td>\n",
       "      <td>Glyma.05g019000</td>\n",
       "      <td>Glyma.05g019000</td>\n",
       "      <td>NaN</td>\n",
       "      <td>NaN</td>\n",
       "      <td>NaN</td>\n",
       "      <td>NaN</td>\n",
       "      <td>NaN</td>\n",
       "      <td>NaN</td>\n",
       "      <td>2</td>\n",
       "      <td>NaN</td>\n",
       "      <td>NaN</td>\n",
       "      <td>NaN</td>\n",
       "      <td>NaN</td>\n",
       "      <td>NaN</td>\n",
       "      <td>NaN</td>\n",
       "      <td>PlantRegMap</td>\n",
       "      <td>2</td>\n",
       "      <td>NaN</td>\n",
       "      <td>1</td>\n",
       "    </tr>\n",
       "    <tr>\n",
       "      <th>3</th>\n",
       "      <td>ppin</td>\n",
       "      <td>flooding</td>\n",
       "      <td>soybean</td>\n",
       "      <td>Glyma.06g000100</td>\n",
       "      <td>Glyma.06g000100</td>\n",
       "      <td>NaN</td>\n",
       "      <td>NaN</td>\n",
       "      <td>NaN</td>\n",
       "      <td>NaN</td>\n",
       "      <td>NaN</td>\n",
       "      <td>NaN</td>\n",
       "      <td>2</td>\n",
       "      <td>NaN</td>\n",
       "      <td>NaN</td>\n",
       "      <td>NaN</td>\n",
       "      <td>NaN</td>\n",
       "      <td>NaN</td>\n",
       "      <td>NaN</td>\n",
       "      <td>PlantRegMap</td>\n",
       "      <td>2</td>\n",
       "      <td>NaN</td>\n",
       "      <td>1</td>\n",
       "    </tr>\n",
       "    <tr>\n",
       "      <th>4</th>\n",
       "      <td>ppin</td>\n",
       "      <td>flooding</td>\n",
       "      <td>soybean</td>\n",
       "      <td>Glyma.07g000100</td>\n",
       "      <td>Glyma.07g000100</td>\n",
       "      <td>NaN</td>\n",
       "      <td>NaN</td>\n",
       "      <td>NaN</td>\n",
       "      <td>NaN</td>\n",
       "      <td>NaN</td>\n",
       "      <td>NaN</td>\n",
       "      <td>2</td>\n",
       "      <td>NaN</td>\n",
       "      <td>NaN</td>\n",
       "      <td>NaN</td>\n",
       "      <td>NaN</td>\n",
       "      <td>NaN</td>\n",
       "      <td>NaN</td>\n",
       "      <td>PlantRegMap</td>\n",
       "      <td>2</td>\n",
       "      <td>NaN</td>\n",
       "      <td>1</td>\n",
       "    </tr>\n",
       "  </tbody>\n",
       "</table>\n",
       "</div>"
      ],
      "text/plain": [
       "  platform     trait population           marker      mapped gene  CHR  BP0  \\\n",
       "0     ppin  flooding    soybean  Glyma.02g000100  Glyma.02g000100  NaN  NaN   \n",
       "1     ppin  flooding    soybean  Glyma.03g000100  Glyma.03g000100  NaN  NaN   \n",
       "2     ppin  flooding    soybean  Glyma.05g019000  Glyma.05g019000  NaN  NaN   \n",
       "3     ppin  flooding    soybean  Glyma.06g000100  Glyma.06g000100  NaN  NaN   \n",
       "4     ppin  flooding    soybean  Glyma.07g000100  Glyma.07g000100  NaN  NaN   \n",
       "\n",
       "   BP1   P  LOD  FC  score   N  Rep  Lab/Field  抗性  感性  對照          ref  \\\n",
       "0  NaN NaN  NaN NaN      2 NaN  NaN        NaN NaN NaN NaN  PlantRegMap   \n",
       "1  NaN NaN  NaN NaN      2 NaN  NaN        NaN NaN NaN NaN  PlantRegMap   \n",
       "2  NaN NaN  NaN NaN      2 NaN  NaN        NaN NaN NaN NaN  PlantRegMap   \n",
       "3  NaN NaN  NaN NaN      2 NaN  NaN        NaN NaN NaN NaN  PlantRegMap   \n",
       "4  NaN NaN  NaN NaN      2 NaN  NaN        NaN NaN NaN NaN  PlantRegMap   \n",
       "\n",
       "   gene_version  journal  IF(Max)  \n",
       "0             2      NaN        1  \n",
       "1             2      NaN        1  \n",
       "2             2      NaN        1  \n",
       "3             2      NaN        1  \n",
       "4             2      NaN        1  "
      ]
     },
     "execution_count": 28,
     "metadata": {},
     "output_type": "execute_result"
    }
   ],
   "source": [
    "ppin = pd.read_csv(r'C:\\Users\\edwar\\Desktop\\農藝\\paper\\paper manuscript and other material revised version\\layer data\\meta_PPIN.txt', delimiter = '\\t', encoding = 'ansi')\n",
    "ppin.head()"
   ]
  },
  {
   "cell_type": "code",
   "execution_count": 29,
   "metadata": {},
   "outputs": [],
   "source": [
    "ppin = ppin[['mapped gene', 'score']]\n",
    "ppin = ppin.rename(columns = {'score':'cluster_score'})"
   ]
  },
  {
   "cell_type": "code",
   "execution_count": 31,
   "metadata": {},
   "outputs": [],
   "source": [
    "# 若 sig_flag 沒有的就給 0 (比如來自score data的基因)\n",
    "gene_score_data.loc[(gene_score_data['sig_flag'].isna()), 'sig_flag'] = 0\n",
    "gene_score_data.loc[(gene_score_data['nonsig_flag'].isna()), 'nonsig_flag'] = 0"
   ]
  },
  {
   "cell_type": "code",
   "execution_count": 32,
   "metadata": {},
   "outputs": [],
   "source": [
    "# 把 ppin 的東西加上去proteomics的 data\n",
    "gene_score_data_v1 = gene_score_data.merge(ppin, how = 'outer', left_on = ['gene'], right_on = ['mapped gene'])"
   ]
  },
  {
   "cell_type": "code",
   "execution_count": 33,
   "metadata": {},
   "outputs": [],
   "source": [
    "gene_score_data_v1.loc[(gene_score_data_v1['gene'].isna()), 'gene'] = gene_score_data_v1['mapped gene']"
   ]
  },
  {
   "cell_type": "code",
   "execution_count": 34,
   "metadata": {},
   "outputs": [
    {
     "data": {
      "text/html": [
       "<div>\n",
       "<style scoped>\n",
       "    .dataframe tbody tr th:only-of-type {\n",
       "        vertical-align: middle;\n",
       "    }\n",
       "\n",
       "    .dataframe tbody tr th {\n",
       "        vertical-align: top;\n",
       "    }\n",
       "\n",
       "    .dataframe thead th {\n",
       "        text-align: right;\n",
       "    }\n",
       "</style>\n",
       "<table border=\"1\" class=\"dataframe\">\n",
       "  <thead>\n",
       "    <tr style=\"text-align: right;\">\n",
       "      <th></th>\n",
       "      <th>gene</th>\n",
       "      <th>p</th>\n",
       "      <th>sig_flag</th>\n",
       "      <th>nonsig_flag</th>\n",
       "      <th>score</th>\n",
       "      <th>score_self_designed</th>\n",
       "      <th>comb_score</th>\n",
       "      <th>mapped gene</th>\n",
       "      <th>cluster_score</th>\n",
       "    </tr>\n",
       "  </thead>\n",
       "  <tbody>\n",
       "    <tr>\n",
       "      <th>0</th>\n",
       "      <td>Glyma.01g030500</td>\n",
       "      <td>0.004042</td>\n",
       "      <td>1</td>\n",
       "      <td>1</td>\n",
       "      <td>2.393445</td>\n",
       "      <td>0.0</td>\n",
       "      <td>2.393445</td>\n",
       "      <td>Glyma.01g030500</td>\n",
       "      <td>2.0</td>\n",
       "    </tr>\n",
       "    <tr>\n",
       "      <th>1</th>\n",
       "      <td>Glyma.02g035000</td>\n",
       "      <td>0.003179</td>\n",
       "      <td>1</td>\n",
       "      <td>1</td>\n",
       "      <td>2.497774</td>\n",
       "      <td>0.0</td>\n",
       "      <td>2.497774</td>\n",
       "      <td>Glyma.02g035000</td>\n",
       "      <td>2.0</td>\n",
       "    </tr>\n",
       "    <tr>\n",
       "      <th>2</th>\n",
       "      <td>Glyma.02g140900</td>\n",
       "      <td>0.001000</td>\n",
       "      <td>1</td>\n",
       "      <td>0</td>\n",
       "      <td>3.000000</td>\n",
       "      <td>0.0</td>\n",
       "      <td>3.000000</td>\n",
       "      <td>Glyma.02g140900</td>\n",
       "      <td>2.0</td>\n",
       "    </tr>\n",
       "    <tr>\n",
       "      <th>3</th>\n",
       "      <td>Glyma.03g221400</td>\n",
       "      <td>0.001000</td>\n",
       "      <td>1</td>\n",
       "      <td>0</td>\n",
       "      <td>3.000000</td>\n",
       "      <td>0.0</td>\n",
       "      <td>3.000000</td>\n",
       "      <td>Glyma.03g221400</td>\n",
       "      <td>2.0</td>\n",
       "    </tr>\n",
       "    <tr>\n",
       "      <th>4</th>\n",
       "      <td>Glyma.19g218300</td>\n",
       "      <td>0.001000</td>\n",
       "      <td>1</td>\n",
       "      <td>0</td>\n",
       "      <td>3.000000</td>\n",
       "      <td>0.0</td>\n",
       "      <td>3.000000</td>\n",
       "      <td>Glyma.19g218300</td>\n",
       "      <td>1.0</td>\n",
       "    </tr>\n",
       "    <tr>\n",
       "      <th>...</th>\n",
       "      <td>...</td>\n",
       "      <td>...</td>\n",
       "      <td>...</td>\n",
       "      <td>...</td>\n",
       "      <td>...</td>\n",
       "      <td>...</td>\n",
       "      <td>...</td>\n",
       "      <td>...</td>\n",
       "      <td>...</td>\n",
       "    </tr>\n",
       "    <tr>\n",
       "      <th>48368</th>\n",
       "      <td>Glyma.20g249700</td>\n",
       "      <td>NaN</td>\n",
       "      <td>NaN</td>\n",
       "      <td>NaN</td>\n",
       "      <td>NaN</td>\n",
       "      <td>NaN</td>\n",
       "      <td>NaN</td>\n",
       "      <td>Glyma.20g249700</td>\n",
       "      <td>2.0</td>\n",
       "    </tr>\n",
       "    <tr>\n",
       "      <th>48369</th>\n",
       "      <td>Glyma.20g249800</td>\n",
       "      <td>NaN</td>\n",
       "      <td>NaN</td>\n",
       "      <td>NaN</td>\n",
       "      <td>NaN</td>\n",
       "      <td>NaN</td>\n",
       "      <td>NaN</td>\n",
       "      <td>Glyma.20g249800</td>\n",
       "      <td>1.0</td>\n",
       "    </tr>\n",
       "    <tr>\n",
       "      <th>48370</th>\n",
       "      <td>Glyma.20g249900</td>\n",
       "      <td>NaN</td>\n",
       "      <td>NaN</td>\n",
       "      <td>NaN</td>\n",
       "      <td>NaN</td>\n",
       "      <td>NaN</td>\n",
       "      <td>NaN</td>\n",
       "      <td>Glyma.20g249900</td>\n",
       "      <td>3.0</td>\n",
       "    </tr>\n",
       "    <tr>\n",
       "      <th>48371</th>\n",
       "      <td>Glyma.20g250000</td>\n",
       "      <td>NaN</td>\n",
       "      <td>NaN</td>\n",
       "      <td>NaN</td>\n",
       "      <td>NaN</td>\n",
       "      <td>NaN</td>\n",
       "      <td>NaN</td>\n",
       "      <td>Glyma.20g250000</td>\n",
       "      <td>2.0</td>\n",
       "    </tr>\n",
       "    <tr>\n",
       "      <th>48372</th>\n",
       "      <td>Glyma.20g250200</td>\n",
       "      <td>NaN</td>\n",
       "      <td>NaN</td>\n",
       "      <td>NaN</td>\n",
       "      <td>NaN</td>\n",
       "      <td>NaN</td>\n",
       "      <td>NaN</td>\n",
       "      <td>Glyma.20g250200</td>\n",
       "      <td>2.0</td>\n",
       "    </tr>\n",
       "  </tbody>\n",
       "</table>\n",
       "<p>48373 rows × 9 columns</p>\n",
       "</div>"
      ],
      "text/plain": [
       "                  gene         p sig_flag nonsig_flag     score  \\\n",
       "0      Glyma.01g030500  0.004042        1           1  2.393445   \n",
       "1      Glyma.02g035000  0.003179        1           1  2.497774   \n",
       "2      Glyma.02g140900  0.001000        1           0  3.000000   \n",
       "3      Glyma.03g221400  0.001000        1           0  3.000000   \n",
       "4      Glyma.19g218300  0.001000        1           0  3.000000   \n",
       "...                ...       ...      ...         ...       ...   \n",
       "48368  Glyma.20g249700       NaN      NaN         NaN       NaN   \n",
       "48369  Glyma.20g249800       NaN      NaN         NaN       NaN   \n",
       "48370  Glyma.20g249900       NaN      NaN         NaN       NaN   \n",
       "48371  Glyma.20g250000       NaN      NaN         NaN       NaN   \n",
       "48372  Glyma.20g250200       NaN      NaN         NaN       NaN   \n",
       "\n",
       "       score_self_designed  comb_score      mapped gene  cluster_score  \n",
       "0                      0.0    2.393445  Glyma.01g030500            2.0  \n",
       "1                      0.0    2.497774  Glyma.02g035000            2.0  \n",
       "2                      0.0    3.000000  Glyma.02g140900            2.0  \n",
       "3                      0.0    3.000000  Glyma.03g221400            2.0  \n",
       "4                      0.0    3.000000  Glyma.19g218300            1.0  \n",
       "...                    ...         ...              ...            ...  \n",
       "48368                  NaN         NaN  Glyma.20g249700            2.0  \n",
       "48369                  NaN         NaN  Glyma.20g249800            1.0  \n",
       "48370                  NaN         NaN  Glyma.20g249900            3.0  \n",
       "48371                  NaN         NaN  Glyma.20g250000            2.0  \n",
       "48372                  NaN         NaN  Glyma.20g250200            2.0  \n",
       "\n",
       "[48373 rows x 9 columns]"
      ]
     },
     "execution_count": 34,
     "metadata": {},
     "output_type": "execute_result"
    }
   ],
   "source": [
    "gene_score_data_v1"
   ]
  },
  {
   "cell_type": "code",
   "execution_count": 35,
   "metadata": {},
   "outputs": [],
   "source": [
    "gene_score_data_v1 = gene_score_data_v1.drop(['mapped gene'], axis = 1)\n",
    "gene_score_data_v1.loc[(gene_score_data_v1['sig_flag'].isna()), 'sig_flag'] = 0\n",
    "gene_score_data_v1.loc[(gene_score_data_v1['nonsig_flag'].isna()), 'nonsig_flag'] = 0\n",
    "gene_score_data_v1.loc[(gene_score_data_v1['score'].isna()), 'score'] = 0\n",
    "gene_score_data_v1.loc[(gene_score_data_v1['score_self_designed'].isna()), 'score_self_designed'] = 0\n",
    "gene_score_data_v1.loc[(gene_score_data_v1['comb_score'].isna()), 'comb_score'] = 0"
   ]
  },
  {
   "cell_type": "code",
   "execution_count": 36,
   "metadata": {},
   "outputs": [],
   "source": [
    "# comb_score = score + score_self_designed + cluster_score\n",
    "gene_score_data_v1['comb_score'] = gene_score_data_v1['comb_score'] + gene_score_data_v1['cluster_score']"
   ]
  },
  {
   "cell_type": "code",
   "execution_count": 37,
   "metadata": {},
   "outputs": [
    {
     "data": {
      "image/png": "[encoded data removed]",
      "text/plain": [
       "<Figure size 432x288 with 1 Axes>"
      ]
     },
     "metadata": {
      "needs_background": "light"
     },
     "output_type": "display_data"
    }
   ],
   "source": [
    "plt.hist(gene_score_data_v1[gene_score_data_v1['comb_score'] > 2]['comb_score'], bins = 20)\n",
    "plt.show()"
   ]
  },
  {
   "cell_type": "markdown",
   "metadata": {},
   "source": [
    "# scoring range\n",
    "# L1 9.5 < x <= max in [5, 6]  #between 150 and 200 \n",
    "# L2 6.5 < x <= 9.5 in [4, 5]  #595\n",
    "# L3 4 < x <= 6.5 in [3, 4] #1725\n",
    "# L4 3 < x <= 4 in [2, 3] #1617\n",
    "# L5 2 < x <= 3 in [1, 2] #3384\n",
    "# L6 x < 2 in [0, 1] #40481"
   ]
  },
  {
   "cell_type": "code",
   "execution_count": 38,
   "metadata": {},
   "outputs": [],
   "source": [
    "# data scaling function\n",
    "def scale_score(x, upper_b, lower_b, max_val, min_val):\n",
    "    scaling = (upper_b - lower_b) / (max_val - min_val)\n",
    "    return (x - min_val) * scaling + lower_b"
   ]
  },
  {
   "cell_type": "code",
   "execution_count": 39,
   "metadata": {},
   "outputs": [],
   "source": [
    "# L1: coping 9.5 < x < max \n",
    "max_val = gene_score_data_v1['comb_score'].max()\n",
    "min_val = 9.5\n",
    "gene_score_data_v1_L1 = gene_score_data_v1[(gene_score_data_v1['comb_score'] > min_val) & (gene_score_data_v1['comb_score'] <= max_val)].reset_index().drop(['index'], axis = 1)\n",
    "upper_b = 6\n",
    "lower_b = 5\n",
    "\n",
    "gene_score_data_v1_L1['score_new'] = gene_score_data_v1_L1['comb_score'].apply(scale_score, args = (upper_b, lower_b, max_val, min_val))"
   ]
  },
  {
   "cell_type": "code",
   "execution_count": 40,
   "metadata": {},
   "outputs": [],
   "source": [
    "# L2: coping 6.5 < x <= 9.5\n",
    "upper_b = 5\n",
    "lower_b = 4\n",
    "max_val = 9.5\n",
    "min_val = 6.5\n",
    "gene_score_data_v1_L2 = gene_score_data_v1[(gene_score_data_v1['comb_score'] > min_val) & (gene_score_data_v1['comb_score'] <= max_val)].reset_index().drop(['index'], axis = 1)\n",
    "\n",
    "gene_score_data_v1_L2['score_new'] = gene_score_data_v1_L2['comb_score'].apply(scale_score, args = (upper_b, lower_b, max_val, min_val))"
   ]
  },
  {
   "cell_type": "code",
   "execution_count": 41,
   "metadata": {},
   "outputs": [],
   "source": [
    "# L3 coping 4 < x <= 6.5\n",
    "upper_b = 4\n",
    "lower_b = 3\n",
    "max_val = 6.5\n",
    "min_val = 4\n",
    "gene_score_data_v1_L3 = gene_score_data_v1[(gene_score_data_v1['comb_score'] > min_val) & (gene_score_data_v1['comb_score'] <= max_val)].reset_index().drop(['index'], axis = 1)\n",
    "\n",
    "gene_score_data_v1_L3['score_new'] = gene_score_data_v1_L3['comb_score'].apply(scale_score, args = (upper_b, lower_b, max_val, min_val))"
   ]
  },
  {
   "cell_type": "code",
   "execution_count": 42,
   "metadata": {},
   "outputs": [],
   "source": [
    "# L4 coping 3 < x <= 4\n",
    "upper_b = 3\n",
    "lower_b = 2\n",
    "max_val = 4\n",
    "min_val = 3\n",
    "gene_score_data_v1_L4 = gene_score_data_v1[(gene_score_data_v1['comb_score'] > min_val) & (gene_score_data_v1['comb_score'] <= max_val)].reset_index().drop(['index'], axis = 1)\n",
    "\n",
    "gene_score_data_v1_L4['score_new'] = gene_score_data_v1_L4['comb_score'].apply(scale_score, args = (upper_b, lower_b, max_val, min_val))"
   ]
  },
  {
   "cell_type": "code",
   "execution_count": 43,
   "metadata": {},
   "outputs": [],
   "source": [
    "# L5 coping 2 < x <= 3\n",
    "upper_b = 2\n",
    "lower_b = 1\n",
    "max_val = 3\n",
    "min_val = 2\n",
    "gene_score_data_v1_L5 = gene_score_data_v1[(gene_score_data_v1['comb_score'] > min_val) & (gene_score_data_v1['comb_score'] <= max_val)].reset_index().drop(['index'], axis = 1)\n",
    "\n",
    "gene_score_data_v1_L5['score_new'] = gene_score_data_v1_L5['comb_score'].apply(scale_score, args = (upper_b, lower_b, max_val, min_val))"
   ]
  },
  {
   "cell_type": "code",
   "execution_count": 44,
   "metadata": {},
   "outputs": [],
   "source": [
    "# L6 coping 2 < x <= 3\n",
    "upper_b = 1\n",
    "lower_b = 0\n",
    "max_val = 2\n",
    "min_val = 0\n",
    "gene_score_data_v1_L6 = gene_score_data_v1[(gene_score_data_v1['comb_score'] > min_val) & (gene_score_data_v1['comb_score'] <= max_val)].reset_index().drop(['index'], axis = 1)\n",
    "\n",
    "gene_score_data_v1_L6['score_new'] = gene_score_data_v1_L6['comb_score'].apply(scale_score, args = (upper_b, lower_b, max_val, min_val))"
   ]
  },
  {
   "cell_type": "code",
   "execution_count": 45,
   "metadata": {},
   "outputs": [],
   "source": [
    "# concat six different scoring layer data\n",
    "gene_score_data_v2 = pd.concat([gene_score_data_v1_L1, gene_score_data_v1_L2, gene_score_data_v1_L3, gene_score_data_v1_L4, gene_score_data_v1_L5, gene_score_data_v1_L6]).reset_index().drop(['index'], axis = 1)"
   ]
  },
  {
   "cell_type": "code",
   "execution_count": 46,
   "metadata": {},
   "outputs": [
    {
     "data": {
      "text/plain": [
       "(array([1890., 1494.,  995.,  622., 1192.,  533.,  392.,  204.,  118.,\n",
       "          10.]),\n",
       " array([1.00020759, 1.50018683, 2.00016607, 2.50014531, 3.00012455,\n",
       "        3.50010379, 4.00008303, 4.50006228, 5.00004152, 5.50002076,\n",
       "        6.        ]),\n",
       " <a list of 10 Patch objects>)"
      ]
     },
     "execution_count": 46,
     "metadata": {},
     "output_type": "execute_result"
    },
    {
     "data": {
      "image/png": "[encoded data removed]",
      "text/plain": [
       "<Figure size 432x288 with 1 Axes>"
      ]
     },
     "metadata": {
      "needs_background": "light"
     },
     "output_type": "display_data"
    }
   ],
   "source": [
    "plt.hist(gene_score_data_v2[gene_score_data_v2['score_new'] > 1]['score_new'])"
   ]
  },
  {
   "cell_type": "code",
   "execution_count": 47,
   "metadata": {},
   "outputs": [
    {
     "data": {
      "text/plain": [
       "(array([4.0732e+04, 1.9550e+03, 1.5230e+03, 9.2500e+02, 7.4400e+02,\n",
       "        1.1910e+03, 3.9800e+02, 2.9800e+02, 1.5000e+02, 1.5000e+01]),\n",
       " array([0.5 , 1.05, 1.6 , 2.15, 2.7 , 3.25, 3.8 , 4.35, 4.9 , 5.45, 6.  ]),\n",
       " <a list of 10 Patch objects>)"
      ]
     },
     "execution_count": 47,
     "metadata": {},
     "output_type": "execute_result"
    },
    {
     "data": {
      "image/png": "[encoded data removed]",
      "text/plain": [
       "<Figure size 432x288 with 1 Axes>"
      ]
     },
     "metadata": {
      "needs_background": "light"
     },
     "output_type": "display_data"
    }
   ],
   "source": [
    "plt.hist(gene_score_data_v2['score_new'])"
   ]
  },
  {
   "cell_type": "code",
   "execution_count": 49,
   "metadata": {},
   "outputs": [],
   "source": [
    "gene_score_data_v2 = gene_score_data_v2.rename(columns = {'score':'score_individual', 'score_new':'score'})"
   ]
  },
  {
   "cell_type": "code",
   "execution_count": 50,
   "metadata": {},
   "outputs": [],
   "source": [
    "gene_score_data_v2.to_excel(r'C:\\Users\\edwar\\Desktop\\農藝\\paper2\\data collection\\protein_layer_final.xlsx', index = False)"
   ]
  },
  {
   "cell_type": "code",
   "execution_count": null,
   "metadata": {},
   "outputs": [],
   "source": []
  }
 ],
 "metadata": {
  "kernelspec": {
   "display_name": "Python 3 (ipykernel)",
   "language": "python",
   "name": "python3"
  },
  "language_info": {
   "codemirror_mode": {
    "name": "ipython",
    "version": 3
   },
   "file_extension": ".py",
   "mimetype": "text/x-python",
   "name": "python",
   "nbconvert_exporter": "python",
   "pygments_lexer": "ipython3",
   "version": "3.11.8"
  }
 },
 "nbformat": 4,
 "nbformat_minor": 4
}
