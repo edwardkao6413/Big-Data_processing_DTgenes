{
 "cells": [
  {
   "cell_type": "code",
   "execution_count": 1,
   "metadata": {
    "tags": []
   },
   "outputs": [],
   "source": [
    "import pandas as pd\n",
    "import numpy as np\n",
    "pd.set_option('display.max_columns', 50)\n",
    "# pd.set_option('display.max_rows', 50)\n",
    "import tabula\n",
    "from pandasql import sqldf\n",
    "import math\n",
    "from scipy.stats import chi2\n",
    "from scipy import stats\n",
    "from matplotlib import pyplot as plt"
   ]
  },
  {
   "cell_type": "markdown",
   "metadata": {},
   "source": [
    "--DNA layer"
   ]
  },
  {
   "cell_type": "code",
   "execution_count": 2,
   "metadata": {
    "tags": []
   },
   "outputs": [],
   "source": [
    "# import dataset\n",
    "dna_layer = pd.read_excel(r'C:\\Users\\edwar\\Desktop\\農藝\\paper2\\metaData_soybean_drought.xlsx', sheet_name = 'DNA')"
   ]
  },
  {
   "cell_type": "code",
   "execution_count": 3,
   "metadata": {
    "tags": []
   },
   "outputs": [],
   "source": [
    "# import template\n",
    "template_a2v2 = pd.read_csv(r'C:\\Users\\edwar\\Desktop\\農藝\\paper2\\Glyma2.0_mapping.txt', delimiter = '\\t')\n",
    "template_a1v11 = pd.read_csv(r'C:\\Users\\edwar\\Desktop\\農藝\\paper2\\Glyma1.1_mapping.txt', delimiter = '\\t')\n",
    "template_a1v10 = pd.read_csv(r'C:\\Users\\edwar\\Desktop\\農藝\\paper2\\Glyma1.0_mapping.txt', delimiter = '\\t')\n",
    "template_a2v2['bp0'] = template_a2v2['bp0'].apply(lambda x : x - 20000)\n",
    "template_a1v11['bp0'] = template_a1v11['bp0'].apply(lambda x : x - 20000)\n",
    "template_a1v10['bp0'] = template_a1v10['bp0'].apply(lambda x : x - 20000)\n",
    "template_a2v2['bp1'] = template_a2v2['bp1'].apply(lambda x : x + 20000)\n",
    "template_a1v11['bp1'] = template_a1v11['bp1'].apply(lambda x : x + 20000)\n",
    "template_a1v10['bp1'] = template_a1v10['bp1'].apply(lambda x : x + 20000)"
   ]
  },
  {
   "cell_type": "code",
   "execution_count": 4,
   "metadata": {
    "tags": []
   },
   "outputs": [],
   "source": [
    "gene_already = dna_layer[dna_layer['mapped_gene'].isna() == False]"
   ]
  },
  {
   "cell_type": "code",
   "execution_count": 5,
   "metadata": {
    "tags": []
   },
   "outputs": [],
   "source": [
    "gene_mapped = dna_layer[dna_layer['mapped_gene'].isna()].reset_index().drop(['index'], axis = 1)"
   ]
  },
  {
   "cell_type": "code",
   "execution_count": 6,
   "metadata": {
    "tags": []
   },
   "outputs": [],
   "source": [
    "gene_mapped_v1 = gene_mapped[['marker', 'mapped_gene', 'chr', 'bp0', 'bp1', 'p', 'gene_version', 'article_name']]"
   ]
  },
  {
   "cell_type": "code",
   "execution_count": 7,
   "metadata": {
    "tags": []
   },
   "outputs": [
    {
     "data": {
      "text/html": [
       "<div>\n",
       "<style scoped>\n",
       "    .dataframe tbody tr th:only-of-type {\n",
       "        vertical-align: middle;\n",
       "    }\n",
       "\n",
       "    .dataframe tbody tr th {\n",
       "        vertical-align: top;\n",
       "    }\n",
       "\n",
       "    .dataframe thead th {\n",
       "        text-align: right;\n",
       "    }\n",
       "</style>\n",
       "<table border=\"1\" class=\"dataframe\">\n",
       "  <thead>\n",
       "    <tr style=\"text-align: right;\">\n",
       "      <th></th>\n",
       "      <th>marker</th>\n",
       "      <th>mapped_gene</th>\n",
       "      <th>chr</th>\n",
       "      <th>bp0</th>\n",
       "      <th>bp1</th>\n",
       "      <th>p</th>\n",
       "      <th>gene_version</th>\n",
       "      <th>article_name</th>\n",
       "    </tr>\n",
       "  </thead>\n",
       "  <tbody>\n",
       "    <tr>\n",
       "      <th>0</th>\n",
       "      <td>ss715579324</td>\n",
       "      <td>NaN</td>\n",
       "      <td>1</td>\n",
       "      <td>4015639.0</td>\n",
       "      <td>4015639.0</td>\n",
       "      <td>0.000007</td>\n",
       "      <td>2.0</td>\n",
       "      <td>Genome-Wide Association Analyses Reveal Genomi...</td>\n",
       "    </tr>\n",
       "    <tr>\n",
       "      <th>1</th>\n",
       "      <td>ss715580187</td>\n",
       "      <td>NaN</td>\n",
       "      <td>1</td>\n",
       "      <td>51961463.0</td>\n",
       "      <td>51961463.0</td>\n",
       "      <td>0.000017</td>\n",
       "      <td>2.0</td>\n",
       "      <td>Genome-Wide Association Analyses Reveal Genomi...</td>\n",
       "    </tr>\n",
       "    <tr>\n",
       "      <th>2</th>\n",
       "      <td>ss715581823</td>\n",
       "      <td>NaN</td>\n",
       "      <td>2</td>\n",
       "      <td>3165348.0</td>\n",
       "      <td>3165348.0</td>\n",
       "      <td>0.000005</td>\n",
       "      <td>2.0</td>\n",
       "      <td>Genome-Wide Association Analyses Reveal Genomi...</td>\n",
       "    </tr>\n",
       "    <tr>\n",
       "      <th>3</th>\n",
       "      <td>ss715582842</td>\n",
       "      <td>NaN</td>\n",
       "      <td>2</td>\n",
       "      <td>42073473.0</td>\n",
       "      <td>42073473.0</td>\n",
       "      <td>0.000019</td>\n",
       "      <td>2.0</td>\n",
       "      <td>Genome-Wide Association Analyses Reveal Genomi...</td>\n",
       "    </tr>\n",
       "    <tr>\n",
       "      <th>4</th>\n",
       "      <td>ss715588277</td>\n",
       "      <td>NaN</td>\n",
       "      <td>4</td>\n",
       "      <td>46096228.0</td>\n",
       "      <td>46096228.0</td>\n",
       "      <td>0.000010</td>\n",
       "      <td>2.0</td>\n",
       "      <td>Genome-Wide Association Analyses Reveal Genomi...</td>\n",
       "    </tr>\n",
       "  </tbody>\n",
       "</table>\n",
       "</div>"
      ],
      "text/plain": [
       "        marker mapped_gene  chr         bp0         bp1         p  \\\n",
       "0  ss715579324         NaN    1   4015639.0   4015639.0  0.000007   \n",
       "1  ss715580187         NaN    1  51961463.0  51961463.0  0.000017   \n",
       "2  ss715581823         NaN    2   3165348.0   3165348.0  0.000005   \n",
       "3  ss715582842         NaN    2  42073473.0  42073473.0  0.000019   \n",
       "4  ss715588277         NaN    4  46096228.0  46096228.0  0.000010   \n",
       "\n",
       "   gene_version                                       article_name  \n",
       "0           2.0  Genome-Wide Association Analyses Reveal Genomi...  \n",
       "1           2.0  Genome-Wide Association Analyses Reveal Genomi...  \n",
       "2           2.0  Genome-Wide Association Analyses Reveal Genomi...  \n",
       "3           2.0  Genome-Wide Association Analyses Reveal Genomi...  \n",
       "4           2.0  Genome-Wide Association Analyses Reveal Genomi...  "
      ]
     },
     "execution_count": 7,
     "metadata": {},
     "output_type": "execute_result"
    }
   ],
   "source": [
    "gene_mapped_v1.head()"
   ]
  },
  {
   "cell_type": "code",
   "execution_count": 8,
   "metadata": {
    "tags": []
   },
   "outputs": [
    {
     "name": "stdout",
     "output_type": "stream",
     "text": [
      "0\n",
      "1\n",
      "2\n",
      "3\n",
      "4\n",
      "5\n",
      "6\n",
      "7\n",
      "8\n",
      "9\n",
      "10\n",
      "11\n",
      "12\n",
      "13\n",
      "14\n"
     ]
    }
   ],
   "source": [
    "gene_mapped = dna_layer[dna_layer['mapped_gene'].isna()].reset_index().drop(['index'], axis = 1)\n",
    "gene_mapped_v1 = gene_mapped[['marker', 'methodology', 'mapped_gene', 'chr', 'bp0', 'bp1', 'p', 'lod', 'gene_version', 'article_name']]\n",
    "article_list = list((gene_mapped_v1['article_name'].unique()))\n",
    "mapped_gene_data = pd.DataFrame()\n",
    "\n",
    "def gene_mapping_ver(df, template, i):\n",
    "    cri1 = (df.iloc[i]['bp0'] - template['bp0']) * (df.iloc[i]['bp0'] - template['bp1']) <= 0\n",
    "    cri2 = (df.iloc[i]['bp1'] - template['bp1']) * (df.iloc[i]['bp1'] - template['bp0']) <= 0\n",
    "    cri3 = (df.iloc[i]['bp1'] < template['bp1']) & (df.iloc[i]['bp0'] > template['bp0'])\n",
    "    cri4 = (df.iloc[i]['chr'] == template['chr'])\n",
    "    return template[((cri1 | cri2) | cri3) & (cri4)].reset_index().drop(['index'], axis = 1)\n",
    "\n",
    "\n",
    "for j in range(len(article_list)):\n",
    "    # mapped gene by individual aticle \n",
    "    gene_mapped_paper = gene_mapped_v1[gene_mapped_v1['article_name'] == article_list[j]]\n",
    "\n",
    "    # classified marker data via Glyma version\n",
    "    marker_v2 = gene_mapped_paper[gene_mapped_paper['gene_version'] == 2.0]\n",
    "    marker_v11 = gene_mapped_paper[gene_mapped_paper['gene_version'] == 1.1]\n",
    "    marker_v10 = gene_mapped_paper[gene_mapped_paper['gene_version'] == 1.0]\n",
    "\n",
    "    # create each dataset based on gene version\n",
    "    if marker_v2.empty:\n",
    "        gene_v2 = pd.DataFrame()\n",
    "    else:\n",
    "        gene_v2 = pd.DataFrame()\n",
    "        for i in range(len(marker_v2['marker'])):\n",
    "            gene_v2_temp = pd.DataFrame()\n",
    "            gene_v2_temp = gene_mapping_ver(marker_v2, template_a2v2, i)\n",
    "            gene_v2_temp['marker'] = marker_v2.iloc[i]['marker']\n",
    "            gene_v2_temp['p'] = marker_v2.iloc[i]['p']\n",
    "            gene_v2_temp['lod'] = marker_v2.iloc[i]['lod']\n",
    "            gene_v2_temp['article_name'] = article_list[j]\n",
    "            gene_v2_temp['gene_version'] = 2\n",
    "            gene_v2_temp['methodology'] = marker_v2.iloc[i]['methodology']\n",
    "            gene_v2 = pd.concat([gene_v2, gene_v2_temp]).reset_index().drop(['index'], axis = 1)\n",
    "            \n",
    "    if marker_v11.empty:\n",
    "        gene_v11 = pd.DataFrame()\n",
    "    else:\n",
    "        gene_v11 = pd.DataFrame()\n",
    "        for i in range(len(marker_v11['marker'])):\n",
    "            gene_v11_temp = pd.DataFrame()\n",
    "            gene_v11_temp = gene_mapping_ver(marker_v11, template_a1v11, i)\n",
    "            gene_v11_temp['marker'] = marker_v11.iloc[i]['marker']\n",
    "            gene_v11_temp['p'] = marker_v11.iloc[i]['p']\n",
    "            gene_v11_temp['lod'] = marker_v11.iloc[i]['lod']\n",
    "            gene_v11_temp['article_name'] = article_list[j]\n",
    "            gene_v11_temp['gene_version'] = 1.1\n",
    "            gene_v11_temp['methodology'] = marker_v11.iloc[i]['methodology']\n",
    "            gene_v11 = pd.concat([gene_v11, gene_v11_temp]).reset_index().drop(['index'], axis = 1)\n",
    "     \n",
    "    if marker_v10.empty:\n",
    "        gene_v10 = pd.DataFrame()\n",
    "    else:\n",
    "        gene_v10 = pd.DataFrame()\n",
    "        for i in range(len(marker_v10['marker'])):\n",
    "            gene_v10_temp = pd.DataFrame()\n",
    "            gene_v10_temp = gene_mapping_ver(marker_v10, template_a1v10, i)\n",
    "            gene_v10_temp['marker'] = marker_v10.iloc[i]['marker']\n",
    "            gene_v10_temp['p'] = marker_v10.iloc[i]['p']\n",
    "            gene_v10_temp['lod'] = marker_v10.iloc[i]['lod']\n",
    "            gene_v10_temp['article_name'] = article_list[j]\n",
    "            gene_v10_temp['gene_version'] = 1.0\n",
    "            gene_v10_temp['methodology'] = marker_v10.iloc[i]['methodology']\n",
    "            gene_v10 = pd.concat([gene_v10, gene_v10_temp]).reset_index().drop(['index'], axis = 1)\n",
    "\n",
    "    data_paper_based = pd.concat([gene_v2, gene_v11, gene_v10]).reset_index().drop(['index'], axis = 1)\n",
    "    mapped_gene_data = pd.concat([mapped_gene_data, data_paper_based]).reset_index().drop(['index'], axis = 1)\n",
    "    print(j)\n",
    "# 處理完後就是所有paper的基因都列出來(with duplicates)"
   ]
  },
  {
   "cell_type": "code",
   "execution_count": 9,
   "metadata": {
    "tags": []
   },
   "outputs": [],
   "source": [
    "mapped_gene_data_p = mapped_gene_data[mapped_gene_data['p'].isna() == False].reset_index().drop(['index'], axis = 1)\n",
    "mapped_gene_data_lod = mapped_gene_data[mapped_gene_data['lod'].isna() == False].reset_index().drop(['index'], axis = 1)"
   ]
  },
  {
   "cell_type": "code",
   "execution_count": 10,
   "metadata": {
    "tags": []
   },
   "outputs": [
    {
     "name": "stdout",
     "output_type": "stream",
     "text": [
      "total: 9\n",
      "1\n",
      "2\n",
      "3\n",
      "4\n",
      "5\n",
      "6\n",
      "7\n",
      "8\n",
      "9\n"
     ]
    }
   ],
   "source": [
    "article_list_p = list(mapped_gene_data_p['article_name'].unique())\n",
    "\n",
    "# 差跑以 article-based 當作迴圈\n",
    "count = 0\n",
    "print('total: {}'.format(len(article_list_p)))\n",
    "\n",
    "# gene_score_data_p_v1 = pd.DataFrame()\n",
    "gene_score_data_p = pd.DataFrame() # 總 dataframe\n",
    "for article in article_list_p:\n",
    "    gene_data_article_p = mapped_gene_data_p[mapped_gene_data_p['article_name'] == article]\n",
    "    gene_list_article_p = list(gene_data_article_p['gene'].unique())\n",
    "    \n",
    "    for gene in gene_list_article_p:\n",
    "#         gene_score_data_p = pd.DataFrame()\n",
    "        df_gene = gene_data_article_p[gene_data_article_p['gene'] == gene][['gene', 'p', 'lod', 'gene_version', 'article_name']].reset_index().drop(['index'], axis = 1)\n",
    "#         gene_score_data_p = pd.concat([gene_score_data_p, gene_data[['gene', 'p', 'gene_version']]])\n",
    "\n",
    "        if len(df_gene['gene']) > 1:\n",
    "            df_gene_v1 = pd.DataFrame()\n",
    "            z = -np.sum(np.log(list(df_gene['p'])))\n",
    "            chi_squared = 2 * z\n",
    "            dof = 2 * len(df_gene['p'])\n",
    "            p_value = chi2.sf(chi_squared, dof)\n",
    "            df_gene_v1['gene'] = df_gene['gene'].unique()\n",
    "            df_gene_v1['p'] = p_value\n",
    "            df_gene_v1['gene_version'] = df_gene['gene_version'].unique()\n",
    "            df_gene_v1['article_name'] = df_gene['article_name'].unique()\n",
    "            gene_score_data_p = pd.concat([gene_score_data_p, df_gene_v1]).reset_index().drop(['index'], axis = 1)\n",
    "        else:\n",
    "            gene_score_data_p = pd.concat([gene_score_data_p, df_gene]).reset_index().drop(['index'], axis = 1)\n",
    "    count += 1\n",
    "    print(count)"
   ]
  },
  {
   "cell_type": "code",
   "execution_count": 11,
   "metadata": {
    "tags": []
   },
   "outputs": [
    {
     "name": "stdout",
     "output_type": "stream",
     "text": [
      "total 6\n",
      "1\n",
      "2\n",
      "3\n",
      "4\n",
      "5\n",
      "6\n"
     ]
    }
   ],
   "source": [
    "article_list_lod = list(mapped_gene_data_lod['article_name'].unique())\n",
    "\n",
    "count = 0\n",
    "print('total {}'.format(len(article_list_lod)))\n",
    "\n",
    "gene_score_data_lod = pd.DataFrame()\n",
    "for article in article_list_lod:\n",
    "    gene_data_article_lod = mapped_gene_data_lod[mapped_gene_data_lod['article_name'] == article]\n",
    "    gene_list_article_lod = list(gene_data_article_lod['gene'].unique())\n",
    "    \n",
    "    for gene in gene_list_article_lod:\n",
    "        df_gene = gene_data_article_lod[gene_data_article_lod['gene'] == gene][['gene', 'p', 'lod', 'gene_version', 'article_name']].reset_index().drop(['index'], axis = 1)\n",
    "\n",
    "        if len(df_gene['gene']) > 1:\n",
    "            df_gene_v1 = pd.DataFrame()\n",
    "            df_gene_v1['gene'] = df_gene['gene'].unique()\n",
    "            df_gene_v1['lod'] = df_gene['lod'].max()\n",
    "            df_gene_v1['gene_version'] = df_gene['gene_version'].unique()\n",
    "            df_gene_v1['article_name'] = df_gene['article_name'].unique()\n",
    "            gene_score_data_lod = pd.concat([gene_score_data_lod, df_gene_v1]).reset_index().drop(['index'], axis = 1)\n",
    "        else:\n",
    "            gene_score_data_lod = pd.concat([gene_score_data_lod, df_gene]).reset_index().drop(['index'], axis = 1)\n",
    "    count += 1\n",
    "    print(count)"
   ]
  },
  {
   "cell_type": "code",
   "execution_count": 12,
   "metadata": {
    "tags": []
   },
   "outputs": [],
   "source": [
    "# 把 p 值低於 10 ** -16 設成 10 ** -16\n",
    "gene_score_data_p.loc[(gene_score_data_p['p'] < 10 ** -16), 'p'] = 10 ** -16"
   ]
  },
  {
   "cell_type": "code",
   "execution_count": 13,
   "metadata": {
    "tags": []
   },
   "outputs": [],
   "source": [
    "# 把 lod > 12 的都設成 12\n",
    "gene_score_data_lod.loc[(gene_score_data_lod['lod'] > 12.00), 'lod'] = 12"
   ]
  },
  {
   "cell_type": "code",
   "execution_count": 14,
   "metadata": {
    "tags": []
   },
   "outputs": [],
   "source": [
    "glyma_gene_ver = pd.read_csv(r'C:\\Users\\edwar\\Desktop\\農藝\\paper2\\Glyma_genes_correspondence_final.txt', delimiter = '\\t')"
   ]
  },
  {
   "cell_type": "code",
   "execution_count": 15,
   "metadata": {
    "tags": []
   },
   "outputs": [],
   "source": [
    "glyma_gene_ver_20_11 = glyma_gene_ver[['Wm82.a2.v1', 'Wm82.a1.v1.1']]\n",
    "glyma_gene_ver_20_10 = glyma_gene_ver[['Wm82.a2.v1', 'Wm82.a1.v1']]"
   ]
  },
  {
   "cell_type": "code",
   "execution_count": 16,
   "metadata": {
    "tags": []
   },
   "outputs": [],
   "source": [
    "# 處理 p 值資料\n",
    "# 把不同 version 的 gene 拆出來做 mapping，一起 mapping到 2.0版\n",
    "gene_score_data_p_a2v1 = gene_score_data_p[gene_score_data_p['gene_version'] == 2.0]\n",
    "gene_score_data_p_a1v11 = gene_score_data_p[gene_score_data_p['gene_version'] == 1.1]\n",
    "gene_score_data_p_a1v1 = gene_score_data_p[gene_score_data_p['gene_version'] == 1.0]\n",
    "\n",
    "gene_score_data_p_a2v1.columns = ['gene_org', 'p', 'lod', 'gene_version', 'article_name']\n",
    "gene_score_data_p_a1v11.columns = ['gene_org', 'p', 'lod', 'gene_version', 'article_name']\n",
    "gene_score_data_p_a1v1.columns = ['gene_org', 'p', 'lod', 'gene_version', 'article_name']\n",
    "\n",
    "gene_score_data_p_a1v11 = gene_score_data_p_a1v11.merge(glyma_gene_ver_20_11, how = 'left', left_on = ['gene_org'], right_on = ['Wm82.a1.v1.1']).drop(['Wm82.a1.v1.1'], axis = 1)\n",
    "gene_score_data_p_a1v1 = gene_score_data_p_a1v1.merge(glyma_gene_ver_20_10, how = 'left', left_on = ['gene_org'], right_on = ['Wm82.a1.v1']).drop(['Wm82.a1.v1'], axis = 1)"
   ]
  },
  {
   "cell_type": "code",
   "execution_count": 17,
   "metadata": {
    "tags": []
   },
   "outputs": [],
   "source": [
    "gene_score_data_p_v1 = pd.concat([gene_score_data_p_a2v1, gene_score_data_p_a1v11, gene_score_data_p_a1v1]).reset_index().drop(['index'], axis = 1)"
   ]
  },
  {
   "cell_type": "code",
   "execution_count": 18,
   "metadata": {
    "tags": []
   },
   "outputs": [],
   "source": [
    "gene_score_data_p_v1 = gene_score_data_p_v1.rename(columns = {'Wm82.a2.v1':'gene'})"
   ]
  },
  {
   "cell_type": "code",
   "execution_count": 19,
   "metadata": {
    "tags": []
   },
   "outputs": [],
   "source": [
    "# 把原本就 2.0 版本的放到新欄位\n",
    "gene_score_data_p_v1.loc[(gene_score_data_p_v1['gene_version'] == 2), 'gene'] = gene_score_data_p_v1['gene_org']"
   ]
  },
  {
   "cell_type": "code",
   "execution_count": 20,
   "metadata": {
    "tags": []
   },
   "outputs": [],
   "source": [
    "# 把沒有 mapping 到 2.0 版本的基因刪掉\n",
    "gene_score_data_p_v1 = gene_score_data_p_v1[gene_score_data_p_v1['gene'].isna() == False].reset_index().drop(['index'], axis = 1)"
   ]
  },
  {
   "cell_type": "code",
   "execution_count": null,
   "metadata": {},
   "outputs": [],
   "source": []
  },
  {
   "cell_type": "code",
   "execution_count": 22,
   "metadata": {
    "tags": []
   },
   "outputs": [],
   "source": [
    "# 處理 lod 資料\n",
    "gene_score_data_lod_a2v1 = gene_score_data_lod[gene_score_data_lod['gene_version'] == 2.0]\n",
    "gene_score_data_lod_a1v11 = gene_score_data_lod[gene_score_data_lod['gene_version'] == 1.1]\n",
    "gene_score_data_lod_a1v1 = gene_score_data_lod[gene_score_data_lod['gene_version'] == 1.0]\n",
    "\n",
    "gene_score_data_lod_a2v1.columns = ['gene_org', 'lod', 'gene_version', 'article_name', 'p']\n",
    "gene_score_data_lod_a1v11.columns = ['gene_org', 'lod', 'gene_version', 'article_name', 'p']\n",
    "gene_score_data_lod_a1v1.columns = ['gene_org', 'lod', 'gene_version', 'article_name', 'p']\n",
    "\n",
    "gene_score_data_lod_a1v11 = gene_score_data_lod_a1v11.merge(glyma_gene_ver_20_11, how = 'left', left_on = ['gene_org'], right_on = ['Wm82.a1.v1.1']).drop(['Wm82.a1.v1.1'], axis = 1)\n",
    "gene_score_data_lod_a1v1 = gene_score_data_lod_a1v1.merge(glyma_gene_ver_20_10, how = 'left', left_on = ['gene_org'], right_on = ['Wm82.a1.v1']).drop(['Wm82.a1.v1'], axis = 1)\n",
    "\n",
    "gene_score_data_lod_v1 = pd.concat([gene_score_data_lod_a2v1, gene_score_data_lod_a1v11, gene_score_data_lod_a1v1]).reset_index().drop(['index'], axis = 1)"
   ]
  },
  {
   "cell_type": "code",
   "execution_count": 23,
   "metadata": {
    "tags": []
   },
   "outputs": [],
   "source": [
    "gene_score_data_lod_v1 = gene_score_data_lod_v1.rename(columns = {'Wm82.a2.v1':'gene'})"
   ]
  },
  {
   "cell_type": "code",
   "execution_count": 24,
   "metadata": {
    "tags": []
   },
   "outputs": [],
   "source": [
    "gene_score_data_lod_v1.loc[(gene_score_data_lod_v1['gene_version'] == 2), 'gene'] = gene_score_data_lod_v1['gene_org']"
   ]
  },
  {
   "cell_type": "code",
   "execution_count": 25,
   "metadata": {
    "tags": []
   },
   "outputs": [],
   "source": [
    "# 把欄位順序校正回來\n",
    "gene_score_data_lod_v1 = gene_score_data_lod_v1[['gene', 'p', 'lod', 'gene_version', 'article_name', 'gene_org']]"
   ]
  },
  {
   "cell_type": "code",
   "execution_count": 26,
   "metadata": {
    "tags": []
   },
   "outputs": [],
   "source": [
    "# 把沒有 mapping 到基因2.0的刪掉\n",
    "gene_score_data_lod_v1 = gene_score_data_lod_v1[gene_score_data_lod_v1['gene'].isna() == False].reset_index().drop(['index'], axis = 1)"
   ]
  },
  {
   "cell_type": "code",
   "execution_count": 27,
   "metadata": {
    "tags": []
   },
   "outputs": [],
   "source": [
    "gene_score_data = pd.concat([gene_score_data_p_v1 , gene_score_data_lod_v1]).reset_index().drop(['index'], axis = 1)[['gene', 'p', 'lod', 'gene_version', 'article_name', 'gene_org']]\n",
    "### 到此初步處理完要 mapping 的  gene data"
   ]
  },
  {
   "cell_type": "code",
   "execution_count": null,
   "metadata": {},
   "outputs": [],
   "source": []
  },
  {
   "cell_type": "code",
   "execution_count": 31,
   "metadata": {
    "tags": []
   },
   "outputs": [],
   "source": [
    "# 處理不用 mapping 的 data gene_already\n",
    "gene_already_p = gene_already[gene_already['p'].isna() == False][['marker', 'mapped_gene', 'p', 'lod', 'gene_version', 'article_name']]\n",
    "gene_already_lod = gene_already[gene_already['lod'].isna() == False][['marker', 'mapped_gene', 'p', 'lod', 'gene_version', 'article_name']]"
   ]
  },
  {
   "cell_type": "code",
   "execution_count": 32,
   "metadata": {
    "tags": []
   },
   "outputs": [
    {
     "name": "stdout",
     "output_type": "stream",
     "text": [
      "total 7\n",
      "1\n",
      "2\n",
      "3\n",
      "4\n",
      "5\n",
      "6\n",
      "7\n"
     ]
    }
   ],
   "source": [
    "# 處理 already gene 的 p 值\n",
    "article_list_p = list(gene_already_p['article_name'].unique())\n",
    "\n",
    "gene_already_score_data_p = pd.DataFrame()\n",
    "\n",
    "print('total {}'.format(len(article_list_p)))\n",
    "count = 0\n",
    "\n",
    "for article in article_list_p:\n",
    "    gene_data_article_p = gene_already_p[gene_already_p['article_name'] == article]\n",
    "    gene_list_p = list(gene_data_article_p['mapped_gene'])\n",
    "    for gene in gene_list_p:\n",
    "        df_gene = gene_data_article_p[gene_data_article_p['mapped_gene'] == gene][['mapped_gene', 'p', 'lod', 'gene_version', 'article_name']]\n",
    "        if len(df_gene['mapped_gene']) > 1:\n",
    "            df_gene_v1 = pd.DataFrame()\n",
    "            z = -np.sum(np.log(list(df_gene['p'])))\n",
    "            chi_squared = 2 * z\n",
    "            dof = 2 * len(df_gene['p'])\n",
    "            p_value = chi2.sf(chi_squared, dof)\n",
    "            df_gene_v1['mapped_gene'] = df_gene['mapped_gene'].unique()\n",
    "            df_gene_v1['p'] = p_value\n",
    "            df_gene_v1['gene_version'] = df_gene['gene_version'].unique()\n",
    "            df_gene_v1['article_name'] = df_gene['article_name'].unique()\n",
    "            gene_already_score_data_p = pd.concat([gene_already_score_data_p, df_gene_v1]).reset_index().drop(['index'], axis = 1)\n",
    "        else:\n",
    "            gene_already_score_data_p = pd.concat([gene_already_score_data_p, df_gene]).reset_index().drop(['index'], axis = 1)\n",
    "        \n",
    "    count += 1\n",
    "    print(count)"
   ]
  },
  {
   "cell_type": "code",
   "execution_count": 33,
   "metadata": {
    "tags": []
   },
   "outputs": [
    {
     "name": "stdout",
     "output_type": "stream",
     "text": [
      "total 1\n",
      "1\n"
     ]
    }
   ],
   "source": [
    "# 處理 already genes 的 lod 值\n",
    "article_list_lod = list(gene_already_lod['article_name'].unique())\n",
    "\n",
    "gene_already_score_data_lod = pd.DataFrame()\n",
    "\n",
    "print('total {}'.format(len(article_list_lod)))\n",
    "count = 0\n",
    "\n",
    "for article in article_list_lod:\n",
    "    gene_data_article_lod = gene_already_lod[gene_already_lod['article_name'] == article]\n",
    "    gene_list_lod = list(gene_data_article_lod['mapped_gene'])\n",
    "    for gene in gene_list_lod:\n",
    "        df_gene = gene_data_article_lod[gene_data_article_lod['mapped_gene'] == gene][['mapped_gene', 'p', 'lod', 'gene_version', 'article_name']]\n",
    "        if len(df_gene['mapped_gene']) > 1:\n",
    "            df_gene_v1 = pd.DataFrame()\n",
    "            df_gene_v1['gene'] = df_gene['gene'].unique()\n",
    "            df_gene_v1['lod'] = df_gene['lod'].max()\n",
    "            df_gene_v1['gene_version'] = df_gene['gene_version'].unique()\n",
    "            df_gene_v1['article_name'] = df_gene['article_name'].unique()\n",
    "            gene_score_data_lod = pd.concat([gene_score_data_lod, df_gene_v1]).reset_index().drop(['index'], axis = 1)\n",
    "        else:\n",
    "            gene_already_score_data_lod = pd.concat([gene_already_score_data_lod, df_gene]).reset_index().drop(['index'], axis = 1)\n",
    "        \n",
    "    count += 1\n",
    "    print(count)"
   ]
  },
  {
   "cell_type": "code",
   "execution_count": 34,
   "metadata": {
    "tags": []
   },
   "outputs": [],
   "source": [
    "# 把 p 以及 lod 的最大值設為 10 ** -16 還有 12\n",
    "gene_already_score_data_p.loc[(gene_already_score_data_p['p'] < 10 ** -16), 'p'] = 10 ** -16\n",
    "gene_already_score_data_lod.loc[(gene_already_score_data_lod['lod'] > 12), 'lod'] = 12"
   ]
  },
  {
   "cell_type": "code",
   "execution_count": 35,
   "metadata": {
    "tags": []
   },
   "outputs": [],
   "source": [
    "# 處理 p\n",
    "# 轉換基因版本\n",
    "gene_already_score_data_p_a2v1 = gene_already_score_data_p[gene_already_score_data_p['gene_version'] == 2.0]\n",
    "gene_already_score_data_p_a1v11 = gene_already_score_data_p[gene_already_score_data_p['gene_version'] == 1.1]\n",
    "gene_already_score_data_p_a1v1 = gene_already_score_data_p[gene_already_score_data_p['gene_version'] == 1.0]\n",
    "\n",
    "gene_already_score_data_p_a1v11 = gene_already_score_data_p_a1v11.merge(glyma_gene_ver_20_11, how = 'left', left_on = ['mapped_gene'], right_on = ['Wm82.a1.v1.1']).drop(['Wm82.a1.v1.1'], axis = 1)\n",
    "gene_already_score_data_p_a1v1 = gene_already_score_data_p_a1v1.merge(glyma_gene_ver_20_10, how = 'left', left_on = ['mapped_gene'], right_on = ['Wm82.a1.v1']).drop(['Wm82.a1.v1'], axis = 1)\n",
    "\n",
    "gene_already_score_data_p_v1 = pd.concat([gene_already_score_data_p_a2v1, gene_already_score_data_p_a1v11, gene_already_score_data_p_a1v1]).reset_index().drop(['index'], axis = 1)\n",
    "gene_already_score_data_p_v1.columns = ['gene_org', 'p', 'lod', 'gene_version', 'article_name', 'gene']\n",
    "gene_already_score_data_p_v1.loc[(gene_already_score_data_p_v1['gene_version'] == 2), 'gene'] = gene_already_score_data_p_v1['gene_org']\n",
    "\n",
    "gene_already_score_data_p_v1 = gene_already_score_data_p_v1[gene_already_score_data_p_v1['gene'].isna() == False].reset_index().drop(['index'], axis = 1)"
   ]
  },
  {
   "cell_type": "code",
   "execution_count": 36,
   "metadata": {
    "tags": []
   },
   "outputs": [],
   "source": [
    "# 處理 lod\n",
    "# 轉換基因版本\n",
    "gene_already_score_data_lod_a2v1 = gene_already_score_data_lod[gene_already_score_data_lod['gene_version'] == 2.0]\n",
    "gene_already_score_data_lod_a1v11 = gene_already_score_data_lod[gene_already_score_data_lod['gene_version'] == 1.1]\n",
    "gene_already_score_data_lod_a1v1 = gene_already_score_data_lod[gene_already_score_data_lod['gene_version'] == 1.0]\n",
    "\n",
    "gene_already_score_data_lod_a1v11 = gene_already_score_data_lod_a1v11.merge(glyma_gene_ver_20_11, how = 'left', left_on = ['mapped_gene'], right_on = ['Wm82.a1.v1.1']).drop(['Wm82.a1.v1.1'], axis = 1)\n",
    "gene_already_score_data_lod_a1v1 = gene_already_score_data_lod_a1v1.merge(glyma_gene_ver_20_10, how = 'left', left_on = ['mapped_gene'], right_on = ['Wm82.a1.v1']).drop(['Wm82.a1.v1'], axis = 1)\n",
    "\n",
    "gene_already_score_data_lod_v1 = pd.concat([gene_already_score_data_lod_a2v1, gene_already_score_data_lod_a1v11, gene_already_score_data_lod_a1v1]).reset_index().drop(['index'], axis = 1)\n",
    "gene_already_score_data_lod_v1.columns = ['gene_org', 'p', 'lod', 'gene_version', 'article_name', 'gene']\n",
    "gene_already_score_data_lod_v1.loc[(gene_already_score_data_lod_v1['gene_version'] == 2), 'gene'] = gene_already_score_data_lod_v1['gene_org']\n",
    "\n",
    "gene_already_score_data_lod_v1 = gene_already_score_data_lod_v1[gene_already_score_data_lod_v1['gene'].isna() == False].reset_index().drop(['index'], axis = 1)"
   ]
  },
  {
   "cell_type": "code",
   "execution_count": 37,
   "metadata": {
    "tags": []
   },
   "outputs": [],
   "source": [
    "gene_already_score_data_lod_v1.columns = ['gene_org', 'p', 'lod', 'gene_version', 'article_name', 'gene']\n",
    "gene_already_score_data_lod_v1.loc[(gene_already_score_data_lod_v1['gene_version'] == 2), 'gene'] = gene_already_score_data_lod_v1['gene_org']\n",
    "gene_already_score_data_lod_v1 = gene_already_score_data_lod_v1[['gene_org', 'p', 'lod', 'gene_version', 'article_name', 'gene']]\n",
    "gene_already_score_data = pd.concat([gene_already_score_data_p_v1 , gene_already_score_data_lod_v1]).reset_index().drop(['index'], axis = 1)[['gene', 'p', 'lod', 'gene_version', 'article_name', 'gene_org']]"
   ]
  },
  {
   "cell_type": "code",
   "execution_count": 38,
   "metadata": {
    "tags": []
   },
   "outputs": [],
   "source": [
    "# 把 mapped_genes 還有 already_genes 放在同個 df\n",
    "gene_total_score_data = pd.concat([gene_score_data, gene_already_score_data]).reset_index().drop(['index'], axis = 1)"
   ]
  },
  {
   "cell_type": "code",
   "execution_count": 43,
   "metadata": {
    "tags": []
   },
   "outputs": [
    {
     "data": {
      "text/plain": [
       "Glyma.01g184500    4\n",
       "Glyma.12g189100    3\n",
       "Glyma.12g189000    3\n",
       "Glyma.12g188900    3\n",
       "Glyma.16g018700    3\n",
       "Glyma.20g003400    3\n",
       "Glyma.16g018800    3\n",
       "Glyma.12g189200    3\n",
       "Name: gene, dtype: int64"
      ]
     },
     "execution_count": 43,
     "metadata": {},
     "output_type": "execute_result"
    }
   ],
   "source": [
    "gene_total_score_data['gene'].value_counts()[:8]"
   ]
  },
  {
   "cell_type": "code",
   "execution_count": null,
   "metadata": {},
   "outputs": [],
   "source": []
  },
  {
   "cell_type": "code",
   "execution_count": 36,
   "metadata": {
    "tags": []
   },
   "outputs": [
    {
     "data": {
      "text/html": [
       "<div>\n",
       "<style scoped>\n",
       "    .dataframe tbody tr th:only-of-type {\n",
       "        vertical-align: middle;\n",
       "    }\n",
       "\n",
       "    .dataframe tbody tr th {\n",
       "        vertical-align: top;\n",
       "    }\n",
       "\n",
       "    .dataframe thead th {\n",
       "        text-align: right;\n",
       "    }\n",
       "</style>\n",
       "<table border=\"1\" class=\"dataframe\">\n",
       "  <thead>\n",
       "    <tr style=\"text-align: right;\">\n",
       "      <th></th>\n",
       "      <th>gene</th>\n",
       "      <th>p</th>\n",
       "      <th>lod</th>\n",
       "      <th>gene_version</th>\n",
       "      <th>article_name</th>\n",
       "      <th>gene_org</th>\n",
       "    </tr>\n",
       "  </thead>\n",
       "  <tbody>\n",
       "    <tr>\n",
       "      <th>0</th>\n",
       "      <td>Glyma.01g037600</td>\n",
       "      <td>0.000007</td>\n",
       "      <td>NaN</td>\n",
       "      <td>2.0</td>\n",
       "      <td>Genome-Wide Association Analyses Reveal Genomi...</td>\n",
       "      <td>Glyma.01g037600</td>\n",
       "    </tr>\n",
       "    <tr>\n",
       "      <th>1</th>\n",
       "      <td>Glyma.01g037700</td>\n",
       "      <td>0.000007</td>\n",
       "      <td>NaN</td>\n",
       "      <td>2.0</td>\n",
       "      <td>Genome-Wide Association Analyses Reveal Genomi...</td>\n",
       "      <td>Glyma.01g037700</td>\n",
       "    </tr>\n",
       "    <tr>\n",
       "      <th>2</th>\n",
       "      <td>Glyma.01g037800</td>\n",
       "      <td>0.000007</td>\n",
       "      <td>NaN</td>\n",
       "      <td>2.0</td>\n",
       "      <td>Genome-Wide Association Analyses Reveal Genomi...</td>\n",
       "      <td>Glyma.01g037800</td>\n",
       "    </tr>\n",
       "    <tr>\n",
       "      <th>3</th>\n",
       "      <td>Glyma.01g037900</td>\n",
       "      <td>0.000007</td>\n",
       "      <td>NaN</td>\n",
       "      <td>2.0</td>\n",
       "      <td>Genome-Wide Association Analyses Reveal Genomi...</td>\n",
       "      <td>Glyma.01g037900</td>\n",
       "    </tr>\n",
       "    <tr>\n",
       "      <th>4</th>\n",
       "      <td>Glyma.01g038000</td>\n",
       "      <td>0.000007</td>\n",
       "      <td>NaN</td>\n",
       "      <td>2.0</td>\n",
       "      <td>Genome-Wide Association Analyses Reveal Genomi...</td>\n",
       "      <td>Glyma.01g038000</td>\n",
       "    </tr>\n",
       "  </tbody>\n",
       "</table>\n",
       "</div>"
      ],
      "text/plain": [
       "              gene         p  lod  gene_version  \\\n",
       "0  Glyma.01g037600  0.000007  NaN           2.0   \n",
       "1  Glyma.01g037700  0.000007  NaN           2.0   \n",
       "2  Glyma.01g037800  0.000007  NaN           2.0   \n",
       "3  Glyma.01g037900  0.000007  NaN           2.0   \n",
       "4  Glyma.01g038000  0.000007  NaN           2.0   \n",
       "\n",
       "                                        article_name         gene_org  \n",
       "0  Genome-Wide Association Analyses Reveal Genomi...  Glyma.01g037600  \n",
       "1  Genome-Wide Association Analyses Reveal Genomi...  Glyma.01g037700  \n",
       "2  Genome-Wide Association Analyses Reveal Genomi...  Glyma.01g037800  \n",
       "3  Genome-Wide Association Analyses Reveal Genomi...  Glyma.01g037900  \n",
       "4  Genome-Wide Association Analyses Reveal Genomi...  Glyma.01g038000  "
      ]
     },
     "execution_count": 36,
     "metadata": {},
     "output_type": "execute_result"
    }
   ],
   "source": [
    "gene_total_score_data.head()"
   ]
  },
  {
   "cell_type": "code",
   "execution_count": 37,
   "metadata": {
    "tags": []
   },
   "outputs": [],
   "source": [
    "# 看有無同時存在 p 以及 lod 數值的基因\n",
    "gene_total_score_data['p_flag'] = ''\n",
    "gene_total_score_data['lod_flag'] = ''\n",
    "gene_total_score_data.loc[(gene_total_score_data['p'].isna() == False), 'p_flag'] = '1'\n",
    "gene_total_score_data.loc[(gene_total_score_data['lod'].isna() == False), 'lod_flag'] = '1'"
   ]
  },
  {
   "cell_type": "code",
   "execution_count": 38,
   "metadata": {
    "tags": []
   },
   "outputs": [
    {
     "data": {
      "text/plain": [
       "Glyma.01g184500    4\n",
       "Glyma.12g189100    3\n",
       "Glyma.12g189000    3\n",
       "Glyma.12g188900    3\n",
       "Glyma.16g018700    3\n",
       "                  ..\n",
       "Glyma.12g183100    1\n",
       "Glyma.12g183200    1\n",
       "Glyma.12g183300    1\n",
       "Glyma.05g034000    1\n",
       "Glyma.12g113300    1\n",
       "Name: gene, Length: 3098, dtype: int64"
      ]
     },
     "execution_count": 38,
     "metadata": {},
     "output_type": "execute_result"
    }
   ],
   "source": [
    "# 找同時出現 lod 以及 p 的 case\n",
    "gene_total_score_data['gene'].value_counts()"
   ]
  },
  {
   "cell_type": "code",
   "execution_count": 39,
   "metadata": {
    "tags": []
   },
   "outputs": [
    {
     "name": "stdout",
     "output_type": "stream",
     "text": [
      "significant number based on current threshold: 1028\n",
      "total gene data: 1028\n",
      "1.0\n"
     ]
    }
   ],
   "source": [
    "lod_thres = 2\n",
    "print('significant number based on current threshold:', len(gene_total_score_data[(gene_total_score_data['lod'] > lod_thres)]))\n",
    "print('total gene data:', len(gene_total_score_data[(gene_total_score_data['lod_flag'] == '1')]))\n",
    "print(len(gene_total_score_data[(gene_total_score_data['lod'] > lod_thres)]) / len(gene_total_score_data[(gene_total_score_data['lod_flag'] == '1')]))"
   ]
  },
  {
   "cell_type": "code",
   "execution_count": 40,
   "metadata": {
    "tags": []
   },
   "outputs": [
    {
     "data": {
      "text/plain": [
       "1028"
      ]
     },
     "execution_count": 40,
     "metadata": {},
     "output_type": "execute_result"
    }
   ],
   "source": [
    "len(gene_total_score_data[(gene_total_score_data['lod_flag'] == '1')])"
   ]
  },
  {
   "cell_type": "code",
   "execution_count": 41,
   "metadata": {
    "tags": []
   },
   "outputs": [
    {
     "name": "stdout",
     "output_type": "stream",
     "text": [
      "count    2.232000e+03\n",
      "mean     2.499283e-03\n",
      "std      7.232160e-03\n",
      "min      1.000000e-16\n",
      "25%      2.511886e-07\n",
      "50%      1.479500e-05\n",
      "75%      1.230269e-03\n",
      "max      5.000000e-02\n",
      "Name: p, dtype: float64\n"
     ]
    },
    {
     "data": {
      "image/png": "[encoded data removed]",
      "text/plain": [
       "<Figure size 600x400 with 1 Axes>"
      ]
     },
     "metadata": {},
     "output_type": "display_data"
    }
   ],
   "source": [
    "# set significant criteria of p\n",
    "# 看 p 的分布\n",
    "p_thres = 0.05\n",
    "print(gene_total_score_data['p'].describe())\n",
    "plt.figure(figsize = (6, 4))\n",
    "plt.hist(list(gene_total_score_data['p']), bins = 20, color = 'black')\n",
    "plt.axvline(x = p_thres, color = 'red')\n",
    "plt.show()"
   ]
  },
  {
   "cell_type": "code",
   "execution_count": 42,
   "metadata": {
    "tags": []
   },
   "outputs": [
    {
     "name": "stdout",
     "output_type": "stream",
     "text": [
      "significant number based on current threshold: 2206\n",
      "total gene data: 2232\n",
      "0.9883512544802867\n"
     ]
    }
   ],
   "source": [
    "print('significant number based on current threshold:', len(gene_total_score_data[(gene_total_score_data['p'] < p_thres)]))\n",
    "print('total gene data:', len(gene_total_score_data[(gene_total_score_data['p_flag'] == '1')]))\n",
    "print(len(gene_total_score_data[(gene_total_score_data['p'] < p_thres)]) / len(gene_total_score_data[(gene_total_score_data['p_flag'] == '1')]))"
   ]
  },
  {
   "cell_type": "code",
   "execution_count": 43,
   "metadata": {
    "tags": []
   },
   "outputs": [],
   "source": [
    "# siginicant_flag: 1 is significant and 0 is non-sig\n",
    "# set threshold\n",
    "p_thres = 0.05\n",
    "lod_thres = 2\n",
    "\n",
    "gene_total_score_data['sig_flag'] = ''\n",
    "gene_total_score_data['nonsig_flag'] = ''\n",
    "gene_total_score_data.loc[(gene_total_score_data['p'] < p_thres), 'sig_flag'] = 1\n",
    "gene_total_score_data.loc[(gene_total_score_data['p'] < p_thres), 'nonsig_flag'] = 0\n",
    "\n",
    "gene_total_score_data.loc[(gene_total_score_data['p'] >= p_thres), 'nonsig_flag'] = 1\n",
    "gene_total_score_data.loc[(gene_total_score_data['p'] >= p_thres), 'sig_flag'] = 0\n",
    "\n",
    "gene_total_score_data.loc[(gene_total_score_data['lod'] > lod_thres), 'sig_flag'] = 1\n",
    "gene_total_score_data.loc[(gene_total_score_data['lod'] > lod_thres), 'nonsig_flag'] = 0\n",
    "\n",
    "gene_total_score_data.loc[(gene_total_score_data['lod'] <= lod_thres), 'nonsig_flag'] = 1\n",
    "gene_total_score_data.loc[(gene_total_score_data['lod'] <= lod_thres), 'sig_flag'] = 0"
   ]
  },
  {
   "cell_type": "code",
   "execution_count": 44,
   "metadata": {
    "tags": []
   },
   "outputs": [
    {
     "data": {
      "text/html": [
       "<div>\n",
       "<style scoped>\n",
       "    .dataframe tbody tr th:only-of-type {\n",
       "        vertical-align: middle;\n",
       "    }\n",
       "\n",
       "    .dataframe tbody tr th {\n",
       "        vertical-align: top;\n",
       "    }\n",
       "\n",
       "    .dataframe thead th {\n",
       "        text-align: right;\n",
       "    }\n",
       "</style>\n",
       "<table border=\"1\" class=\"dataframe\">\n",
       "  <thead>\n",
       "    <tr style=\"text-align: right;\">\n",
       "      <th></th>\n",
       "      <th>gene</th>\n",
       "      <th>p</th>\n",
       "      <th>lod</th>\n",
       "      <th>gene_version</th>\n",
       "      <th>article_name</th>\n",
       "      <th>gene_org</th>\n",
       "      <th>p_flag</th>\n",
       "      <th>lod_flag</th>\n",
       "      <th>sig_flag</th>\n",
       "      <th>nonsig_flag</th>\n",
       "    </tr>\n",
       "  </thead>\n",
       "  <tbody>\n",
       "    <tr>\n",
       "      <th>0</th>\n",
       "      <td>Glyma.01g037600</td>\n",
       "      <td>0.000007</td>\n",
       "      <td>NaN</td>\n",
       "      <td>2.0</td>\n",
       "      <td>Genome-Wide Association Analyses Reveal Genomi...</td>\n",
       "      <td>Glyma.01g037600</td>\n",
       "      <td>1</td>\n",
       "      <td></td>\n",
       "      <td>1</td>\n",
       "      <td>0</td>\n",
       "    </tr>\n",
       "    <tr>\n",
       "      <th>1</th>\n",
       "      <td>Glyma.01g037700</td>\n",
       "      <td>0.000007</td>\n",
       "      <td>NaN</td>\n",
       "      <td>2.0</td>\n",
       "      <td>Genome-Wide Association Analyses Reveal Genomi...</td>\n",
       "      <td>Glyma.01g037700</td>\n",
       "      <td>1</td>\n",
       "      <td></td>\n",
       "      <td>1</td>\n",
       "      <td>0</td>\n",
       "    </tr>\n",
       "    <tr>\n",
       "      <th>2</th>\n",
       "      <td>Glyma.01g037800</td>\n",
       "      <td>0.000007</td>\n",
       "      <td>NaN</td>\n",
       "      <td>2.0</td>\n",
       "      <td>Genome-Wide Association Analyses Reveal Genomi...</td>\n",
       "      <td>Glyma.01g037800</td>\n",
       "      <td>1</td>\n",
       "      <td></td>\n",
       "      <td>1</td>\n",
       "      <td>0</td>\n",
       "    </tr>\n",
       "    <tr>\n",
       "      <th>3</th>\n",
       "      <td>Glyma.01g037900</td>\n",
       "      <td>0.000007</td>\n",
       "      <td>NaN</td>\n",
       "      <td>2.0</td>\n",
       "      <td>Genome-Wide Association Analyses Reveal Genomi...</td>\n",
       "      <td>Glyma.01g037900</td>\n",
       "      <td>1</td>\n",
       "      <td></td>\n",
       "      <td>1</td>\n",
       "      <td>0</td>\n",
       "    </tr>\n",
       "    <tr>\n",
       "      <th>4</th>\n",
       "      <td>Glyma.01g038000</td>\n",
       "      <td>0.000007</td>\n",
       "      <td>NaN</td>\n",
       "      <td>2.0</td>\n",
       "      <td>Genome-Wide Association Analyses Reveal Genomi...</td>\n",
       "      <td>Glyma.01g038000</td>\n",
       "      <td>1</td>\n",
       "      <td></td>\n",
       "      <td>1</td>\n",
       "      <td>0</td>\n",
       "    </tr>\n",
       "  </tbody>\n",
       "</table>\n",
       "</div>"
      ],
      "text/plain": [
       "              gene         p  lod  gene_version  \\\n",
       "0  Glyma.01g037600  0.000007  NaN           2.0   \n",
       "1  Glyma.01g037700  0.000007  NaN           2.0   \n",
       "2  Glyma.01g037800  0.000007  NaN           2.0   \n",
       "3  Glyma.01g037900  0.000007  NaN           2.0   \n",
       "4  Glyma.01g038000  0.000007  NaN           2.0   \n",
       "\n",
       "                                        article_name         gene_org p_flag  \\\n",
       "0  Genome-Wide Association Analyses Reveal Genomi...  Glyma.01g037600      1   \n",
       "1  Genome-Wide Association Analyses Reveal Genomi...  Glyma.01g037700      1   \n",
       "2  Genome-Wide Association Analyses Reveal Genomi...  Glyma.01g037800      1   \n",
       "3  Genome-Wide Association Analyses Reveal Genomi...  Glyma.01g037900      1   \n",
       "4  Genome-Wide Association Analyses Reveal Genomi...  Glyma.01g038000      1   \n",
       "\n",
       "  lod_flag sig_flag nonsig_flag  \n",
       "0                 1           0  \n",
       "1                 1           0  \n",
       "2                 1           0  \n",
       "3                 1           0  \n",
       "4                 1           0  "
      ]
     },
     "execution_count": 44,
     "metadata": {},
     "output_type": "execute_result"
    }
   ],
   "source": [
    "gene_total_score_data.head()"
   ]
  },
  {
   "cell_type": "code",
   "execution_count": null,
   "metadata": {},
   "outputs": [],
   "source": []
  },
  {
   "cell_type": "code",
   "execution_count": 46,
   "metadata": {
    "collapsed": true,
    "jupyter": {
     "outputs_hidden": true
    }
   },
   "outputs": [
    {
     "name": "stdout",
     "output_type": "stream",
     "text": [
      "300\n",
      "600\n",
      "900\n",
      "1200\n",
      "1500\n",
      "1800\n",
      "2100\n",
      "2400\n",
      "2700\n",
      "3000\n"
     ]
    }
   ],
   "source": [
    "# gene_list = list(gene_total_score_data['gene'].unique())\n",
    "# gene_total_score_data_v1 = pd.DataFrame()\n",
    "# count = 0\n",
    "\n",
    "# for gene in gene_list:\n",
    "#     df_gene = gene_total_score_data[gene_total_score_data['gene'] == gene].reset_index().drop(['index'], axis = 1)\n",
    "#     # 除單個錯誤(可能是資料重複蒐集)\n",
    "#     if gene == 'Glyma.20g003400':\n",
    "#         df_gene = df_gene.drop_duplicates(['article_name', 'p'])\n",
    "    \n",
    "#     # 進入significance flagging\n",
    "#     df_gene['sig_flag_fv'] = ''\n",
    "#     if df_gene['sig_flag'].sum() > df_gene['nonsig_flag'].sum():\n",
    "#         df_gene['sig_flag_fv'] = '1'\n",
    "        \n",
    "#     elif df_gene['sig_flag'].sum() == df_gene['nonsig_flag'].sum():\n",
    "#         df_gene['sig_flag_fv'] = '0'\n",
    "    \n",
    "#     else:\n",
    "#         df_gene['sig_flag_fv'] = '-1'\n",
    "    \n",
    "#     gene_total_score_data_v1 = pd.concat([gene_total_score_data_v1, df_gene[['gene', 'p', 'lod', 'gene_version', 'article_name', 'gene_org', 'p_flag', 'lod_flag', 'sig_flag_fv']]]).reset_index().drop(['index'], axis = 1)\n",
    "#     count += 1\n",
    "    \n",
    "#     if count % 300 == 0:\n",
    "#         print(count)"
   ]
  },
  {
   "cell_type": "code",
   "execution_count": null,
   "metadata": {},
   "outputs": [],
   "source": []
  },
  {
   "cell_type": "code",
   "execution_count": 45,
   "metadata": {
    "tags": []
   },
   "outputs": [
    {
     "name": "stdout",
     "output_type": "stream",
     "text": [
      "300\n",
      "600\n",
      "900\n",
      "1200\n",
      "1500\n",
      "1800\n",
      "2100\n",
      "2400\n",
      "2700\n",
      "3000\n"
     ]
    }
   ],
   "source": [
    "# 整合p值\n",
    "gene_list = list(gene_total_score_data['gene'].unique())\n",
    "gene_total_score_data_v2 = pd.DataFrame()\n",
    "\n",
    "count = 0\n",
    "for gene in gene_list:\n",
    "    df_gene = gene_total_score_data[gene_total_score_data['gene'] == gene].reset_index().drop(['index'], axis = 1)\n",
    "    p_list = list(df_gene[df_gene['p'].isna() == False]['p'])\n",
    "    lod_list = list(df_gene[df_gene['lod'].isna() == False]['lod'])\n",
    "    if len(p_list) > 0:\n",
    "        p_value_p = stats.combine_pvalues(p_list, method = 'fisher')[1]\n",
    "        \n",
    "        if len(lod_list) == 1:  # 當有p值且lod值只有一個\n",
    "            lod_value_p = 10 ** -(lod_list[0] * np.log(2))\n",
    "            final_p_list = [p_value_p, lod_value_p]\n",
    "            final_p = stats.combine_pvalues(final_p_list, method = 'fisher')[1]\n",
    "\n",
    "        elif len(lod_list) > 1: # 當有p值且lod值有大於一個\n",
    "            lod_list_p_v1 = 10 ** -(np.array(lod_list) * np.log(2))\n",
    "            lod_value_p = stats.combine_pvalues(lod_list_p_v1, method = 'fisher')[1]\n",
    "            final_p_list = [p_value_p, lod_value_p]\n",
    "            final_p = stats.combine_pvalues(final_p_list, method = 'fisher')[1]\n",
    "    \n",
    "        else:\n",
    "            final_p = p_value_p\n",
    "            \n",
    "    elif len(p_list) == 0:\n",
    "        if len(lod_list) == 1:   # 當沒有p值且 lod 值只有一個\n",
    "            lod_value_p = 10 ** -(lod_list[0] * np.log(2))\n",
    "            final_p = lod_value_p\n",
    "        \n",
    "        elif len(lod_list) > 1:  # 當沒有p值且 lod 值大於一個\n",
    "            lod_list_p_v1 = 10 ** -(np.array(lod_list) * np.log(2))\n",
    "            lod_value_p = stats.combine_pvalues(lod_list_p_v1, method = 'fisher')[1]\n",
    "            final_p = stats.combine_pvalues(final_p_list, method = 'fisher')[1]\n",
    "            \n",
    "        else:\n",
    "            final_p = np.nan\n",
    "    \n",
    "    df_gene_v1 = pd.DataFrame()\n",
    "    df_gene_v1['gene'] = df_gene['gene'].unique()\n",
    "    df_gene_v1['p_processed'] = final_p\n",
    "    df_gene_v1['sig_flag'] = df_gene['sig_flag'].sum()\n",
    "    df_gene_v1['nonsig_flag'] = df_gene['nonsig_flag'].sum()\n",
    "    \n",
    "    gene_total_score_data_v2 = pd.concat([gene_total_score_data_v2, df_gene_v1]).reset_index().drop(['index'], axis = 1)\n",
    "    \n",
    "    count += 1\n",
    "    if count % 300 == 0:\n",
    "        print(count)"
   ]
  },
  {
   "cell_type": "code",
   "execution_count": 46,
   "metadata": {
    "tags": []
   },
   "outputs": [
    {
     "data": {
      "text/html": [
       "<div>\n",
       "<style scoped>\n",
       "    .dataframe tbody tr th:only-of-type {\n",
       "        vertical-align: middle;\n",
       "    }\n",
       "\n",
       "    .dataframe tbody tr th {\n",
       "        vertical-align: top;\n",
       "    }\n",
       "\n",
       "    .dataframe thead th {\n",
       "        text-align: right;\n",
       "    }\n",
       "</style>\n",
       "<table border=\"1\" class=\"dataframe\">\n",
       "  <thead>\n",
       "    <tr style=\"text-align: right;\">\n",
       "      <th></th>\n",
       "      <th>gene</th>\n",
       "      <th>p_processed</th>\n",
       "      <th>sig_flag</th>\n",
       "      <th>nonsig_flag</th>\n",
       "    </tr>\n",
       "  </thead>\n",
       "  <tbody>\n",
       "    <tr>\n",
       "      <th>0</th>\n",
       "      <td>Glyma.01g037600</td>\n",
       "      <td>0.000007</td>\n",
       "      <td>1</td>\n",
       "      <td>0</td>\n",
       "    </tr>\n",
       "    <tr>\n",
       "      <th>1</th>\n",
       "      <td>Glyma.01g037700</td>\n",
       "      <td>0.000007</td>\n",
       "      <td>1</td>\n",
       "      <td>0</td>\n",
       "    </tr>\n",
       "    <tr>\n",
       "      <th>2</th>\n",
       "      <td>Glyma.01g037800</td>\n",
       "      <td>0.000007</td>\n",
       "      <td>1</td>\n",
       "      <td>0</td>\n",
       "    </tr>\n",
       "    <tr>\n",
       "      <th>3</th>\n",
       "      <td>Glyma.01g037900</td>\n",
       "      <td>0.000007</td>\n",
       "      <td>1</td>\n",
       "      <td>0</td>\n",
       "    </tr>\n",
       "    <tr>\n",
       "      <th>4</th>\n",
       "      <td>Glyma.01g038000</td>\n",
       "      <td>0.000007</td>\n",
       "      <td>1</td>\n",
       "      <td>0</td>\n",
       "    </tr>\n",
       "  </tbody>\n",
       "</table>\n",
       "</div>"
      ],
      "text/plain": [
       "              gene  p_processed  sig_flag  nonsig_flag\n",
       "0  Glyma.01g037600     0.000007         1            0\n",
       "1  Glyma.01g037700     0.000007         1            0\n",
       "2  Glyma.01g037800     0.000007         1            0\n",
       "3  Glyma.01g037900     0.000007         1            0\n",
       "4  Glyma.01g038000     0.000007         1            0"
      ]
     },
     "execution_count": 46,
     "metadata": {},
     "output_type": "execute_result"
    }
   ],
   "source": [
    "# 已轉出各基因的p\n",
    "gene_total_score_data_v2.head()"
   ]
  },
  {
   "cell_type": "code",
   "execution_count": 47,
   "metadata": {
    "tags": []
   },
   "outputs": [],
   "source": [
    "# 以 log10 為底轉換成 scoring\n",
    "gene_total_score_data_v2['score'] = -np.log10(gene_total_score_data_v2['p_processed'])"
   ]
  },
  {
   "cell_type": "code",
   "execution_count": 48,
   "metadata": {
    "tags": []
   },
   "outputs": [
    {
     "data": {
      "text/plain": [
       "(array([1.661e+03, 9.100e+02, 3.130e+02, 9.600e+01, 5.900e+01, 5.500e+01,\n",
       "        1.000e+00, 2.000e+00, 0.000e+00, 1.000e+00]),\n",
       " array([ 1.30103   ,  4.18360498,  7.06617997,  9.94875495, 12.83132994,\n",
       "        15.71390493, 18.59647991, 21.4790549 , 24.36162988, 27.24420487,\n",
       "        30.12677986]),\n",
       " <BarContainer object of 10 artists>)"
      ]
     },
     "execution_count": 48,
     "metadata": {},
     "output_type": "execute_result"
    },
    {
     "data": {
      "image/png": "[encoded data removed]",
      "text/plain": [
       "<Figure size 640x480 with 1 Axes>"
      ]
     },
     "metadata": {},
     "output_type": "display_data"
    }
   ],
   "source": [
    "plt.hist(gene_total_score_data_v2['score'])"
   ]
  },
  {
   "cell_type": "code",
   "execution_count": 48,
   "metadata": {},
   "outputs": [
    {
     "data": {
      "text/plain": [
       "3098"
      ]
     },
     "execution_count": 48,
     "metadata": {},
     "output_type": "execute_result"
    }
   ],
   "source": [
    "len(gene_total_score_data_v2['score'])"
   ]
  },
  {
   "cell_type": "markdown",
   "metadata": {},
   "source": [
    "# L1: 15 < x <= max in [5, 6] #about 77\n",
    "# L2: 8 < x <= 15 in [4, 5] #about 338\n",
    "# L3: 5 < x <= 8 in [3, 4] #about 736\n",
    "# L4: 2.8 < x <= 5 in [2, 3] #about 841\n",
    "# L5: 0 < x <= 2.8 in [0, 2] #about 1106"
   ]
  },
  {
   "cell_type": "code",
   "execution_count": 49,
   "metadata": {
    "tags": []
   },
   "outputs": [],
   "source": [
    "# data scaling function\n",
    "def scale_score(x, upper_b, lower_b, max_val, min_val):\n",
    "    scaling = (upper_b - lower_b) / (max_val - min_val)\n",
    "    return (x - min_val) * scaling + lower_b"
   ]
  },
  {
   "cell_type": "code",
   "execution_count": null,
   "metadata": {},
   "outputs": [],
   "source": []
  },
  {
   "cell_type": "code",
   "execution_count": 50,
   "metadata": {
    "tags": []
   },
   "outputs": [],
   "source": [
    "# L1 coping 15 < x < max\n",
    "upper_b = 6\n",
    "lower_b = 5\n",
    "max_val = gene_total_score_data_v2['score'].max()\n",
    "min_val = 15\n",
    "gene_total_score_data_v2_L1 = gene_total_score_data_v2[(gene_total_score_data_v2['score'] > min_val) & (gene_total_score_data_v2['score'] <= max_val)].reset_index().drop(['index'], axis = 1)\n",
    "\n",
    "gene_total_score_data_v2_L1['score_new'] = gene_total_score_data_v2_L1['score'].apply(scale_score, args = (upper_b, lower_b, max_val, min_val))"
   ]
  },
  {
   "cell_type": "code",
   "execution_count": 51,
   "metadata": {
    "tags": []
   },
   "outputs": [],
   "source": [
    "# L2 coping 8 < x < 15\n",
    "upper_b = 5\n",
    "lower_b = 4\n",
    "max_val = 15\n",
    "min_val = 8\n",
    "gene_total_score_data_v2_L2 = gene_total_score_data_v2[(gene_total_score_data_v2['score'] > min_val) & (gene_total_score_data_v2['score'] <= max_val)].reset_index().drop(['index'], axis = 1)\n",
    "\n",
    "gene_total_score_data_v2_L2['score_new'] = gene_total_score_data_v2_L2['score'].apply(scale_score, args = (upper_b, lower_b, max_val, min_val))"
   ]
  },
  {
   "cell_type": "code",
   "execution_count": 52,
   "metadata": {
    "tags": []
   },
   "outputs": [],
   "source": [
    "# L3 coping 5 < x < 8\n",
    "upper_b = 4\n",
    "lower_b = 3\n",
    "max_val = 8\n",
    "min_val = 5\n",
    "gene_total_score_data_v2_L3 = gene_total_score_data_v2[(gene_total_score_data_v2['score'] > min_val) & (gene_total_score_data_v2['score'] <= max_val)].reset_index().drop(['index'], axis = 1)\n",
    "\n",
    "gene_total_score_data_v2_L3['score_new'] = gene_total_score_data_v2_L3['score'].apply(scale_score, args = (upper_b, lower_b, max_val, min_val))"
   ]
  },
  {
   "cell_type": "code",
   "execution_count": 53,
   "metadata": {
    "tags": []
   },
   "outputs": [],
   "source": [
    "# L4 coping 2.8 < x < 5\n",
    "upper_b = 3\n",
    "lower_b = 2\n",
    "max_val = 5\n",
    "min_val = 2.8\n",
    "gene_total_score_data_v2_L4 = gene_total_score_data_v2[(gene_total_score_data_v2['score'] > min_val) & (gene_total_score_data_v2['score'] <= max_val)].reset_index().drop(['index'], axis = 1)\n",
    "\n",
    "gene_total_score_data_v2_L4['score_new'] = gene_total_score_data_v2_L4['score'].apply(scale_score, args = (upper_b, lower_b, max_val, min_val))"
   ]
  },
  {
   "cell_type": "code",
   "execution_count": 54,
   "metadata": {
    "tags": []
   },
   "outputs": [],
   "source": [
    "# L5 coping 0 < x < 2.8\n",
    "upper_b = 2\n",
    "lower_b = 0\n",
    "max_val = 2.8\n",
    "min_val = 0\n",
    "gene_total_score_data_v2_L5 = gene_total_score_data_v2[(gene_total_score_data_v2['score'] > min_val) & (gene_total_score_data_v2['score'] <= max_val)].reset_index().drop(['index'], axis = 1)\n",
    "\n",
    "gene_total_score_data_v2_L5['score_new'] = gene_total_score_data_v2_L5['score'].apply(scale_score, args = (upper_b, lower_b, max_val, min_val))"
   ]
  },
  {
   "cell_type": "code",
   "execution_count": 55,
   "metadata": {
    "tags": []
   },
   "outputs": [],
   "source": [
    "gene_total_score_data_v3 = pd.concat([gene_total_score_data_v2_L1, gene_total_score_data_v2_L2, gene_total_score_data_v2_L3, gene_total_score_data_v2_L4, gene_total_score_data_v2_L5]).reset_index().drop(['index'], axis = 1)"
   ]
  },
  {
   "cell_type": "code",
   "execution_count": 56,
   "metadata": {
    "tags": []
   },
   "outputs": [
    {
     "data": {
      "text/plain": [
       "(array([ 77., 552., 332., 488., 211., 267., 355., 253., 142., 225.,  78.,\n",
       "         41.,  73.,   3.,   1.]),\n",
       " array([0.92930714, 1.26735333, 1.60539952, 1.94344571, 2.2814919 ,\n",
       "        2.61953809, 2.95758428, 3.29563047, 3.63367667, 3.97172286,\n",
       "        4.30976905, 4.64781524, 4.98586143, 5.32390762, 5.66195381,\n",
       "        6.        ]),\n",
       " <BarContainer object of 15 artists>)"
      ]
     },
     "execution_count": 56,
     "metadata": {},
     "output_type": "execute_result"
    },
    {
     "data": {
      "image/png": "[encoded data removed]",
      "text/plain": [
       "<Figure size 640x480 with 1 Axes>"
      ]
     },
     "metadata": {},
     "output_type": "display_data"
    }
   ],
   "source": [
    "plt.hist(gene_total_score_data_v3['score_new'], bins = 15)"
   ]
  },
  {
   "cell_type": "code",
   "execution_count": 57,
   "metadata": {
    "tags": []
   },
   "outputs": [],
   "source": [
    "gene_total_score_data_v3 = gene_total_score_data_v3.rename(columns = {'score':'score_raw', 'score_new':'score_individual', 'sig_flag':'sig_flag_individual', 'nonsig_flag':'nonsig_flag_individual'})"
   ]
  },
  {
   "cell_type": "code",
   "execution_count": 58,
   "metadata": {
    "tags": []
   },
   "outputs": [
    {
     "data": {
      "text/html": [
       "<div>\n",
       "<style scoped>\n",
       "    .dataframe tbody tr th:only-of-type {\n",
       "        vertical-align: middle;\n",
       "    }\n",
       "\n",
       "    .dataframe tbody tr th {\n",
       "        vertical-align: top;\n",
       "    }\n",
       "\n",
       "    .dataframe thead th {\n",
       "        text-align: right;\n",
       "    }\n",
       "</style>\n",
       "<table border=\"1\" class=\"dataframe\">\n",
       "  <thead>\n",
       "    <tr style=\"text-align: right;\">\n",
       "      <th></th>\n",
       "      <th>gene</th>\n",
       "      <th>p_processed</th>\n",
       "      <th>sig_flag_individual</th>\n",
       "      <th>nonsig_flag_individual</th>\n",
       "      <th>score_raw</th>\n",
       "      <th>score_individual</th>\n",
       "    </tr>\n",
       "  </thead>\n",
       "  <tbody>\n",
       "    <tr>\n",
       "      <th>0</th>\n",
       "      <td>Glyma.10g192200</td>\n",
       "      <td>1.000000e-16</td>\n",
       "      <td>1</td>\n",
       "      <td>0</td>\n",
       "      <td>16.0</td>\n",
       "      <td>5.066108</td>\n",
       "    </tr>\n",
       "    <tr>\n",
       "      <th>1</th>\n",
       "      <td>Glyma.10g192300</td>\n",
       "      <td>1.000000e-16</td>\n",
       "      <td>1</td>\n",
       "      <td>0</td>\n",
       "      <td>16.0</td>\n",
       "      <td>5.066108</td>\n",
       "    </tr>\n",
       "    <tr>\n",
       "      <th>2</th>\n",
       "      <td>Glyma.10g192400</td>\n",
       "      <td>1.000000e-16</td>\n",
       "      <td>1</td>\n",
       "      <td>0</td>\n",
       "      <td>16.0</td>\n",
       "      <td>5.066108</td>\n",
       "    </tr>\n",
       "    <tr>\n",
       "      <th>3</th>\n",
       "      <td>Glyma.10g192500</td>\n",
       "      <td>1.000000e-16</td>\n",
       "      <td>1</td>\n",
       "      <td>0</td>\n",
       "      <td>16.0</td>\n",
       "      <td>5.066108</td>\n",
       "    </tr>\n",
       "    <tr>\n",
       "      <th>4</th>\n",
       "      <td>Glyma.10g192600</td>\n",
       "      <td>1.000000e-16</td>\n",
       "      <td>1</td>\n",
       "      <td>0</td>\n",
       "      <td>16.0</td>\n",
       "      <td>5.066108</td>\n",
       "    </tr>\n",
       "  </tbody>\n",
       "</table>\n",
       "</div>"
      ],
      "text/plain": [
       "              gene   p_processed  sig_flag_individual  nonsig_flag_individual  \\\n",
       "0  Glyma.10g192200  1.000000e-16                    1                       0   \n",
       "1  Glyma.10g192300  1.000000e-16                    1                       0   \n",
       "2  Glyma.10g192400  1.000000e-16                    1                       0   \n",
       "3  Glyma.10g192500  1.000000e-16                    1                       0   \n",
       "4  Glyma.10g192600  1.000000e-16                    1                       0   \n",
       "\n",
       "   score_raw  score_individual  \n",
       "0       16.0          5.066108  \n",
       "1       16.0          5.066108  \n",
       "2       16.0          5.066108  \n",
       "3       16.0          5.066108  \n",
       "4       16.0          5.066108  "
      ]
     },
     "execution_count": 58,
     "metadata": {},
     "output_type": "execute_result"
    }
   ],
   "source": [
    "gene_total_score_data_v3.head()"
   ]
  },
  {
   "cell_type": "code",
   "execution_count": null,
   "metadata": {},
   "outputs": [],
   "source": []
  },
  {
   "cell_type": "code",
   "execution_count": 206,
   "metadata": {
    "tags": []
   },
   "outputs": [],
   "source": [
    "saleem2022 = pd.read_excel(r'C:\\Users\\edwar\\Desktop\\農藝\\paper2\\data collection\\whole genome data\\complete\\GWAS\\Saleem-2022\\GWAS whole genome data_v2.xlsx')"
   ]
  },
  {
   "cell_type": "markdown",
   "metadata": {},
   "source": [
    "--- new approach ---"
   ]
  },
  {
   "cell_type": "code",
   "execution_count": 207,
   "metadata": {
    "tags": []
   },
   "outputs": [],
   "source": [
    "saleem2022.loc[(saleem2022['P.value_CW_SDS'] == 0), 'P.value_CW_SDS'] = 10 ** -8\n",
    "saleem2022.loc[(saleem2022['P.value_CW_LDS'] == 0), 'P.value_CW_LDS'] = 10 ** -8\n",
    "saleem2022.loc[(saleem2022['P.value_LSEN_SDS'] == 0), 'P.value_LSEN_SDS'] = 10 ** -8\n",
    "saleem2022.loc[(saleem2022['P.value_LSEN_LDS'] == 0), 'P.value_LSEN_LDS'] = 10 ** -8\n",
    "saleem2022.loc[(saleem2022['P.value_AGRmax-Yr_SDS'] == 0), 'P.value_AGRmax-Yr_SDS'] = 10 ** -8\n",
    "saleem2022.loc[(saleem2022['P.value_AGRmax-Yr_LDS'] == 0), 'P.value_AGRmax-Yr_LDS'] = 10 ** -8\n",
    "saleem2022.loc[(saleem2022['P.value_CH-Yr_SDS'] == 0), 'P.value_CH-Yr_SDS'] = 10 ** -8\n",
    "saleem2022.loc[(saleem2022['P.value_CH-Yr_LDS'] == 0), 'P.value_CH-Yr_LDS'] = 10 ** -8"
   ]
  },
  {
   "cell_type": "code",
   "execution_count": 208,
   "metadata": {
    "tags": []
   },
   "outputs": [
    {
     "name": "stdout",
     "output_type": "stream",
     "text": [
      "5000\n",
      "10000\n",
      "15000\n",
      "20000\n",
      "25000\n",
      "30000\n",
      "35000\n",
      "40000\n",
      "45000\n"
     ]
    }
   ],
   "source": [
    "gene_list = list(saleem2022['gene'].unique())\n",
    "saleem2022_v1 = pd.DataFrame()\n",
    "count = 0\n",
    "\n",
    "for gene in gene_list:\n",
    "    df_gene_v1 = pd.DataFrame()\n",
    "    df_gene = saleem2022[saleem2022['gene'] == gene].reset_index().drop(['index'], axis = 1)\n",
    "    df_gene_SD = df_gene[['gene', 'P.value_CW_SDS', 'P.value_LSEN_SDS', 'P.value_AGRmax-Yr_SDS', 'P.value_CH-Yr_SDS']]\n",
    "    df_gene_LD = df_gene[['gene', 'P.value_CW_LDS', 'P.value_LSEN_LDS', 'P.value_AGRmax-Yr_LDS', 'P.value_CH-Yr_LDS']]\n",
    "    p_values_SD = np.array([df_gene_SD['P.value_CW_SDS'].min(), df_gene_SD['P.value_LSEN_SDS'].min(), df_gene_SD['P.value_AGRmax-Yr_SDS'].min(), df_gene_SD['P.value_CH-Yr_SDS'].min()])\n",
    "    p_values_LD = np.array([df_gene_LD['P.value_CW_LDS'].min(), df_gene_LD['P.value_LSEN_LDS'].min(), df_gene_LD['P.value_AGRmax-Yr_LDS'].min(), df_gene_LD['P.value_CH-Yr_LDS'].min()])\n",
    "    # p_values_SD_v1 = p_values_SD[p_values_SD <= 0.3]\n",
    "    # p_values_LD_v1 = p_values_LD[p_values_LD <= 0.3]\n",
    "    p_values_SD_v1 = p_values_SD[p_values_SD <= 0.1]\n",
    "    p_values_LD_v1 = p_values_LD[p_values_LD <= 0.1]\n",
    "    \n",
    "    # --- coping short-term\n",
    "    if len(p_values_SD_v1) == 1:\n",
    "        p_value_SD = p_values_SD_v1[0]\n",
    "\n",
    "    elif len(p_values_SD_v1) == 0:\n",
    "        # p_value_SD = p_values_SD.min() 改用 combine p\n",
    "        p_value_SD = stats.combine_pvalues(list(p_values_SD), method = 'fisher')[1]\n",
    "\n",
    "    else:\n",
    "        p_value_SD = stats.combine_pvalues(p_values_SD_v1, method = 'fisher')[1]\n",
    "\n",
    "    # --- coping long-term\n",
    "    if len(p_values_LD_v1) == 1:\n",
    "        p_value_LD = p_values_LD_v1[0]\n",
    "\n",
    "    elif len(p_values_LD_v1) == 0:\n",
    "        # p_value_LD = p_values_LD.min()\n",
    "        p_value_LD = stats.combine_pvalues(list(p_values_LD), method = 'fisher')[1]\n",
    "\n",
    "    else:\n",
    "        p_value_LD = stats.combine_pvalues(p_values_LD_v1, method = 'fisher')[1]\n",
    "        \n",
    "    df_gene_v1['gene'] = df_gene['gene'].unique()\n",
    "    df_gene_v1['p_SD'] = p_value_SD\n",
    "    df_gene_v1['p_LD'] = p_value_LD\n",
    "    df_gene_v1['p_val'] = stats.combine_pvalues([p_value_SD, p_value_LD], method = 'fisher')[1]\n",
    "    saleem2022_v1 = pd.concat([saleem2022_v1, df_gene_v1]).reset_index().drop(['index'], axis = 1)\n",
    "    \n",
    "    count += 1\n",
    "    if count % 5000 == 0:\n",
    "        print(count)\n",
    "    \n",
    "saleem2022_v1['sig_flag'] = ''\n",
    "saleem2022_v1['nonsig_flag'] = ''\n",
    "saleem2022_v1.loc[(saleem2022_v1['p_SD'] > 0.05), 'sig_flag'] = 0\n",
    "saleem2022_v1.loc[(saleem2022_v1['p_LD'] > 0.05), 'sig_flag'] = 0\n",
    "saleem2022_v1.loc[(saleem2022_v1['p_SD'] < 0.05), 'sig_flag'] = 1\n",
    "saleem2022_v1.loc[(saleem2022_v1['p_LD'] < 0.05), 'sig_flag'] = 1\n",
    "saleem2022_v1.loc[((saleem2022_v1['p_LD'] < 0.05) & (saleem2022_v1['p_SD'] < 0.05)), 'sig_flag'] = 2\n",
    "saleem2022_v1.loc[(saleem2022_v1['p_SD'] < 0.05), 'nonsig_flag'] = 0\n",
    "saleem2022_v1.loc[(saleem2022_v1['p_LD'] < 0.05), 'nonsig_flag'] = 0\n",
    "saleem2022_v1.loc[(saleem2022_v1['p_SD'] > 0.05), 'nonsig_flag'] = 1\n",
    "saleem2022_v1.loc[(saleem2022_v1['p_LD'] > 0.05), 'nonsig_flag'] = 1\n",
    "saleem2022_v1.loc[((saleem2022_v1['p_LD'] > 0.05) & (saleem2022_v1['p_SD'] > 0.05)), 'nonsig_flag'] = 2"
   ]
  },
  {
   "cell_type": "code",
   "execution_count": 213,
   "metadata": {
    "tags": []
   },
   "outputs": [],
   "source": [
    "# saleem2022_v1.to_excel(r'C:\\Users\\edwar\\Desktop\\農藝\\paper2\\data collection\\saleem2022_integration_v1.xlsx', index = False)"
   ]
  },
  {
   "cell_type": "code",
   "execution_count": 210,
   "metadata": {
    "tags": []
   },
   "outputs": [],
   "source": [
    "saleem2022_v1['score_raw'] = -np.log10(saleem2022_v1['p_val'])"
   ]
  },
  {
   "cell_type": "code",
   "execution_count": 211,
   "metadata": {
    "tags": []
   },
   "outputs": [
    {
     "data": {
      "text/plain": [
       "(array([1.1641e+04, 2.1789e+04, 1.1305e+04, 2.6120e+03, 1.6860e+03,\n",
       "        5.1400e+02, 6.0000e+01, 5.2000e+01, 0.0000e+00, 3.0000e+00]),\n",
       " array([1.36614136e-05, 2.33879291e+00, 4.67757216e+00, 7.01635140e+00,\n",
       "        9.35513065e+00, 1.16939099e+01, 1.40326891e+01, 1.63714684e+01,\n",
       "        1.87102476e+01, 2.10490269e+01, 2.33878061e+01]),\n",
       " <BarContainer object of 10 artists>)"
      ]
     },
     "execution_count": 211,
     "metadata": {},
     "output_type": "execute_result"
    },
    {
     "data": {
      "image/png": "[encoded data removed]",
      "text/plain": [
       "<Figure size 640x480 with 1 Axes>"
      ]
     },
     "metadata": {},
     "output_type": "display_data"
    }
   ],
   "source": [
    "plt.hist(saleem2022_v1['score_raw'])"
   ]
  },
  {
   "cell_type": "code",
   "execution_count": 212,
   "metadata": {
    "tags": []
   },
   "outputs": [
    {
     "data": {
      "text/plain": [
       "count    49662.000000\n",
       "mean         4.089709\n",
       "std          2.436296\n",
       "min          0.000014\n",
       "25%          2.438893\n",
       "50%          3.710426\n",
       "75%          5.198221\n",
       "max         23.387806\n",
       "Name: score_raw, dtype: float64"
      ]
     },
     "execution_count": 212,
     "metadata": {},
     "output_type": "execute_result"
    }
   ],
   "source": [
    "saleem2022_v1['score_raw'].describe()"
   ]
  },
  {
   "cell_type": "code",
   "execution_count": 215,
   "metadata": {
    "tags": []
   },
   "outputs": [
    {
     "data": {
      "text/plain": [
       "209"
      ]
     },
     "execution_count": 215,
     "metadata": {},
     "output_type": "execute_result"
    }
   ],
   "source": [
    "len(saleem2022_v1[saleem2022_v1['score_raw'] > 13])"
   ]
  },
  {
   "cell_type": "code",
   "execution_count": 220,
   "metadata": {
    "tags": []
   },
   "outputs": [
    {
     "data": {
      "text/plain": [
       "8867"
      ]
     },
     "execution_count": 220,
     "metadata": {},
     "output_type": "execute_result"
    }
   ],
   "source": [
    "cri1 = saleem2022_v1['score_raw'] <= 2\n",
    "cri2 = saleem2022_v1['score_raw'] > 0\n",
    "len(saleem2022_v1[cri1 & cri2])"
   ]
  },
  {
   "cell_type": "markdown",
   "metadata": {},
   "source": [
    "# L1: 13 < x <= max in [5, 6] #209\n",
    "# L2: 9 < x <= 13 in [4, 5] #2380\n",
    "# L3: 6 < x <= 9 in [3, 4] #5551\n",
    "# L4: 4 < x <= 6 in [2, 3] #13922\n",
    "# L5: 2 < x <= 4 in [1, 2] #18773\n",
    "# L6: 0 < x <= 2 in [0, 1] #8867"
   ]
  },
  {
   "cell_type": "code",
   "execution_count": 221,
   "metadata": {
    "tags": []
   },
   "outputs": [],
   "source": [
    "# L1 scaling\n",
    "upper_b = 6\n",
    "lower_b = 5\n",
    "max_val = saleem2022_v1['score_raw'].max()\n",
    "min_val = 13\n",
    "\n",
    "saleem2022_v1_L1 = saleem2022_v1[(saleem2022_v1['score_raw'] > min_val) & (saleem2022_v1['score_raw'] <= max_val)].reset_index().drop(['index'], axis = 1)\n",
    "saleem2022_v1_L1['score_saleem2022'] = saleem2022_v1_L1['score_raw'].apply(scale_score, args = (upper_b, lower_b, max_val, min_val))"
   ]
  },
  {
   "cell_type": "code",
   "execution_count": 222,
   "metadata": {
    "tags": []
   },
   "outputs": [],
   "source": [
    "# L2 scaling\n",
    "upper_b = 5\n",
    "lower_b = 4\n",
    "max_val = 13\n",
    "min_val = 9\n",
    "\n",
    "saleem2022_v1_L2 = saleem2022_v1[(saleem2022_v1['score_raw'] > min_val) & (saleem2022_v1['score_raw'] <= max_val)].reset_index().drop(['index'], axis = 1)\n",
    "saleem2022_v1_L2['score_saleem2022'] = saleem2022_v1_L2['score_raw'].apply(scale_score, args = (upper_b, lower_b, max_val, min_val))"
   ]
  },
  {
   "cell_type": "code",
   "execution_count": 223,
   "metadata": {
    "tags": []
   },
   "outputs": [],
   "source": [
    "# L3 scaling\n",
    "upper_b = 4\n",
    "lower_b = 3\n",
    "max_val = 9\n",
    "min_val = 6\n",
    "\n",
    "saleem2022_v1_L3 = saleem2022_v1[(saleem2022_v1['score_raw'] > min_val) & (saleem2022_v1['score_raw'] <= max_val)].reset_index().drop(['index'], axis = 1)\n",
    "saleem2022_v1_L3['score_saleem2022'] = saleem2022_v1_L3['score_raw'].apply(scale_score, args = (upper_b, lower_b, max_val, min_val))"
   ]
  },
  {
   "cell_type": "code",
   "execution_count": 224,
   "metadata": {
    "tags": []
   },
   "outputs": [],
   "source": [
    "# L4 scaling\n",
    "upper_b = 3\n",
    "lower_b = 2\n",
    "max_val = 6\n",
    "min_val = 4\n",
    "\n",
    "saleem2022_v1_L4 = saleem2022_v1[(saleem2022_v1['score_raw'] > min_val) & (saleem2022_v1['score_raw'] <= max_val)].reset_index().drop(['index'], axis = 1)\n",
    "saleem2022_v1_L4['score_saleem2022'] = saleem2022_v1_L4['score_raw'].apply(scale_score, args = (upper_b, lower_b, max_val, min_val))"
   ]
  },
  {
   "cell_type": "code",
   "execution_count": 225,
   "metadata": {
    "tags": []
   },
   "outputs": [],
   "source": [
    "# L5 scaling\n",
    "upper_b = 2\n",
    "lower_b = 1\n",
    "max_val = 4\n",
    "min_val = 2\n",
    "\n",
    "saleem2022_v1_L5 = saleem2022_v1[(saleem2022_v1['score_raw'] > min_val) & (saleem2022_v1['score_raw'] <= max_val)].reset_index().drop(['index'], axis = 1)\n",
    "saleem2022_v1_L5['score_saleem2022'] = saleem2022_v1_L5['score_raw'].apply(scale_score, args = (upper_b, lower_b, max_val, min_val))"
   ]
  },
  {
   "cell_type": "code",
   "execution_count": 226,
   "metadata": {
    "tags": []
   },
   "outputs": [],
   "source": [
    "# L6 scaling\n",
    "upper_b = 1\n",
    "lower_b = 0\n",
    "max_val = 2\n",
    "min_val = 0\n",
    "\n",
    "saleem2022_v1_L6 = saleem2022_v1[(saleem2022_v1['score_raw'] > min_val) & (saleem2022_v1['score_raw'] <= max_val)].reset_index().drop(['index'], axis = 1)\n",
    "saleem2022_v1_L6['score_saleem2022'] = saleem2022_v1_L6['score_raw'].apply(scale_score, args = (upper_b, lower_b, max_val, min_val))"
   ]
  },
  {
   "cell_type": "code",
   "execution_count": 227,
   "metadata": {
    "tags": []
   },
   "outputs": [],
   "source": [
    "saleem2022_v1 = pd.concat([saleem2022_v1_L1, saleem2022_v1_L2, saleem2022_v1_L3, saleem2022_v1_L4, saleem2022_v1_L5, saleem2022_v1_L6]).reset_index().drop(['index'], axis = 1)"
   ]
  },
  {
   "cell_type": "code",
   "execution_count": 228,
   "metadata": {
    "tags": []
   },
   "outputs": [
    {
     "data": {
      "text/plain": [
       "(array([ 3740.,  8371., 11685., 10663.,  7063.,  4438.,  1812.,  1488.,\n",
       "          373.,    29.]),\n",
       " array([6.83070681e-06, 6.00006148e-01, 1.20000546e+00, 1.80000478e+00,\n",
       "        2.40000410e+00, 3.00000342e+00, 3.60000273e+00, 4.20000205e+00,\n",
       "        4.80000137e+00, 5.40000068e+00, 6.00000000e+00]),\n",
       " <BarContainer object of 10 artists>)"
      ]
     },
     "execution_count": 228,
     "metadata": {},
     "output_type": "execute_result"
    },
    {
     "data": {
      "image/png": "[encoded data removed]",
      "text/plain": [
       "<Figure size 640x480 with 1 Axes>"
      ]
     },
     "metadata": {},
     "output_type": "display_data"
    }
   ],
   "source": [
    "plt.hist(saleem2022_v1['score_saleem2022'])"
   ]
  },
  {
   "cell_type": "code",
   "execution_count": 229,
   "metadata": {
    "tags": []
   },
   "outputs": [],
   "source": [
    "saleem2022_v2 = saleem2022_v1.copy()\n",
    "saleem2022_v2 = saleem2022_v2.rename(columns = {'sig_flag':'sig_flag_saleem2022', 'nonsig_flag':'nonsig_flag_saleem2022'})[['gene', 'sig_flag_saleem2022', 'nonsig_flag_saleem2022', 'score_saleem2022']]"
   ]
  },
  {
   "cell_type": "code",
   "execution_count": 230,
   "metadata": {
    "tags": []
   },
   "outputs": [],
   "source": [
    "gene_total_score_data_v3 = gene_total_score_data_v3.rename(columns = {'sig_flag':'sig_flag_individual', 'nonsig_flag':'nonsig_flag_individual', 'score_new':'score_individual'})\n",
    "gene_score_total = gene_total_score_data_v3[['gene', 'sig_flag_individual', 'nonsig_flag_individual', 'score_individual']].merge(saleem2022_v2[['gene', 'sig_flag_saleem2022', 'nonsig_flag_saleem2022', 'score_saleem2022']], how = 'outer', on = ['gene'])\n",
    "gene_score_total['score_total'] = gene_score_total[['score_individual', 'score_saleem2022']].sum(axis = 1)\n",
    "gene_score_total['sigflag_total'] = gene_score_total[['sig_flag_individual', 'sig_flag_saleem2022']].sum(axis = 1)\n",
    "gene_score_total['nonsigflag_total'] = gene_score_total[['nonsig_flag_individual', 'nonsig_flag_saleem2022']].sum(axis = 1)"
   ]
  },
  {
   "cell_type": "code",
   "execution_count": 231,
   "metadata": {
    "tags": []
   },
   "outputs": [
    {
     "data": {
      "text/plain": [
       "count    49836.000000\n",
       "mean         2.129941\n",
       "std          1.254079\n",
       "min          0.000007\n",
       "25%          1.254100\n",
       "50%          1.925446\n",
       "75%          2.757962\n",
       "max          9.780306\n",
       "Name: score_total, dtype: float64"
      ]
     },
     "execution_count": 231,
     "metadata": {},
     "output_type": "execute_result"
    }
   ],
   "source": [
    "gene_score_total.score_total.describe()"
   ]
  },
  {
   "cell_type": "code",
   "execution_count": 233,
   "metadata": {
    "tags": []
   },
   "outputs": [
    {
     "data": {
      "text/plain": [
       "(array([ 8127., 17309., 13604.,  6199.,  3020.,   917.,   409.,   162.,\n",
       "           64.,    25.]),\n",
       " array([6.83070681e-06, 9.78036787e-01, 1.95606674e+00, 2.93409670e+00,\n",
       "        3.91212665e+00, 4.89015661e+00, 5.86818657e+00, 6.84621652e+00,\n",
       "        7.82424648e+00, 8.80227643e+00, 9.78030639e+00]),\n",
       " <BarContainer object of 10 artists>)"
      ]
     },
     "execution_count": 233,
     "metadata": {},
     "output_type": "execute_result"
    },
    {
     "data": {
      "image/png": "[encoded data removed]",
      "text/plain": [
       "<Figure size 640x480 with 1 Axes>"
      ]
     },
     "metadata": {},
     "output_type": "display_data"
    }
   ],
   "source": [
    "plt.hist(gene_score_total['score_total'])"
   ]
  },
  {
   "cell_type": "code",
   "execution_count": 234,
   "metadata": {
    "tags": []
   },
   "outputs": [
    {
     "data": {
      "text/plain": [
       "217"
      ]
     },
     "execution_count": 234,
     "metadata": {},
     "output_type": "execute_result"
    }
   ],
   "source": [
    "len(gene_score_total[gene_score_total['score_total'] > 7])"
   ]
  },
  {
   "cell_type": "code",
   "execution_count": 238,
   "metadata": {
    "tags": []
   },
   "outputs": [
    {
     "data": {
      "text/plain": [
       "26241"
      ]
     },
     "execution_count": 238,
     "metadata": {},
     "output_type": "execute_result"
    }
   ],
   "source": [
    "cri1 = gene_score_total['score_total'] <= 2\n",
    "cri2 = gene_score_total['score_total'] > 0\n",
    "len(gene_score_total[cri1 & cri2])"
   ]
  },
  {
   "cell_type": "markdown",
   "metadata": {},
   "source": [
    "# L1: 7 < x <= max in [5, 6] #217\n",
    "# L2: 4.3 < x <= 7 in [4, 5] #2994\n",
    "# L3: 3 < x <= 4.3 in [3, 4] #7008\n",
    "# L4: 2 < x <= 3 in [2, 3] #13376\n",
    "# L5: 0 < x <= 2 in [0, 2]"
   ]
  },
  {
   "cell_type": "code",
   "execution_count": 239,
   "metadata": {
    "tags": []
   },
   "outputs": [],
   "source": [
    "# L1 scaling\n",
    "upper_b = 6\n",
    "lower_b = 5\n",
    "max_val = gene_score_total['score_total'].max()\n",
    "min_val = 7\n",
    "\n",
    "gene_score_total_L1 = gene_score_total[(gene_score_total['score_total'] > min_val) & (gene_score_total['score_total'] <= max_val)].reset_index().drop(['index'], axis = 1)\n",
    "gene_score_total_L1['score'] = gene_score_total_L1['score_total'].apply(scale_score, args = (upper_b, lower_b, max_val, min_val))"
   ]
  },
  {
   "cell_type": "code",
   "execution_count": 240,
   "metadata": {
    "tags": []
   },
   "outputs": [],
   "source": [
    "# L2 scaling\n",
    "upper_b = 5\n",
    "lower_b = 4\n",
    "max_val = 7\n",
    "min_val = 4.3\n",
    "\n",
    "gene_score_total_L2 = gene_score_total[(gene_score_total['score_total'] > min_val) & (gene_score_total['score_total'] <= max_val)].reset_index().drop(['index'], axis = 1)\n",
    "gene_score_total_L2['score'] = gene_score_total_L2['score_total'].apply(scale_score, args = (upper_b, lower_b, max_val, min_val))"
   ]
  },
  {
   "cell_type": "code",
   "execution_count": 241,
   "metadata": {
    "tags": []
   },
   "outputs": [],
   "source": [
    "# L3 scaling\n",
    "upper_b = 4\n",
    "lower_b = 3\n",
    "max_val = 4.3\n",
    "min_val = 3\n",
    "\n",
    "gene_score_total_L3 = gene_score_total[(gene_score_total['score_total'] > min_val) & (gene_score_total['score_total'] <= max_val)].reset_index().drop(['index'], axis = 1)\n",
    "gene_score_total_L3['score'] = gene_score_total_L3['score_total'].apply(scale_score, args = (upper_b, lower_b, max_val, min_val))"
   ]
  },
  {
   "cell_type": "code",
   "execution_count": 242,
   "metadata": {
    "tags": []
   },
   "outputs": [],
   "source": [
    "# L4 scaling\n",
    "upper_b = 3\n",
    "lower_b = 0\n",
    "max_val = 3\n",
    "min_val = 0\n",
    "\n",
    "gene_score_total_L4 = gene_score_total[(gene_score_total['score_total'] > min_val) & (gene_score_total['score_total'] <= max_val)].reset_index().drop(['index'], axis = 1)\n",
    "gene_score_total_L4['score'] = gene_score_total_L4['score_total'].apply(scale_score, args = (upper_b, lower_b, max_val, min_val))"
   ]
  },
  {
   "cell_type": "code",
   "execution_count": 243,
   "metadata": {
    "tags": []
   },
   "outputs": [],
   "source": [
    "gene_score_total = pd.concat([gene_score_total_L1, gene_score_total_L2, gene_score_total_L3, gene_score_total_L4]).reset_index().drop(['index'], axis = 1)"
   ]
  },
  {
   "cell_type": "code",
   "execution_count": 244,
   "metadata": {
    "tags": []
   },
   "outputs": [
    {
     "data": {
      "text/plain": [
       "(array([ 3573.,  7975., 11066., 10193.,  6810.,  5176.,  3391.,  1289.,\n",
       "          302.,    61.]),\n",
       " array([6.83070681e-06, 6.00006148e-01, 1.20000546e+00, 1.80000478e+00,\n",
       "        2.40000410e+00, 3.00000342e+00, 3.60000273e+00, 4.20000205e+00,\n",
       "        4.80000137e+00, 5.40000068e+00, 6.00000000e+00]),\n",
       " <BarContainer object of 10 artists>)"
      ]
     },
     "execution_count": 244,
     "metadata": {},
     "output_type": "execute_result"
    },
    {
     "data": {
      "image/png": "[encoded data removed]",
      "text/plain": [
       "<Figure size 640x480 with 1 Axes>"
      ]
     },
     "metadata": {},
     "output_type": "display_data"
    }
   ],
   "source": [
    "plt.hist(gene_score_total['score'])"
   ]
  },
  {
   "cell_type": "code",
   "execution_count": 245,
   "metadata": {
    "tags": []
   },
   "outputs": [],
   "source": [
    "gene_score_total.to_excel(r'C:\\Users\\edwar\\Desktop\\農藝\\paper2\\data collection\\dna_layer_final_new_v1.xlsx', index = False)"
   ]
  },
  {
   "cell_type": "code",
   "execution_count": null,
   "metadata": {},
   "outputs": [],
   "source": []
  },
  {
   "cell_type": "code",
   "execution_count": null,
   "metadata": {},
   "outputs": [],
   "source": []
  },
  {
   "cell_type": "markdown",
   "metadata": {},
   "source": [
    "--- new approach --- up"
   ]
  },
  {
   "cell_type": "code",
   "execution_count": null,
   "metadata": {},
   "outputs": [],
   "source": []
  },
  {
   "cell_type": "code",
   "execution_count": 82,
   "metadata": {},
   "outputs": [
    {
     "name": "stdout",
     "output_type": "stream",
     "text": [
      "[0.9956960429844884, 0.21480514562846836, 0.9988220056958469, 0.059481307517510996] \t [0.06690396913630547, 0.07176483375444845, 0.318262247839965, 0.8779635676225199]\n"
     ]
    }
   ],
   "source": [
    "df_gene = saleem2022[saleem2022['gene'] == 'Glyma.01g000100'].reset_index().drop(['index'], axis = 1)\n",
    "df_gene = df_gene.drop_duplicates(['P.value_CW_SDS', 'P.value_CW_LDS', 'P.value_LSEN_SDS', 'P.value_LSEN_LDS', 'P.value_AGRmax-Yr_SDS', 'P.value_AGRmax-Yr_LDS', 'P.value_CH-Yr_SDS', 'P.value_CH-Yr_LDS']).reset_index().drop(['index'], axis = 1)\n",
    "df_gene_SD = df_gene[['gene', 'P.value_CW_SDS', 'P.value_LSEN_SDS', 'P.value_AGRmax-Yr_SDS', 'P.value_CH-Yr_SDS']]\n",
    "df_gene_LD = df_gene[['gene', 'P.value_CW_LDS', 'P.value_LSEN_LDS', 'P.value_AGRmax-Yr_LDS', 'P.value_CH-Yr_LDS']]\n",
    "p_values_SD = [stats.combine_pvalues(df_gene_SD['P.value_CW_SDS'])[1], stats.combine_pvalues(df_gene_SD['P.value_LSEN_SDS'])[1], stats.combine_pvalues(df_gene_SD['P.value_AGRmax-Yr_SDS'])[1], stats.combine_pvalues(df_gene_SD['P.value_CH-Yr_SDS'])[1]]\n",
    "p_values_LD = [stats.combine_pvalues(df_gene_LD['P.value_CW_LDS'])[1], stats.combine_pvalues(df_gene_LD['P.value_LSEN_LDS'])[1], stats.combine_pvalues(df_gene_LD['P.value_AGRmax-Yr_LDS'])[1], stats.combine_pvalues(df_gene_LD['P.value_CH-Yr_LDS'])[1]]\n",
    "print(p_values_SD, '\\t', p_values_LD)"
   ]
  },
  {
   "cell_type": "code",
   "execution_count": 136,
   "metadata": {},
   "outputs": [
    {
     "name": "stderr",
     "output_type": "stream",
     "text": [
      "C:\\Users\\edwar\\Anaconda3\\lib\\site-packages\\scipy\\stats\\stats.py:8203: RuntimeWarning: divide by zero encountered in log\n",
      "  statistic = -2 * np.sum(np.log(pvalues))\n",
      "C:\\Users\\edwar\\Anaconda3\\lib\\site-packages\\scipy\\stats\\_distn_infrastructure.py:2039: RuntimeWarning: invalid value encountered in less_equal\n",
      "  cond2 = cond0 & (x <= _a)\n"
     ]
    },
    {
     "name": "stdout",
     "output_type": "stream",
     "text": [
      "5000\n",
      "10000\n",
      "15000\n",
      "20000\n",
      "25000\n",
      "30000\n",
      "35000\n",
      "40000\n",
      "45000\n"
     ]
    }
   ],
   "source": [
    "gene_list = list(saleem2022['gene'].unique())\n",
    "saleem2022_v1 = pd.DataFrame()\n",
    "\n",
    "count = 0\n",
    "for gene in gene_list:\n",
    "    df_gene_v1 = pd.DataFrame()\n",
    "    df_gene = saleem2022[saleem2022['gene'] == gene].reset_index().drop(['index'], axis = 1)\n",
    "    df_gene = df_gene.drop_duplicates(['P.value_CW_SDS', 'P.value_CW_LDS', 'P.value_LSEN_SDS', 'P.value_LSEN_LDS', 'P.value_AGRmax-Yr_SDS', 'P.value_AGRmax-Yr_LDS', 'P.value_CH-Yr_SDS', 'P.value_CH-Yr_LDS']).reset_index().drop(['index'], axis = 1)\n",
    "    df_gene_SD = df_gene[['gene', 'P.value_CW_SDS', 'P.value_LSEN_SDS', 'P.value_AGRmax-Yr_SDS', 'P.value_CH-Yr_SDS']]\n",
    "    df_gene_LD = df_gene[['gene', 'P.value_CW_LDS', 'P.value_LSEN_LDS', 'P.value_AGRmax-Yr_LDS', 'P.value_CH-Yr_LDS']]\n",
    "    p_values_SD = [stats.combine_pvalues(df_gene_SD['P.value_CW_SDS'], method = 'fisher')[1], stats.combine_pvalues(df_gene_SD['P.value_LSEN_SDS'], method = 'fisher')[1], stats.combine_pvalues(df_gene_SD['P.value_AGRmax-Yr_SDS'], method = 'fisher')[1], stats.combine_pvalues(df_gene_SD['P.value_CH-Yr_SDS'], method = 'fisher')[1]]\n",
    "    p_values_LD = [stats.combine_pvalues(df_gene_LD['P.value_CW_LDS'], method = 'fisher')[1], stats.combine_pvalues(df_gene_LD['P.value_LSEN_LDS'], method = 'fisher')[1], stats.combine_pvalues(df_gene_LD['P.value_AGRmax-Yr_LDS'], method = 'fisher')[1], stats.combine_pvalues(df_gene_LD['P.value_CH-Yr_LDS'], method = 'fisher')[1]]\n",
    "    p_value_SD = stats.combine_pvalues(p_values_SD, method = 'fisher')[1]\n",
    "    p_value_LD = stats.combine_pvalues(p_values_LD, method = 'fisher')[1]\n",
    "    df_gene_v1['gene'] = df_gene['gene'].unique()\n",
    "    df_gene_v1['p_SD'] = p_value_SD\n",
    "    df_gene_v1['p_LD'] = p_value_LD\n",
    "    df_gene_v1['p_val'] = stats.combine_pvalues([p_value_SD, p_value_LD], method = 'fisher')[1]\n",
    "    saleem2022_v1 = pd.concat([saleem2022_v1, df_gene_v1]).reset_index().drop(['index'], axis = 1)\n",
    "    \n",
    "    count += 1\n",
    "    if count % 5000 == 0:\n",
    "        print(count)\n",
    "        \n",
    "saleem2022_v1['sig_flag'] = ''\n",
    "saleem2022_v1['nonsig_flag'] = ''\n",
    "saleem2022_v1.loc[(saleem2022_v1['p_SD'] > 0.05), 'sig_flag'] = 0\n",
    "saleem2022_v1.loc[(saleem2022_v1['p_LD'] > 0.05), 'sig_flag'] = 0\n",
    "saleem2022_v1.loc[(saleem2022_v1['p_SD'] < 0.05), 'sig_flag'] = 1\n",
    "saleem2022_v1.loc[(saleem2022_v1['p_LD'] < 0.05), 'sig_flag'] = 1\n",
    "saleem2022_v1.loc[((saleem2022_v1['p_LD'] < 0.05) & (saleem2022_v1['p_SD'] < 0.05)), 'sig_flag'] = 2\n",
    "saleem2022_v1.loc[(saleem2022_v1['p_SD'] < 0.05), 'nonsig_flag'] = 0\n",
    "saleem2022_v1.loc[(saleem2022_v1['p_LD'] < 0.05), 'nonsig_flag'] = 0\n",
    "saleem2022_v1.loc[(saleem2022_v1['p_SD'] > 0.05), 'nonsig_flag'] = 1\n",
    "saleem2022_v1.loc[(saleem2022_v1['p_LD'] > 0.05), 'nonsig_flag'] = 1\n",
    "saleem2022_v1.loc[((saleem2022_v1['p_LD'] > 0.05) & (saleem2022_v1['p_SD'] > 0.05)), 'nonsig_flag'] = 2"
   ]
  },
  {
   "cell_type": "code",
   "execution_count": 168,
   "metadata": {},
   "outputs": [
    {
     "name": "stdout",
     "output_type": "stream",
     "text": [
      "5000\n",
      "10000\n",
      "15000\n",
      "20000\n",
      "25000\n",
      "30000\n",
      "35000\n",
      "40000\n",
      "45000\n"
     ]
    }
   ],
   "source": [
    "saleem2022_v2 = saleem2022_v1.copy()\n",
    "saleem2022_v2.loc[(saleem2022_v2['p_SD'] == 0), 'p_SD'] = 10 ** -32\n",
    "saleem2022_v2.loc[(saleem2022_v2['p_LD'] == 0), 'p_LD'] = 10 ** -32\n",
    "saleem2022_v3 = pd.DataFrame()\n",
    "\n",
    "gene_list = list(saleem2022_v2['gene'].unique())\n",
    "count = 0\n",
    "for gene in gene_list:\n",
    "    df_gene = saleem2022_v2[saleem2022_v2['gene'] == gene].reset_index().drop(['index'], axis = 1)\n",
    "    df_gene_v1 = pd.DataFrame()\n",
    "    df_gene_v1['gene'] = df_gene['gene']\n",
    "    df_gene_v1['p_val'] = stats.combine_pvalues([float(df_gene['p_SD']), float(df_gene['p_LD'])], method = 'fisher')[1]\n",
    "    df_gene_v1['sig_flag'] = df_gene['sig_flag']\n",
    "    df_gene_v1['nonsig_flag'] = df_gene['nonsig_flag']\n",
    "    saleem2022_v3 = pd.concat([saleem2022_v3, df_gene_v1]).reset_index().drop(['index'], axis = 1)\n",
    "    \n",
    "    count += 1\n",
    "    if count % 5000 == 0:\n",
    "        print(count)"
   ]
  },
  {
   "cell_type": "code",
   "execution_count": 170,
   "metadata": {},
   "outputs": [],
   "source": [
    "saleem2022_v3['score_raw'] = -np.log10(saleem2022_v3['p_val'])"
   ]
  },
  {
   "cell_type": "code",
   "execution_count": 172,
   "metadata": {},
   "outputs": [
    {
     "data": {
      "text/plain": [
       "count    49662.000000\n",
       "mean         6.270079\n",
       "std          8.437409\n",
       "min          0.000021\n",
       "25%          1.551709\n",
       "50%          3.471908\n",
       "75%          6.868108\n",
       "max         61.828667\n",
       "Name: score_raw, dtype: float64"
      ]
     },
     "execution_count": 172,
     "metadata": {},
     "output_type": "execute_result"
    }
   ],
   "source": [
    "saleem2022_v3['score_raw'].describe()"
   ]
  },
  {
   "cell_type": "code",
   "execution_count": 171,
   "metadata": {},
   "outputs": [
    {
     "data": {
      "text/plain": [
       "(array([3.5439e+04, 8.8930e+03, 1.6390e+03, 2.7200e+02, 6.0800e+02,\n",
       "        2.3330e+03, 3.7300e+02, 5.0000e+01, 4.0000e+00, 5.1000e+01]),\n",
       " array([2.08311948e-05, 6.18288547e+00, 1.23657501e+01, 1.85486148e+01,\n",
       "        2.47314794e+01, 3.09143440e+01, 3.70972087e+01, 4.32800733e+01,\n",
       "        4.94629380e+01, 5.56458026e+01, 6.18286672e+01]),\n",
       " <a list of 10 Patch objects>)"
      ]
     },
     "execution_count": 171,
     "metadata": {},
     "output_type": "execute_result"
    },
    {
     "data": {
      "image/png": "[encoded data removed]",
      "text/plain": [
       "<Figure size 432x288 with 1 Axes>"
      ]
     },
     "metadata": {
      "needs_background": "light"
     },
     "output_type": "display_data"
    }
   ],
   "source": [
    "plt.hist(saleem2022_v3['score_raw'])"
   ]
  },
  {
   "cell_type": "markdown",
   "metadata": {},
   "source": [
    "# L1: 41 < x <= max in [5, 6] #about 166\n",
    "# L2: 35 < x <= 41 [4, 5] #about 764\n",
    "# L3: 20 < x <= 35 in [3, 4] #about 2646\n",
    "# L4: 8 < x <= 20 in [2, 3] #about 6528\n",
    "# L5: 3 < x < 8 in [1, 2] #about 17319\n",
    "# L6: 0 < x < 3 in [0, 1] #about 22239"
   ]
  },
  {
   "cell_type": "code",
   "execution_count": 198,
   "metadata": {},
   "outputs": [],
   "source": [
    "def scale_score(x, upper_b, lower_b, max_val, min_val):\n",
    "    scaling = (upper_b - lower_b) / (max_val - min_val)\n",
    "    return (x - min_val) * scaling + lower_b"
   ]
  },
  {
   "cell_type": "code",
   "execution_count": 200,
   "metadata": {},
   "outputs": [],
   "source": [
    "# L1 rescaling\n",
    "upper_b = 6\n",
    "lower_b = 5\n",
    "max_val = saleem2022_v3['score_raw'].max()\n",
    "min_val = 41\n",
    "saleem2022_v3_L1 = saleem2022_v3[(saleem2022_v3['score_raw'] > min_val) & (saleem2022_v3['score_raw'] <= max_val)].reset_index().drop(['index'], axis = 1)\n",
    "\n",
    "saleem2022_v3_L1['score_saleem2022'] = saleem2022_v3_L1['score_raw'].apply(scale_score, args = (upper_b, lower_b, max_val, min_val))"
   ]
  },
  {
   "cell_type": "code",
   "execution_count": 201,
   "metadata": {},
   "outputs": [],
   "source": [
    "# L2 rescaling\n",
    "upper_b = 5\n",
    "lower_b = 4\n",
    "max_val = 41\n",
    "min_val = 35\n",
    "saleem2022_v3_L2 = saleem2022_v3[(saleem2022_v3['score_raw'] > min_val) & (saleem2022_v3['score_raw'] <= max_val)].reset_index().drop(['index'], axis = 1)\n",
    "\n",
    "saleem2022_v3_L2['score_saleem2022'] = saleem2022_v3_L2['score_raw'].apply(scale_score, args = (upper_b, lower_b, max_val, min_val))"
   ]
  },
  {
   "cell_type": "code",
   "execution_count": 202,
   "metadata": {},
   "outputs": [],
   "source": [
    "# L3 rescaling\n",
    "upper_b = 4\n",
    "lower_b = 3\n",
    "max_val = 35\n",
    "min_val = 20\n",
    "saleem2022_v3_L3 = saleem2022_v3[(saleem2022_v3['score_raw'] > min_val) & (saleem2022_v3['score_raw'] <= max_val)].reset_index().drop(['index'], axis = 1)\n",
    "\n",
    "saleem2022_v3_L3['score_saleem2022'] = saleem2022_v3_L3['score_raw'].apply(scale_score, args = (upper_b, lower_b, max_val, min_val))"
   ]
  },
  {
   "cell_type": "code",
   "execution_count": 203,
   "metadata": {},
   "outputs": [],
   "source": [
    "# L4 rescaling\n",
    "upper_b = 3\n",
    "lower_b = 2\n",
    "max_val = 20\n",
    "min_val = 8\n",
    "saleem2022_v3_L4 = saleem2022_v3[(saleem2022_v3['score_raw'] > min_val) & (saleem2022_v3['score_raw'] <= max_val)].reset_index().drop(['index'], axis = 1)\n",
    "\n",
    "saleem2022_v3_L4['score_saleem2022'] = saleem2022_v3_L4['score_raw'].apply(scale_score, args = (upper_b, lower_b, max_val, min_val))"
   ]
  },
  {
   "cell_type": "code",
   "execution_count": 204,
   "metadata": {},
   "outputs": [],
   "source": [
    "# L5 rescaling\n",
    "upper_b = 2\n",
    "lower_b = 1\n",
    "max_val = 8\n",
    "min_val = 3\n",
    "saleem2022_v3_L5 = saleem2022_v3[(saleem2022_v3['score_raw'] > min_val) & (saleem2022_v3['score_raw'] <= max_val)].reset_index().drop(['index'], axis = 1)\n",
    "\n",
    "saleem2022_v3_L5['score_saleem2022'] = saleem2022_v3_L5['score_raw'].apply(scale_score, args = (upper_b, lower_b, max_val, min_val))"
   ]
  },
  {
   "cell_type": "code",
   "execution_count": 205,
   "metadata": {},
   "outputs": [],
   "source": [
    "# L6 rescaling\n",
    "upper_b = 1\n",
    "lower_b = 0\n",
    "max_val = 3\n",
    "min_val = 0\n",
    "saleem2022_v3_L6 = saleem2022_v3[(saleem2022_v3['score_raw'] > min_val) & (saleem2022_v3['score_raw'] <= max_val)].reset_index().drop(['index'], axis = 1)\n",
    "\n",
    "saleem2022_v3_L6['score_saleem2022'] = saleem2022_v3_L6['score_raw'].apply(scale_score, args = (upper_b, lower_b, max_val, min_val))"
   ]
  },
  {
   "cell_type": "code",
   "execution_count": 211,
   "metadata": {},
   "outputs": [],
   "source": [
    "saleem2022_v3 = pd.concat([saleem2022_v3_L1, saleem2022_v3_L2, saleem2022_v3_L3, saleem2022_v3_L4, saleem2022_v3_L5, saleem2022_v3_L6]).reset_index().drop(['index'], axis = 1)"
   ]
  },
  {
   "cell_type": "code",
   "execution_count": 212,
   "metadata": {},
   "outputs": [],
   "source": [
    "saleem2022_v3 = saleem2022_v3.rename(columns = {'sig_flag':'sig_flag_saleem2022', 'nonsig_flag':'nonsig_flag_saleem2022'})"
   ]
  },
  {
   "cell_type": "code",
   "execution_count": 217,
   "metadata": {},
   "outputs": [],
   "source": [
    "# gene_score_total = gene_total_score_data_v3[['gene', 'sig_flag_individual', 'nonsig_flag_individual', 'score_individual']].merge(saleem2022_v3[['gene', 'sig_flag_saleem2022', 'nonsig_flag_saleem2022', 'score_saleem2022']], how = 'outer', on = ['gene'])"
   ]
  },
  {
   "cell_type": "code",
   "execution_count": 219,
   "metadata": {},
   "outputs": [],
   "source": [
    "gene_score_total = gene_total_score_data_v3[['gene', 'sig_flag_individual', 'nonsig_flag_individual', 'score_individual']].merge(saleem2022_v3[['gene', 'sig_flag_saleem2022', 'nonsig_flag_saleem2022', 'score_saleem2022']], how = 'outer', on = ['gene'])\n",
    "gene_score_total['score_total'] = gene_score_total[['score_individual', 'score_saleem2022']].sum(axis = 1)\n",
    "gene_score_total['sigflag_total'] = gene_score_total[['sig_flag_individual', 'sig_flag_saleem2022']].sum(axis = 1)\n",
    "gene_score_total['nonsigflag_total'] = gene_score_total[['nonsig_flag_individual', 'nonsig_flag_saleem2022']].sum(axis = 1)"
   ]
  },
  {
   "cell_type": "code",
   "execution_count": 223,
   "metadata": {},
   "outputs": [
    {
     "data": {
      "text/plain": [
       "(array([20242., 16433.,  7385.,  2284.,  2430.,   681.,   244.,    70.,\n",
       "           45.,    22.]),\n",
       " array([6.94373161e-06, 9.51301777e-01, 1.90259661e+00, 2.85389144e+00,\n",
       "        3.80518628e+00, 4.75648111e+00, 5.70777594e+00, 6.65907077e+00,\n",
       "        7.61036561e+00, 8.56166044e+00, 9.51295527e+00]),\n",
       " <a list of 10 Patch objects>)"
      ]
     },
     "execution_count": 223,
     "metadata": {},
     "output_type": "execute_result"
    },
    {
     "data": {
      "image/png": "[encoded data removed]",
      "text/plain": [
       "<Figure size 432x288 with 1 Axes>"
      ]
     },
     "metadata": {
      "needs_background": "light"
     },
     "output_type": "display_data"
    }
   ],
   "source": [
    "plt.hist(gene_score_total['score_total'])"
   ]
  },
  {
   "cell_type": "markdown",
   "metadata": {},
   "source": [
    "# L1: 6.5 < x <= max in [5, 6] #about 152\n",
    "# L2: 5 < x <= 6.5 in [4, 5] #about 710\n",
    "# L3: 3.5 < x <= 5 in [3, 4] #about 4118\n",
    "# L4: 2 < x <= 3.5 in [2, 3] #about 7308\n",
    "# L5: 1 < x <= 2 in [1, 2] #about 16505\n",
    "# L6: 0 < x <= 1 in [0, 1] #about 21043"
   ]
  },
  {
   "cell_type": "code",
   "execution_count": 245,
   "metadata": {},
   "outputs": [],
   "source": [
    "# L1 rescaling\n",
    "upper_b = 6\n",
    "lower_b = 5\n",
    "max_val = gene_score_total['score_total'].max()\n",
    "min_val = 6.5\n",
    "\n",
    "gene_score_total_L1 = gene_score_total[(gene_score_total['score_total'] > min_val) & (gene_score_total['score_total'] <= max_val)].reset_index().drop(['index'], axis = 1)\n",
    "gene_score_total_L1['score'] = gene_score_total_L1['score_total'].apply(scale_score, args = (upper_b, lower_b, max_val, min_val))"
   ]
  },
  {
   "cell_type": "code",
   "execution_count": 246,
   "metadata": {},
   "outputs": [],
   "source": [
    "# L2 rescaling\n",
    "upper_b = 5\n",
    "lower_b = 4\n",
    "max_val = 6.5\n",
    "min_val = 5\n",
    "\n",
    "gene_score_total_L2 = gene_score_total[(gene_score_total['score_total'] > min_val) & (gene_score_total['score_total'] <= max_val)].reset_index().drop(['index'], axis = 1)\n",
    "gene_score_total_L2['score'] = gene_score_total_L2['score_total'].apply(scale_score, args = (upper_b, lower_b, max_val, min_val))"
   ]
  },
  {
   "cell_type": "code",
   "execution_count": 247,
   "metadata": {},
   "outputs": [],
   "source": [
    "# L3 rescaling\n",
    "upper_b = 4\n",
    "lower_b = 3\n",
    "max_val = 5\n",
    "min_val = 3.5\n",
    "\n",
    "gene_score_total_L3 = gene_score_total[(gene_score_total['score_total'] > min_val) & (gene_score_total['score_total'] <= max_val)].reset_index().drop(['index'], axis = 1)\n",
    "gene_score_total_L3['score'] = gene_score_total_L3['score_total'].apply(scale_score, args = (upper_b, lower_b, max_val, min_val))"
   ]
  },
  {
   "cell_type": "code",
   "execution_count": 248,
   "metadata": {},
   "outputs": [],
   "source": [
    "# L4 rescaling\n",
    "upper_b = 3\n",
    "lower_b = 2\n",
    "max_val = 3.5\n",
    "min_val = 2\n",
    "\n",
    "gene_score_total_L4 = gene_score_total[(gene_score_total['score_total'] > min_val) & (gene_score_total['score_total'] <= max_val)].reset_index().drop(['index'], axis = 1)\n",
    "gene_score_total_L4['score'] = gene_score_total_L4['score_total'].apply(scale_score, args = (upper_b, lower_b, max_val, min_val))"
   ]
  },
  {
   "cell_type": "code",
   "execution_count": 249,
   "metadata": {},
   "outputs": [],
   "source": [
    "# L5 rescaling\n",
    "upper_b = 2\n",
    "lower_b = 1\n",
    "max_val = 2\n",
    "min_val = 1\n",
    "\n",
    "gene_score_total_L5 = gene_score_total[(gene_score_total['score_total'] > min_val) & (gene_score_total['score_total'] <= max_val)].reset_index().drop(['index'], axis = 1)\n",
    "gene_score_total_L5['score'] = gene_score_total_L5['score_total'].apply(scale_score, args = (upper_b, lower_b, max_val, min_val))"
   ]
  },
  {
   "cell_type": "code",
   "execution_count": 250,
   "metadata": {},
   "outputs": [],
   "source": [
    "# L6 rescaling\n",
    "upper_b = 1\n",
    "lower_b = 0\n",
    "max_val = 1\n",
    "min_val = 0\n",
    "\n",
    "gene_score_total_L6 = gene_score_total[(gene_score_total['score_total'] > min_val) & (gene_score_total['score_total'] <= max_val)].reset_index().drop(['index'], axis = 1)\n",
    "gene_score_total_L6['score'] = gene_score_total_L6['score_total'].apply(scale_score, args = (upper_b, lower_b, max_val, min_val))"
   ]
  },
  {
   "cell_type": "code",
   "execution_count": 253,
   "metadata": {},
   "outputs": [],
   "source": [
    "gene_score_total = pd.concat([gene_score_total_L1, gene_score_total_L2, gene_score_total_L3, gene_score_total_L4, gene_score_total_L5, gene_score_total_L6]).reset_index().drop(['index'], axis = 1)"
   ]
  },
  {
   "cell_type": "code",
   "execution_count": 255,
   "metadata": {},
   "outputs": [],
   "source": [
    "gene_score_total.to_excel(r'C:\\Users\\edwar\\Desktop\\農藝\\paper2\\data collection\\dna_layer_final.xlsx', index = False)"
   ]
  }
 ],
 "metadata": {
  "kernelspec": {
   "display_name": "Python 3 (ipykernel)",
   "language": "python",
   "name": "python3"
  },
  "language_info": {
   "codemirror_mode": {
    "name": "ipython",
    "version": 3
   },
   "file_extension": ".py",
   "mimetype": "text/x-python",
   "name": "python",
   "nbconvert_exporter": "python",
   "pygments_lexer": "ipython3",
   "version": "3.12.7"
  }
 },
 "nbformat": 4,
 "nbformat_minor": 4
}
