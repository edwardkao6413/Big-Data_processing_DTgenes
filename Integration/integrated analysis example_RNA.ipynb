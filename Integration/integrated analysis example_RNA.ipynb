{
 "cells": [
  {
   "cell_type": "code",
   "execution_count": 1,
   "metadata": {
    "tags": []
   },
   "outputs": [],
   "source": [
    "import pandas as pd\n",
    "import numpy as np\n",
    "pd.set_option('display.max_columns', 50)\n",
    "# pd.set_option('display.max_rows', 50)\n",
    "import tabula\n",
    "from pandasql import sqldf\n",
    "import math\n",
    "from scipy.stats import chi2\n",
    "from scipy import stats\n",
    "from matplotlib import pyplot as plt"
   ]
  },
  {
   "cell_type": "markdown",
   "metadata": {},
   "source": [
    "---------RNA-------------"
   ]
  },
  {
   "cell_type": "code",
   "execution_count": 2,
   "metadata": {
    "tags": []
   },
   "outputs": [],
   "source": [
    "# integrated dataset\n",
    "rna_layer = pd.read_excel(r'C:\\Users\\edwar\\Desktop\\農藝\\paper2\\metaData_soybean_drought.xlsx', sheet_name = 'RNA')\n",
    "\n",
    "\n",
    "# prince_2015 no need preprocessing\n",
    "prince_2015 = pd.read_excel(r'C:\\Users\\edwar\\Desktop\\農藝\\paper2\\data collection\\whole genome data\\incomplete\\gene expression\\Prince-2015\\Prince2015_iwgd.xlsx')\n",
    "\n",
    "# no need preprocesing (non-omics)\n",
    "sinha_2023 = pd.read_excel(r'C:\\Users\\edwar\\Desktop\\農藝\\paper2\\data collection\\whole genome data\\incomplete\\gene expression\\Sinha-2023\\Sinha2023_iwgd.xlsx')\n",
    "\n",
    "# no need preprocessing\n",
    "maru_2012 = pd.read_excel(r'C:\\Users\\edwar\\Desktop\\農藝\\paper2\\data collection\\whole genome data\\incomplete\\noncoding\\Maruyama-2012\\Maruyama2012_iwgd.xlsx')\n",
    "maru_2012['fc'] = np.nan  # 因為 fc 資料不漂亮所以這樣設置讓他進入 p data 的分類"
   ]
  },
  {
   "cell_type": "code",
   "execution_count": 3,
   "metadata": {
    "tags": []
   },
   "outputs": [],
   "source": [
    "rna_layer = pd.concat([rna_layer, prince_2015, sinha_2023, maru_2012]).reset_index().drop(['index'], axis = 1)"
   ]
  },
  {
   "cell_type": "code",
   "execution_count": 4,
   "metadata": {
    "tags": []
   },
   "outputs": [],
   "source": [
    "# import gene_version\n",
    "glyma_gene_ver = pd.read_csv(r'C:\\Users\\edwar\\Desktop\\農藝\\paper2\\Glyma_genes_correspondence_final.txt', delimiter = '\\t')"
   ]
  },
  {
   "cell_type": "code",
   "execution_count": 5,
   "metadata": {
    "tags": []
   },
   "outputs": [],
   "source": [
    "# 把 fc < 1 的換成倒數\n",
    "rna_layer.loc[(rna_layer['fc'] < 1), 'fc'] = 1 / rna_layer['fc']"
   ]
  },
  {
   "cell_type": "code",
   "execution_count": 6,
   "metadata": {
    "tags": []
   },
   "outputs": [],
   "source": [
    "gene_data_p = rna_layer[(rna_layer['p'].isna() == False) & (rna_layer['fc'].isna()) & (rna_layer['rehydration_time'].isna())].reset_index().drop(['index'], axis = 1)[['methodology', 'mapped_gene', 'p', 'fc', 'drought_treatment_span', 'gene_version', 'article_name']]\n",
    "gene_data_fc = rna_layer[(rna_layer['p'].isna()) & (rna_layer['fc'].isna() == False) & (rna_layer['rehydration_time'].isna())].reset_index().drop(['index'], axis = 1)[['methodology', 'mapped_gene', 'p', 'fc', 'drought_treatment_span', 'gene_version', 'article_name']]\n",
    "gene_data_pfc = rna_layer[(rna_layer['p'].isna() == False) & (rna_layer['fc'].isna() == False) & (rna_layer['rehydration_time'].isna())].reset_index().drop(['index'], axis = 1)[['methodology', 'mapped_gene', 'p', 'fc', 'drought_treatment_span', 'gene_version', 'article_name']]"
   ]
  },
  {
   "cell_type": "code",
   "execution_count": 7,
   "metadata": {
    "tags": []
   },
   "outputs": [],
   "source": [
    "# p 資料的 gene version 轉換\n",
    "gene_data_p_v2 = gene_data_p[gene_data_p['gene_version'] == 2].reset_index().drop(['index'], axis = 1)\n",
    "gene_data_p_v1 = gene_data_p[gene_data_p['gene_version'] == 1].reset_index().drop(['index'], axis = 1)\n",
    "\n",
    "gene_data_p_v2 = gene_data_p_v2.rename(columns = {'mapped_gene':'gene_org'})\n",
    "gene_data_p_v1 = gene_data_p_v1.rename(columns = {'mapped_gene':'gene_org'})\n",
    "\n",
    "gene_data_p_v2['gene'] = gene_data_p_v2['gene_org']\n",
    "gene_data_p_v1 = gene_data_p_v1.merge(glyma_gene_ver[['Wm82.a1.v1', 'Wm82.a2.v1']], how = 'left', left_on = ['gene_org'], right_on = ['Wm82.a1.v1']).drop(['Wm82.a1.v1'], axis = 1).rename(columns = {'Wm82.a2.v1':'gene'})"
   ]
  },
  {
   "cell_type": "code",
   "execution_count": 8,
   "metadata": {
    "tags": []
   },
   "outputs": [],
   "source": [
    "# 刪除沒有對應到的\n",
    "gene_data_p_v1 = gene_data_p_v1[gene_data_p_v1['gene'].isna() == False].reset_index().drop(['index'], axis = 1)\n",
    "gene_data_p_v2 = gene_data_p_v2[gene_data_p_v2['gene'].isna() == False].reset_index().drop(['index'], axis = 1)\n",
    "gene_data_p = pd.concat([gene_data_p_v1, gene_data_p_v2]).reset_index().drop(['index'], axis = 1)"
   ]
  },
  {
   "cell_type": "code",
   "execution_count": 9,
   "metadata": {
    "tags": []
   },
   "outputs": [],
   "source": [
    "# fc 資料的 gene version 轉換\n",
    "gene_data_fc_v1 = gene_data_fc[gene_data_fc['gene_version'] == 1].reset_index().drop(['index'], axis = 1)\n",
    "gene_data_fc_v2 = gene_data_fc[gene_data_fc['gene_version'] == 2].reset_index().drop(['index'], axis = 1)\n",
    "gene_data_fc_nan = gene_data_fc[gene_data_fc['gene_version'] == np.nan].reset_index().drop(['index'], axis = 1)\n",
    "\n",
    "gene_data_fc_v2 = gene_data_fc_v2.rename(columns = {'mapped_gene':'gene_org'})\n",
    "gene_data_fc_v1 = gene_data_fc_v1.rename(columns = {'mapped_gene':'gene_org'})\n",
    "gene_data_fc_nan = gene_data_fc_nan.rename(columns = {'mapped_gene':'gene_org'})\n",
    "\n",
    "gene_data_fc_v2['gene'] = gene_data_fc_v2['gene_org']\n",
    "gene_data_fc_nan['gene'] = gene_data_fc_nan['gene_org']\n",
    "gene_data_fc_v1 = gene_data_fc_v1.merge(glyma_gene_ver[['Wm82.a1.v1', 'Wm82.a2.v1']], how = 'left', left_on = ['gene_org'], right_on = ['Wm82.a1.v1']).drop(['Wm82.a1.v1'], axis = 1).rename(columns = {'Wm82.a2.v1':'gene'})"
   ]
  },
  {
   "cell_type": "code",
   "execution_count": 10,
   "metadata": {
    "tags": []
   },
   "outputs": [],
   "source": [
    "# 刪除沒有對應到的\n",
    "gene_data_fc_v1 = gene_data_fc_v1[gene_data_fc_v1['gene'].isna() == False].reset_index().drop(['index'], axis = 1)\n",
    "gene_data_fc_v2 = gene_data_fc_v2[gene_data_fc_v2['gene'].isna() == False].reset_index().drop(['index'], axis = 1)\n",
    "gene_data_fc_nan = gene_data_fc_nan[gene_data_fc_nan['gene'].isna() == False].reset_index().drop(['index'], axis = 1)"
   ]
  },
  {
   "cell_type": "code",
   "execution_count": 11,
   "metadata": {
    "tags": []
   },
   "outputs": [],
   "source": [
    "gene_data_fc = pd.concat([gene_data_fc_v1, gene_data_fc_v2, gene_data_fc_nan]).reset_index().drop(['index'], axis = 1)"
   ]
  },
  {
   "cell_type": "code",
   "execution_count": 12,
   "metadata": {
    "tags": []
   },
   "outputs": [],
   "source": [
    "# fc & p 資料 gene version 轉換\n",
    "gene_data_pfc_v1 = gene_data_pfc[gene_data_pfc['gene_version'] == 1].reset_index().drop(['index'], axis = 1)\n",
    "gene_data_pfc_v2 = gene_data_pfc[gene_data_pfc['gene_version'] == 2].reset_index().drop(['index'], axis = 1)\n",
    "\n",
    "gene_data_pfc_v2 = gene_data_pfc_v2.rename(columns = {'mapped_gene':'gene_org'})\n",
    "gene_data_pfc_v1 = gene_data_pfc_v1.rename(columns = {'mapped_gene':'gene_org'})\n",
    "\n",
    "gene_data_pfc_v2['gene'] = gene_data_pfc_v2['gene_org']\n",
    "gene_data_pfc_v1 = gene_data_pfc_v1.merge(glyma_gene_ver[['Wm82.a1.v1', 'Wm82.a2.v1']], how = 'left', left_on = ['gene_org'], right_on = ['Wm82.a1.v1']).drop(['Wm82.a1.v1'], axis = 1).rename(columns = {'Wm82.a2.v1':'gene'})"
   ]
  },
  {
   "cell_type": "code",
   "execution_count": 13,
   "metadata": {
    "tags": []
   },
   "outputs": [],
   "source": [
    "gene_data_pfc_v1 = gene_data_pfc_v1[gene_data_pfc_v1['gene'].isna() == False].reset_index().drop(['index'], axis = 1)\n",
    "gene_data_pfc_v2 = gene_data_pfc_v2[gene_data_pfc_v2['gene'].isna() == False].reset_index().drop(['index'], axis = 1)"
   ]
  },
  {
   "cell_type": "code",
   "execution_count": 14,
   "metadata": {
    "tags": []
   },
   "outputs": [],
   "source": [
    "gene_data_pfc = pd.concat([gene_data_pfc_v1, gene_data_pfc_v2]).reset_index().drop(['index'], axis = 1)"
   ]
  },
  {
   "cell_type": "code",
   "execution_count": 15,
   "metadata": {
    "tags": []
   },
   "outputs": [],
   "source": [
    "gene_data_p = gene_data_p[['methodology', 'gene', 'p', 'fc', 'drought_treatment_span', 'article_name', 'gene_org']]\n",
    "gene_data_fc = gene_data_fc[['methodology', 'gene', 'p', 'fc', 'drought_treatment_span', 'article_name', 'gene_org']]\n",
    "gene_data_pfc = gene_data_pfc[['methodology', 'gene', 'p', 'fc', 'drought_treatment_span', 'article_name', 'gene_org']]"
   ]
  },
  {
   "cell_type": "code",
   "execution_count": 16,
   "metadata": {
    "tags": []
   },
   "outputs": [],
   "source": [
    "# data scaling function\n",
    "def scale_score(x, upper_b, lower_b, max_val, min_val):\n",
    "    scaling = (upper_b - lower_b) / (max_val - min_val)\n",
    "    return (x - min_val) * scaling + lower_b"
   ]
  },
  {
   "cell_type": "code",
   "execution_count": null,
   "metadata": {},
   "outputs": [],
   "source": []
  },
  {
   "cell_type": "code",
   "execution_count": 17,
   "metadata": {
    "tags": []
   },
   "outputs": [
    {
     "name": "stdout",
     "output_type": "stream",
     "text": [
      "10\n",
      "20\n",
      "30\n"
     ]
    }
   ],
   "source": [
    "# 處理 p 資料\n",
    "article_list = list(gene_data_p['article_name'].unique())\n",
    "extreme_art_lst = list(gene_data_p[gene_data_p['p'] < 10 ** -80]['article_name'].unique())\n",
    "gene_score_data_p = pd.DataFrame()\n",
    "\n",
    "count = 0\n",
    "for article in article_list:\n",
    "    if article == extreme_art_lst[0]:\n",
    "        df = gene_data_p[gene_data_p['article_name'] == article].reset_index().drop(['index'], axis = 1)\n",
    "        df.loc[(df['p'] < 10 ** -269), 'p'] = 10 ** -270\n",
    "        df['-logp'] = -np.log10(df['p'])\n",
    "        upper_b = 80\n",
    "        lower_b = 3.3  # 最小 p 轉換後約 3.39\n",
    "        max_val = df['-logp'].max()\n",
    "        min_val = df['-logp'].min()\n",
    "        df['trans_logp'] = df['-logp'].apply(scale_score, args = (upper_b, lower_b, max_val, min_val))\n",
    "        df['p'] = 10 ** -df['trans_logp']\n",
    "        gene_data_article_p = df.drop(['-logp', 'trans_logp'], axis = 1)\n",
    "        gene_list = list(gene_data_article_p['gene'].unique())\n",
    "        \n",
    "    elif article == extreme_art_lst[1]:\n",
    "        df = gene_data_p[gene_data_p['article_name'] == article].reset_index().drop(['index'], axis = 1)\n",
    "        df.loc[(df['p'] < 10 ** -308), 'p'] = 10 ** -309\n",
    "        df['-logp'] = -np.log10(df['p'])\n",
    "        upper_b = 80\n",
    "        lower_b = 1.9  # 最小 -logp 轉換後大約數值\n",
    "        max_val = df['-logp'].max()\n",
    "        min_val = df['-logp'].min()\n",
    "        df['trans_logp'] = df['-logp'].apply(scale_score, args = (upper_b, lower_b, max_val, min_val))\n",
    "        df['p'] = 10 ** -df['trans_logp']\n",
    "        gene_data_article_p = df.drop(['-logp', 'trans_logp'], axis = 1)\n",
    "        gene_list = list(gene_data_article_p['gene'].unique())\n",
    "        \n",
    "    elif article == extreme_art_lst[2]:\n",
    "        df = gene_data_p[gene_data_p['article_name'] == article].reset_index().drop(['index'], axis = 1)\n",
    "        df.loc[(df['p'] < 10 ** -268), 'p'] = 10 ** -269\n",
    "        df['-logp'] = -np.log10(df['p'])\n",
    "        upper_b = 70\n",
    "        lower_b = 2.2  # 最小 -logp 轉換後大約數值\n",
    "        max_val = df['-logp'].max()\n",
    "        min_val = df['-logp'].min()\n",
    "        df['trans_logp'] = df['-logp'].apply(scale_score, args = (upper_b, lower_b, max_val, min_val))\n",
    "        df['p'] = 10 ** -df['trans_logp']\n",
    "        gene_data_article_p = df.drop(['-logp', 'trans_logp'], axis = 1)\n",
    "        gene_list = list(gene_data_article_p['gene'].unique())\n",
    "        \n",
    "    elif article == extreme_art_lst[3]:\n",
    "        df = gene_data_p[gene_data_p['article_name'] == article].reset_index().drop(['index'], axis = 1)\n",
    "        df['-logp'] = -np.log10(df['p'])\n",
    "        upper_b = 70\n",
    "        lower_b = 0.7  # 最小 -logp 轉換後大約數值\n",
    "        max_val = df['-logp'].max()\n",
    "        min_val = df['-logp'].min()\n",
    "        df['trans_logp'] = df['-logp'].apply(scale_score, args = (upper_b, lower_b, max_val, min_val))\n",
    "        df['p'] = 10 ** -df['trans_logp']\n",
    "        gene_data_article_p = df.drop(['-logp', 'trans_logp'], axis = 1)\n",
    "        gene_list = list(gene_data_article_p['gene'].unique())\n",
    "        \n",
    "    else:\n",
    "        gene_data_article_p = gene_data_p[gene_data_p['article_name'] == article].reset_index().drop(['index'], axis = 1)\n",
    "        gene_list = list(gene_data_article_p['gene'].unique())\n",
    "    \n",
    "    for gene in gene_list:\n",
    "        df_gene = gene_data_article_p[gene_data_article_p['gene'] == gene].reset_index().drop(['index'], axis = 1)\n",
    "        if len(df_gene['gene']) > 1:\n",
    "            df_gene_v1 = pd.DataFrame()\n",
    "            df_gene_v1['gene'] = df_gene['gene'].unique()\n",
    "            df_gene_v1['p'] = df_gene['p'].min()\n",
    "            df_gene_v1['fc'] = np.nan\n",
    "            df_gene_v1['article_name'] = df_gene['article_name'].unique()\n",
    "            gene_score_data_p = pd.concat([gene_score_data_p, df_gene_v1]).reset_index().drop(['index'], axis = 1)\n",
    "            \n",
    "        elif len(df_gene['gene']) == 1:\n",
    "            gene_score_data_p = pd.concat([gene_score_data_p, df_gene[['gene', 'p', 'fc', 'article_name']]]).reset_index().drop(['index'], axis = 1)\n",
    "    count += 1\n",
    "    if count % 10 == 0:\n",
    "        print(count)"
   ]
  },
  {
   "cell_type": "code",
   "execution_count": 18,
   "metadata": {
    "tags": []
   },
   "outputs": [],
   "source": [
    "# 設置門檻\n",
    "p_thres = 0.05\n",
    "gene_score_data_p['sig_flag'] = ''\n",
    "gene_score_data_p['nonsig_flag'] = ''\n",
    "\n",
    "gene_score_data_p.loc[(gene_score_data_p['p'] < p_thres), 'sig_flag'] = 1\n",
    "gene_score_data_p.loc[(gene_score_data_p['p'] < p_thres), 'nonsig_flag'] = 0\n",
    "\n",
    "gene_score_data_p.loc[(gene_score_data_p['p'] >= p_thres), 'nonsig_flag'] = 1\n",
    "gene_score_data_p.loc[(gene_score_data_p['p'] >= p_thres), 'sig_flag'] = 0"
   ]
  },
  {
   "cell_type": "code",
   "execution_count": 19,
   "metadata": {
    "tags": []
   },
   "outputs": [
    {
     "name": "stdout",
     "output_type": "stream",
     "text": [
      "1000\n",
      "2000\n",
      "3000\n",
      "4000\n",
      "5000\n",
      "6000\n",
      "7000\n",
      "8000\n",
      "9000\n",
      "10000\n"
     ]
    }
   ],
   "source": [
    "# 整合 p data\n",
    "gene_list = list(gene_score_data_p['gene'].unique())\n",
    "gene_score_data_p_v1 = pd.DataFrame()\n",
    "\n",
    "count = 0\n",
    "for gene in gene_list:\n",
    "    df_gene = gene_score_data_p[gene_score_data_p['gene'] == gene].reset_index().drop(['index'], axis = 1)\n",
    "    if len(df_gene['gene']) > 1:\n",
    "        df_gene_v1 = pd.DataFrame()\n",
    "        p_values = list(df_gene['p'])\n",
    "        p_value = stats.combine_pvalues(p_values, method = 'fisher')[1]\n",
    "        df_gene_v1['gene'] = df_gene['gene'].unique()\n",
    "        df_gene_v1['p'] = p_value\n",
    "        df_gene_v1['fc'] = np.nan\n",
    "        df_gene_v1['sig_flag'] = df_gene['sig_flag'].sum()\n",
    "        df_gene_v1['nonsig_flag'] = df_gene['nonsig_flag'].sum()\n",
    "        gene_score_data_p_v1 = pd.concat([gene_score_data_p_v1, df_gene_v1]).reset_index().drop(['index'], axis = 1)\n",
    "    \n",
    "    elif len(df_gene['gene']) == 1:\n",
    "        gene_score_data_p_v1 = pd.concat([gene_score_data_p_v1, df_gene[['gene', 'p', 'fc', 'sig_flag', 'nonsig_flag']]]).reset_index().drop(['index'], axis = 1)\n",
    "    \n",
    "    count += 1\n",
    "    if count % 1000 == 0:\n",
    "        print(count)"
   ]
  },
  {
   "cell_type": "code",
   "execution_count": 20,
   "metadata": {
    "tags": []
   },
   "outputs": [
    {
     "data": {
      "text/html": [
       "<div>\n",
       "<style scoped>\n",
       "    .dataframe tbody tr th:only-of-type {\n",
       "        vertical-align: middle;\n",
       "    }\n",
       "\n",
       "    .dataframe tbody tr th {\n",
       "        vertical-align: top;\n",
       "    }\n",
       "\n",
       "    .dataframe thead th {\n",
       "        text-align: right;\n",
       "    }\n",
       "</style>\n",
       "<table border=\"1\" class=\"dataframe\">\n",
       "  <thead>\n",
       "    <tr style=\"text-align: right;\">\n",
       "      <th></th>\n",
       "      <th>gene</th>\n",
       "      <th>p</th>\n",
       "      <th>fc</th>\n",
       "      <th>sig_flag</th>\n",
       "      <th>nonsig_flag</th>\n",
       "    </tr>\n",
       "  </thead>\n",
       "  <tbody>\n",
       "    <tr>\n",
       "      <th>0</th>\n",
       "      <td>Glyma.05g039900</td>\n",
       "      <td>0.000008</td>\n",
       "      <td>NaN</td>\n",
       "      <td>2</td>\n",
       "      <td>0</td>\n",
       "    </tr>\n",
       "    <tr>\n",
       "      <th>1</th>\n",
       "      <td>Glyma.11g131900</td>\n",
       "      <td>0.000215</td>\n",
       "      <td>NaN</td>\n",
       "      <td>1</td>\n",
       "      <td>0</td>\n",
       "    </tr>\n",
       "    <tr>\n",
       "      <th>2</th>\n",
       "      <td>Glyma.13g322100</td>\n",
       "      <td>0.000328</td>\n",
       "      <td>NaN</td>\n",
       "      <td>1</td>\n",
       "      <td>0</td>\n",
       "    </tr>\n",
       "    <tr>\n",
       "      <th>3</th>\n",
       "      <td>Glyma.05g123700</td>\n",
       "      <td>0.000302</td>\n",
       "      <td>NaN</td>\n",
       "      <td>1</td>\n",
       "      <td>0</td>\n",
       "    </tr>\n",
       "    <tr>\n",
       "      <th>4</th>\n",
       "      <td>Glyma.09g163300</td>\n",
       "      <td>0.000163</td>\n",
       "      <td>NaN</td>\n",
       "      <td>1</td>\n",
       "      <td>0</td>\n",
       "    </tr>\n",
       "  </tbody>\n",
       "</table>\n",
       "</div>"
      ],
      "text/plain": [
       "              gene         p  fc sig_flag nonsig_flag\n",
       "0  Glyma.05g039900  0.000008 NaN        2           0\n",
       "1  Glyma.11g131900  0.000215 NaN        1           0\n",
       "2  Glyma.13g322100  0.000328 NaN        1           0\n",
       "3  Glyma.05g123700  0.000302 NaN        1           0\n",
       "4  Glyma.09g163300  0.000163 NaN        1           0"
      ]
     },
     "execution_count": 20,
     "metadata": {},
     "output_type": "execute_result"
    }
   ],
   "source": [
    "gene_score_data_p_v1.head()"
   ]
  },
  {
   "cell_type": "code",
   "execution_count": null,
   "metadata": {},
   "outputs": [],
   "source": []
  },
  {
   "cell_type": "code",
   "execution_count": 21,
   "metadata": {
    "tags": []
   },
   "outputs": [],
   "source": [
    "# 把 fc 設一個最大上限\n",
    "gene_data_fc.loc[(gene_data_fc['fc'] > 480), 'fc'] = 480"
   ]
  },
  {
   "cell_type": "code",
   "execution_count": 22,
   "metadata": {
    "tags": []
   },
   "outputs": [
    {
     "name": "stdout",
     "output_type": "stream",
     "text": [
      "10\n",
      "20\n",
      "30\n",
      "40\n",
      "50\n",
      "60\n",
      "70\n",
      "80\n",
      "90\n",
      "100\n",
      "110\n"
     ]
    }
   ],
   "source": [
    "# 處理 fc 資料\n",
    "article_list = list(gene_data_fc['article_name'].unique())\n",
    "gene_score_data_fc = pd.DataFrame()\n",
    "\n",
    "count = 0\n",
    "for article in article_list:\n",
    "    gene_data_article_fc = gene_data_fc[gene_data_fc['article_name'] == article].reset_index().drop(['index'], axis = 1)\n",
    "    gene_list = list(gene_data_article_fc['gene'].unique())\n",
    "    \n",
    "    for gene in gene_list:\n",
    "        df_gene = gene_data_article_fc[gene_data_article_fc['gene'] == gene].reset_index().drop(['index'], axis = 1)\n",
    "        df_gene_v1 = pd.DataFrame()\n",
    "        df_gene_v1['gene'] = df_gene['gene'].unique()\n",
    "        df_gene_v1['fc'] = df_gene['fc'].max()\n",
    "        df_gene_v1['p'] = ''\n",
    "        df_gene_v1['article_name'] = df_gene['article_name'].unique()\n",
    "        gene_score_data_fc = pd.concat([gene_score_data_fc, df_gene_v1]).reset_index().drop(['index'], axis = 1)  \n",
    "    \n",
    "    count += 1\n",
    "    if count % 10 == 0:\n",
    "        print(count)"
   ]
  },
  {
   "cell_type": "code",
   "execution_count": 23,
   "metadata": {
    "tags": []
   },
   "outputs": [],
   "source": [
    "gene_score_data_fc['p'] = 0.1 ** np.log2(gene_score_data_fc['fc'])"
   ]
  },
  {
   "cell_type": "code",
   "execution_count": 24,
   "metadata": {
    "tags": []
   },
   "outputs": [],
   "source": [
    "# 設置門檻\n",
    "tranP_thres = 0.05\n",
    "gene_score_data_fc['sig_flag'] = ''\n",
    "gene_score_data_fc['nonsig_flag'] = ''\n",
    "\n",
    "gene_score_data_fc.loc[(gene_score_data_fc['p'] < tranP_thres), 'sig_flag'] = 1\n",
    "gene_score_data_fc.loc[(gene_score_data_fc['p'] < tranP_thres), 'nonsig_flag'] = 0\n",
    "\n",
    "gene_score_data_fc.loc[(gene_score_data_fc['p'] >= tranP_thres), 'nonsig_flag'] = 1\n",
    "gene_score_data_fc.loc[(gene_score_data_fc['p'] >= tranP_thres), 'sig_flag'] = 0"
   ]
  },
  {
   "cell_type": "code",
   "execution_count": 25,
   "metadata": {
    "tags": []
   },
   "outputs": [
    {
     "name": "stdout",
     "output_type": "stream",
     "text": [
      "500\n",
      "1000\n",
      "1500\n"
     ]
    }
   ],
   "source": [
    "gene_list = list(gene_score_data_fc['gene'].unique())\n",
    "gene_score_data_fc_v1 = pd.DataFrame()\n",
    "\n",
    "for gene in gene_list:\n",
    "    df_gene = gene_score_data_fc[gene_score_data_fc['gene'] == gene].reset_index().drop(['index'], axis = 1)\n",
    "    if len(df_gene['gene']) > 1:\n",
    "        df_gene_v1 = pd.DataFrame()\n",
    "        p_values = list(df_gene['p'])\n",
    "        p_value = stats.combine_pvalues(p_values, method = 'fisher')[1]\n",
    "        df_gene_v1['gene'] = df_gene['gene'].unique()\n",
    "        df_gene_v1['p'] = p_value\n",
    "        df_gene_v1['fc'] = np.nan\n",
    "        df_gene_v1['sig_flag'] = df_gene['sig_flag'].sum()\n",
    "        df_gene_v1['nonsig_flag'] = df_gene['nonsig_flag'].sum()\n",
    "        gene_score_data_fc_v1 = pd.concat([gene_score_data_fc_v1, df_gene_v1]).reset_index().drop(['index'], axis = 1)\n",
    "        \n",
    "    elif len(df_gene['gene']) == 1:\n",
    "        gene_score_data_fc_v1 = pd.concat([gene_score_data_fc_v1, df_gene[['gene', 'p', 'fc', 'sig_flag', 'nonsig_flag']]]).reset_index().drop(['index'], axis = 1)\n",
    "    \n",
    "    count += 1\n",
    "    if count % 500 == 0:\n",
    "        print(count)"
   ]
  },
  {
   "cell_type": "code",
   "execution_count": 26,
   "metadata": {
    "tags": []
   },
   "outputs": [],
   "source": [
    "gene_score_data_fc_v1.loc[(gene_score_data_fc_v1['p'] < 10 ** -9), 'p'] = 10 ** -9"
   ]
  },
  {
   "cell_type": "code",
   "execution_count": 27,
   "metadata": {
    "tags": []
   },
   "outputs": [
    {
     "data": {
      "text/html": [
       "<div>\n",
       "<style scoped>\n",
       "    .dataframe tbody tr th:only-of-type {\n",
       "        vertical-align: middle;\n",
       "    }\n",
       "\n",
       "    .dataframe tbody tr th {\n",
       "        vertical-align: top;\n",
       "    }\n",
       "\n",
       "    .dataframe thead th {\n",
       "        text-align: right;\n",
       "    }\n",
       "</style>\n",
       "<table border=\"1\" class=\"dataframe\">\n",
       "  <thead>\n",
       "    <tr style=\"text-align: right;\">\n",
       "      <th></th>\n",
       "      <th>gene</th>\n",
       "      <th>p</th>\n",
       "      <th>fc</th>\n",
       "      <th>sig_flag</th>\n",
       "      <th>nonsig_flag</th>\n",
       "    </tr>\n",
       "  </thead>\n",
       "  <tbody>\n",
       "    <tr>\n",
       "      <th>0</th>\n",
       "      <td>Glyma.01g166100</td>\n",
       "      <td>0.000199</td>\n",
       "      <td>NaN</td>\n",
       "      <td>1</td>\n",
       "      <td>1</td>\n",
       "    </tr>\n",
       "    <tr>\n",
       "      <th>1</th>\n",
       "      <td>Glyma.02g182900</td>\n",
       "      <td>0.001276</td>\n",
       "      <td>NaN</td>\n",
       "      <td>1</td>\n",
       "      <td>1</td>\n",
       "    </tr>\n",
       "    <tr>\n",
       "      <th>2</th>\n",
       "      <td>Glyma.02g192700</td>\n",
       "      <td>0.000003</td>\n",
       "      <td>NaN</td>\n",
       "      <td>2</td>\n",
       "      <td>0</td>\n",
       "    </tr>\n",
       "    <tr>\n",
       "      <th>3</th>\n",
       "      <td>Glyma.02g278900</td>\n",
       "      <td>0.047651</td>\n",
       "      <td>2.5</td>\n",
       "      <td>1</td>\n",
       "      <td>0</td>\n",
       "    </tr>\n",
       "    <tr>\n",
       "      <th>4</th>\n",
       "      <td>Glyma.03g204100</td>\n",
       "      <td>0.000370</td>\n",
       "      <td>NaN</td>\n",
       "      <td>1</td>\n",
       "      <td>1</td>\n",
       "    </tr>\n",
       "  </tbody>\n",
       "</table>\n",
       "</div>"
      ],
      "text/plain": [
       "              gene         p   fc sig_flag nonsig_flag\n",
       "0  Glyma.01g166100  0.000199  NaN        1           1\n",
       "1  Glyma.02g182900  0.001276  NaN        1           1\n",
       "2  Glyma.02g192700  0.000003  NaN        2           0\n",
       "3  Glyma.02g278900  0.047651  2.5        1           0\n",
       "4  Glyma.03g204100  0.000370  NaN        1           1"
      ]
     },
     "execution_count": 27,
     "metadata": {},
     "output_type": "execute_result"
    }
   ],
   "source": [
    "gene_score_data_fc_v1.head()"
   ]
  },
  {
   "cell_type": "code",
   "execution_count": null,
   "metadata": {},
   "outputs": [],
   "source": []
  },
  {
   "cell_type": "code",
   "execution_count": 28,
   "metadata": {
    "tags": []
   },
   "outputs": [],
   "source": [
    "# 設置 FC 上限\n",
    "gene_data_pfc.loc[(gene_data_pfc['fc'] > 300), 'fc'] = 300"
   ]
  },
  {
   "cell_type": "code",
   "execution_count": 29,
   "metadata": {
    "tags": []
   },
   "outputs": [
    {
     "name": "stdout",
     "output_type": "stream",
     "text": [
      "2\n",
      "4\n"
     ]
    }
   ],
   "source": [
    "article_list = list(gene_data_pfc['article_name'].unique())\n",
    "gene_score_data_pfc = pd.DataFrame()\n",
    "\n",
    "count = 0\n",
    "for article in article_list:\n",
    "    gene_data_article_pfc = gene_data_pfc[gene_data_pfc['article_name'] == article].reset_index().drop(['index'], axis = 1)\n",
    "    gene_list = list(gene_data_article_pfc['gene'].unique())\n",
    "    \n",
    "    for gene in gene_list:\n",
    "        df_gene = gene_data_article_pfc[gene_data_article_pfc['gene'] == gene].reset_index().drop(['index'], axis = 1)\n",
    "        if len(df_gene['gene']) > 1:\n",
    "            df_gene_v1 = pd.DataFrame()\n",
    "            p_values = list(df_gene['p'])\n",
    "            p_value = stats.combine_pvalues(p_values, method = 'fisher')[1]\n",
    "            df_gene_v1['gene'] = df_gene['gene'].unique()\n",
    "            df_gene_v1['p'] = p_value\n",
    "            df_gene_v1['fc'] = df_gene['fc'].max()\n",
    "            df_gene_v1['article_name'] = df_gene['article_name'].unique()\n",
    "            gene_score_data_pfc = pd.concat([gene_score_data_pfc, df_gene_v1]).reset_index().drop(['index'], axis = 1)\n",
    "            \n",
    "        elif len(df_gene['gene']) == 1:\n",
    "            gene_score_data_pfc = pd.concat([gene_score_data_pfc, df_gene[['gene', 'p', 'fc', 'article_name']]]).reset_index().drop(['index'], axis = 1)\n",
    "    \n",
    "    count += 1\n",
    "    if count % 2 == 0:\n",
    "        print(count)"
   ]
  },
  {
   "cell_type": "code",
   "execution_count": 30,
   "metadata": {
    "tags": []
   },
   "outputs": [],
   "source": [
    "gene_score_data_pfc['p_new'] = gene_score_data_pfc['p'] ** np.log2(gene_score_data_pfc['fc'])"
   ]
  },
  {
   "cell_type": "code",
   "execution_count": 31,
   "metadata": {
    "tags": []
   },
   "outputs": [],
   "source": [
    "gene_score_data_pfc.loc[(gene_score_data_pfc['p_new'] < 10 ** -24), 'p_new'] = 10 ** -24"
   ]
  },
  {
   "cell_type": "code",
   "execution_count": 32,
   "metadata": {
    "tags": []
   },
   "outputs": [],
   "source": [
    "gene_score_data_pfc = gene_score_data_pfc.drop(['p'], axis = 1).rename(columns = {'p_new':'p'})[['gene', 'p', 'fc', 'article_name']]"
   ]
  },
  {
   "cell_type": "code",
   "execution_count": 33,
   "metadata": {
    "tags": []
   },
   "outputs": [],
   "source": [
    "pfc_thres = 0.05\n",
    "gene_score_data_pfc['sig_flag'] = ''\n",
    "gene_score_data_pfc['nonsig_flag'] = ''\n",
    "\n",
    "gene_score_data_pfc.loc[(gene_score_data_pfc['p'] < pfc_thres), 'sig_flag'] = 1\n",
    "gene_score_data_pfc.loc[(gene_score_data_pfc['p'] < pfc_thres), 'nonsig_flag'] = 0\n",
    "\n",
    "gene_score_data_pfc.loc[(gene_score_data_pfc['p'] >= pfc_thres), 'nonsig_flag'] = 1\n",
    "gene_score_data_pfc.loc[(gene_score_data_pfc['p'] >= pfc_thres), 'sig_flag'] = 0"
   ]
  },
  {
   "cell_type": "code",
   "execution_count": 34,
   "metadata": {
    "tags": []
   },
   "outputs": [
    {
     "name": "stdout",
     "output_type": "stream",
     "text": [
      "500\n",
      "1000\n",
      "1500\n",
      "2000\n"
     ]
    }
   ],
   "source": [
    "gene_list = list(gene_score_data_pfc['gene'].unique())\n",
    "gene_score_data_pfc_v1 = pd.DataFrame()\n",
    "\n",
    "for gene in gene_list:\n",
    "    df_gene = gene_score_data_pfc[gene_score_data_pfc['gene'] == gene].reset_index().drop(['index'], axis = 1)\n",
    "    if len(df_gene['gene']) > 1:\n",
    "        df_gene_v1 = pd.DataFrame()\n",
    "        p_values = list(df_gene['p'])\n",
    "        p_value = stats.combine_pvalues(p_values, method = 'fisher')[1]\n",
    "        df_gene_v1['gene'] = df_gene['gene'].unique()\n",
    "        df_gene_v1['p'] = p_value ** np.log2(df_gene['fc'].mean())\n",
    "        df_gene_v1['fc'] = df_gene['fc'].mean()\n",
    "        df_gene_v1['sig_flag'] = df_gene['sig_flag'].sum()\n",
    "        df_gene_v1['nonsig_flag'] = df_gene['nonsig_flag'].sum()\n",
    "        gene_score_data_pfc_v1 = pd.concat([gene_score_data_pfc_v1, df_gene_v1]).reset_index().drop(['index'], axis = 1)\n",
    "        \n",
    "    elif len(df_gene['gene']) == 1:\n",
    "        gene_score_data_pfc_v1 = pd.concat([gene_score_data_pfc_v1, df_gene[['gene', 'p', 'fc', 'sig_flag', 'nonsig_flag']]]).reset_index().drop(['index'], axis = 1)\n",
    "    \n",
    "    count += 1\n",
    "    if count % 500 == 0:\n",
    "        print(count)"
   ]
  },
  {
   "cell_type": "code",
   "execution_count": 35,
   "metadata": {
    "tags": []
   },
   "outputs": [],
   "source": [
    "gene_score_data_pfc_v1.loc[(gene_score_data_pfc_v1['p'] < 10 ** -25), 'p'] = 10 ** -25"
   ]
  },
  {
   "cell_type": "code",
   "execution_count": 36,
   "metadata": {
    "tags": []
   },
   "outputs": [
    {
     "data": {
      "text/html": [
       "<div>\n",
       "<style scoped>\n",
       "    .dataframe tbody tr th:only-of-type {\n",
       "        vertical-align: middle;\n",
       "    }\n",
       "\n",
       "    .dataframe tbody tr th {\n",
       "        vertical-align: top;\n",
       "    }\n",
       "\n",
       "    .dataframe thead th {\n",
       "        text-align: right;\n",
       "    }\n",
       "</style>\n",
       "<table border=\"1\" class=\"dataframe\">\n",
       "  <thead>\n",
       "    <tr style=\"text-align: right;\">\n",
       "      <th></th>\n",
       "      <th>gene</th>\n",
       "      <th>p</th>\n",
       "      <th>fc</th>\n",
       "      <th>sig_flag</th>\n",
       "      <th>nonsig_flag</th>\n",
       "    </tr>\n",
       "  </thead>\n",
       "  <tbody>\n",
       "    <tr>\n",
       "      <th>0</th>\n",
       "      <td>Glyma.11g120300</td>\n",
       "      <td>7.006070e-08</td>\n",
       "      <td>8.130081</td>\n",
       "      <td>1</td>\n",
       "      <td>0</td>\n",
       "    </tr>\n",
       "    <tr>\n",
       "      <th>1</th>\n",
       "      <td>Glyma.08g324900</td>\n",
       "      <td>1.338694e-11</td>\n",
       "      <td>4.761905</td>\n",
       "      <td>1</td>\n",
       "      <td>0</td>\n",
       "    </tr>\n",
       "    <tr>\n",
       "      <th>2</th>\n",
       "      <td>Glyma.04g000400</td>\n",
       "      <td>2.123232e-02</td>\n",
       "      <td>1.785714</td>\n",
       "      <td>1</td>\n",
       "      <td>0</td>\n",
       "    </tr>\n",
       "    <tr>\n",
       "      <th>3</th>\n",
       "      <td>Glyma.04g202900</td>\n",
       "      <td>5.715092e-02</td>\n",
       "      <td>1.538462</td>\n",
       "      <td>0</td>\n",
       "      <td>1</td>\n",
       "    </tr>\n",
       "    <tr>\n",
       "      <th>4</th>\n",
       "      <td>Glyma.09g248600</td>\n",
       "      <td>5.155700e-04</td>\n",
       "      <td>3.125000</td>\n",
       "      <td>1</td>\n",
       "      <td>0</td>\n",
       "    </tr>\n",
       "  </tbody>\n",
       "</table>\n",
       "</div>"
      ],
      "text/plain": [
       "              gene             p        fc sig_flag nonsig_flag\n",
       "0  Glyma.11g120300  7.006070e-08  8.130081        1           0\n",
       "1  Glyma.08g324900  1.338694e-11  4.761905        1           0\n",
       "2  Glyma.04g000400  2.123232e-02  1.785714        1           0\n",
       "3  Glyma.04g202900  5.715092e-02  1.538462        0           1\n",
       "4  Glyma.09g248600  5.155700e-04  3.125000        1           0"
      ]
     },
     "execution_count": 36,
     "metadata": {},
     "output_type": "execute_result"
    }
   ],
   "source": [
    "gene_score_data_pfc_v1.head()"
   ]
  },
  {
   "cell_type": "code",
   "execution_count": null,
   "metadata": {},
   "outputs": [],
   "source": []
  },
  {
   "cell_type": "code",
   "execution_count": 37,
   "metadata": {
    "tags": []
   },
   "outputs": [],
   "source": [
    "def scale_score(x, upper_b, lower_b, max_val, min_val):\n",
    "    scaling = (upper_b - lower_b) / (max_val - min_val)\n",
    "    return (x - min_val) * scaling + lower_b"
   ]
  },
  {
   "cell_type": "code",
   "execution_count": 38,
   "metadata": {
    "tags": []
   },
   "outputs": [],
   "source": [
    "# 把 p, fc, pfc 的 data 中的 p值轉換成 -logp，然後 scale 到 [0, 10]，然後轉回新的 p，之後再把三個 data 合併\n",
    "gene_score_data_p_v1['-logp'] = -np.log10(gene_score_data_p_v1['p'])\n",
    "gene_score_data_fc_v1['-logp'] = -np.log10(gene_score_data_fc_v1['p'])\n",
    "gene_score_data_pfc_v1['-logp'] = -np.log10(gene_score_data_pfc_v1['p'])"
   ]
  },
  {
   "cell_type": "code",
   "execution_count": 39,
   "metadata": {
    "tags": []
   },
   "outputs": [],
   "source": [
    "# p data\n",
    "upper_b = 10\n",
    "lower_b = 0\n",
    "max_val = gene_score_data_p_v1['-logp'].max()\n",
    "min_val = 0\n",
    "\n",
    "gene_score_data_p_v1['score_raw'] = gene_score_data_p_v1['-logp'].apply(scale_score, args = (upper_b, lower_b, max_val, min_val))"
   ]
  },
  {
   "cell_type": "code",
   "execution_count": 40,
   "metadata": {
    "tags": []
   },
   "outputs": [],
   "source": [
    "# fc data\n",
    "upper_b = 10\n",
    "lower_b = 0\n",
    "max_val = gene_score_data_fc_v1['-logp'].max()\n",
    "min_val = 0\n",
    "\n",
    "gene_score_data_fc_v1['score_raw'] = gene_score_data_fc_v1['-logp'].apply(scale_score, args = (upper_b, lower_b, max_val, min_val))"
   ]
  },
  {
   "cell_type": "code",
   "execution_count": 41,
   "metadata": {
    "tags": []
   },
   "outputs": [],
   "source": [
    "# p & fc data\n",
    "upper_b = 10\n",
    "lower_b = 0\n",
    "max_val = gene_score_data_pfc_v1['-logp'].max()\n",
    "min_val = 0\n",
    "\n",
    "gene_score_data_pfc_v1['score_raw'] = gene_score_data_pfc_v1['-logp'].apply(scale_score, args = (upper_b, lower_b, max_val, min_val))"
   ]
  },
  {
   "cell_type": "code",
   "execution_count": 42,
   "metadata": {
    "tags": []
   },
   "outputs": [],
   "source": [
    "gene_score_data = pd.concat([gene_score_data_p_v1, gene_score_data_fc_v1, gene_score_data_pfc_v1]).reset_index().drop(['index'], axis = 1)"
   ]
  },
  {
   "cell_type": "code",
   "execution_count": 43,
   "metadata": {
    "tags": []
   },
   "outputs": [],
   "source": [
    "gene_score_data['p_v1'] = 10 ** -gene_score_data['score_raw']"
   ]
  },
  {
   "cell_type": "code",
   "execution_count": 44,
   "metadata": {
    "tags": []
   },
   "outputs": [
    {
     "name": "stdout",
     "output_type": "stream",
     "text": [
      "1000\n",
      "2000\n",
      "3000\n",
      "4000\n",
      "5000\n",
      "6000\n",
      "7000\n",
      "8000\n",
      "9000\n",
      "10000\n",
      "11000\n",
      "12000\n"
     ]
    }
   ],
   "source": [
    "gene_list = list(gene_score_data['gene'].unique())\n",
    "gene_score_data_v1 = pd.DataFrame()\n",
    "\n",
    "count = 0\n",
    "for gene in gene_list:\n",
    "    df_gene = gene_score_data[gene_score_data['gene'] == gene].reset_index().drop(['index'], axis = 1)\n",
    "    if len(df_gene['gene']) > 1:\n",
    "        df_gene_v1 = pd.DataFrame()\n",
    "        p_values = list(df_gene['p_v1'])\n",
    "        p_value = stats.combine_pvalues(p_values, method = 'fisher')[1]\n",
    "        df_gene_v1['gene'] = df_gene['gene'].unique()\n",
    "        df_gene_v1['p'] = p_value\n",
    "        df_gene_v1['sig_flag'] = df_gene['sig_flag'].sum()\n",
    "        df_gene_v1['nonsig_flag'] = df_gene['nonsig_flag'].sum()\n",
    "        gene_score_data_v1 = pd.concat([gene_score_data_v1, df_gene_v1]).reset_index().drop(['index'], axis = 1)\n",
    "        \n",
    "    elif len(df_gene['gene']) == 1:\n",
    "        gene_score_data_v1 = pd.concat([gene_score_data_v1, df_gene[['gene', 'p_v1', 'sig_flag', 'nonsig_flag']].rename(columns = {'p_v1':'p'})]).reset_index().drop(['index'], axis = 1)\n",
    "    \n",
    "    count += 1\n",
    "    if count % 1000 == 0:\n",
    "        print(count)"
   ]
  },
  {
   "cell_type": "code",
   "execution_count": 45,
   "metadata": {
    "tags": []
   },
   "outputs": [],
   "source": [
    "gene_score_data_v1['-logp'] = -np.log10(gene_score_data_v1['p'])\n",
    "upper_b = 6\n",
    "lower_b = 0\n",
    "max_val = gene_score_data_v1['-logp'].max()\n",
    "min_val = 0\n",
    "gene_score_data_v1['score'] = gene_score_data_v1['-logp'].apply(scale_score, args = (upper_b, lower_b, max_val, min_val))"
   ]
  },
  {
   "cell_type": "code",
   "execution_count": 46,
   "metadata": {
    "tags": []
   },
   "outputs": [
    {
     "data": {
      "text/plain": [
       "(array([9.766e+03, 1.669e+03, 4.810e+02, 1.860e+02, 1.030e+02, 4.500e+01,\n",
       "        1.100e+01, 8.000e+00, 1.000e+00, 1.000e+00]),\n",
       " array([5.83414038e-03, 6.05250726e-01, 1.20466731e+00, 1.80408390e+00,\n",
       "        2.40350048e+00, 3.00291707e+00, 3.60233366e+00, 4.20175024e+00,\n",
       "        4.80116683e+00, 5.40058341e+00, 6.00000000e+00]),\n",
       " <BarContainer object of 10 artists>)"
      ]
     },
     "execution_count": 46,
     "metadata": {},
     "output_type": "execute_result"
    },
    {
     "data": {
      "image/png": "[encoded data removed]",
      "text/plain": [
       "<Figure size 640x480 with 1 Axes>"
      ]
     },
     "metadata": {},
     "output_type": "display_data"
    }
   ],
   "source": [
    "plt.hist(gene_score_data_v1['score'])"
   ]
  },
  {
   "cell_type": "code",
   "execution_count": null,
   "metadata": {},
   "outputs": [],
   "source": []
  },
  {
   "cell_type": "code",
   "execution_count": null,
   "metadata": {},
   "outputs": [],
   "source": []
  },
  {
   "cell_type": "markdown",
   "metadata": {},
   "source": [
    "incomplete whole genome: re-scaling the score of genes to [0, 6]"
   ]
  },
  {
   "cell_type": "code",
   "execution_count": 47,
   "metadata": {
    "tags": []
   },
   "outputs": [],
   "source": [
    "# incomplete whole genome data\n",
    "# kim_2020\n",
    "kim_2020 = pd.read_excel(r'C:\\Users\\edwar\\Desktop\\農藝\\paper2\\data collection\\whole genome data\\incomplete\\gene expression\\Kim-2020\\Kim2020_iwgd.xlsx')\n",
    "kim_2020.loc[(kim_2020['fc'] < 1), 'fc'] = 1 / kim_2020['fc']\n",
    "kim_2020.loc[(kim_2020['fc'] > 400), 'fc'] = 400"
   ]
  },
  {
   "cell_type": "code",
   "execution_count": 48,
   "metadata": {
    "tags": []
   },
   "outputs": [
    {
     "name": "stdout",
     "output_type": "stream",
     "text": [
      "1000\n",
      "2000\n",
      "3000\n",
      "4000\n"
     ]
    }
   ],
   "source": [
    "kim_2020_data = kim_2020[['mapped_gene', 'fc']]\n",
    "gene_list = list(kim_2020_data['mapped_gene'].unique())\n",
    "kim_2020_data_v1 = pd.DataFrame()\n",
    "\n",
    "count = 0\n",
    "for gene in gene_list:\n",
    "    df_gene = kim_2020_data[kim_2020_data['mapped_gene'] == gene].reset_index().drop(['index'], axis = 1)\n",
    "    df_gene_v1 = pd.DataFrame()\n",
    "    df_gene_v1['gene'] = df_gene['mapped_gene'].unique()\n",
    "    df_gene_v1['fc'] = df_gene['fc'].max()\n",
    "    kim_2020_data_v1 = pd.concat([kim_2020_data_v1, df_gene_v1]).reset_index().drop(['index'], axis = 1)\n",
    "    count += 1\n",
    "    if count % 1000 == 0:\n",
    "        print(count)"
   ]
  },
  {
   "cell_type": "code",
   "execution_count": 49,
   "metadata": {
    "tags": []
   },
   "outputs": [],
   "source": [
    "kim_2020_data_v1['p_val'] = 0.1 ** np.log2(kim_2020_data_v1['fc'])\n",
    "kim_2020_data_v1['score_raw'] = -np.log10(kim_2020_data_v1['p_val'])\n",
    "kim_2020_data_v1['sig_flag'] = ''\n",
    "kim_2020_data_v1['nonsig_flag'] = ''\n",
    "kim_2020_data_v1.loc[(kim_2020_data_v1['p_val'] >= 0.05), 'sig_flag'] = 0\n",
    "kim_2020_data_v1.loc[(kim_2020_data_v1['p_val'] >= 0.05), 'nonsig_flag'] = 1\n",
    "kim_2020_data_v1.loc[(kim_2020_data_v1['p_val'] < 0.05), 'sig_flag'] = 1\n",
    "kim_2020_data_v1.loc[(kim_2020_data_v1['p_val'] < 0.05), 'nonsig_flag'] = 0"
   ]
  },
  {
   "cell_type": "code",
   "execution_count": 50,
   "metadata": {
    "tags": []
   },
   "outputs": [],
   "source": [
    "upper_b = 6\n",
    "lower_b = 0\n",
    "max_val = kim_2020_data_v1['score_raw'].max()\n",
    "min_val = 0\n",
    "kim_2020_data_v1['score'] = kim_2020_data_v1['score_raw'].apply(scale_score, args = (upper_b, lower_b, max_val, min_val))"
   ]
  },
  {
   "cell_type": "code",
   "execution_count": 51,
   "metadata": {
    "tags": []
   },
   "outputs": [
    {
     "data": {
      "text/plain": [
       "(array([1978.,  957.,  515.,  243.,  172.,   72.,   53.,   33.,   22.,\n",
       "          53.]),\n",
       " array([1.38826928, 1.84944235, 2.31061542, 2.7717885 , 3.23296157,\n",
       "        3.69413464, 4.15530771, 4.61648078, 5.07765386, 5.53882693,\n",
       "        6.        ]),\n",
       " <BarContainer object of 10 artists>)"
      ]
     },
     "execution_count": 51,
     "metadata": {},
     "output_type": "execute_result"
    },
    {
     "data": {
      "image/png": "[encoded data removed]",
      "text/plain": [
       "<Figure size 640x480 with 1 Axes>"
      ]
     },
     "metadata": {},
     "output_type": "display_data"
    }
   ],
   "source": [
    "plt.hist(kim_2020_data_v1['score'])"
   ]
  },
  {
   "cell_type": "code",
   "execution_count": 52,
   "metadata": {
    "tags": []
   },
   "outputs": [
    {
     "data": {
      "text/html": [
       "<div>\n",
       "<style scoped>\n",
       "    .dataframe tbody tr th:only-of-type {\n",
       "        vertical-align: middle;\n",
       "    }\n",
       "\n",
       "    .dataframe tbody tr th {\n",
       "        vertical-align: top;\n",
       "    }\n",
       "\n",
       "    .dataframe thead th {\n",
       "        text-align: right;\n",
       "    }\n",
       "</style>\n",
       "<table border=\"1\" class=\"dataframe\">\n",
       "  <thead>\n",
       "    <tr style=\"text-align: right;\">\n",
       "      <th></th>\n",
       "      <th>gene</th>\n",
       "      <th>fc</th>\n",
       "      <th>p_val</th>\n",
       "      <th>score_raw</th>\n",
       "      <th>sig_flag</th>\n",
       "      <th>nonsig_flag</th>\n",
       "      <th>score</th>\n",
       "    </tr>\n",
       "  </thead>\n",
       "  <tbody>\n",
       "    <tr>\n",
       "      <th>0</th>\n",
       "      <td>Glyma.15g209800</td>\n",
       "      <td>26.741343</td>\n",
       "      <td>0.000018</td>\n",
       "      <td>4.741</td>\n",
       "      <td>1</td>\n",
       "      <td>0</td>\n",
       "      <td>3.290892</td>\n",
       "    </tr>\n",
       "    <tr>\n",
       "      <th>1</th>\n",
       "      <td>Glyma.19g200200</td>\n",
       "      <td>4.109606</td>\n",
       "      <td>0.009141</td>\n",
       "      <td>2.039</td>\n",
       "      <td>1</td>\n",
       "      <td>0</td>\n",
       "      <td>1.415341</td>\n",
       "    </tr>\n",
       "    <tr>\n",
       "      <th>2</th>\n",
       "      <td>Glyma.19g199300</td>\n",
       "      <td>5.108855</td>\n",
       "      <td>0.004436</td>\n",
       "      <td>2.353</td>\n",
       "      <td>1</td>\n",
       "      <td>0</td>\n",
       "      <td>1.633299</td>\n",
       "    </tr>\n",
       "    <tr>\n",
       "      <th>3</th>\n",
       "      <td>Glyma.10g262600</td>\n",
       "      <td>7.200015</td>\n",
       "      <td>0.001419</td>\n",
       "      <td>2.848</td>\n",
       "      <td>1</td>\n",
       "      <td>0</td>\n",
       "      <td>1.976895</td>\n",
       "    </tr>\n",
       "    <tr>\n",
       "      <th>4</th>\n",
       "      <td>Glyma.11g038600</td>\n",
       "      <td>4.195957</td>\n",
       "      <td>0.008531</td>\n",
       "      <td>2.069</td>\n",
       "      <td>1</td>\n",
       "      <td>0</td>\n",
       "      <td>1.436165</td>\n",
       "    </tr>\n",
       "  </tbody>\n",
       "</table>\n",
       "</div>"
      ],
      "text/plain": [
       "              gene         fc     p_val  score_raw sig_flag nonsig_flag  \\\n",
       "0  Glyma.15g209800  26.741343  0.000018      4.741        1           0   \n",
       "1  Glyma.19g200200   4.109606  0.009141      2.039        1           0   \n",
       "2  Glyma.19g199300   5.108855  0.004436      2.353        1           0   \n",
       "3  Glyma.10g262600   7.200015  0.001419      2.848        1           0   \n",
       "4  Glyma.11g038600   4.195957  0.008531      2.069        1           0   \n",
       "\n",
       "      score  \n",
       "0  3.290892  \n",
       "1  1.415341  \n",
       "2  1.633299  \n",
       "3  1.976895  \n",
       "4  1.436165  "
      ]
     },
     "execution_count": 52,
     "metadata": {},
     "output_type": "execute_result"
    }
   ],
   "source": [
    "kim_2020_data_v1.head()"
   ]
  },
  {
   "cell_type": "code",
   "execution_count": null,
   "metadata": {},
   "outputs": [],
   "source": []
  },
  {
   "cell_type": "code",
   "execution_count": 53,
   "metadata": {
    "tags": []
   },
   "outputs": [
    {
     "name": "stderr",
     "output_type": "stream",
     "text": [
      "C:\\Users\\edwar\\AppData\\Local\\Temp\\ipykernel_10912\\1182524733.py:5: SettingWithCopyWarning: \n",
      "A value is trying to be set on a copy of a slice from a DataFrame.\n",
      "Try using .loc[row_indexer,col_indexer] = value instead\n",
      "\n",
      "See the caveats in the documentation: https://pandas.pydata.org/pandas-docs/stable/user_guide/indexing.html#returning-a-view-versus-a-copy\n",
      "  rodrigues_2015_data['-logp'] = -np.log10(rodrigues_2015_data['p'])\n"
     ]
    }
   ],
   "source": [
    "# incomplete whole genome data\n",
    "# rodrigues_2015\n",
    "rodrigues_2015 = pd.read_excel(r'C:\\Users\\edwar\\Desktop\\農藝\\paper2\\data collection\\whole genome data\\incomplete\\gene expression\\Rodrigues-2015\\Rodrigues2015_iwgd.xlsx')\n",
    "rodrigues_2015_data = rodrigues_2015[['mapped_gene', 'p']]\n",
    "rodrigues_2015_data['-logp'] = -np.log10(rodrigues_2015_data['p'])\n",
    "rodrigues_2015_data.loc[(rodrigues_2015_data['-logp'] > 32), '-logp'] = 32"
   ]
  },
  {
   "cell_type": "code",
   "execution_count": 54,
   "metadata": {
    "tags": []
   },
   "outputs": [
    {
     "name": "stderr",
     "output_type": "stream",
     "text": [
      "C:\\Users\\edwar\\AppData\\Local\\Temp\\ipykernel_10912\\117505275.py:1: SettingWithCopyWarning: \n",
      "A value is trying to be set on a copy of a slice from a DataFrame.\n",
      "Try using .loc[row_indexer,col_indexer] = value instead\n",
      "\n",
      "See the caveats in the documentation: https://pandas.pydata.org/pandas-docs/stable/user_guide/indexing.html#returning-a-view-versus-a-copy\n",
      "  rodrigues_2015_data['sig_flag'] = ''\n",
      "C:\\Users\\edwar\\AppData\\Local\\Temp\\ipykernel_10912\\117505275.py:2: SettingWithCopyWarning: \n",
      "A value is trying to be set on a copy of a slice from a DataFrame.\n",
      "Try using .loc[row_indexer,col_indexer] = value instead\n",
      "\n",
      "See the caveats in the documentation: https://pandas.pydata.org/pandas-docs/stable/user_guide/indexing.html#returning-a-view-versus-a-copy\n",
      "  rodrigues_2015_data['nonsig_flag'] = ''\n"
     ]
    }
   ],
   "source": [
    "rodrigues_2015_data['sig_flag'] = ''\n",
    "rodrigues_2015_data['nonsig_flag'] = ''\n",
    "\n",
    "rodrigues_2015_data.loc[(rodrigues_2015_data['p'] < 0.05), 'sig_flag'] = 1\n",
    "rodrigues_2015_data.loc[(rodrigues_2015_data['p'] < 0.05), 'nonsig_flag'] = 0\n",
    "rodrigues_2015_data.loc[(rodrigues_2015_data['p'] >= 0.05), 'nonsig_flag'] = 1\n",
    "rodrigues_2015_data.loc[(rodrigues_2015_data['p'] >= 0.05), 'sig_flag'] = 0"
   ]
  },
  {
   "cell_type": "code",
   "execution_count": 55,
   "metadata": {
    "tags": []
   },
   "outputs": [
    {
     "name": "stderr",
     "output_type": "stream",
     "text": [
      "C:\\Users\\edwar\\AppData\\Local\\Temp\\ipykernel_10912\\2520648447.py:5: SettingWithCopyWarning: \n",
      "A value is trying to be set on a copy of a slice from a DataFrame.\n",
      "Try using .loc[row_indexer,col_indexer] = value instead\n",
      "\n",
      "See the caveats in the documentation: https://pandas.pydata.org/pandas-docs/stable/user_guide/indexing.html#returning-a-view-versus-a-copy\n",
      "  rodrigues_2015_data['score'] = rodrigues_2015_data['-logp'].apply(scale_score, args = (upper_b, lower_b, max_val, min_val))\n"
     ]
    }
   ],
   "source": [
    "upper_b = 6\n",
    "lower_b = 0\n",
    "max_val = rodrigues_2015_data['-logp'].max()\n",
    "min_val = 0\n",
    "rodrigues_2015_data['score'] = rodrigues_2015_data['-logp'].apply(scale_score, args = (upper_b, lower_b, max_val, min_val))\n",
    "rodrigues_2015_data = rodrigues_2015_data.merge(glyma_gene_ver[['Wm82.a1.v1', 'Wm82.a2.v1']], left_on = ['mapped_gene'], right_on = ['Wm82.a1.v1'], how = 'left').drop(['Wm82.a1.v1'], axis = 1).rename(columns = {'mapped_gene':'gene_org', 'Wm82.a2.v1':'gene'})\n",
    "rodrigues_2015_data = rodrigues_2015_data[rodrigues_2015_data['gene'].isna() == False].reset_index().drop(['index'], axis = 1)"
   ]
  },
  {
   "cell_type": "code",
   "execution_count": 56,
   "metadata": {
    "tags": []
   },
   "outputs": [
    {
     "data": {
      "text/plain": [
       "(array([2324.,  566.,  167.,   67.,   38.,   30.,   18.,    7.,    5.,\n",
       "          24.]),\n",
       " array([0.31881101, 0.88692991, 1.45504881, 2.02316771, 2.59128661,\n",
       "        3.1594055 , 3.7275244 , 4.2956433 , 4.8637622 , 5.4318811 ,\n",
       "        6.        ]),\n",
       " <BarContainer object of 10 artists>)"
      ]
     },
     "execution_count": 56,
     "metadata": {},
     "output_type": "execute_result"
    },
    {
     "data": {
      "image/png": "[encoded data removed]",
      "text/plain": [
       "<Figure size 640x480 with 1 Axes>"
      ]
     },
     "metadata": {},
     "output_type": "display_data"
    }
   ],
   "source": [
    "plt.hist(rodrigues_2015_data['score'])"
   ]
  },
  {
   "cell_type": "code",
   "execution_count": 57,
   "metadata": {
    "tags": []
   },
   "outputs": [
    {
     "data": {
      "text/html": [
       "<div>\n",
       "<style scoped>\n",
       "    .dataframe tbody tr th:only-of-type {\n",
       "        vertical-align: middle;\n",
       "    }\n",
       "\n",
       "    .dataframe tbody tr th {\n",
       "        vertical-align: top;\n",
       "    }\n",
       "\n",
       "    .dataframe thead th {\n",
       "        text-align: right;\n",
       "    }\n",
       "</style>\n",
       "<table border=\"1\" class=\"dataframe\">\n",
       "  <thead>\n",
       "    <tr style=\"text-align: right;\">\n",
       "      <th></th>\n",
       "      <th>gene_org</th>\n",
       "      <th>p</th>\n",
       "      <th>-logp</th>\n",
       "      <th>sig_flag</th>\n",
       "      <th>nonsig_flag</th>\n",
       "      <th>score</th>\n",
       "      <th>gene</th>\n",
       "    </tr>\n",
       "  </thead>\n",
       "  <tbody>\n",
       "    <tr>\n",
       "      <th>0</th>\n",
       "      <td>Glyma03g12070</td>\n",
       "      <td>1.950000e-04</td>\n",
       "      <td>3.709965</td>\n",
       "      <td>1</td>\n",
       "      <td>0</td>\n",
       "      <td>0.695619</td>\n",
       "      <td>Glyma.03g068100</td>\n",
       "    </tr>\n",
       "    <tr>\n",
       "      <th>1</th>\n",
       "      <td>Glyma14g06660</td>\n",
       "      <td>3.470000e-04</td>\n",
       "      <td>3.459671</td>\n",
       "      <td>1</td>\n",
       "      <td>0</td>\n",
       "      <td>0.648688</td>\n",
       "      <td>Glyma.14g061300</td>\n",
       "    </tr>\n",
       "    <tr>\n",
       "      <th>2</th>\n",
       "      <td>Glyma05g29630</td>\n",
       "      <td>3.490000e-09</td>\n",
       "      <td>8.457175</td>\n",
       "      <td>1</td>\n",
       "      <td>0</td>\n",
       "      <td>1.585720</td>\n",
       "      <td>Glyma.05g163400</td>\n",
       "    </tr>\n",
       "    <tr>\n",
       "      <th>3</th>\n",
       "      <td>Glyma13g24470</td>\n",
       "      <td>1.320000e-02</td>\n",
       "      <td>1.879426</td>\n",
       "      <td>1</td>\n",
       "      <td>0</td>\n",
       "      <td>0.352392</td>\n",
       "      <td>Glyma.13g176100</td>\n",
       "    </tr>\n",
       "    <tr>\n",
       "      <th>4</th>\n",
       "      <td>Glyma19g02710</td>\n",
       "      <td>1.895512e-08</td>\n",
       "      <td>7.722273</td>\n",
       "      <td>1</td>\n",
       "      <td>0</td>\n",
       "      <td>1.447926</td>\n",
       "      <td>Glyma.19g023200</td>\n",
       "    </tr>\n",
       "  </tbody>\n",
       "</table>\n",
       "</div>"
      ],
      "text/plain": [
       "        gene_org             p     -logp sig_flag nonsig_flag     score  \\\n",
       "0  Glyma03g12070  1.950000e-04  3.709965        1           0  0.695619   \n",
       "1  Glyma14g06660  3.470000e-04  3.459671        1           0  0.648688   \n",
       "2  Glyma05g29630  3.490000e-09  8.457175        1           0  1.585720   \n",
       "3  Glyma13g24470  1.320000e-02  1.879426        1           0  0.352392   \n",
       "4  Glyma19g02710  1.895512e-08  7.722273        1           0  1.447926   \n",
       "\n",
       "              gene  \n",
       "0  Glyma.03g068100  \n",
       "1  Glyma.14g061300  \n",
       "2  Glyma.05g163400  \n",
       "3  Glyma.13g176100  \n",
       "4  Glyma.19g023200  "
      ]
     },
     "execution_count": 57,
     "metadata": {},
     "output_type": "execute_result"
    }
   ],
   "source": [
    "rodrigues_2015_data.head()"
   ]
  },
  {
   "cell_type": "code",
   "execution_count": null,
   "metadata": {},
   "outputs": [],
   "source": []
  },
  {
   "cell_type": "code",
   "execution_count": 58,
   "metadata": {
    "tags": []
   },
   "outputs": [],
   "source": [
    "# incomplete whole genome data\n",
    "# tripathi_2016 (有 0.5, 1, 2, 3, 5hr)\n",
    "tripathi_2016 = pd.read_excel(r'C:\\Users\\edwar\\Desktop\\農藝\\paper2\\data collection\\whole genome data\\incomplete\\gene expression\\Tripathi-2016\\Tripathi2016_iwgd.xlsx')\n",
    "tripathi_2016.loc[(tripathi_2016['fc'] < 1), 'fc'] = 1 / tripathi_2016['fc']\n",
    "# tripathi_2016.loc[(tripathi_2016['fc'] > 270), 'fc'] = 270"
   ]
  },
  {
   "cell_type": "code",
   "execution_count": 59,
   "metadata": {
    "tags": []
   },
   "outputs": [
    {
     "name": "stdout",
     "output_type": "stream",
     "text": [
      "1000\n",
      "2000\n",
      "3000\n",
      "4000\n"
     ]
    }
   ],
   "source": [
    "tripathi_2016_data = tripathi_2016[['mapped_gene', 'fc']]\n",
    "tripathi_2016_data.loc[(tripathi_2016_data['fc'] > 250), 'fc'] = 250\n",
    "gene_list = list(tripathi_2016_data['mapped_gene'].unique())\n",
    "tripathi_2016_data_v1 = pd.DataFrame()\n",
    "\n",
    "count = 0\n",
    "for gene in gene_list:\n",
    "    df_gene = tripathi_2016_data[tripathi_2016_data['mapped_gene'] == gene].reset_index().drop(['index'], axis = 1)\n",
    "    df_gene_v1 = pd.DataFrame()\n",
    "    df_gene_v1['gene'] = df_gene['mapped_gene'].unique()\n",
    "    df_gene_v1['fc'] = df_gene['fc'].max()\n",
    "    tripathi_2016_data_v1 = pd.concat([tripathi_2016_data_v1, df_gene_v1]).reset_index().drop(['index'], axis = 1)\n",
    "    count += 1\n",
    "    if count % 1000 == 0:\n",
    "        print(count)"
   ]
  },
  {
   "cell_type": "code",
   "execution_count": 60,
   "metadata": {
    "tags": []
   },
   "outputs": [],
   "source": [
    "tripathi_2016_data_v1['p_val'] = 0.1 ** np.log2(tripathi_2016_data_v1['fc'])\n",
    "tripathi_2016_data_v1['score_raw'] = -np.log10(tripathi_2016_data_v1['p_val'])"
   ]
  },
  {
   "cell_type": "code",
   "execution_count": 61,
   "metadata": {
    "tags": []
   },
   "outputs": [],
   "source": [
    "tripathi_2016_data_v1['sig_flag'] = ''\n",
    "tripathi_2016_data_v1['nonsig_flag'] = ''\n",
    "tripathi_2016_data_v1.loc[(tripathi_2016_data_v1['fc'] > 1.5), 'sig_flag'] = 1\n",
    "tripathi_2016_data_v1.loc[(tripathi_2016_data_v1['fc'] > 1.5), 'nonsig_flag'] = 0\n",
    "tripathi_2016_data_v1.loc[(tripathi_2016_data_v1['fc'] <= 1.5), 'nonsig_flag'] = 1\n",
    "tripathi_2016_data_v1.loc[(tripathi_2016_data_v1['fc'] <= 1.5), 'sig_flag'] = 0"
   ]
  },
  {
   "cell_type": "code",
   "execution_count": 62,
   "metadata": {
    "tags": []
   },
   "outputs": [],
   "source": [
    "upper_b = 6\n",
    "lower_b = 0\n",
    "max_val = tripathi_2016_data_v1['fc'].max()\n",
    "min_val = 0\n",
    "\n",
    "tripathi_2016_data_v1['score'] = tripathi_2016_data_v1['fc'].apply(scale_score, args = (upper_b, lower_b, max_val, min_val))\n",
    "tripathi_2016_data_v1 = tripathi_2016_data_v1.merge(glyma_gene_ver[['Wm82.a1.v1', 'Wm82.a2.v1']], left_on = ['gene'], right_on = ['Wm82.a1.v1'], how = 'left').drop(['Wm82.a1.v1'], axis = 1).rename(columns = {'gene':'gene_org', 'Wm82.a2.v1':'gene'})\n",
    "tripathi_2016_data_v1 = tripathi_2016_data_v1[tripathi_2016_data_v1['gene'].isna() == False].reset_index().drop(['index'], axis = 1)"
   ]
  },
  {
   "cell_type": "code",
   "execution_count": 63,
   "metadata": {
    "tags": []
   },
   "outputs": [
    {
     "data": {
      "text/plain": [
       "(array([3296.,  355.,   90.,   45.,   27.,   19.,    9.,    7.,    6.,\n",
       "          28.]),\n",
       " array([0.02529379, 0.62276442, 1.22023504, 1.81770566, 2.41517628,\n",
       "        3.0126469 , 3.61011752, 4.20758814, 4.80505876, 5.40252938,\n",
       "        6.        ]),\n",
       " <BarContainer object of 10 artists>)"
      ]
     },
     "execution_count": 63,
     "metadata": {},
     "output_type": "execute_result"
    },
    {
     "data": {
      "image/png": "[encoded data removed]",
      "text/plain": [
       "<Figure size 640x480 with 1 Axes>"
      ]
     },
     "metadata": {},
     "output_type": "display_data"
    }
   ],
   "source": [
    "plt.hist(tripathi_2016_data_v1['score'])"
   ]
  },
  {
   "cell_type": "code",
   "execution_count": 64,
   "metadata": {
    "tags": []
   },
   "outputs": [
    {
     "data": {
      "text/html": [
       "<div>\n",
       "<style scoped>\n",
       "    .dataframe tbody tr th:only-of-type {\n",
       "        vertical-align: middle;\n",
       "    }\n",
       "\n",
       "    .dataframe tbody tr th {\n",
       "        vertical-align: top;\n",
       "    }\n",
       "\n",
       "    .dataframe thead th {\n",
       "        text-align: right;\n",
       "    }\n",
       "</style>\n",
       "<table border=\"1\" class=\"dataframe\">\n",
       "  <thead>\n",
       "    <tr style=\"text-align: right;\">\n",
       "      <th></th>\n",
       "      <th>gene_org</th>\n",
       "      <th>fc</th>\n",
       "      <th>p_val</th>\n",
       "      <th>score_raw</th>\n",
       "      <th>sig_flag</th>\n",
       "      <th>nonsig_flag</th>\n",
       "      <th>score</th>\n",
       "      <th>gene</th>\n",
       "    </tr>\n",
       "  </thead>\n",
       "  <tbody>\n",
       "    <tr>\n",
       "      <th>0</th>\n",
       "      <td>Glyma12g12190</td>\n",
       "      <td>28.753647</td>\n",
       "      <td>0.000014</td>\n",
       "      <td>4.845673</td>\n",
       "      <td>1</td>\n",
       "      <td>0</td>\n",
       "      <td>0.690088</td>\n",
       "      <td>Glyma.12g109600</td>\n",
       "    </tr>\n",
       "    <tr>\n",
       "      <th>1</th>\n",
       "      <td>Glyma12g22950</td>\n",
       "      <td>1.100000</td>\n",
       "      <td>0.728612</td>\n",
       "      <td>0.137504</td>\n",
       "      <td>0</td>\n",
       "      <td>1</td>\n",
       "      <td>0.026400</td>\n",
       "      <td>Glyma.12g149500</td>\n",
       "    </tr>\n",
       "    <tr>\n",
       "      <th>2</th>\n",
       "      <td>Glyma02g37610</td>\n",
       "      <td>1.610000</td>\n",
       "      <td>0.205560</td>\n",
       "      <td>0.687061</td>\n",
       "      <td>1</td>\n",
       "      <td>0</td>\n",
       "      <td>0.038640</td>\n",
       "      <td>Glyma.02g213000</td>\n",
       "    </tr>\n",
       "    <tr>\n",
       "      <th>3</th>\n",
       "      <td>Glyma10g01420</td>\n",
       "      <td>2.610000</td>\n",
       "      <td>0.041300</td>\n",
       "      <td>1.384050</td>\n",
       "      <td>1</td>\n",
       "      <td>0</td>\n",
       "      <td>0.062640</td>\n",
       "      <td>Glyma.10g011000</td>\n",
       "    </tr>\n",
       "    <tr>\n",
       "      <th>4</th>\n",
       "      <td>Glyma13g30680</td>\n",
       "      <td>2.179791</td>\n",
       "      <td>0.075129</td>\n",
       "      <td>1.124190</td>\n",
       "      <td>1</td>\n",
       "      <td>0</td>\n",
       "      <td>0.052315</td>\n",
       "      <td>Glyma.13g233600</td>\n",
       "    </tr>\n",
       "  </tbody>\n",
       "</table>\n",
       "</div>"
      ],
      "text/plain": [
       "        gene_org         fc     p_val  score_raw sig_flag nonsig_flag  \\\n",
       "0  Glyma12g12190  28.753647  0.000014   4.845673        1           0   \n",
       "1  Glyma12g22950   1.100000  0.728612   0.137504        0           1   \n",
       "2  Glyma02g37610   1.610000  0.205560   0.687061        1           0   \n",
       "3  Glyma10g01420   2.610000  0.041300   1.384050        1           0   \n",
       "4  Glyma13g30680   2.179791  0.075129   1.124190        1           0   \n",
       "\n",
       "      score             gene  \n",
       "0  0.690088  Glyma.12g109600  \n",
       "1  0.026400  Glyma.12g149500  \n",
       "2  0.038640  Glyma.02g213000  \n",
       "3  0.062640  Glyma.10g011000  \n",
       "4  0.052315  Glyma.13g233600  "
      ]
     },
     "execution_count": 64,
     "metadata": {},
     "output_type": "execute_result"
    }
   ],
   "source": [
    "tripathi_2016_data_v1.head()"
   ]
  },
  {
   "cell_type": "code",
   "execution_count": null,
   "metadata": {},
   "outputs": [],
   "source": []
  },
  {
   "cell_type": "code",
   "execution_count": 65,
   "metadata": {
    "tags": []
   },
   "outputs": [],
   "source": [
    "# incomplete whole genome data\n",
    "# wang_2021\n",
    "wang_2021 = pd.read_excel(r'C:\\Users\\edwar\\Desktop\\農藝\\paper2\\data collection\\whole genome data\\incomplete\\gene expression\\Wang-2021\\Wang2021_iwgd.xlsx')\n",
    "# wang_2021.loc[(wang_2021['p'] < 10 ** -323), 'p'] = 10 ** -323  # 會有快 500 個基因是 10 ** -323"
   ]
  },
  {
   "cell_type": "code",
   "execution_count": 66,
   "metadata": {
    "tags": []
   },
   "outputs": [
    {
     "name": "stderr",
     "output_type": "stream",
     "text": [
      "C:\\Users\\edwar\\AppData\\Local\\Temp\\ipykernel_10912\\2667600471.py:2: SettingWithCopyWarning: \n",
      "A value is trying to be set on a copy of a slice from a DataFrame.\n",
      "Try using .loc[row_indexer,col_indexer] = value instead\n",
      "\n",
      "See the caveats in the documentation: https://pandas.pydata.org/pandas-docs/stable/user_guide/indexing.html#returning-a-view-versus-a-copy\n",
      "  wang_2021_data['sig_flag'] = ''\n",
      "C:\\Users\\edwar\\AppData\\Local\\Temp\\ipykernel_10912\\2667600471.py:3: SettingWithCopyWarning: \n",
      "A value is trying to be set on a copy of a slice from a DataFrame.\n",
      "Try using .loc[row_indexer,col_indexer] = value instead\n",
      "\n",
      "See the caveats in the documentation: https://pandas.pydata.org/pandas-docs/stable/user_guide/indexing.html#returning-a-view-versus-a-copy\n",
      "  wang_2021_data['nonsig_flag'] = ''\n"
     ]
    }
   ],
   "source": [
    "wang_2021_data = wang_2021[['mapped_gene', 'p']]\n",
    "wang_2021_data['sig_flag'] = ''\n",
    "wang_2021_data['nonsig_flag'] = ''\n",
    "wang_2021_data.loc[(wang_2021_data['p'] < 0.05), 'sig_flag'] = 1\n",
    "wang_2021_data.loc[(wang_2021_data['p'] < 0.05), 'nonsig_flag'] = 0\n",
    "wang_2021_data.loc[(wang_2021_data['p'] >= 0.05), 'nonsig_flag'] = 1\n",
    "wang_2021_data.loc[(wang_2021_data['p'] >= 0.05), 'sig_flag'] = 0"
   ]
  },
  {
   "cell_type": "code",
   "execution_count": 67,
   "metadata": {
    "tags": []
   },
   "outputs": [
    {
     "name": "stderr",
     "output_type": "stream",
     "text": [
      "C:\\Users\\edwar\\AppData\\Local\\Temp\\ipykernel_10912\\3065072560.py:2: SettingWithCopyWarning: \n",
      "A value is trying to be set on a copy of a slice from a DataFrame.\n",
      "Try using .loc[row_indexer,col_indexer] = value instead\n",
      "\n",
      "See the caveats in the documentation: https://pandas.pydata.org/pandas-docs/stable/user_guide/indexing.html#returning-a-view-versus-a-copy\n",
      "  wang_2021_data['-logp'] = -np.log10(wang_2021_data['p'])\n"
     ]
    }
   ],
   "source": [
    "wang_2021_data.loc[(wang_2021_data['p'] < 10 ** -323), 'p'] = 10 ** -323\n",
    "wang_2021_data['-logp'] = -np.log10(wang_2021_data['p'])"
   ]
  },
  {
   "cell_type": "code",
   "execution_count": 68,
   "metadata": {
    "tags": []
   },
   "outputs": [
    {
     "name": "stderr",
     "output_type": "stream",
     "text": [
      "C:\\Users\\edwar\\AppData\\Local\\Temp\\ipykernel_10912\\3264094070.py:6: SettingWithCopyWarning: \n",
      "A value is trying to be set on a copy of a slice from a DataFrame.\n",
      "Try using .loc[row_indexer,col_indexer] = value instead\n",
      "\n",
      "See the caveats in the documentation: https://pandas.pydata.org/pandas-docs/stable/user_guide/indexing.html#returning-a-view-versus-a-copy\n",
      "  wang_2021_data['score'] = wang_2021_data['-logp'].apply(scale_score, args = (upper_b, lower_b, max_val, min_val))\n"
     ]
    }
   ],
   "source": [
    "upper_b = 6\n",
    "lower_b = 0\n",
    "max_val = wang_2021_data['-logp'].max()\n",
    "min_val = 0\n",
    "\n",
    "wang_2021_data['score'] = wang_2021_data['-logp'].apply(scale_score, args = (upper_b, lower_b, max_val, min_val))"
   ]
  },
  {
   "cell_type": "code",
   "execution_count": 69,
   "metadata": {
    "tags": []
   },
   "outputs": [
    {
     "data": {
      "text/html": [
       "<div>\n",
       "<style scoped>\n",
       "    .dataframe tbody tr th:only-of-type {\n",
       "        vertical-align: middle;\n",
       "    }\n",
       "\n",
       "    .dataframe tbody tr th {\n",
       "        vertical-align: top;\n",
       "    }\n",
       "\n",
       "    .dataframe thead th {\n",
       "        text-align: right;\n",
       "    }\n",
       "</style>\n",
       "<table border=\"1\" class=\"dataframe\">\n",
       "  <thead>\n",
       "    <tr style=\"text-align: right;\">\n",
       "      <th></th>\n",
       "      <th>mapped_gene</th>\n",
       "      <th>p</th>\n",
       "      <th>sig_flag</th>\n",
       "      <th>nonsig_flag</th>\n",
       "      <th>-logp</th>\n",
       "      <th>score</th>\n",
       "    </tr>\n",
       "  </thead>\n",
       "  <tbody>\n",
       "    <tr>\n",
       "      <th>0</th>\n",
       "      <td>Glyma.01g013900</td>\n",
       "      <td>9.881313e-324</td>\n",
       "      <td>1</td>\n",
       "      <td>0</td>\n",
       "      <td>323.005185</td>\n",
       "      <td>6.0</td>\n",
       "    </tr>\n",
       "    <tr>\n",
       "      <th>1</th>\n",
       "      <td>Glyma.01g017000</td>\n",
       "      <td>9.881313e-324</td>\n",
       "      <td>1</td>\n",
       "      <td>0</td>\n",
       "      <td>323.005185</td>\n",
       "      <td>6.0</td>\n",
       "    </tr>\n",
       "    <tr>\n",
       "      <th>2</th>\n",
       "      <td>Glyma.01g019200</td>\n",
       "      <td>9.881313e-324</td>\n",
       "      <td>1</td>\n",
       "      <td>0</td>\n",
       "      <td>323.005185</td>\n",
       "      <td>6.0</td>\n",
       "    </tr>\n",
       "    <tr>\n",
       "      <th>3</th>\n",
       "      <td>Glyma.01g025600</td>\n",
       "      <td>9.881313e-324</td>\n",
       "      <td>1</td>\n",
       "      <td>0</td>\n",
       "      <td>323.005185</td>\n",
       "      <td>6.0</td>\n",
       "    </tr>\n",
       "    <tr>\n",
       "      <th>4</th>\n",
       "      <td>Glyma.01g031500</td>\n",
       "      <td>9.881313e-324</td>\n",
       "      <td>1</td>\n",
       "      <td>0</td>\n",
       "      <td>323.005185</td>\n",
       "      <td>6.0</td>\n",
       "    </tr>\n",
       "  </tbody>\n",
       "</table>\n",
       "</div>"
      ],
      "text/plain": [
       "       mapped_gene              p sig_flag nonsig_flag       -logp  score\n",
       "0  Glyma.01g013900  9.881313e-324        1           0  323.005185    6.0\n",
       "1  Glyma.01g017000  9.881313e-324        1           0  323.005185    6.0\n",
       "2  Glyma.01g019200  9.881313e-324        1           0  323.005185    6.0\n",
       "3  Glyma.01g025600  9.881313e-324        1           0  323.005185    6.0\n",
       "4  Glyma.01g031500  9.881313e-324        1           0  323.005185    6.0"
      ]
     },
     "execution_count": 69,
     "metadata": {},
     "output_type": "execute_result"
    }
   ],
   "source": [
    "wang_2021_data.head()"
   ]
  },
  {
   "cell_type": "code",
   "execution_count": 70,
   "metadata": {
    "tags": []
   },
   "outputs": [
    {
     "data": {
      "text/plain": [
       "(array([11021.,  2642.,  1340.,   734.,   429.,   264.,   179.,   165.,\n",
       "          114.,   526.]),\n",
       " array([0.02764123, 0.62487711, 1.22211298, 1.81934886, 2.41658474,\n",
       "        3.01382061, 3.61105649, 4.20829237, 4.80552825, 5.40276412,\n",
       "        6.        ]),\n",
       " <BarContainer object of 10 artists>)"
      ]
     },
     "execution_count": 70,
     "metadata": {},
     "output_type": "execute_result"
    },
    {
     "data": {
      "image/png": "[encoded data removed]",
      "text/plain": [
       "<Figure size 640x480 with 1 Axes>"
      ]
     },
     "metadata": {},
     "output_type": "display_data"
    }
   ],
   "source": [
    "plt.hist(wang_2021_data['score'])"
   ]
  },
  {
   "cell_type": "code",
   "execution_count": null,
   "metadata": {},
   "outputs": [],
   "source": []
  },
  {
   "cell_type": "code",
   "execution_count": null,
   "metadata": {},
   "outputs": [],
   "source": []
  },
  {
   "cell_type": "code",
   "execution_count": 71,
   "metadata": {
    "tags": []
   },
   "outputs": [],
   "source": [
    "# incomplete whole genome data\n",
    "# xuan_2022\n",
    "xuan_2022 = pd.read_excel(r'C:\\Users\\edwar\\Desktop\\農藝\\paper2\\data collection\\whole genome data\\incomplete\\gene expression\\Xuan-2022\\Xuan2022_iwgd.xlsx')\n",
    "# xuan_2022_test.loc[(xuan_2022_test['p'] < 10 ** -30), 'p'] = 10 ** -30"
   ]
  },
  {
   "cell_type": "code",
   "execution_count": 72,
   "metadata": {
    "tags": []
   },
   "outputs": [
    {
     "name": "stderr",
     "output_type": "stream",
     "text": [
      "C:\\Users\\edwar\\AppData\\Local\\Temp\\ipykernel_10912\\712804230.py:2: SettingWithCopyWarning: \n",
      "A value is trying to be set on a copy of a slice from a DataFrame.\n",
      "Try using .loc[row_indexer,col_indexer] = value instead\n",
      "\n",
      "See the caveats in the documentation: https://pandas.pydata.org/pandas-docs/stable/user_guide/indexing.html#returning-a-view-versus-a-copy\n",
      "  xuan_2022_data['-logp'] = -np.log10(xuan_2022_data['p'])\n"
     ]
    }
   ],
   "source": [
    "xuan_2022_data = xuan_2022[['mapped_gene', 'p']]\n",
    "xuan_2022_data['-logp'] = -np.log10(xuan_2022_data['p'])\n",
    "xuan_2022_data.loc[(xuan_2022_data['-logp'] > 40), '-logp'] = 40"
   ]
  },
  {
   "cell_type": "code",
   "execution_count": 73,
   "metadata": {
    "tags": []
   },
   "outputs": [
    {
     "name": "stderr",
     "output_type": "stream",
     "text": [
      "C:\\Users\\edwar\\AppData\\Local\\Temp\\ipykernel_10912\\3029467643.py:1: SettingWithCopyWarning: \n",
      "A value is trying to be set on a copy of a slice from a DataFrame.\n",
      "Try using .loc[row_indexer,col_indexer] = value instead\n",
      "\n",
      "See the caveats in the documentation: https://pandas.pydata.org/pandas-docs/stable/user_guide/indexing.html#returning-a-view-versus-a-copy\n",
      "  xuan_2022_data['sig_flag'] = ''\n",
      "C:\\Users\\edwar\\AppData\\Local\\Temp\\ipykernel_10912\\3029467643.py:2: SettingWithCopyWarning: \n",
      "A value is trying to be set on a copy of a slice from a DataFrame.\n",
      "Try using .loc[row_indexer,col_indexer] = value instead\n",
      "\n",
      "See the caveats in the documentation: https://pandas.pydata.org/pandas-docs/stable/user_guide/indexing.html#returning-a-view-versus-a-copy\n",
      "  xuan_2022_data['nonsig_flag'] = ''\n"
     ]
    }
   ],
   "source": [
    "xuan_2022_data['sig_flag'] = ''\n",
    "xuan_2022_data['nonsig_flag'] = ''\n",
    "\n",
    "xuan_2022_data.loc[(xuan_2022_data['p'] < 0.05), 'sig_flag'] = 1\n",
    "xuan_2022_data.loc[(xuan_2022_data['p'] < 0.05), 'nonsig_flag'] = 0\n",
    "xuan_2022_data.loc[(xuan_2022_data['p'] >= 0.05), 'sig_flag'] = 0\n",
    "xuan_2022_data.loc[(xuan_2022_data['p'] >= 0.05), 'nonsig_flag'] = 1"
   ]
  },
  {
   "cell_type": "code",
   "execution_count": 74,
   "metadata": {
    "tags": []
   },
   "outputs": [
    {
     "name": "stderr",
     "output_type": "stream",
     "text": [
      "C:\\Users\\edwar\\AppData\\Local\\Temp\\ipykernel_10912\\464144031.py:6: SettingWithCopyWarning: \n",
      "A value is trying to be set on a copy of a slice from a DataFrame.\n",
      "Try using .loc[row_indexer,col_indexer] = value instead\n",
      "\n",
      "See the caveats in the documentation: https://pandas.pydata.org/pandas-docs/stable/user_guide/indexing.html#returning-a-view-versus-a-copy\n",
      "  xuan_2022_data['score'] = xuan_2022_data['-logp'].apply(scale_score, args = (upper_b, lower_b, max_val, min_val))\n"
     ]
    }
   ],
   "source": [
    "upper_b = 6\n",
    "lower_b = 0\n",
    "max_val = xuan_2022_data['-logp'].max()\n",
    "min_val = 0\n",
    "\n",
    "xuan_2022_data['score'] = xuan_2022_data['-logp'].apply(scale_score, args = (upper_b, lower_b, max_val, min_val))"
   ]
  },
  {
   "cell_type": "code",
   "execution_count": 75,
   "metadata": {
    "tags": []
   },
   "outputs": [
    {
     "data": {
      "text/plain": [
       "(array([3.356e+03, 4.740e+02, 1.310e+02, 7.600e+01, 2.800e+01, 1.600e+01,\n",
       "        1.300e+01, 6.000e+00, 3.000e+00, 9.000e+00]),\n",
       " array([0.19520654, 0.77568589, 1.35616524, 1.93664458, 2.51712393,\n",
       "        3.09760327, 3.67808262, 4.25856196, 4.83904131, 5.41952065,\n",
       "        6.        ]),\n",
       " <BarContainer object of 10 artists>)"
      ]
     },
     "execution_count": 75,
     "metadata": {},
     "output_type": "execute_result"
    },
    {
     "data": {
      "image/png": "[encoded data removed]",
      "text/plain": [
       "<Figure size 640x480 with 1 Axes>"
      ]
     },
     "metadata": {},
     "output_type": "display_data"
    }
   ],
   "source": [
    "plt.hist(xuan_2022_data['score'])"
   ]
  },
  {
   "cell_type": "code",
   "execution_count": 76,
   "metadata": {
    "tags": []
   },
   "outputs": [
    {
     "data": {
      "text/html": [
       "<div>\n",
       "<style scoped>\n",
       "    .dataframe tbody tr th:only-of-type {\n",
       "        vertical-align: middle;\n",
       "    }\n",
       "\n",
       "    .dataframe tbody tr th {\n",
       "        vertical-align: top;\n",
       "    }\n",
       "\n",
       "    .dataframe thead th {\n",
       "        text-align: right;\n",
       "    }\n",
       "</style>\n",
       "<table border=\"1\" class=\"dataframe\">\n",
       "  <thead>\n",
       "    <tr style=\"text-align: right;\">\n",
       "      <th></th>\n",
       "      <th>mapped_gene</th>\n",
       "      <th>p</th>\n",
       "      <th>-logp</th>\n",
       "      <th>sig_flag</th>\n",
       "      <th>nonsig_flag</th>\n",
       "      <th>score</th>\n",
       "    </tr>\n",
       "  </thead>\n",
       "  <tbody>\n",
       "    <tr>\n",
       "      <th>0</th>\n",
       "      <td>Glyma.01g001200</td>\n",
       "      <td>1.170925e-03</td>\n",
       "      <td>2.931471</td>\n",
       "      <td>1</td>\n",
       "      <td>0</td>\n",
       "      <td>0.439721</td>\n",
       "    </tr>\n",
       "    <tr>\n",
       "      <th>1</th>\n",
       "      <td>Glyma.01g001500</td>\n",
       "      <td>6.030000e-21</td>\n",
       "      <td>20.219683</td>\n",
       "      <td>1</td>\n",
       "      <td>0</td>\n",
       "      <td>3.032952</td>\n",
       "    </tr>\n",
       "    <tr>\n",
       "      <th>2</th>\n",
       "      <td>Glyma.01g002300</td>\n",
       "      <td>9.995805e-03</td>\n",
       "      <td>2.000182</td>\n",
       "      <td>1</td>\n",
       "      <td>0</td>\n",
       "      <td>0.300027</td>\n",
       "    </tr>\n",
       "    <tr>\n",
       "      <th>3</th>\n",
       "      <td>Glyma.01g002400</td>\n",
       "      <td>5.890000e-05</td>\n",
       "      <td>4.229885</td>\n",
       "      <td>1</td>\n",
       "      <td>0</td>\n",
       "      <td>0.634483</td>\n",
       "    </tr>\n",
       "    <tr>\n",
       "      <th>4</th>\n",
       "      <td>Glyma.01g005000</td>\n",
       "      <td>2.008013e-02</td>\n",
       "      <td>1.697233</td>\n",
       "      <td>1</td>\n",
       "      <td>0</td>\n",
       "      <td>0.254585</td>\n",
       "    </tr>\n",
       "  </tbody>\n",
       "</table>\n",
       "</div>"
      ],
      "text/plain": [
       "       mapped_gene             p      -logp sig_flag nonsig_flag     score\n",
       "0  Glyma.01g001200  1.170925e-03   2.931471        1           0  0.439721\n",
       "1  Glyma.01g001500  6.030000e-21  20.219683        1           0  3.032952\n",
       "2  Glyma.01g002300  9.995805e-03   2.000182        1           0  0.300027\n",
       "3  Glyma.01g002400  5.890000e-05   4.229885        1           0  0.634483\n",
       "4  Glyma.01g005000  2.008013e-02   1.697233        1           0  0.254585"
      ]
     },
     "execution_count": 76,
     "metadata": {},
     "output_type": "execute_result"
    }
   ],
   "source": [
    "xuan_2022_data.head()"
   ]
  },
  {
   "cell_type": "code",
   "execution_count": null,
   "metadata": {},
   "outputs": [],
   "source": []
  },
  {
   "cell_type": "code",
   "execution_count": 77,
   "metadata": {
    "tags": []
   },
   "outputs": [],
   "source": [
    "# incomplete whole genome data\n",
    "# zhou_2020\n",
    "zhou_2020 = pd.read_excel(r'C:\\Users\\edwar\\Desktop\\農藝\\paper2\\data collection\\whole genome data\\incomplete\\gene expression\\Zhou-2020\\Zhou2020_iwgd.xlsx')\n",
    "# zhou_2020.loc[(zhou_2020['p'] < 10 ** -70), 'p'] = 10 ** -70"
   ]
  },
  {
   "cell_type": "code",
   "execution_count": 78,
   "metadata": {
    "tags": []
   },
   "outputs": [
    {
     "name": "stdout",
     "output_type": "stream",
     "text": [
      "1000\n",
      "2000\n",
      "3000\n",
      "4000\n",
      "5000\n"
     ]
    }
   ],
   "source": [
    "zhou_2020_data = zhou_2020[['mapped_gene', 'p']]\n",
    "gene_list = list(zhou_2020['mapped_gene'].unique())\n",
    "zhou_2020_data_v1 = pd.DataFrame()\n",
    "\n",
    "count = 0\n",
    "for gene in gene_list:\n",
    "    df_gene = zhou_2020_data[zhou_2020_data['mapped_gene'] == gene].reset_index().drop(['index'], axis = 1)\n",
    "    if len(df_gene['mapped_gene']) > 1:\n",
    "        df_gene_v1 = pd.DataFrame()\n",
    "        p_values = list(df_gene['p'])\n",
    "        p_value = stats.combine_pvalues(p_values, method = 'fisher')[1]\n",
    "        df_gene_v1['gene'] = df_gene['mapped_gene'].unique()\n",
    "        df_gene_v1['p'] = p_value\n",
    "        df_gene_v1['score_raw'] = -np.log10(df_gene_v1['p'])\n",
    "        zhou_2020_data_v1 = pd.concat([zhou_2020_data_v1, df_gene_v1]).reset_index().drop(['index'], axis = 1)\n",
    "        \n",
    "    elif len(df_gene['mapped_gene']) == 1:\n",
    "        df_gene['score_raw'] = -np.log10(df_gene['p'])\n",
    "        zhou_2020_data_v1 = pd.concat([zhou_2020_data_v1, df_gene.rename(columns = {'mapped_gene':'gene'})]).reset_index().drop(['index'], axis = 1)\n",
    "    count += 1\n",
    "    if count % 1000 == 0:\n",
    "        print(count)"
   ]
  },
  {
   "cell_type": "code",
   "execution_count": 79,
   "metadata": {
    "tags": []
   },
   "outputs": [],
   "source": [
    "zhou_2020_data_v1['sig_flag'] = ''\n",
    "zhou_2020_data_v1['nonsig_flag'] = ''\n",
    "\n",
    "zhou_2020_data_v1.loc[(zhou_2020_data_v1['p'] < 0.05), 'sig_flag'] = 1\n",
    "zhou_2020_data_v1.loc[(zhou_2020_data_v1['p'] < 0.05), 'nonsig_flag'] = 0\n",
    "zhou_2020_data_v1.loc[(zhou_2020_data_v1['p'] >= 0.05), 'nonsig_flag'] = 1\n",
    "zhou_2020_data_v1.loc[(zhou_2020_data_v1['p'] >= 0.05), 'sig_flag'] = 0"
   ]
  },
  {
   "cell_type": "code",
   "execution_count": 80,
   "metadata": {
    "tags": []
   },
   "outputs": [],
   "source": [
    "zhou_2020_data_v1.loc[(zhou_2020_data_v1['score_raw'] > 130), 'score_raw'] = 130"
   ]
  },
  {
   "cell_type": "code",
   "execution_count": 81,
   "metadata": {
    "tags": []
   },
   "outputs": [],
   "source": [
    "upper_b = 6\n",
    "lower_b = 0\n",
    "max_val = zhou_2020_data_v1['score_raw'].max()\n",
    "min_val = 0\n",
    "\n",
    "zhou_2020_data_v1['score'] = zhou_2020_data_v1['score_raw'].apply(scale_score, args = (upper_b, lower_b, max_val, min_val))"
   ]
  },
  {
   "cell_type": "code",
   "execution_count": 82,
   "metadata": {
    "tags": []
   },
   "outputs": [
    {
     "data": {
      "text/plain": [
       "(array([4271., 1105.,  303.,  115.,   61.,   40.,   24.,   14.,   11.,\n",
       "          27.]),\n",
       " array([0.0610115 , 0.65491035, 1.2488092 , 1.84270805, 2.4366069 ,\n",
       "        3.03050575, 3.6244046 , 4.21830345, 4.8122023 , 5.40610115,\n",
       "        6.        ]),\n",
       " <BarContainer object of 10 artists>)"
      ]
     },
     "execution_count": 82,
     "metadata": {},
     "output_type": "execute_result"
    },
    {
     "data": {
      "image/png": "[encoded data removed]",
      "text/plain": [
       "<Figure size 640x480 with 1 Axes>"
      ]
     },
     "metadata": {},
     "output_type": "display_data"
    }
   ],
   "source": [
    "plt.hist(zhou_2020_data_v1['score'])"
   ]
  },
  {
   "cell_type": "code",
   "execution_count": 83,
   "metadata": {
    "tags": []
   },
   "outputs": [
    {
     "data": {
      "text/html": [
       "<div>\n",
       "<style scoped>\n",
       "    .dataframe tbody tr th:only-of-type {\n",
       "        vertical-align: middle;\n",
       "    }\n",
       "\n",
       "    .dataframe tbody tr th {\n",
       "        vertical-align: top;\n",
       "    }\n",
       "\n",
       "    .dataframe thead th {\n",
       "        text-align: right;\n",
       "    }\n",
       "</style>\n",
       "<table border=\"1\" class=\"dataframe\">\n",
       "  <thead>\n",
       "    <tr style=\"text-align: right;\">\n",
       "      <th></th>\n",
       "      <th>gene</th>\n",
       "      <th>p</th>\n",
       "      <th>score_raw</th>\n",
       "      <th>sig_flag</th>\n",
       "      <th>nonsig_flag</th>\n",
       "      <th>score</th>\n",
       "    </tr>\n",
       "  </thead>\n",
       "  <tbody>\n",
       "    <tr>\n",
       "      <th>0</th>\n",
       "      <td>Glyma.04g255400</td>\n",
       "      <td>3.623048e-09</td>\n",
       "      <td>8.440926</td>\n",
       "      <td>1</td>\n",
       "      <td>0</td>\n",
       "      <td>0.389581</td>\n",
       "    </tr>\n",
       "    <tr>\n",
       "      <th>1</th>\n",
       "      <td>Glyma.11g239200</td>\n",
       "      <td>6.739004e-04</td>\n",
       "      <td>3.171404</td>\n",
       "      <td>1</td>\n",
       "      <td>0</td>\n",
       "      <td>0.146373</td>\n",
       "    </tr>\n",
       "    <tr>\n",
       "      <th>2</th>\n",
       "      <td>Glyma.03g063000</td>\n",
       "      <td>4.231147e-04</td>\n",
       "      <td>3.373542</td>\n",
       "      <td>1</td>\n",
       "      <td>0</td>\n",
       "      <td>0.155702</td>\n",
       "    </tr>\n",
       "    <tr>\n",
       "      <th>3</th>\n",
       "      <td>Glyma.08g285400</td>\n",
       "      <td>1.569710e-02</td>\n",
       "      <td>1.804181</td>\n",
       "      <td>1</td>\n",
       "      <td>0</td>\n",
       "      <td>0.083270</td>\n",
       "    </tr>\n",
       "    <tr>\n",
       "      <th>4</th>\n",
       "      <td>Glyma.10g028900</td>\n",
       "      <td>3.668476e-18</td>\n",
       "      <td>17.435514</td>\n",
       "      <td>1</td>\n",
       "      <td>0</td>\n",
       "      <td>0.804716</td>\n",
       "    </tr>\n",
       "  </tbody>\n",
       "</table>\n",
       "</div>"
      ],
      "text/plain": [
       "              gene             p  score_raw sig_flag nonsig_flag     score\n",
       "0  Glyma.04g255400  3.623048e-09   8.440926        1           0  0.389581\n",
       "1  Glyma.11g239200  6.739004e-04   3.171404        1           0  0.146373\n",
       "2  Glyma.03g063000  4.231147e-04   3.373542        1           0  0.155702\n",
       "3  Glyma.08g285400  1.569710e-02   1.804181        1           0  0.083270\n",
       "4  Glyma.10g028900  3.668476e-18  17.435514        1           0  0.804716"
      ]
     },
     "execution_count": 83,
     "metadata": {},
     "output_type": "execute_result"
    }
   ],
   "source": [
    "zhou_2020_data_v1.head()"
   ]
  },
  {
   "cell_type": "code",
   "execution_count": null,
   "metadata": {},
   "outputs": [],
   "source": []
  },
  {
   "cell_type": "code",
   "execution_count": null,
   "metadata": {},
   "outputs": [],
   "source": []
  },
  {
   "cell_type": "code",
   "execution_count": 157,
   "metadata": {},
   "outputs": [],
   "source": [
    "# complete whole genome\n",
    "# chen2016 需要額外處理因為 p很多等於 0.00005，需要額外做 scaling\n",
    "# chen_2016 = pd.read_excel(r'C:\\Users\\edwar\\Desktop\\農藝\\paper2\\data collection\\whole genome data\\complete\\gene expression\\Chen-2016\\Chen2016_wgd.xlsx')\n",
    "\n",
    "# leisner_2017\n",
    "# leisner_2017 = pd.read_excel(r'C:\\Users\\edwar\\Desktop\\農藝\\paper2\\data collection\\whole genome data\\complete\\gene expression\\Leisner-2017\\Leisner2017_wgd.xlsx')\n",
    "\n",
    "# 用 log2flodchange 欄位並且取決對質後會是漂亮的 right skew，可依照這個欄位做 score re-scaling，放入資料庫中\n",
    "# shi_2018 = pd.read_excel(r'C:\\Users\\edwar\\Desktop\\農藝\\paper2\\data collection\\whole genome data\\complete\\gene expression\\Shi-2018\\whole genome data_v2.xlsx')\n",
    "\n",
    "# 可以當 validation，有 6 12 24hr，但資料有列上下移動之風險\n",
    "# shin_2015 = pd.read_excel(r'C:\\Users\\edwar\\Desktop\\農藝\\paper2\\data collection\\whole genome data\\complete\\gene expression\\Shin-2015\\Shin2015_wgd.xlsx')\n",
    "\n",
    "# 做額外處理，有 120 144hr，也可做驗證，已透過公式把 p轉換，當 fc < 1 先把他取倒數，之後當 p = 0 以及 p從缺時，就用公式來算出新 p\n",
    "# tamang_2021 = pd.read_excel(r'C:\\Users\\edwar\\Desktop\\農藝\\paper2\\data collection\\whole genome data\\complete\\gene expression\\Tamang-2021\\Tamang2021_wgd.xlsx')\n",
    "\n",
    "# 這個資料庫直接放資料庫中，很讚的 right skew，且最高分不超過 7，因為處理時間只有 1種，所以不當驗證\n",
    "# le_2012_v6 = pd.read_excel(r'C:\\Users\\edwar\\Desktop\\農藝\\paper2\\data collection\\whole genome data\\complete\\noncoding\\Le-2012\\Le2012_wgd(V6).xlsx')\n",
    "\n",
    "# 這個資料庫直接放資料庫中，很讚的 right skew，且最高分不超過 8，因為處理時間只有 1種，所以不當驗證\n",
    "# le_2012_r2 = pd.read_excel(r'C:\\Users\\edwar\\Desktop\\農藝\\paper2\\data collection\\whole genome data\\complete\\noncoding\\Le-2012\\Le2012_wgd(R2).xlsx')"
   ]
  },
  {
   "cell_type": "markdown",
   "metadata": {},
   "source": [
    "chen2016"
   ]
  },
  {
   "cell_type": "code",
   "execution_count": 84,
   "metadata": {
    "tags": []
   },
   "outputs": [],
   "source": [
    "# chen_2016 preprocessing\n",
    "chen_2016 = pd.read_excel(r'C:\\Users\\edwar\\Desktop\\農藝\\paper2\\data collection\\whole genome data\\complete\\gene expression\\Chen-2016\\Chen2016_wgd.xlsx')\n",
    "# chen_2016.loc[(chen_2016['fc'] < 1), 'fc'] = 1 / chen_2016['fc']\n",
    "# chen_2016.loc[(chen_2016['p'].isna()), 'p'] = 0.1 ** np.log2(chen_2016['fc'])\n",
    "# chen_2016.loc[(chen_2016['p'] == 0.00005) & (chen_2016['fc'].isna() == False), 'p'] = 0.1 ** np.log2(chen_2016['fc'])"
   ]
  },
  {
   "cell_type": "code",
   "execution_count": 85,
   "metadata": {
    "tags": []
   },
   "outputs": [],
   "source": [
    "chen_2016_data = chen_2016[['mapped_gene', 'p', 'fc']]\n",
    "chen_2016_data_p = chen_2016_data[(chen_2016_data['fc'].isna()) | (chen_2016_data['fc'] == np.inf)].reset_index().drop(['index'], axis = 1)\n",
    "chen_2016_data_pfc = chen_2016_data[(chen_2016_data['p'].isna() == False) & (chen_2016_data['fc'].isna() == False) & (chen_2016_data['fc'] != np.inf)].reset_index().drop(['index'], axis = 1)\n",
    "chen_2016_data_p['score_raw'] = -np.log10(chen_2016_data_p['p'])\n",
    "\n",
    "chen_2016_data_pfc.loc[(chen_2016_data_pfc['fc'] < 1), 'fc'] = 1 / chen_2016_data_pfc['fc']\n",
    "chen_2016_data_pfc['p_raw'] = chen_2016_data_pfc['p'] ** np.log2(chen_2016_data_pfc['fc'])\n",
    "chen_2016_data_pfc['score_raw'] = -np.log10(chen_2016_data_pfc['p_raw'])"
   ]
  },
  {
   "cell_type": "code",
   "execution_count": 86,
   "metadata": {
    "tags": []
   },
   "outputs": [],
   "source": [
    "chen_2016_data_v1 = pd.concat([chen_2016_data_p, chen_2016_data_pfc]).reset_index().drop(['index'], axis = 1)"
   ]
  },
  {
   "cell_type": "code",
   "execution_count": 87,
   "metadata": {
    "tags": []
   },
   "outputs": [],
   "source": [
    "chen_2016_data_v1['sig_flag'] = ''\n",
    "chen_2016_data_v1['nonsig_flag'] = ''\n",
    "\n",
    "chen_2016_data_v1.loc[(chen_2016_data_v1['p'] < 0.05), 'sig_flag'] = 1\n",
    "chen_2016_data_v1.loc[(chen_2016_data_v1['p'] < 0.05), 'nonsig_flag'] = 0\n",
    "chen_2016_data_v1.loc[(chen_2016_data_v1['p'] >= 0.05), 'nonsig_flag'] = 1\n",
    "chen_2016_data_v1.loc[(chen_2016_data_v1['p'] >= 0.05), 'sig_flag'] = 0"
   ]
  },
  {
   "cell_type": "code",
   "execution_count": 88,
   "metadata": {
    "tags": []
   },
   "outputs": [],
   "source": [
    "# rescaling to [0, 5]\n",
    "chen_2016_data_v1.loc[(chen_2016_data_v1['score_raw'] > 35), 'score_raw'] = 35\n",
    "upper_b = 6\n",
    "lower_b = 0\n",
    "max_val = chen_2016_data_v1['score_raw'].max()\n",
    "min_val = 0\n",
    "\n",
    "chen_2016_data_v1['score'] = chen_2016_data_v1['score_raw'].apply(scale_score, args = (upper_b, lower_b, max_val, min_val))\n",
    "chen_2016_data_v1 = chen_2016_data_v1.merge(glyma_gene_ver[['Wm82.a1.v1', 'Wm82.a2.v1']], left_on = ['mapped_gene'], right_on = ['Wm82.a1.v1'], how = 'left').drop(['Wm82.a1.v1'], axis = 1).rename(columns = {'mapped_gene':'gene_org', 'Wm82.a2.v1':'gene'})\n",
    "chen_2016_data_v1 = chen_2016_data_v1[chen_2016_data_v1['gene'].isna() == False].reset_index().drop(['index'], axis = 1)"
   ]
  },
  {
   "cell_type": "code",
   "execution_count": 89,
   "metadata": {
    "tags": []
   },
   "outputs": [
    {
     "data": {
      "text/plain": [
       "(array([2.0659e+04, 5.5450e+03, 2.3050e+03, 8.5900e+02, 3.8300e+02,\n",
       "        1.8800e+02, 7.7000e+01, 4.1000e+01, 1.1000e+01, 8.0000e+00]),\n",
       " array([1.16232848e-09, 6.00000001e-01, 1.20000000e+00, 1.80000000e+00,\n",
       "        2.40000000e+00, 3.00000000e+00, 3.60000000e+00, 4.20000000e+00,\n",
       "        4.80000000e+00, 5.40000000e+00, 6.00000000e+00]),\n",
       " <BarContainer object of 10 artists>)"
      ]
     },
     "execution_count": 89,
     "metadata": {},
     "output_type": "execute_result"
    },
    {
     "data": {
      "image/png": "[encoded data removed]",
      "text/plain": [
       "<Figure size 640x480 with 1 Axes>"
      ]
     },
     "metadata": {},
     "output_type": "display_data"
    }
   ],
   "source": [
    "plt.hist(chen_2016_data_v1['score'])"
   ]
  },
  {
   "cell_type": "code",
   "execution_count": 90,
   "metadata": {
    "tags": []
   },
   "outputs": [
    {
     "data": {
      "text/html": [
       "<div>\n",
       "<style scoped>\n",
       "    .dataframe tbody tr th:only-of-type {\n",
       "        vertical-align: middle;\n",
       "    }\n",
       "\n",
       "    .dataframe tbody tr th {\n",
       "        vertical-align: top;\n",
       "    }\n",
       "\n",
       "    .dataframe thead th {\n",
       "        text-align: right;\n",
       "    }\n",
       "</style>\n",
       "<table border=\"1\" class=\"dataframe\">\n",
       "  <thead>\n",
       "    <tr style=\"text-align: right;\">\n",
       "      <th></th>\n",
       "      <th>gene_org</th>\n",
       "      <th>p</th>\n",
       "      <th>fc</th>\n",
       "      <th>score_raw</th>\n",
       "      <th>p_raw</th>\n",
       "      <th>sig_flag</th>\n",
       "      <th>nonsig_flag</th>\n",
       "      <th>score</th>\n",
       "      <th>gene</th>\n",
       "    </tr>\n",
       "  </thead>\n",
       "  <tbody>\n",
       "    <tr>\n",
       "      <th>0</th>\n",
       "      <td>Glyma17g14100</td>\n",
       "      <td>0.00005</td>\n",
       "      <td>inf</td>\n",
       "      <td>4.30103</td>\n",
       "      <td>NaN</td>\n",
       "      <td>1</td>\n",
       "      <td>0</td>\n",
       "      <td>0.737319</td>\n",
       "      <td>Glyma.17g131800</td>\n",
       "    </tr>\n",
       "    <tr>\n",
       "      <th>1</th>\n",
       "      <td>Glyma10g01630</td>\n",
       "      <td>0.00005</td>\n",
       "      <td>inf</td>\n",
       "      <td>4.30103</td>\n",
       "      <td>NaN</td>\n",
       "      <td>1</td>\n",
       "      <td>0</td>\n",
       "      <td>0.737319</td>\n",
       "      <td>Glyma.10g013200</td>\n",
       "    </tr>\n",
       "    <tr>\n",
       "      <th>2</th>\n",
       "      <td>Glyma20g26430</td>\n",
       "      <td>0.00005</td>\n",
       "      <td>inf</td>\n",
       "      <td>4.30103</td>\n",
       "      <td>NaN</td>\n",
       "      <td>1</td>\n",
       "      <td>0</td>\n",
       "      <td>0.737319</td>\n",
       "      <td>Glyma.20g128200</td>\n",
       "    </tr>\n",
       "    <tr>\n",
       "      <th>3</th>\n",
       "      <td>Glyma01g43130</td>\n",
       "      <td>0.00005</td>\n",
       "      <td>inf</td>\n",
       "      <td>4.30103</td>\n",
       "      <td>NaN</td>\n",
       "      <td>1</td>\n",
       "      <td>0</td>\n",
       "      <td>0.737319</td>\n",
       "      <td>Glyma.01g222300</td>\n",
       "    </tr>\n",
       "    <tr>\n",
       "      <th>4</th>\n",
       "      <td>Glyma07g31500</td>\n",
       "      <td>0.00005</td>\n",
       "      <td>inf</td>\n",
       "      <td>4.30103</td>\n",
       "      <td>NaN</td>\n",
       "      <td>1</td>\n",
       "      <td>0</td>\n",
       "      <td>0.737319</td>\n",
       "      <td>Glyma.07g195300</td>\n",
       "    </tr>\n",
       "  </tbody>\n",
       "</table>\n",
       "</div>"
      ],
      "text/plain": [
       "        gene_org        p   fc  score_raw  p_raw sig_flag nonsig_flag  \\\n",
       "0  Glyma17g14100  0.00005  inf    4.30103    NaN        1           0   \n",
       "1  Glyma10g01630  0.00005  inf    4.30103    NaN        1           0   \n",
       "2  Glyma20g26430  0.00005  inf    4.30103    NaN        1           0   \n",
       "3  Glyma01g43130  0.00005  inf    4.30103    NaN        1           0   \n",
       "4  Glyma07g31500  0.00005  inf    4.30103    NaN        1           0   \n",
       "\n",
       "      score             gene  \n",
       "0  0.737319  Glyma.17g131800  \n",
       "1  0.737319  Glyma.10g013200  \n",
       "2  0.737319  Glyma.20g128200  \n",
       "3  0.737319  Glyma.01g222300  \n",
       "4  0.737319  Glyma.07g195300  "
      ]
     },
     "execution_count": 90,
     "metadata": {},
     "output_type": "execute_result"
    }
   ],
   "source": [
    "chen_2016_data_v1.head()"
   ]
  },
  {
   "cell_type": "code",
   "execution_count": null,
   "metadata": {},
   "outputs": [],
   "source": []
  },
  {
   "cell_type": "markdown",
   "metadata": {},
   "source": [
    "leisner2017"
   ]
  },
  {
   "cell_type": "code",
   "execution_count": 91,
   "metadata": {
    "tags": []
   },
   "outputs": [],
   "source": [
    "# leisner_2017 processing\n",
    "leisner_2017 = pd.read_excel(r'C:\\Users\\edwar\\Desktop\\農藝\\paper2\\data collection\\whole genome data\\complete\\gene expression\\Leisner-2017\\Leisner2017_wgd.xlsx')"
   ]
  },
  {
   "cell_type": "code",
   "execution_count": 92,
   "metadata": {
    "tags": []
   },
   "outputs": [],
   "source": [
    "leisner_2017_data = leisner_2017[['mapped_gene', 'fc']]\n",
    "leisner_2017_data.loc[(leisner_2017_data['fc'] == 0), 'fc'] = 10 ** -125\n",
    "leisner_2017_data.loc[(leisner_2017_data['fc'] < 1), 'fc'] = 1 / leisner_2017_data['fc']"
   ]
  },
  {
   "cell_type": "code",
   "execution_count": 93,
   "metadata": {
    "tags": []
   },
   "outputs": [
    {
     "name": "stderr",
     "output_type": "stream",
     "text": [
      "C:\\Users\\edwar\\AppData\\Local\\Temp\\ipykernel_10912\\1373092496.py:1: SettingWithCopyWarning: \n",
      "A value is trying to be set on a copy of a slice from a DataFrame.\n",
      "Try using .loc[row_indexer,col_indexer] = value instead\n",
      "\n",
      "See the caveats in the documentation: https://pandas.pydata.org/pandas-docs/stable/user_guide/indexing.html#returning-a-view-versus-a-copy\n",
      "  leisner_2017_data['p_val'] = 0.1 ** np.log2(leisner_2017_data['fc'])\n",
      "C:\\Users\\edwar\\AppData\\Local\\Temp\\ipykernel_10912\\1373092496.py:3: SettingWithCopyWarning: \n",
      "A value is trying to be set on a copy of a slice from a DataFrame.\n",
      "Try using .loc[row_indexer,col_indexer] = value instead\n",
      "\n",
      "See the caveats in the documentation: https://pandas.pydata.org/pandas-docs/stable/user_guide/indexing.html#returning-a-view-versus-a-copy\n",
      "  leisner_2017_data['score_raw'] = -np.log10(leisner_2017_data['p_val'])\n"
     ]
    }
   ],
   "source": [
    "leisner_2017_data['p_val'] = 0.1 ** np.log2(leisner_2017_data['fc'])\n",
    "leisner_2017_data.loc[(leisner_2017_data['p_val'] == 0), 'p_val'] = 10 ** -300\n",
    "leisner_2017_data['score_raw'] = -np.log10(leisner_2017_data['p_val'])"
   ]
  },
  {
   "cell_type": "code",
   "execution_count": 94,
   "metadata": {
    "tags": []
   },
   "outputs": [
    {
     "name": "stderr",
     "output_type": "stream",
     "text": [
      "C:\\Users\\edwar\\AppData\\Local\\Temp\\ipykernel_10912\\1260530867.py:6: SettingWithCopyWarning: \n",
      "A value is trying to be set on a copy of a slice from a DataFrame.\n",
      "Try using .loc[row_indexer,col_indexer] = value instead\n",
      "\n",
      "See the caveats in the documentation: https://pandas.pydata.org/pandas-docs/stable/user_guide/indexing.html#returning-a-view-versus-a-copy\n",
      "  leisner_2017_data['score'] = leisner_2017_data['score_raw'].apply(scale_score, args = (upper_b, lower_b, max_val, min_val))\n"
     ]
    }
   ],
   "source": [
    "upper_b = 2   # Because of the strange distribution, we didn't set the same upper and lower bound on score range\n",
    "lower_b = 0\n",
    "max_val = leisner_2017_data['score_raw'].max()\n",
    "min_val = 0\n",
    "\n",
    "leisner_2017_data['score'] = leisner_2017_data['score_raw'].apply(scale_score, args = (upper_b, lower_b, max_val, min_val))\n",
    "leisner_2017_data = leisner_2017_data.merge(glyma_gene_ver[['Wm82.a1.v1', 'Wm82.a2.v1']], left_on = ['mapped_gene'], right_on = ['Wm82.a1.v1'], how = 'left').drop(['Wm82.a1.v1'], axis = 1).rename(columns = {'mapped_gene':'gene_org', 'Wm82.a2.v1':'gene'})\n",
    "leisner_2017_data = leisner_2017_data[leisner_2017_data['gene'].isna() == False].reset_index().drop(['index'], axis = 1)"
   ]
  },
  {
   "cell_type": "code",
   "execution_count": 95,
   "metadata": {
    "tags": []
   },
   "outputs": [],
   "source": [
    "leisner_2017_data['sig_flag'] = ''\n",
    "leisner_2017_data['nonsig_flag'] = ''\n",
    "leisner_2017_data.loc[(leisner_2017_data['p_val'] < 0.05), 'sig_flag'] = 1\n",
    "leisner_2017_data.loc[(leisner_2017_data['p_val'] < 0.05), 'nonsig_flag'] = 0\n",
    "leisner_2017_data.loc[(leisner_2017_data['p_val'] >= 0.05), 'sig_flag'] = 0\n",
    "leisner_2017_data.loc[(leisner_2017_data['p_val'] >= 0.05), 'nonsig_flag'] = 1"
   ]
  },
  {
   "cell_type": "code",
   "execution_count": 96,
   "metadata": {
    "tags": []
   },
   "outputs": [
    {
     "data": {
      "text/plain": [
       "(array([3.3531e+04, 6.0000e+00, 2.0000e+00, 2.0000e+00, 0.0000e+00,\n",
       "        0.0000e+00, 1.0000e+00, 0.0000e+00, 0.0000e+00, 8.7600e+02]),\n",
       " array([1.88602010e-07, 2.00000170e-01, 4.00000151e-01, 6.00000132e-01,\n",
       "        8.00000113e-01, 1.00000009e+00, 1.20000008e+00, 1.40000006e+00,\n",
       "        1.60000004e+00, 1.80000002e+00, 2.00000000e+00]),\n",
       " <BarContainer object of 10 artists>)"
      ]
     },
     "execution_count": 96,
     "metadata": {},
     "output_type": "execute_result"
    },
    {
     "data": {
      "image/png": "[encoded data removed]",
      "text/plain": [
       "<Figure size 640x480 with 1 Axes>"
      ]
     },
     "metadata": {},
     "output_type": "display_data"
    }
   ],
   "source": [
    "plt.hist(leisner_2017_data['score'])"
   ]
  },
  {
   "cell_type": "code",
   "execution_count": 97,
   "metadata": {
    "tags": []
   },
   "outputs": [
    {
     "data": {
      "text/html": [
       "<div>\n",
       "<style scoped>\n",
       "    .dataframe tbody tr th:only-of-type {\n",
       "        vertical-align: middle;\n",
       "    }\n",
       "\n",
       "    .dataframe tbody tr th {\n",
       "        vertical-align: top;\n",
       "    }\n",
       "\n",
       "    .dataframe thead th {\n",
       "        text-align: right;\n",
       "    }\n",
       "</style>\n",
       "<table border=\"1\" class=\"dataframe\">\n",
       "  <thead>\n",
       "    <tr style=\"text-align: right;\">\n",
       "      <th></th>\n",
       "      <th>gene_org</th>\n",
       "      <th>fc</th>\n",
       "      <th>p_val</th>\n",
       "      <th>score_raw</th>\n",
       "      <th>score</th>\n",
       "      <th>gene</th>\n",
       "      <th>sig_flag</th>\n",
       "      <th>nonsig_flag</th>\n",
       "    </tr>\n",
       "  </thead>\n",
       "  <tbody>\n",
       "    <tr>\n",
       "      <th>0</th>\n",
       "      <td>Glyma03g03790</td>\n",
       "      <td>1.039675</td>\n",
       "      <td>0.878755</td>\n",
       "      <td>0.056132</td>\n",
       "      <td>0.000374</td>\n",
       "      <td>Glyma.03g032000</td>\n",
       "      <td>0</td>\n",
       "      <td>1</td>\n",
       "    </tr>\n",
       "    <tr>\n",
       "      <th>1</th>\n",
       "      <td>Glyma14g40590</td>\n",
       "      <td>1.116020</td>\n",
       "      <td>0.694444</td>\n",
       "      <td>0.158363</td>\n",
       "      <td>0.001056</td>\n",
       "      <td>Glyma.14g217100</td>\n",
       "      <td>0</td>\n",
       "      <td>1</td>\n",
       "    </tr>\n",
       "    <tr>\n",
       "      <th>2</th>\n",
       "      <td>Glyma03g02470</td>\n",
       "      <td>1.023667</td>\n",
       "      <td>0.925237</td>\n",
       "      <td>0.033747</td>\n",
       "      <td>0.000225</td>\n",
       "      <td>Glyma.03g021600</td>\n",
       "      <td>0</td>\n",
       "      <td>1</td>\n",
       "    </tr>\n",
       "    <tr>\n",
       "      <th>3</th>\n",
       "      <td>Glyma14g17090</td>\n",
       "      <td>1.275563</td>\n",
       "      <td>0.445518</td>\n",
       "      <td>0.351135</td>\n",
       "      <td>0.002341</td>\n",
       "      <td>Glyma.14g132800</td>\n",
       "      <td>0</td>\n",
       "      <td>1</td>\n",
       "    </tr>\n",
       "    <tr>\n",
       "      <th>4</th>\n",
       "      <td>Glyma10g44500</td>\n",
       "      <td>1.171063</td>\n",
       "      <td>0.591808</td>\n",
       "      <td>0.227819</td>\n",
       "      <td>0.001519</td>\n",
       "      <td>Glyma.10g297600</td>\n",
       "      <td>0</td>\n",
       "      <td>1</td>\n",
       "    </tr>\n",
       "  </tbody>\n",
       "</table>\n",
       "</div>"
      ],
      "text/plain": [
       "        gene_org        fc     p_val  score_raw     score             gene  \\\n",
       "0  Glyma03g03790  1.039675  0.878755   0.056132  0.000374  Glyma.03g032000   \n",
       "1  Glyma14g40590  1.116020  0.694444   0.158363  0.001056  Glyma.14g217100   \n",
       "2  Glyma03g02470  1.023667  0.925237   0.033747  0.000225  Glyma.03g021600   \n",
       "3  Glyma14g17090  1.275563  0.445518   0.351135  0.002341  Glyma.14g132800   \n",
       "4  Glyma10g44500  1.171063  0.591808   0.227819  0.001519  Glyma.10g297600   \n",
       "\n",
       "  sig_flag nonsig_flag  \n",
       "0        0           1  \n",
       "1        0           1  \n",
       "2        0           1  \n",
       "3        0           1  \n",
       "4        0           1  "
      ]
     },
     "execution_count": 97,
     "metadata": {},
     "output_type": "execute_result"
    }
   ],
   "source": [
    "leisner_2017_data.head()"
   ]
  },
  {
   "cell_type": "code",
   "execution_count": null,
   "metadata": {},
   "outputs": [],
   "source": []
  },
  {
   "cell_type": "markdown",
   "metadata": {},
   "source": [
    "shi2018"
   ]
  },
  {
   "cell_type": "code",
   "execution_count": 98,
   "metadata": {
    "tags": []
   },
   "outputs": [],
   "source": [
    "shi_2018 = pd.read_excel(r'C:\\Users\\edwar\\Desktop\\農藝\\paper2\\data collection\\whole genome data\\complete\\gene expression\\Shi-2018\\whole genome data_v2.xlsx')"
   ]
  },
  {
   "cell_type": "code",
   "execution_count": 99,
   "metadata": {
    "tags": []
   },
   "outputs": [
    {
     "name": "stderr",
     "output_type": "stream",
     "text": [
      "C:\\Users\\edwar\\AppData\\Local\\Temp\\ipykernel_10912\\3544701215.py:2: SettingWithCopyWarning: \n",
      "A value is trying to be set on a copy of a slice from a DataFrame.\n",
      "Try using .loc[row_indexer,col_indexer] = value instead\n",
      "\n",
      "See the caveats in the documentation: https://pandas.pydata.org/pandas-docs/stable/user_guide/indexing.html#returning-a-view-versus-a-copy\n",
      "  shi_2018_data['log2FoldChange(GH_treat/CK_treat)'] = abs(shi_2018_data['log2FoldChange(GH_treat/CK_treat)'])\n"
     ]
    }
   ],
   "source": [
    "shi_2018_data = shi_2018[['gene', 'log2FoldChange(GH_treat/CK_treat)']]\n",
    "shi_2018_data['log2FoldChange(GH_treat/CK_treat)'] = abs(shi_2018_data['log2FoldChange(GH_treat/CK_treat)'])"
   ]
  },
  {
   "cell_type": "code",
   "execution_count": 100,
   "metadata": {
    "tags": []
   },
   "outputs": [
    {
     "name": "stdout",
     "output_type": "stream",
     "text": [
      "6000\n",
      "12000\n",
      "18000\n",
      "24000\n",
      "30000\n",
      "36000\n"
     ]
    }
   ],
   "source": [
    "shi_2018_data = shi_2018_data[shi_2018_data['gene'].str.contains('Glyma') == True]\n",
    "shi_2018_data['p_val'] = 0.1 ** shi_2018_data['log2FoldChange(GH_treat/CK_treat)']\n",
    "gene_list = list(shi_2018_data['gene'].unique())\n",
    "shi_2018_data_v1 = pd.DataFrame()\n",
    "\n",
    "count = 0\n",
    "for gene in gene_list:\n",
    "    df_gene = shi_2018_data[shi_2018_data['gene'] == gene].reset_index().drop(['index'], axis = 1)\n",
    "    if len(df_gene['gene']) > 1:\n",
    "        df_gene_v1 = pd.DataFrame()\n",
    "        p_values = list(df_gene['p_val'])\n",
    "        p_value = stats.combine_pvalues(p_values, method = 'fisher')[1]\n",
    "        df_gene_v1['gene'] = df_gene['gene'].unique()\n",
    "        df_gene_v1['p'] = p_value\n",
    "        df_gene_v1['score_raw'] = -np.log10(df_gene_v1['p'])\n",
    "        shi_2018_data_v1 = pd.concat([shi_2018_data_v1, df_gene_v1]).reset_index().drop(['index'], axis = 1)\n",
    "        \n",
    "    elif len(df_gene['gene']) == 1:\n",
    "        df_gene['score_raw'] = -np.log10(df_gene.rename(columns = {'p_val':'p'})['p'])\n",
    "        shi_2018_data_v1 = pd.concat([shi_2018_data_v1, df_gene]).reset_index().drop(['index'], axis = 1)\n",
    "        \n",
    "    count += 1\n",
    "    if count % 6000 == 0:\n",
    "        print(count)"
   ]
  },
  {
   "cell_type": "code",
   "execution_count": 101,
   "metadata": {
    "tags": []
   },
   "outputs": [],
   "source": [
    "shi_2018_data_v1['sig_flag'] = ''\n",
    "shi_2018_data_v1['nonsig_flag'] = ''\n",
    "shi_2018_data_v1.loc[(shi_2018_data_v1['p_val'] < 0.05), 'sig_flag'] = 1\n",
    "shi_2018_data_v1.loc[(shi_2018_data_v1['p'] < 0.05), 'sig_flag'] = 1\n",
    "shi_2018_data_v1.loc[(shi_2018_data_v1['p_val'] < 0.05), 'nonsig_flag'] = 0\n",
    "shi_2018_data_v1.loc[(shi_2018_data_v1['p'] < 0.05), 'nonsig_flag'] = 0\n",
    "shi_2018_data_v1.loc[(shi_2018_data_v1['p_val'] >= 0.05), 'nonsig_flag'] = 1\n",
    "shi_2018_data_v1.loc[(shi_2018_data_v1['p'] >= 0.05), 'nonsig_flag'] = 1\n",
    "shi_2018_data_v1.loc[(shi_2018_data_v1['p_val'] >= 0.05), 'sig_flag'] = 0\n",
    "shi_2018_data_v1.loc[(shi_2018_data_v1['p'] >= 0.05), 'sig_flag'] = 0"
   ]
  },
  {
   "cell_type": "code",
   "execution_count": 102,
   "metadata": {
    "tags": []
   },
   "outputs": [
    {
     "data": {
      "text/plain": [
       "(array([2.4298e+04, 8.7330e+03, 3.0350e+03, 1.1340e+03, 2.1200e+02,\n",
       "        5.1000e+01, 1.0000e+01, 4.0000e+00, 4.0000e+00, 4.0000e+00]),\n",
       " array([4.46000000e-05, 2.08643922e+00, 4.17283384e+00, 6.25922846e+00,\n",
       "        8.34562308e+00, 1.04320177e+01, 1.25184123e+01, 1.46048069e+01,\n",
       "        1.66912016e+01, 1.87775962e+01, 2.08639908e+01]),\n",
       " <BarContainer object of 10 artists>)"
      ]
     },
     "execution_count": 102,
     "metadata": {},
     "output_type": "execute_result"
    },
    {
     "data": {
      "image/png": "[encoded data removed]",
      "text/plain": [
       "<Figure size 640x480 with 1 Axes>"
      ]
     },
     "metadata": {},
     "output_type": "display_data"
    }
   ],
   "source": [
    "plt.hist(shi_2018_data_v1['score_raw'])"
   ]
  },
  {
   "cell_type": "code",
   "execution_count": 103,
   "metadata": {
    "tags": []
   },
   "outputs": [],
   "source": [
    "shi_2018_data_v1.loc[(shi_2018_data_v1['score_raw'] > 13), 'score_raw'] = 13\n",
    "upper_b = 6\n",
    "lower_b = 0\n",
    "max_val = shi_2018_data_v1['score_raw'].max()\n",
    "min_val = 0\n",
    "\n",
    "shi_2018_data_v1['score'] = shi_2018_data_v1['score_raw'].apply(scale_score, args = (upper_b, lower_b, max_val, min_val))"
   ]
  },
  {
   "cell_type": "code",
   "execution_count": 104,
   "metadata": {
    "tags": []
   },
   "outputs": [
    {
     "data": {
      "text/plain": [
       "(array([17218., 10160.,  4982.,  2556.,  1338.,   735.,   331.,    91.,\n",
       "           43.,    31.]),\n",
       " array([2.05846154e-05, 6.00018526e-01, 1.20001647e+00, 1.80001441e+00,\n",
       "        2.40001235e+00, 3.00001029e+00, 3.60000823e+00, 4.20000618e+00,\n",
       "        4.80000412e+00, 5.40000206e+00, 6.00000000e+00]),\n",
       " <BarContainer object of 10 artists>)"
      ]
     },
     "execution_count": 104,
     "metadata": {},
     "output_type": "execute_result"
    },
    {
     "data": {
      "image/png": "[encoded data removed]",
      "text/plain": [
       "<Figure size 640x480 with 1 Axes>"
      ]
     },
     "metadata": {},
     "output_type": "display_data"
    }
   ],
   "source": [
    "plt.hist(shi_2018_data_v1['score'])"
   ]
  },
  {
   "cell_type": "code",
   "execution_count": 105,
   "metadata": {
    "tags": []
   },
   "outputs": [
    {
     "data": {
      "text/html": [
       "<div>\n",
       "<style scoped>\n",
       "    .dataframe tbody tr th:only-of-type {\n",
       "        vertical-align: middle;\n",
       "    }\n",
       "\n",
       "    .dataframe tbody tr th {\n",
       "        vertical-align: top;\n",
       "    }\n",
       "\n",
       "    .dataframe thead th {\n",
       "        text-align: right;\n",
       "    }\n",
       "</style>\n",
       "<table border=\"1\" class=\"dataframe\">\n",
       "  <thead>\n",
       "    <tr style=\"text-align: right;\">\n",
       "      <th></th>\n",
       "      <th>gene</th>\n",
       "      <th>log2FoldChange(GH_treat/CK_treat)</th>\n",
       "      <th>p_val</th>\n",
       "      <th>score_raw</th>\n",
       "      <th>p</th>\n",
       "      <th>sig_flag</th>\n",
       "      <th>nonsig_flag</th>\n",
       "      <th>score</th>\n",
       "    </tr>\n",
       "  </thead>\n",
       "  <tbody>\n",
       "    <tr>\n",
       "      <th>0</th>\n",
       "      <td>Glyma.09g185500</td>\n",
       "      <td>15.039778</td>\n",
       "      <td>9.124763e-16</td>\n",
       "      <td>13.000000</td>\n",
       "      <td>NaN</td>\n",
       "      <td>1</td>\n",
       "      <td>0</td>\n",
       "      <td>6.000000</td>\n",
       "    </tr>\n",
       "    <tr>\n",
       "      <th>1</th>\n",
       "      <td>Glyma.08g156600</td>\n",
       "      <td>13.093538</td>\n",
       "      <td>8.062353e-14</td>\n",
       "      <td>13.000000</td>\n",
       "      <td>NaN</td>\n",
       "      <td>1</td>\n",
       "      <td>0</td>\n",
       "      <td>6.000000</td>\n",
       "    </tr>\n",
       "    <tr>\n",
       "      <th>2</th>\n",
       "      <td>Glyma.18g129800</td>\n",
       "      <td>12.609025</td>\n",
       "      <td>2.460224e-13</td>\n",
       "      <td>12.609025</td>\n",
       "      <td>NaN</td>\n",
       "      <td>1</td>\n",
       "      <td>0</td>\n",
       "      <td>5.819550</td>\n",
       "    </tr>\n",
       "    <tr>\n",
       "      <th>3</th>\n",
       "      <td>Glyma.10g064400</td>\n",
       "      <td>12.249392</td>\n",
       "      <td>5.631289e-13</td>\n",
       "      <td>12.249392</td>\n",
       "      <td>NaN</td>\n",
       "      <td>1</td>\n",
       "      <td>0</td>\n",
       "      <td>5.653566</td>\n",
       "    </tr>\n",
       "    <tr>\n",
       "      <th>4</th>\n",
       "      <td>Glyma.16g021000</td>\n",
       "      <td>11.983334</td>\n",
       "      <td>1.039120e-12</td>\n",
       "      <td>11.983334</td>\n",
       "      <td>NaN</td>\n",
       "      <td>1</td>\n",
       "      <td>0</td>\n",
       "      <td>5.530770</td>\n",
       "    </tr>\n",
       "  </tbody>\n",
       "</table>\n",
       "</div>"
      ],
      "text/plain": [
       "              gene  log2FoldChange(GH_treat/CK_treat)         p_val  \\\n",
       "0  Glyma.09g185500                          15.039778  9.124763e-16   \n",
       "1  Glyma.08g156600                          13.093538  8.062353e-14   \n",
       "2  Glyma.18g129800                          12.609025  2.460224e-13   \n",
       "3  Glyma.10g064400                          12.249392  5.631289e-13   \n",
       "4  Glyma.16g021000                          11.983334  1.039120e-12   \n",
       "\n",
       "   score_raw   p sig_flag nonsig_flag     score  \n",
       "0  13.000000 NaN        1           0  6.000000  \n",
       "1  13.000000 NaN        1           0  6.000000  \n",
       "2  12.609025 NaN        1           0  5.819550  \n",
       "3  12.249392 NaN        1           0  5.653566  \n",
       "4  11.983334 NaN        1           0  5.530770  "
      ]
     },
     "execution_count": 105,
     "metadata": {},
     "output_type": "execute_result"
    }
   ],
   "source": [
    "shi_2018_data_v1.head()"
   ]
  },
  {
   "cell_type": "code",
   "execution_count": null,
   "metadata": {},
   "outputs": [],
   "source": []
  },
  {
   "cell_type": "markdown",
   "metadata": {},
   "source": [
    "tamang2021  validation 120hr, 144hr"
   ]
  },
  {
   "cell_type": "code",
   "execution_count": 106,
   "metadata": {
    "tags": []
   },
   "outputs": [
    {
     "name": "stdout",
     "output_type": "stream",
     "text": [
      "5000\n",
      "10000\n",
      "15000\n",
      "20000\n",
      "25000\n",
      "30000\n",
      "35000\n",
      "40000\n",
      "45000\n",
      "50000\n",
      "55000\n"
     ]
    }
   ],
   "source": [
    "# tamang_2021 preprocessing v1\n",
    "tamang_2021 = pd.read_excel(r'C:\\Users\\edwar\\Desktop\\農藝\\paper2\\data collection\\whole genome data\\complete\\gene expression\\Tamang-2021\\Tamang2021_wgd.xlsx')\n",
    "\n",
    "tamang_2021_data_120 = tamang_2021[tamang_2021['drought_treatment_span'] == 120][['mapped_gene', 'p', 'fc']].reset_index().drop(['index'], axis = 1)\n",
    "tamang_2021_data_120.loc[(tamang_2021_data_120['fc'] < 1), 'fc'] = 1 / tamang_2021_data_120['fc']\n",
    "tamang_2021_data_120['p_val'] = 0.1 ** np.log2(tamang_2021_data_120['fc'])\n",
    "tamang_2021_data_120['sig_flag'] = ''\n",
    "tamang_2021_data_120['nonsig_flag'] = ''\n",
    "tamang_2021_data_120.loc[(tamang_2021_data_120['p'] < 0.05), 'sig_flag'] = 1\n",
    "tamang_2021_data_120.loc[(tamang_2021_data_120['p'] < 0.05), 'nonsig_flag'] = 0\n",
    "tamang_2021_data_120.loc[(tamang_2021_data_120['p'] >= 0.05), 'sig_flag'] = 0\n",
    "tamang_2021_data_120.loc[(tamang_2021_data_120['p'] >= 0.05), 'nonsig_flag'] = 1\n",
    "tamang_2021_data_120.loc[((tamang_2021_data_120['p'].isna()) & (tamang_2021_data_120['fc'] > 1.5)), 'sig_flag'] = 1\n",
    "tamang_2021_data_120.loc[((tamang_2021_data_120['p'].isna()) & (tamang_2021_data_120['fc'] > 1.5)), 'nonsig_flag'] = 0\n",
    "tamang_2021_data_120.loc[((tamang_2021_data_120['p'].isna()) & (tamang_2021_data_120['fc'] <= 1.5)), 'sig_flag'] = 0\n",
    "tamang_2021_data_120.loc[((tamang_2021_data_120['p'].isna()) & (tamang_2021_data_120['fc'] <= 1.5)), 'nonsig_flag'] = 1\n",
    "\n",
    "\n",
    "tamang_2021_data_144 = tamang_2021[tamang_2021['drought_treatment_span'] == 144][['mapped_gene', 'p', 'fc']].reset_index().drop(['index'], axis = 1)\n",
    "tamang_2021_data_144.loc[(tamang_2021_data_144['fc'] < 1), 'fc'] = 1 / tamang_2021_data_144['fc']\n",
    "tamang_2021_data_144['p_val'] = 0.1 ** np.log2(tamang_2021_data_144['fc'])\n",
    "tamang_2021_data_144['sig_flag'] = ''\n",
    "tamang_2021_data_144['nonsig_flag'] = ''\n",
    "tamang_2021_data_144.loc[(tamang_2021_data_144['p'] < 0.05), 'sig_flag'] = 1\n",
    "tamang_2021_data_144.loc[(tamang_2021_data_144['p'] < 0.05), 'nonsig_flag'] = 0\n",
    "tamang_2021_data_144.loc[(tamang_2021_data_144['p'] >= 0.05), 'sig_flag'] = 0\n",
    "tamang_2021_data_144.loc[(tamang_2021_data_144['p'] >= 0.05), 'nonsig_flag'] = 1\n",
    "tamang_2021_data_144.loc[((tamang_2021_data_144['p'].isna()) & (tamang_2021_data_144['fc'] > 1.5)), 'sig_flag'] = 1\n",
    "tamang_2021_data_144.loc[((tamang_2021_data_144['p'].isna()) & (tamang_2021_data_144['fc'] > 1.5)), 'nonsig_flag'] = 0\n",
    "tamang_2021_data_144.loc[((tamang_2021_data_144['p'].isna()) & (tamang_2021_data_144['fc'] <= 1.5)), 'sig_flag'] = 0\n",
    "tamang_2021_data_144.loc[((tamang_2021_data_144['p'].isna()) & (tamang_2021_data_144['fc'] <= 1.5)), 'nonsig_flag'] = 1\n",
    "\n",
    "\n",
    "tamang_2021_data = pd.concat([tamang_2021_data_120, tamang_2021_data_144]).reset_index().drop(['index'], axis = 1)\n",
    "\n",
    "gene_list = list(tamang_2021_data['mapped_gene'].unique())\n",
    "tamang_2021_data_v1 = pd.DataFrame()\n",
    "count = 0\n",
    "for gene in gene_list:\n",
    "    df_gene = tamang_2021_data[tamang_2021_data['mapped_gene'] == gene].reset_index().drop(['index'], axis = 1)\n",
    "    df_gene_v1 = pd.DataFrame()\n",
    "    p_values = list(df_gene['p_val'])\n",
    "    p_value = stats.combine_pvalues(p_values, method = 'fisher')[1]\n",
    "    df_gene_v1['gene'] = df_gene['mapped_gene'].unique()\n",
    "    df_gene_v1['p'] = p_value\n",
    "    df_gene_v1['score_raw'] = -np.log10(df_gene_v1['p'])\n",
    "    df_gene_v1['sig_flag'] = df_gene['sig_flag'].sum()\n",
    "    df_gene_v1['nonsig_flag'] = df_gene['nonsig_flag'].sum()\n",
    "    tamang_2021_data_v1 = pd.concat([tamang_2021_data_v1, df_gene_v1]).reset_index().drop(['index'], axis = 1)\n",
    "    count += 1\n",
    "    if count % 5000 == 0:\n",
    "        print(count)"
   ]
  },
  {
   "cell_type": "code",
   "execution_count": 107,
   "metadata": {
    "tags": []
   },
   "outputs": [],
   "source": [
    "tamang_2021_data_v1['score_raw_v1'] = tamang_2021_data_v1['score_raw']\n",
    "tamang_2021_data_v1.loc[(tamang_2021_data_v1['score_raw_v1'] > 18), 'score_raw_v1'] = 18\n",
    "\n",
    "upper_b = 6\n",
    "lower_b = 0\n",
    "max_val = tamang_2021_data_v1['score_raw_v1'].max()\n",
    "min_val = 0\n",
    "\n",
    "tamang_2021_data_v1['score'] = tamang_2021_data_v1['score_raw_v1'].apply(scale_score, args = (upper_b, lower_b, max_val, min_val))"
   ]
  },
  {
   "cell_type": "code",
   "execution_count": 108,
   "metadata": {
    "tags": []
   },
   "outputs": [
    {
     "data": {
      "text/plain": [
       "(array([4.0313e+04, 7.0840e+03, 2.4780e+03, 1.0110e+03, 4.5100e+02,\n",
       "        2.3500e+02, 1.3100e+02, 7.0000e+01, 4.0000e+01, 5.0000e+01]),\n",
       " array([0. , 0.6, 1.2, 1.8, 2.4, 3. , 3.6, 4.2, 4.8, 5.4, 6. ]),\n",
       " <BarContainer object of 10 artists>)"
      ]
     },
     "execution_count": 108,
     "metadata": {},
     "output_type": "execute_result"
    },
    {
     "data": {
      "image/png": "[encoded data removed]",
      "text/plain": [
       "<Figure size 640x480 with 1 Axes>"
      ]
     },
     "metadata": {},
     "output_type": "display_data"
    }
   ],
   "source": [
    "plt.hist(tamang_2021_data_v1['score'])"
   ]
  },
  {
   "cell_type": "code",
   "execution_count": 109,
   "metadata": {
    "tags": []
   },
   "outputs": [
    {
     "data": {
      "text/html": [
       "<div>\n",
       "<style scoped>\n",
       "    .dataframe tbody tr th:only-of-type {\n",
       "        vertical-align: middle;\n",
       "    }\n",
       "\n",
       "    .dataframe tbody tr th {\n",
       "        vertical-align: top;\n",
       "    }\n",
       "\n",
       "    .dataframe thead th {\n",
       "        text-align: right;\n",
       "    }\n",
       "</style>\n",
       "<table border=\"1\" class=\"dataframe\">\n",
       "  <thead>\n",
       "    <tr style=\"text-align: right;\">\n",
       "      <th></th>\n",
       "      <th>gene</th>\n",
       "      <th>p</th>\n",
       "      <th>score_raw</th>\n",
       "      <th>sig_flag</th>\n",
       "      <th>nonsig_flag</th>\n",
       "      <th>score_raw_v1</th>\n",
       "      <th>score</th>\n",
       "    </tr>\n",
       "  </thead>\n",
       "  <tbody>\n",
       "    <tr>\n",
       "      <th>0</th>\n",
       "      <td>Glyma.01g000100</td>\n",
       "      <td>0.837028</td>\n",
       "      <td>0.077260</td>\n",
       "      <td>0</td>\n",
       "      <td>2</td>\n",
       "      <td>0.077260</td>\n",
       "      <td>0.025753</td>\n",
       "    </tr>\n",
       "    <tr>\n",
       "      <th>1</th>\n",
       "      <td>Glyma.01g000200</td>\n",
       "      <td>0.777675</td>\n",
       "      <td>0.109202</td>\n",
       "      <td>0</td>\n",
       "      <td>2</td>\n",
       "      <td>0.109202</td>\n",
       "      <td>0.036401</td>\n",
       "    </tr>\n",
       "    <tr>\n",
       "      <th>2</th>\n",
       "      <td>Glyma.01g000300</td>\n",
       "      <td>1.000000</td>\n",
       "      <td>-0.000000</td>\n",
       "      <td>0</td>\n",
       "      <td>2</td>\n",
       "      <td>-0.000000</td>\n",
       "      <td>0.000000</td>\n",
       "    </tr>\n",
       "    <tr>\n",
       "      <th>3</th>\n",
       "      <td>Glyma.01g000400</td>\n",
       "      <td>0.713474</td>\n",
       "      <td>0.146622</td>\n",
       "      <td>1</td>\n",
       "      <td>1</td>\n",
       "      <td>0.146622</td>\n",
       "      <td>0.048874</td>\n",
       "    </tr>\n",
       "    <tr>\n",
       "      <th>4</th>\n",
       "      <td>Glyma.01g000500</td>\n",
       "      <td>0.785231</td>\n",
       "      <td>0.105003</td>\n",
       "      <td>0</td>\n",
       "      <td>2</td>\n",
       "      <td>0.105003</td>\n",
       "      <td>0.035001</td>\n",
       "    </tr>\n",
       "  </tbody>\n",
       "</table>\n",
       "</div>"
      ],
      "text/plain": [
       "              gene         p  score_raw sig_flag nonsig_flag  score_raw_v1  \\\n",
       "0  Glyma.01g000100  0.837028   0.077260        0           2      0.077260   \n",
       "1  Glyma.01g000200  0.777675   0.109202        0           2      0.109202   \n",
       "2  Glyma.01g000300  1.000000  -0.000000        0           2     -0.000000   \n",
       "3  Glyma.01g000400  0.713474   0.146622        1           1      0.146622   \n",
       "4  Glyma.01g000500  0.785231   0.105003        0           2      0.105003   \n",
       "\n",
       "      score  \n",
       "0  0.025753  \n",
       "1  0.036401  \n",
       "2  0.000000  \n",
       "3  0.048874  \n",
       "4  0.035001  "
      ]
     },
     "execution_count": 109,
     "metadata": {},
     "output_type": "execute_result"
    }
   ],
   "source": [
    "tamang_2021_data_v1.head()"
   ]
  },
  {
   "cell_type": "code",
   "execution_count": null,
   "metadata": {},
   "outputs": [],
   "source": []
  },
  {
   "cell_type": "code",
   "execution_count": 103,
   "metadata": {},
   "outputs": [],
   "source": [
    "# tamang_2021 preprocessing v2\n",
    "# tamang_2021 = pd.read_excel(r'C:\\Users\\edwar\\Desktop\\農藝\\paper2\\data collection\\whole genome data\\complete\\gene expression\\Tamang-2021\\Tamang2021_wgd.xlsx')\n",
    "\n",
    "# tamang_2021_data_120 = tamang_2021[tamang_2021['drought_treatment_span'] == 120][['mapped_gene', 'p', 'fc']]\n",
    "# tamang_2021_data_120.loc[(tamang_2021_data_120['fc'] < 1), 'fc'] = 1 / tamang_2021_data_120['fc']\n",
    "# tamang_2021_data_120['p_val'] = 0.1 ** np.log2(tamang_2021_data_120['fc'])\n",
    "# tamang_2021_data_120['score_raw'] = -np.log10(tamang_2021_data_120['p_val'])\n",
    "# tamang_2021_data_120.loc[(tamang_2021_data_120['score_raw'] > 9.6), 'score_raw'] = 9.6\n",
    "\n",
    "# upper_b = 6\n",
    "# lower_b = 0\n",
    "# max_val = tamang_2021_data_120['score_raw'].max()\n",
    "# min_val = 0\n",
    "# tamang_2021_data_120['score'] = tamang_2021_data_120['score_raw'].apply(scale_score, args = (upper_b, lower_b, max_val, min_val))\n",
    "\n",
    "# tamang_2021_data_144 = tamang_2021[tamang_2021['drought_treatment_span'] == 144][['mapped_gene', 'p', 'fc']]\n",
    "# tamang_2021_data_144.loc[(tamang_2021_data_144['fc'] < 1), 'fc'] = 1 / tamang_2021_data_144['fc']\n",
    "# tamang_2021_data_144['p_val'] = 0.1 ** np.log2(tamang_2021_data_144['fc'])\n",
    "# tamang_2021_data_144['score_raw'] = -np.log10(tamang_2021_data_144['p_val'])\n",
    "# tamang_2021_data_144.loc[(tamang_2021_data_144['score_raw'] > 10.2), 'score_raw'] = 10.2\n",
    "\n",
    "# upper_b = 6\n",
    "# lower_b = 0\n",
    "# max_val = tamang_2021_data_144['score_raw'].max()\n",
    "# min_val = 0\n",
    "# tamang_2021_data_144['score'] = tamang_2021_data_144['score_raw'].apply(scale_score, args = (upper_b, lower_b, max_val, min_val))"
   ]
  },
  {
   "cell_type": "code",
   "execution_count": null,
   "metadata": {},
   "outputs": [],
   "source": []
  },
  {
   "cell_type": "markdown",
   "metadata": {},
   "source": [
    "le2012"
   ]
  },
  {
   "cell_type": "code",
   "execution_count": 110,
   "metadata": {
    "tags": []
   },
   "outputs": [],
   "source": [
    "le_2012_v6 = pd.read_excel(r'C:\\Users\\edwar\\Desktop\\農藝\\paper2\\data collection\\whole genome data\\complete\\noncoding\\Le-2012\\Le2012_wgd(V6).xlsx')\n",
    "le_2012_r2 = pd.read_excel(r'C:\\Users\\edwar\\Desktop\\農藝\\paper2\\data collection\\whole genome data\\complete\\noncoding\\Le-2012\\Le2012_wgd(R2).xlsx')"
   ]
  },
  {
   "cell_type": "code",
   "execution_count": 111,
   "metadata": {
    "tags": []
   },
   "outputs": [],
   "source": [
    "le_2012_v6_data = le_2012_v6[['mapped_gene', 'p', 'fc']]\n",
    "le_2012_r2_data = le_2012_r2[['mapped_gene', 'p', 'fc']]"
   ]
  },
  {
   "cell_type": "code",
   "execution_count": 112,
   "metadata": {
    "tags": []
   },
   "outputs": [
    {
     "name": "stderr",
     "output_type": "stream",
     "text": [
      "C:\\Users\\edwar\\AppData\\Local\\Temp\\ipykernel_10912\\1559478123.py:2: SettingWithCopyWarning: \n",
      "A value is trying to be set on a copy of a slice from a DataFrame.\n",
      "Try using .loc[row_indexer,col_indexer] = value instead\n",
      "\n",
      "See the caveats in the documentation: https://pandas.pydata.org/pandas-docs/stable/user_guide/indexing.html#returning-a-view-versus-a-copy\n",
      "  le_2012_v6_data['p_val'] = le_2012_v6_data['p'] ** np.log2(le_2012_v6_data['fc'])\n",
      "C:\\Users\\edwar\\AppData\\Local\\Temp\\ipykernel_10912\\1559478123.py:4: SettingWithCopyWarning: \n",
      "A value is trying to be set on a copy of a slice from a DataFrame.\n",
      "Try using .loc[row_indexer,col_indexer] = value instead\n",
      "\n",
      "See the caveats in the documentation: https://pandas.pydata.org/pandas-docs/stable/user_guide/indexing.html#returning-a-view-versus-a-copy\n",
      "  le_2012_r2_data['p_val'] = le_2012_r2_data['p'] ** np.log2(le_2012_r2_data['fc'])\n",
      "C:\\Users\\edwar\\AppData\\Local\\Temp\\ipykernel_10912\\1559478123.py:6: SettingWithCopyWarning: \n",
      "A value is trying to be set on a copy of a slice from a DataFrame.\n",
      "Try using .loc[row_indexer,col_indexer] = value instead\n",
      "\n",
      "See the caveats in the documentation: https://pandas.pydata.org/pandas-docs/stable/user_guide/indexing.html#returning-a-view-versus-a-copy\n",
      "  le_2012_v6_data['sig_flag'] = ''\n",
      "C:\\Users\\edwar\\AppData\\Local\\Temp\\ipykernel_10912\\1559478123.py:7: SettingWithCopyWarning: \n",
      "A value is trying to be set on a copy of a slice from a DataFrame.\n",
      "Try using .loc[row_indexer,col_indexer] = value instead\n",
      "\n",
      "See the caveats in the documentation: https://pandas.pydata.org/pandas-docs/stable/user_guide/indexing.html#returning-a-view-versus-a-copy\n",
      "  le_2012_v6_data['nonsig_flag'] = ''\n",
      "C:\\Users\\edwar\\AppData\\Local\\Temp\\ipykernel_10912\\1559478123.py:13: SettingWithCopyWarning: \n",
      "A value is trying to be set on a copy of a slice from a DataFrame.\n",
      "Try using .loc[row_indexer,col_indexer] = value instead\n",
      "\n",
      "See the caveats in the documentation: https://pandas.pydata.org/pandas-docs/stable/user_guide/indexing.html#returning-a-view-versus-a-copy\n",
      "  le_2012_r2_data['sig_flag'] = ''\n",
      "C:\\Users\\edwar\\AppData\\Local\\Temp\\ipykernel_10912\\1559478123.py:14: SettingWithCopyWarning: \n",
      "A value is trying to be set on a copy of a slice from a DataFrame.\n",
      "Try using .loc[row_indexer,col_indexer] = value instead\n",
      "\n",
      "See the caveats in the documentation: https://pandas.pydata.org/pandas-docs/stable/user_guide/indexing.html#returning-a-view-versus-a-copy\n",
      "  le_2012_r2_data['nonsig_flag'] = ''\n"
     ]
    }
   ],
   "source": [
    "le_2012_v6_data.loc[(le_2012_v6_data['fc'] < 1), 'fc'] = 1 / le_2012_v6_data['fc']\n",
    "le_2012_v6_data['p_val'] = le_2012_v6_data['p'] ** np.log2(le_2012_v6_data['fc'])\n",
    "le_2012_r2_data.loc[(le_2012_r2_data['fc'] < 1), 'fc'] = 1 / le_2012_r2_data['fc']\n",
    "le_2012_r2_data['p_val'] = le_2012_r2_data['p'] ** np.log2(le_2012_r2_data['fc'])\n",
    "\n",
    "le_2012_v6_data['sig_flag'] = ''\n",
    "le_2012_v6_data['nonsig_flag'] = ''\n",
    "le_2012_v6_data.loc[(le_2012_v6_data['p'] < 0.05), 'sig_flag'] = 1\n",
    "le_2012_v6_data.loc[(le_2012_v6_data['p'] < 0.05), 'nonsig_flag'] = 0\n",
    "le_2012_v6_data.loc[(le_2012_v6_data['p'] >= 0.05), 'nonsig_flag'] = 1\n",
    "le_2012_v6_data.loc[(le_2012_v6_data['p'] >= 0.05), 'sig_flag'] = 0\n",
    "\n",
    "le_2012_r2_data['sig_flag'] = ''\n",
    "le_2012_r2_data['nonsig_flag'] = ''\n",
    "le_2012_r2_data.loc[(le_2012_r2_data['p'] < 0.05), 'sig_flag'] = 1\n",
    "le_2012_r2_data.loc[(le_2012_r2_data['p'] < 0.05), 'nonsig_flag'] = 0\n",
    "le_2012_r2_data.loc[(le_2012_r2_data['p'] >= 0.05), 'nonsig_flag'] = 1\n",
    "le_2012_r2_data.loc[(le_2012_r2_data['p'] >= 0.05), 'sig_flag'] = 0\n",
    "\n",
    "le_2012_data = pd.concat([le_2012_v6_data, le_2012_r2_data]).reset_index().drop(['index'], axis = 1)"
   ]
  },
  {
   "cell_type": "code",
   "execution_count": 113,
   "metadata": {
    "tags": []
   },
   "outputs": [
    {
     "name": "stdout",
     "output_type": "stream",
     "text": [
      "4000\n",
      "8000\n",
      "12000\n",
      "16000\n",
      "20000\n",
      "24000\n",
      "28000\n",
      "32000\n",
      "36000\n",
      "40000\n"
     ]
    }
   ],
   "source": [
    "gene_list = list(le_2012_data['mapped_gene'].unique())\n",
    "le_2012_data_v1 = pd.DataFrame()\n",
    "\n",
    "count = 0\n",
    "for gene in gene_list:\n",
    "    df_gene = le_2012_data[le_2012_data['mapped_gene'] == gene].reset_index().drop(['index'], axis = 1)\n",
    "    df_gene_v1 = pd.DataFrame()\n",
    "    p_values = list(df_gene['p_val'])\n",
    "    p_value = stats.combine_pvalues(p_values, method = 'fisher')[1]\n",
    "    df_gene_v1['gene'] = df_gene['mapped_gene'].unique()\n",
    "    df_gene_v1['p'] = p_value\n",
    "    df_gene_v1['sig_flag'] = df_gene['sig_flag'].sum()\n",
    "    df_gene_v1['nonsig_flag'] = df_gene['nonsig_flag'].sum()\n",
    "    df_gene_v1['score_raw'] = -np.log10(df_gene_v1['p'])\n",
    "    le_2012_data_v1 = pd.concat([le_2012_data_v1, df_gene_v1]).reset_index().drop(['index'], axis = 1)\n",
    "    \n",
    "    count += 1\n",
    "    if count % 4000 == 0:\n",
    "        print(count)"
   ]
  },
  {
   "cell_type": "code",
   "execution_count": 114,
   "metadata": {
    "tags": []
   },
   "outputs": [],
   "source": [
    "le_2012_data_v1['score_raw_v1'] = le_2012_data_v1['score_raw']\n",
    "le_2012_data_v1.loc[(le_2012_data_v1['score_raw_v1'] > 30), 'score_raw_v1'] = 30"
   ]
  },
  {
   "cell_type": "code",
   "execution_count": 115,
   "metadata": {
    "tags": []
   },
   "outputs": [],
   "source": [
    "upper_b = 6\n",
    "lower_b = 0\n",
    "max_val = le_2012_data_v1['score_raw_v1'].max()\n",
    "min_val = 0\n",
    "\n",
    "le_2012_data_v1['score'] = le_2012_data_v1['score_raw_v1'].apply(scale_score, args = (upper_b, lower_b, max_val, min_val))\n",
    "le_2012_data_v1 = le_2012_data_v1.merge(glyma_gene_ver[['Wm82.a1.v1', 'Wm82.a2.v1']], left_on = ['gene'], right_on = ['Wm82.a1.v1']).drop(['Wm82.a1.v1'], axis = 1).rename(columns = {'gene':'gene_org', 'Wm82.a2.v1':'gene'})\n",
    "le_2012_data_v1 = le_2012_data_v1[le_2012_data_v1['gene'].isna() == False].reset_index().drop(['index'], axis = 1)"
   ]
  },
  {
   "cell_type": "code",
   "execution_count": 116,
   "metadata": {
    "tags": []
   },
   "outputs": [
    {
     "data": {
      "text/html": [
       "<div>\n",
       "<style scoped>\n",
       "    .dataframe tbody tr th:only-of-type {\n",
       "        vertical-align: middle;\n",
       "    }\n",
       "\n",
       "    .dataframe tbody tr th {\n",
       "        vertical-align: top;\n",
       "    }\n",
       "\n",
       "    .dataframe thead th {\n",
       "        text-align: right;\n",
       "    }\n",
       "</style>\n",
       "<table border=\"1\" class=\"dataframe\">\n",
       "  <thead>\n",
       "    <tr style=\"text-align: right;\">\n",
       "      <th></th>\n",
       "      <th>gene_org</th>\n",
       "      <th>p</th>\n",
       "      <th>sig_flag</th>\n",
       "      <th>nonsig_flag</th>\n",
       "      <th>score_raw</th>\n",
       "      <th>score_raw_v1</th>\n",
       "      <th>score</th>\n",
       "      <th>gene</th>\n",
       "    </tr>\n",
       "  </thead>\n",
       "  <tbody>\n",
       "    <tr>\n",
       "      <th>0</th>\n",
       "      <td>Glyma01g00300</td>\n",
       "      <td>0.068744</td>\n",
       "      <td>1</td>\n",
       "      <td>1</td>\n",
       "      <td>1.162766</td>\n",
       "      <td>1.162766</td>\n",
       "      <td>0.232553</td>\n",
       "      <td>Glyma.01g000400</td>\n",
       "    </tr>\n",
       "    <tr>\n",
       "      <th>1</th>\n",
       "      <td>Glyma01g00320</td>\n",
       "      <td>0.768163</td>\n",
       "      <td>0</td>\n",
       "      <td>2</td>\n",
       "      <td>0.114546</td>\n",
       "      <td>0.114546</td>\n",
       "      <td>0.022909</td>\n",
       "      <td>Glyma.01g000600</td>\n",
       "    </tr>\n",
       "    <tr>\n",
       "      <th>2</th>\n",
       "      <td>Glyma01g00380</td>\n",
       "      <td>0.650312</td>\n",
       "      <td>0</td>\n",
       "      <td>2</td>\n",
       "      <td>0.186878</td>\n",
       "      <td>0.186878</td>\n",
       "      <td>0.037376</td>\n",
       "      <td>Glyma.01g000900</td>\n",
       "    </tr>\n",
       "    <tr>\n",
       "      <th>3</th>\n",
       "      <td>Glyma01g00400</td>\n",
       "      <td>0.603801</td>\n",
       "      <td>1</td>\n",
       "      <td>1</td>\n",
       "      <td>0.219106</td>\n",
       "      <td>0.219106</td>\n",
       "      <td>0.043821</td>\n",
       "      <td>Glyma.01g001000</td>\n",
       "    </tr>\n",
       "    <tr>\n",
       "      <th>4</th>\n",
       "      <td>Glyma01g00410</td>\n",
       "      <td>0.000009</td>\n",
       "      <td>1</td>\n",
       "      <td>1</td>\n",
       "      <td>5.060139</td>\n",
       "      <td>5.060139</td>\n",
       "      <td>1.012028</td>\n",
       "      <td>Glyma.01g001100</td>\n",
       "    </tr>\n",
       "  </tbody>\n",
       "</table>\n",
       "</div>"
      ],
      "text/plain": [
       "        gene_org         p  sig_flag  nonsig_flag  score_raw  score_raw_v1  \\\n",
       "0  Glyma01g00300  0.068744         1            1   1.162766      1.162766   \n",
       "1  Glyma01g00320  0.768163         0            2   0.114546      0.114546   \n",
       "2  Glyma01g00380  0.650312         0            2   0.186878      0.186878   \n",
       "3  Glyma01g00400  0.603801         1            1   0.219106      0.219106   \n",
       "4  Glyma01g00410  0.000009         1            1   5.060139      5.060139   \n",
       "\n",
       "      score             gene  \n",
       "0  0.232553  Glyma.01g000400  \n",
       "1  0.022909  Glyma.01g000600  \n",
       "2  0.037376  Glyma.01g000900  \n",
       "3  0.043821  Glyma.01g001000  \n",
       "4  1.012028  Glyma.01g001100  "
      ]
     },
     "execution_count": 116,
     "metadata": {},
     "output_type": "execute_result"
    }
   ],
   "source": [
    "le_2012_data_v1.head()"
   ]
  },
  {
   "cell_type": "code",
   "execution_count": 117,
   "metadata": {
    "tags": []
   },
   "outputs": [
    {
     "data": {
      "text/plain": [
       "(array([3.4386e+04, 2.2850e+03, 7.9200e+02, 3.1900e+02, 1.8100e+02,\n",
       "        9.4000e+01, 6.1000e+01, 3.1000e+01, 1.0000e+01, 3.1000e+01]),\n",
       " array([3.1958333e-11, 6.0000000e-01, 1.2000000e+00, 1.8000000e+00,\n",
       "        2.4000000e+00, 3.0000000e+00, 3.6000000e+00, 4.2000000e+00,\n",
       "        4.8000000e+00, 5.4000000e+00, 6.0000000e+00]),\n",
       " <BarContainer object of 10 artists>)"
      ]
     },
     "execution_count": 117,
     "metadata": {},
     "output_type": "execute_result"
    },
    {
     "data": {
      "image/png": "[encoded data removed]",
      "text/plain": [
       "<Figure size 640x480 with 1 Axes>"
      ]
     },
     "metadata": {},
     "output_type": "display_data"
    }
   ],
   "source": [
    "plt.hist(le_2012_data_v1['score'])"
   ]
  },
  {
   "cell_type": "code",
   "execution_count": null,
   "metadata": {},
   "outputs": [],
   "source": []
  },
  {
   "cell_type": "markdown",
   "metadata": {},
   "source": [
    "shin2015 validation 1 12 24hr"
   ]
  },
  {
   "cell_type": "code",
   "execution_count": 118,
   "metadata": {
    "tags": []
   },
   "outputs": [],
   "source": [
    "shin_2015 = pd.read_excel(r'C:\\Users\\edwar\\Desktop\\農藝\\paper2\\data collection\\whole genome data\\complete\\gene expression\\Shin-2015\\Shin2015_wgd.xlsx')"
   ]
  },
  {
   "cell_type": "code",
   "execution_count": 119,
   "metadata": {
    "tags": []
   },
   "outputs": [],
   "source": [
    "shin_2015_data = shin_2015[['mapped_gene', 'p', 'fc', 'drought_treatment_span']]\n",
    "shin_2015_data_6h = shin_2015_data[shin_2015_data['drought_treatment_span'] == 6].reset_index().drop(['index'], axis = 1)\n",
    "shin_2015_data_12h = shin_2015_data[shin_2015_data['drought_treatment_span'] == 12].reset_index().drop(['index'], axis = 1)\n",
    "shin_2015_data_24h = shin_2015_data[shin_2015_data['drought_treatment_span'] == 24].reset_index().drop(['index'], axis = 1)\\\n",
    "\n",
    "shin_2015_data_6h.loc[(shin_2015_data_6h['fc'] < 1), 'fc'] = 1 / shin_2015_data_6h['fc']\n",
    "shin_2015_data_12h.loc[(shin_2015_data_12h['fc'] < 1), 'fc'] = 1 / shin_2015_data_12h['fc']\n",
    "shin_2015_data_24h.loc[(shin_2015_data_24h['fc'] < 1), 'fc'] = 1 / shin_2015_data_24h['fc']\n",
    "\n",
    "shin_2015_data_6h['p_val'] = 0.1 ** np.log2(shin_2015_data_6h['fc'])\n",
    "shin_2015_data_12h['p_val'] = 0.1 ** np.log2(shin_2015_data_12h['fc'])\n",
    "shin_2015_data_24h['p_val'] = 0.1 ** np.log2(shin_2015_data_24h['fc'])\n",
    "\n",
    "shin_2015_data = pd.concat([shin_2015_data_6h, shin_2015_data_12h, shin_2015_data_24h]).reset_index().drop(['index'], axis = 1)\n",
    "\n",
    "shin_2015_data['sig_flag'] = ''\n",
    "shin_2015_data['nonsig_flag'] = ''\n",
    "shin_2015_data.loc[(shin_2015_data['fc'] > 1.5), 'sig_flag'] = 1\n",
    "shin_2015_data.loc[(shin_2015_data['fc'] > 1.5), 'nonsig_flag'] = 0\n",
    "shin_2015_data.loc[(shin_2015_data['fc'] <= 1.5), 'sig_flag'] = 0\n",
    "shin_2015_data.loc[(shin_2015_data['fc'] <= 1.5), 'nonsig_flag'] = 1\n",
    "\n",
    "shin_2015_data_v1 = shin_2015_data.merge(glyma_gene_ver[['Wm82.a1.v1', 'Wm82.a2.v1']], how = 'left', left_on = ['mapped_gene'], right_on = ['Wm82.a1.v1']).drop(['Wm82.a1.v1'], axis = 1).rename(columns = {'Wm82.a2.v1':'gene', 'mapped_gene':'gene_org'})\n",
    "shin_2015_data_v1 = shin_2015_data_v1[shin_2015_data_v1['gene'].isna() == False].reset_index().drop(['index'], axis = 1)\n",
    "\n"
   ]
  },
  {
   "cell_type": "code",
   "execution_count": 120,
   "metadata": {
    "tags": []
   },
   "outputs": [
    {
     "name": "stdout",
     "output_type": "stream",
     "text": [
      "5000\n",
      "10000\n",
      "15000\n",
      "20000\n",
      "25000\n"
     ]
    }
   ],
   "source": [
    "gene_list = list(shin_2015_data_v1['gene'].unique())\n",
    "shin_2015_data_v2 = pd.DataFrame()\n",
    "\n",
    "count = 0\n",
    "for gene in  gene_list:\n",
    "    df_gene = shin_2015_data_v1[shin_2015_data_v1['gene'] == gene].reset_index().drop(['index'], axis = 1)\n",
    "    df_gene_v1 = pd.DataFrame()\n",
    "    p_values = list(df_gene['p_val'])\n",
    "    p_value = stats.combine_pvalues(p_values, method = 'fisher')[1]\n",
    "    df_gene_v1['gene'] = df_gene['gene'].unique()\n",
    "    df_gene_v1['p'] = p_value\n",
    "    df_gene_v1['score_raw'] = -np.log10(df_gene_v1['p'])\n",
    "    df_gene_v1['sig_flag'] = df_gene['sig_flag'].sum()\n",
    "    df_gene_v1['nonsig_flag'] = df_gene['nonsig_flag'].sum()\n",
    "    shin_2015_data_v2 = pd.concat([shin_2015_data_v2, df_gene_v1]).reset_index().drop(['index'], axis = 1)\n",
    "    \n",
    "    count += 1\n",
    "    if count % 5000 == 0:\n",
    "        print(count)"
   ]
  },
  {
   "cell_type": "code",
   "execution_count": 121,
   "metadata": {
    "tags": []
   },
   "outputs": [],
   "source": [
    "shin_2015_data_v2['score_raw_v1'] = shin_2015_data_v2['score_raw']\n",
    "shin_2015_data_v2.loc[(shin_2015_data_v2['score_raw_v1'] > 17.4), 'score_raw_v1'] = 17.4\n",
    "\n",
    "upper_b = 6\n",
    "lower_b = 0\n",
    "max_val = shin_2015_data_v2['score_raw_v1'].max()\n",
    "min_val = 0\n",
    "shin_2015_data_v2['score'] = shin_2015_data_v2['score_raw_v1'].apply(scale_score, args = (upper_b, lower_b, max_val, min_val))"
   ]
  },
  {
   "cell_type": "code",
   "execution_count": 122,
   "metadata": {
    "tags": []
   },
   "outputs": [
    {
     "data": {
      "text/plain": [
       "(array([19298.,  4037.,  1552.,   987.,   734.,   430.,   245.,   415.,\n",
       "           33.,    37.]),\n",
       " array([0. , 0.6, 1.2, 1.8, 2.4, 3. , 3.6, 4.2, 4.8, 5.4, 6. ]),\n",
       " <BarContainer object of 10 artists>)"
      ]
     },
     "execution_count": 122,
     "metadata": {},
     "output_type": "execute_result"
    },
    {
     "data": {
      "image/png": "[encoded data removed]",
      "text/plain": [
       "<Figure size 640x480 with 1 Axes>"
      ]
     },
     "metadata": {},
     "output_type": "display_data"
    }
   ],
   "source": [
    "plt.hist(shin_2015_data_v2['score'])"
   ]
  },
  {
   "cell_type": "code",
   "execution_count": 123,
   "metadata": {
    "tags": []
   },
   "outputs": [
    {
     "data": {
      "text/html": [
       "<div>\n",
       "<style scoped>\n",
       "    .dataframe tbody tr th:only-of-type {\n",
       "        vertical-align: middle;\n",
       "    }\n",
       "\n",
       "    .dataframe tbody tr th {\n",
       "        vertical-align: top;\n",
       "    }\n",
       "\n",
       "    .dataframe thead th {\n",
       "        text-align: right;\n",
       "    }\n",
       "</style>\n",
       "<table border=\"1\" class=\"dataframe\">\n",
       "  <thead>\n",
       "    <tr style=\"text-align: right;\">\n",
       "      <th></th>\n",
       "      <th>gene</th>\n",
       "      <th>p</th>\n",
       "      <th>score_raw</th>\n",
       "      <th>sig_flag</th>\n",
       "      <th>nonsig_flag</th>\n",
       "      <th>score_raw_v1</th>\n",
       "      <th>score</th>\n",
       "    </tr>\n",
       "  </thead>\n",
       "  <tbody>\n",
       "    <tr>\n",
       "      <th>0</th>\n",
       "      <td>Glyma.03g032000</td>\n",
       "      <td>0.169787</td>\n",
       "      <td>0.770095</td>\n",
       "      <td>1</td>\n",
       "      <td>2</td>\n",
       "      <td>0.770095</td>\n",
       "      <td>0.265550</td>\n",
       "    </tr>\n",
       "    <tr>\n",
       "      <th>1</th>\n",
       "      <td>Glyma.14g217100</td>\n",
       "      <td>0.443675</td>\n",
       "      <td>0.352935</td>\n",
       "      <td>1</td>\n",
       "      <td>2</td>\n",
       "      <td>0.352935</td>\n",
       "      <td>0.121702</td>\n",
       "    </tr>\n",
       "    <tr>\n",
       "      <th>2</th>\n",
       "      <td>Glyma.03g021600</td>\n",
       "      <td>0.286500</td>\n",
       "      <td>0.542876</td>\n",
       "      <td>1</td>\n",
       "      <td>2</td>\n",
       "      <td>0.542876</td>\n",
       "      <td>0.187199</td>\n",
       "    </tr>\n",
       "    <tr>\n",
       "      <th>3</th>\n",
       "      <td>Glyma.14g132800</td>\n",
       "      <td>1.000000</td>\n",
       "      <td>-0.000000</td>\n",
       "      <td>0</td>\n",
       "      <td>3</td>\n",
       "      <td>-0.000000</td>\n",
       "      <td>0.000000</td>\n",
       "    </tr>\n",
       "    <tr>\n",
       "      <th>4</th>\n",
       "      <td>Glyma.15g226000</td>\n",
       "      <td>1.000000</td>\n",
       "      <td>-0.000000</td>\n",
       "      <td>0</td>\n",
       "      <td>3</td>\n",
       "      <td>-0.000000</td>\n",
       "      <td>0.000000</td>\n",
       "    </tr>\n",
       "  </tbody>\n",
       "</table>\n",
       "</div>"
      ],
      "text/plain": [
       "              gene         p  score_raw  sig_flag  nonsig_flag  score_raw_v1  \\\n",
       "0  Glyma.03g032000  0.169787   0.770095         1            2      0.770095   \n",
       "1  Glyma.14g217100  0.443675   0.352935         1            2      0.352935   \n",
       "2  Glyma.03g021600  0.286500   0.542876         1            2      0.542876   \n",
       "3  Glyma.14g132800  1.000000  -0.000000         0            3     -0.000000   \n",
       "4  Glyma.15g226000  1.000000  -0.000000         0            3     -0.000000   \n",
       "\n",
       "      score  \n",
       "0  0.265550  \n",
       "1  0.121702  \n",
       "2  0.187199  \n",
       "3  0.000000  \n",
       "4  0.000000  "
      ]
     },
     "execution_count": 123,
     "metadata": {},
     "output_type": "execute_result"
    }
   ],
   "source": [
    "shin_2015_data_v2.head()"
   ]
  },
  {
   "cell_type": "code",
   "execution_count": null,
   "metadata": {},
   "outputs": [],
   "source": []
  },
  {
   "cell_type": "markdown",
   "metadata": {},
   "source": [
    "integration"
   ]
  },
  {
   "cell_type": "markdown",
   "metadata": {},
   "source": [
    "gene_score_data_v1: individual study\n",
    "\n",
    "incomplete: kim_2020_data_v1, rodrigues_2015_data, tripathi_2016_data_v1, wang_2021_data, xuan_2022_data, zhou_2020_data_v1\n",
    "\n",
    "complete: chen_2016_data_v1, leisner_2017_data, shi_2018_data_v1, le_2012_data_v1, tamang_2021_data_v1(val), shin_2015_data_v2(val)"
   ]
  },
  {
   "cell_type": "code",
   "execution_count": 124,
   "metadata": {
    "tags": []
   },
   "outputs": [],
   "source": [
    "gene_score_data_v1 = gene_score_data_v1.rename(columns = {'score':'score_individual'})\n",
    "kim_2020_data_v1 = kim_2020_data_v1.rename(columns = {'score':'score_kim2020'})\n",
    "rodrigues_2015_data = rodrigues_2015_data.rename(columns = {'score':'score_rodrigues2015'})\n",
    "tripathi_2016_data_v1 = tripathi_2016_data_v1.rename(columns = {'score':'score_tripathi2016'})\n",
    "wang_2021_data = wang_2021_data.rename(columns = {'mapped_gene':'gene', 'score':'score_wang2021'})\n",
    "xuan_2022_data = xuan_2022_data.rename(columns = {'mapped_gene':'gene', 'score':'score_xuan2022'})\n",
    "zhou_2020_data_v1 = zhou_2020_data_v1.rename(columns = {'score':'score_zhou2020'})\n",
    "chen_2016_data_v1 = chen_2016_data_v1.rename(columns = {'score':'score_chen2016'})\n",
    "leisner_2017_data = leisner_2017_data.rename(columns = {'score':'score_leisner2017'})\n",
    "shi_2018_data_v1 = shi_2018_data_v1.rename(columns = {'score':'score_shi2018'})\n",
    "le_2012_data_v1 = le_2012_data_v1.rename(columns = {'score':'score_le2012'})\n",
    "tamang_2021_data_v1 = tamang_2021_data_v1.rename(columns = {'score':'score_tamang2021'})\n",
    "shin_2015_data_v2 = shin_2015_data_v2.rename(columns = {'score':'score_shin2015'})"
   ]
  },
  {
   "cell_type": "code",
   "execution_count": 125,
   "metadata": {
    "tags": []
   },
   "outputs": [],
   "source": [
    "gene_score_data_v1 = gene_score_data_v1.rename(columns = {'sig_flag':'sig_flag_individual', 'nonsig_flag':'nonsig_flag_individual'})\n",
    "kim_2020_data_v1 = kim_2020_data_v1.rename(columns = {'sig_flag':'sig_flag_kim2020', 'nonsig_flag':'nonsig_flag_kim2020'})\n",
    "rodrigues_2015_data = rodrigues_2015_data.rename(columns = {'sig_flag':'sig_flag_rodrigues2015', 'nonsig_flag':'nonsig_flag_rodrigues2015'})\n",
    "tripathi_2016_data_v1 = tripathi_2016_data_v1.rename(columns = {'sig_flag':'sig_flag_tripathi2016', 'nonsig_flag':'nonsig_flag_tripathi2016'})\n",
    "wang_2021_data = wang_2021_data.rename(columns = {'sig_flag':'sig_flag_wang2021', 'nonsig_flag':'nonsig_flag_wang2021'})\n",
    "xuan_2022_data = xuan_2022_data.rename(columns = {'sig_flag':'sig_flag_xuan2022', 'nonsig_flag':'nonsig_flag_xuan2022'})\n",
    "zhou_2020_data_v1 = zhou_2020_data_v1.rename(columns = {'sig_flag':'sig_flag_zhou2020', 'nonsig_flag':'nonsig_flag_zhou2020'})\n",
    "chen_2016_data_v1 = chen_2016_data_v1.rename(columns = {'sig_flag':'sig_flag_chen2016', 'nonsig_flag':'nonsig_flag_chen2016'})\n",
    "leisner_2017_data = leisner_2017_data.rename(columns = {'sig_flag':'sig_flag_leisner2017', 'nonsig_flag':'nonsig_flag_leisner2017'})\n",
    "shi_2018_data_v1 = shi_2018_data_v1.rename(columns = {'sig_flag':'sig_flag_shi2018', 'nonsig_flag':'nonsig_flag_shi2018'})\n",
    "le_2012_data_v1 = le_2012_data_v1.rename(columns = {'sig_flag':'sig_flag_le2012', 'nonsig_flag':'nonsig_flag_le2012'})\n",
    "tamang_2021_data_v1 = tamang_2021_data_v1.rename(columns = {'sig_flag':'sig_flag_tamang2021', 'nonsig_flag':'nonsig_flag_tamang2021'})\n",
    "shin_2015_data_v2 = shin_2015_data_v2.rename(columns = {'sig_flag':'sig_flag_shin2015', 'nonsig_flag':'nonsig_flag_shin2015'})"
   ]
  },
  {
   "cell_type": "code",
   "execution_count": 126,
   "metadata": {
    "tags": []
   },
   "outputs": [],
   "source": [
    "# including RNA Layer validation set\n",
    "gene_score_total = gene_score_data_v1[['gene', 'score_individual', 'sig_flag_individual', 'nonsig_flag_individual']].merge(kim_2020_data_v1[['gene', 'score_kim2020', 'sig_flag_kim2020', 'nonsig_flag_kim2020']], on = ['gene'], how = 'outer').merge(rodrigues_2015_data[['gene', 'score_rodrigues2015', 'sig_flag_rodrigues2015', 'nonsig_flag_rodrigues2015']], on = ['gene'], how = 'outer').merge(tripathi_2016_data_v1[['gene', 'score_tripathi2016', 'sig_flag_tripathi2016', 'nonsig_flag_tripathi2016']], on = ['gene'], how = 'outer').merge(wang_2021_data[['gene', 'score_wang2021', 'sig_flag_wang2021', 'nonsig_flag_wang2021']], on = ['gene'], how = 'outer').merge(zhou_2020_data_v1[['gene', 'score_zhou2020', 'sig_flag_zhou2020', 'nonsig_flag_zhou2020']], on = ['gene'], how = 'outer').merge(chen_2016_data_v1[['gene', 'score_chen2016', 'sig_flag_chen2016', 'nonsig_flag_chen2016']], on = ['gene'], how = 'outer').merge(leisner_2017_data[['gene', 'score_leisner2017', 'sig_flag_leisner2017', 'nonsig_flag_leisner2017']], on = ['gene'], how = 'outer').merge(shi_2018_data_v1[['gene', 'score_shi2018', 'sig_flag_shi2018', 'nonsig_flag_shi2018']], on = ['gene'], how = 'outer').merge(le_2012_data_v1[['gene', 'score_le2012', 'sig_flag_le2012', 'nonsig_flag_le2012']], on = ['gene'], how = 'outer').merge(tamang_2021_data_v1[['gene', 'score_tamang2021', 'sig_flag_tamang2021', 'nonsig_flag_tamang2021']], on = ['gene'], how = 'outer').merge(shin_2015_data_v2[['gene', 'score_shin2015', 'sig_flag_shin2015', 'nonsig_flag_shin2015']], on = ['gene'], how = 'outer')\n",
    "gene_score_total = gene_score_total[gene_score_total['gene'].str.contains('Glyma')].reset_index().drop(['index'], axis = 1)"
   ]
  },
  {
   "cell_type": "code",
   "execution_count": 127,
   "metadata": {
    "tags": []
   },
   "outputs": [
    {
     "name": "stderr",
     "output_type": "stream",
     "text": [
      "C:\\Users\\edwar\\AppData\\Local\\Temp\\ipykernel_10912\\1016031580.py:2: FutureWarning: Dropping of nuisance columns in DataFrame reductions (with 'numeric_only=None') is deprecated; in a future version this will raise TypeError.  Select only valid columns before calling the reduction.\n",
      "  gene_score_total['sigflag_total'] = gene_score_total[['sig_flag_individual', 'sig_flag_kim2020', 'sig_flag_rodrigues2015', 'sig_flag_tripathi2016', 'sig_flag_wang2021', 'sig_flag_zhou2020', 'sig_flag_chen2016', 'sig_flag_leisner2017', 'sig_flag_shi2018', 'sig_flag_le2012', 'sig_flag_tamang2021', 'sig_flag_shin2015']].sum(axis = 1)\n",
      "C:\\Users\\edwar\\AppData\\Local\\Temp\\ipykernel_10912\\1016031580.py:3: FutureWarning: Dropping of nuisance columns in DataFrame reductions (with 'numeric_only=None') is deprecated; in a future version this will raise TypeError.  Select only valid columns before calling the reduction.\n",
      "  gene_score_total['nonsigflag_total'] = gene_score_total[['nonsig_flag_individual', 'nonsig_flag_kim2020', 'nonsig_flag_rodrigues2015', 'nonsig_flag_tripathi2016', 'nonsig_flag_wang2021', 'nonsig_flag_zhou2020', 'nonsig_flag_chen2016', 'nonsig_flag_leisner2017', 'nonsig_flag_shi2018', 'nonsig_flag_le2012', 'nonsig_flag_tamang2021', 'nonsig_flag_shin2015']].sum(axis = 1)\n"
     ]
    }
   ],
   "source": [
    "gene_score_total['score_total'] = gene_score_total[['score_individual', 'score_kim2020', 'score_rodrigues2015', 'score_tripathi2016', 'score_wang2021', 'score_zhou2020', 'score_chen2016', 'score_leisner2017', 'score_shi2018', 'score_le2012', 'score_tamang2021', 'score_shin2015']].sum(axis = 1)\n",
    "gene_score_total['sigflag_total'] = gene_score_total[['sig_flag_individual', 'sig_flag_kim2020', 'sig_flag_rodrigues2015', 'sig_flag_tripathi2016', 'sig_flag_wang2021', 'sig_flag_zhou2020', 'sig_flag_chen2016', 'sig_flag_leisner2017', 'sig_flag_shi2018', 'sig_flag_le2012', 'sig_flag_tamang2021', 'sig_flag_shin2015']].sum(axis = 1)\n",
    "gene_score_total['nonsigflag_total'] = gene_score_total[['nonsig_flag_individual', 'nonsig_flag_kim2020', 'nonsig_flag_rodrigues2015', 'nonsig_flag_tripathi2016', 'nonsig_flag_wang2021', 'nonsig_flag_zhou2020', 'nonsig_flag_chen2016', 'nonsig_flag_leisner2017', 'nonsig_flag_shi2018', 'nonsig_flag_le2012', 'nonsig_flag_tamang2021', 'nonsig_flag_shin2015']].sum(axis = 1)"
   ]
  },
  {
   "cell_type": "code",
   "execution_count": 128,
   "metadata": {
    "tags": []
   },
   "outputs": [
    {
     "data": {
      "text/html": [
       "<div>\n",
       "<style scoped>\n",
       "    .dataframe tbody tr th:only-of-type {\n",
       "        vertical-align: middle;\n",
       "    }\n",
       "\n",
       "    .dataframe tbody tr th {\n",
       "        vertical-align: top;\n",
       "    }\n",
       "\n",
       "    .dataframe thead th {\n",
       "        text-align: right;\n",
       "    }\n",
       "</style>\n",
       "<table border=\"1\" class=\"dataframe\">\n",
       "  <thead>\n",
       "    <tr style=\"text-align: right;\">\n",
       "      <th></th>\n",
       "      <th>gene</th>\n",
       "      <th>score_individual</th>\n",
       "      <th>sig_flag_individual</th>\n",
       "      <th>nonsig_flag_individual</th>\n",
       "      <th>score_kim2020</th>\n",
       "      <th>sig_flag_kim2020</th>\n",
       "      <th>nonsig_flag_kim2020</th>\n",
       "      <th>score_rodrigues2015</th>\n",
       "      <th>sig_flag_rodrigues2015</th>\n",
       "      <th>nonsig_flag_rodrigues2015</th>\n",
       "      <th>score_tripathi2016</th>\n",
       "      <th>sig_flag_tripathi2016</th>\n",
       "      <th>nonsig_flag_tripathi2016</th>\n",
       "      <th>score_wang2021</th>\n",
       "      <th>sig_flag_wang2021</th>\n",
       "      <th>nonsig_flag_wang2021</th>\n",
       "      <th>score_zhou2020</th>\n",
       "      <th>sig_flag_zhou2020</th>\n",
       "      <th>nonsig_flag_zhou2020</th>\n",
       "      <th>score_chen2016</th>\n",
       "      <th>sig_flag_chen2016</th>\n",
       "      <th>nonsig_flag_chen2016</th>\n",
       "      <th>score_leisner2017</th>\n",
       "      <th>sig_flag_leisner2017</th>\n",
       "      <th>nonsig_flag_leisner2017</th>\n",
       "      <th>score_shi2018</th>\n",
       "      <th>sig_flag_shi2018</th>\n",
       "      <th>nonsig_flag_shi2018</th>\n",
       "      <th>score_le2012</th>\n",
       "      <th>sig_flag_le2012</th>\n",
       "      <th>nonsig_flag_le2012</th>\n",
       "      <th>score_tamang2021</th>\n",
       "      <th>sig_flag_tamang2021</th>\n",
       "      <th>nonsig_flag_tamang2021</th>\n",
       "      <th>score_shin2015</th>\n",
       "      <th>sig_flag_shin2015</th>\n",
       "      <th>nonsig_flag_shin2015</th>\n",
       "      <th>score_total</th>\n",
       "      <th>sigflag_total</th>\n",
       "      <th>nonsigflag_total</th>\n",
       "    </tr>\n",
       "  </thead>\n",
       "  <tbody>\n",
       "    <tr>\n",
       "      <th>0</th>\n",
       "      <td>Glyma.05g039900</td>\n",
       "      <td>0.161962</td>\n",
       "      <td>2</td>\n",
       "      <td>0</td>\n",
       "      <td>NaN</td>\n",
       "      <td>NaN</td>\n",
       "      <td>NaN</td>\n",
       "      <td>NaN</td>\n",
       "      <td>NaN</td>\n",
       "      <td>NaN</td>\n",
       "      <td>0.127345</td>\n",
       "      <td>1</td>\n",
       "      <td>0</td>\n",
       "      <td>1.055032</td>\n",
       "      <td>1</td>\n",
       "      <td>0</td>\n",
       "      <td>0.807834</td>\n",
       "      <td>1</td>\n",
       "      <td>0</td>\n",
       "      <td>0.391703</td>\n",
       "      <td>1</td>\n",
       "      <td>0</td>\n",
       "      <td>0.001801</td>\n",
       "      <td>0</td>\n",
       "      <td>1</td>\n",
       "      <td>2.175267</td>\n",
       "      <td>1</td>\n",
       "      <td>0</td>\n",
       "      <td>0.762800</td>\n",
       "      <td>2.0</td>\n",
       "      <td>0.0</td>\n",
       "      <td>0.605213</td>\n",
       "      <td>2</td>\n",
       "      <td>0</td>\n",
       "      <td>NaN</td>\n",
       "      <td>NaN</td>\n",
       "      <td>NaN</td>\n",
       "      <td>6.088957</td>\n",
       "      <td>2.0</td>\n",
       "      <td>0.0</td>\n",
       "    </tr>\n",
       "    <tr>\n",
       "      <th>1</th>\n",
       "      <td>Glyma.11g131900</td>\n",
       "      <td>0.115903</td>\n",
       "      <td>1</td>\n",
       "      <td>0</td>\n",
       "      <td>NaN</td>\n",
       "      <td>NaN</td>\n",
       "      <td>NaN</td>\n",
       "      <td>NaN</td>\n",
       "      <td>NaN</td>\n",
       "      <td>NaN</td>\n",
       "      <td>NaN</td>\n",
       "      <td>NaN</td>\n",
       "      <td>NaN</td>\n",
       "      <td>NaN</td>\n",
       "      <td>NaN</td>\n",
       "      <td>NaN</td>\n",
       "      <td>NaN</td>\n",
       "      <td>NaN</td>\n",
       "      <td>NaN</td>\n",
       "      <td>NaN</td>\n",
       "      <td>NaN</td>\n",
       "      <td>NaN</td>\n",
       "      <td>0.002940</td>\n",
       "      <td>0</td>\n",
       "      <td>1</td>\n",
       "      <td>NaN</td>\n",
       "      <td>NaN</td>\n",
       "      <td>NaN</td>\n",
       "      <td>0.000954</td>\n",
       "      <td>0.0</td>\n",
       "      <td>2.0</td>\n",
       "      <td>0.438231</td>\n",
       "      <td>2</td>\n",
       "      <td>0</td>\n",
       "      <td>NaN</td>\n",
       "      <td>NaN</td>\n",
       "      <td>NaN</td>\n",
       "      <td>0.558028</td>\n",
       "      <td>0.0</td>\n",
       "      <td>2.0</td>\n",
       "    </tr>\n",
       "    <tr>\n",
       "      <th>2</th>\n",
       "      <td>Glyma.13g322100</td>\n",
       "      <td>0.110120</td>\n",
       "      <td>1</td>\n",
       "      <td>0</td>\n",
       "      <td>NaN</td>\n",
       "      <td>NaN</td>\n",
       "      <td>NaN</td>\n",
       "      <td>NaN</td>\n",
       "      <td>NaN</td>\n",
       "      <td>NaN</td>\n",
       "      <td>0.096000</td>\n",
       "      <td>1</td>\n",
       "      <td>0</td>\n",
       "      <td>NaN</td>\n",
       "      <td>NaN</td>\n",
       "      <td>NaN</td>\n",
       "      <td>0.684193</td>\n",
       "      <td>1</td>\n",
       "      <td>0</td>\n",
       "      <td>NaN</td>\n",
       "      <td>NaN</td>\n",
       "      <td>NaN</td>\n",
       "      <td>2.000000</td>\n",
       "      <td>1</td>\n",
       "      <td>0</td>\n",
       "      <td>0.444204</td>\n",
       "      <td>0</td>\n",
       "      <td>1</td>\n",
       "      <td>0.005801</td>\n",
       "      <td>0.0</td>\n",
       "      <td>2.0</td>\n",
       "      <td>1.108281</td>\n",
       "      <td>2</td>\n",
       "      <td>0</td>\n",
       "      <td>NaN</td>\n",
       "      <td>NaN</td>\n",
       "      <td>NaN</td>\n",
       "      <td>4.448599</td>\n",
       "      <td>0.0</td>\n",
       "      <td>2.0</td>\n",
       "    </tr>\n",
       "    <tr>\n",
       "      <th>3</th>\n",
       "      <td>Glyma.05g123700</td>\n",
       "      <td>0.111244</td>\n",
       "      <td>1</td>\n",
       "      <td>0</td>\n",
       "      <td>NaN</td>\n",
       "      <td>NaN</td>\n",
       "      <td>NaN</td>\n",
       "      <td>NaN</td>\n",
       "      <td>NaN</td>\n",
       "      <td>NaN</td>\n",
       "      <td>NaN</td>\n",
       "      <td>NaN</td>\n",
       "      <td>NaN</td>\n",
       "      <td>NaN</td>\n",
       "      <td>NaN</td>\n",
       "      <td>NaN</td>\n",
       "      <td>2.026026</td>\n",
       "      <td>1</td>\n",
       "      <td>0</td>\n",
       "      <td>NaN</td>\n",
       "      <td>NaN</td>\n",
       "      <td>NaN</td>\n",
       "      <td>NaN</td>\n",
       "      <td>NaN</td>\n",
       "      <td>NaN</td>\n",
       "      <td>NaN</td>\n",
       "      <td>NaN</td>\n",
       "      <td>NaN</td>\n",
       "      <td>0.000599</td>\n",
       "      <td>0.0</td>\n",
       "      <td>2.0</td>\n",
       "      <td>0.686042</td>\n",
       "      <td>0</td>\n",
       "      <td>2</td>\n",
       "      <td>NaN</td>\n",
       "      <td>NaN</td>\n",
       "      <td>NaN</td>\n",
       "      <td>2.823912</td>\n",
       "      <td>0.0</td>\n",
       "      <td>2.0</td>\n",
       "    </tr>\n",
       "    <tr>\n",
       "      <th>4</th>\n",
       "      <td>Glyma.09g163300</td>\n",
       "      <td>0.119740</td>\n",
       "      <td>1</td>\n",
       "      <td>0</td>\n",
       "      <td>NaN</td>\n",
       "      <td>NaN</td>\n",
       "      <td>NaN</td>\n",
       "      <td>NaN</td>\n",
       "      <td>NaN</td>\n",
       "      <td>NaN</td>\n",
       "      <td>NaN</td>\n",
       "      <td>NaN</td>\n",
       "      <td>NaN</td>\n",
       "      <td>NaN</td>\n",
       "      <td>NaN</td>\n",
       "      <td>NaN</td>\n",
       "      <td>0.498962</td>\n",
       "      <td>1</td>\n",
       "      <td>0</td>\n",
       "      <td>NaN</td>\n",
       "      <td>NaN</td>\n",
       "      <td>NaN</td>\n",
       "      <td>NaN</td>\n",
       "      <td>NaN</td>\n",
       "      <td>NaN</td>\n",
       "      <td>NaN</td>\n",
       "      <td>NaN</td>\n",
       "      <td>NaN</td>\n",
       "      <td>0.006599</td>\n",
       "      <td>0.0</td>\n",
       "      <td>2.0</td>\n",
       "      <td>0.132019</td>\n",
       "      <td>0</td>\n",
       "      <td>2</td>\n",
       "      <td>NaN</td>\n",
       "      <td>NaN</td>\n",
       "      <td>NaN</td>\n",
       "      <td>0.757320</td>\n",
       "      <td>0.0</td>\n",
       "      <td>2.0</td>\n",
       "    </tr>\n",
       "  </tbody>\n",
       "</table>\n",
       "</div>"
      ],
      "text/plain": [
       "              gene  score_individual sig_flag_individual  \\\n",
       "0  Glyma.05g039900          0.161962                   2   \n",
       "1  Glyma.11g131900          0.115903                   1   \n",
       "2  Glyma.13g322100          0.110120                   1   \n",
       "3  Glyma.05g123700          0.111244                   1   \n",
       "4  Glyma.09g163300          0.119740                   1   \n",
       "\n",
       "  nonsig_flag_individual  score_kim2020 sig_flag_kim2020 nonsig_flag_kim2020  \\\n",
       "0                      0            NaN              NaN                 NaN   \n",
       "1                      0            NaN              NaN                 NaN   \n",
       "2                      0            NaN              NaN                 NaN   \n",
       "3                      0            NaN              NaN                 NaN   \n",
       "4                      0            NaN              NaN                 NaN   \n",
       "\n",
       "   score_rodrigues2015 sig_flag_rodrigues2015 nonsig_flag_rodrigues2015  \\\n",
       "0                  NaN                    NaN                       NaN   \n",
       "1                  NaN                    NaN                       NaN   \n",
       "2                  NaN                    NaN                       NaN   \n",
       "3                  NaN                    NaN                       NaN   \n",
       "4                  NaN                    NaN                       NaN   \n",
       "\n",
       "   score_tripathi2016 sig_flag_tripathi2016 nonsig_flag_tripathi2016  \\\n",
       "0            0.127345                     1                        0   \n",
       "1                 NaN                   NaN                      NaN   \n",
       "2            0.096000                     1                        0   \n",
       "3                 NaN                   NaN                      NaN   \n",
       "4                 NaN                   NaN                      NaN   \n",
       "\n",
       "   score_wang2021 sig_flag_wang2021 nonsig_flag_wang2021  score_zhou2020  \\\n",
       "0        1.055032                 1                    0        0.807834   \n",
       "1             NaN               NaN                  NaN             NaN   \n",
       "2             NaN               NaN                  NaN        0.684193   \n",
       "3             NaN               NaN                  NaN        2.026026   \n",
       "4             NaN               NaN                  NaN        0.498962   \n",
       "\n",
       "  sig_flag_zhou2020 nonsig_flag_zhou2020  score_chen2016 sig_flag_chen2016  \\\n",
       "0                 1                    0        0.391703                 1   \n",
       "1               NaN                  NaN             NaN               NaN   \n",
       "2                 1                    0             NaN               NaN   \n",
       "3                 1                    0             NaN               NaN   \n",
       "4                 1                    0             NaN               NaN   \n",
       "\n",
       "  nonsig_flag_chen2016  score_leisner2017 sig_flag_leisner2017  \\\n",
       "0                    0           0.001801                    0   \n",
       "1                  NaN           0.002940                    0   \n",
       "2                  NaN           2.000000                    1   \n",
       "3                  NaN                NaN                  NaN   \n",
       "4                  NaN                NaN                  NaN   \n",
       "\n",
       "  nonsig_flag_leisner2017  score_shi2018 sig_flag_shi2018 nonsig_flag_shi2018  \\\n",
       "0                       1       2.175267                1                   0   \n",
       "1                       1            NaN              NaN                 NaN   \n",
       "2                       0       0.444204                0                   1   \n",
       "3                     NaN            NaN              NaN                 NaN   \n",
       "4                     NaN            NaN              NaN                 NaN   \n",
       "\n",
       "   score_le2012  sig_flag_le2012  nonsig_flag_le2012  score_tamang2021  \\\n",
       "0      0.762800              2.0                 0.0          0.605213   \n",
       "1      0.000954              0.0                 2.0          0.438231   \n",
       "2      0.005801              0.0                 2.0          1.108281   \n",
       "3      0.000599              0.0                 2.0          0.686042   \n",
       "4      0.006599              0.0                 2.0          0.132019   \n",
       "\n",
       "  sig_flag_tamang2021 nonsig_flag_tamang2021  score_shin2015  \\\n",
       "0                   2                      0             NaN   \n",
       "1                   2                      0             NaN   \n",
       "2                   2                      0             NaN   \n",
       "3                   0                      2             NaN   \n",
       "4                   0                      2             NaN   \n",
       "\n",
       "   sig_flag_shin2015  nonsig_flag_shin2015  score_total  sigflag_total  \\\n",
       "0                NaN                   NaN     6.088957            2.0   \n",
       "1                NaN                   NaN     0.558028            0.0   \n",
       "2                NaN                   NaN     4.448599            0.0   \n",
       "3                NaN                   NaN     2.823912            0.0   \n",
       "4                NaN                   NaN     0.757320            0.0   \n",
       "\n",
       "   nonsigflag_total  \n",
       "0               0.0  \n",
       "1               2.0  \n",
       "2               2.0  \n",
       "3               2.0  \n",
       "4               2.0  "
      ]
     },
     "execution_count": 128,
     "metadata": {},
     "output_type": "execute_result"
    }
   ],
   "source": [
    "gene_score_total.head()"
   ]
  },
  {
   "cell_type": "code",
   "execution_count": 129,
   "metadata": {
    "tags": []
   },
   "outputs": [
    {
     "data": {
      "text/plain": [
       "(array([4.6959e+04, 7.2150e+03, 1.8730e+03, 6.4400e+02, 2.3100e+02,\n",
       "        7.9000e+01, 4.4000e+01, 2.5000e+01, 1.4000e+01, 8.0000e+00]),\n",
       " array([ 0.        ,  4.08027624,  8.16055249, 12.24082873, 16.32110498,\n",
       "        20.40138122, 24.48165747, 28.56193371, 32.64220996, 36.7224862 ,\n",
       "        40.80276245]),\n",
       " <BarContainer object of 10 artists>)"
      ]
     },
     "execution_count": 129,
     "metadata": {},
     "output_type": "execute_result"
    },
    {
     "data": {
      "image/png": "[encoded data removed]",
      "text/plain": [
       "<Figure size 640x480 with 1 Axes>"
      ]
     },
     "metadata": {},
     "output_type": "display_data"
    }
   ],
   "source": [
    "plt.hist(gene_score_total['score_total'])"
   ]
  },
  {
   "cell_type": "markdown",
   "metadata": {},
   "source": [
    "# L1: 25 < x <= max in [5, 6] #about 80\n",
    "# L2: 15 < x <= 25 in [4, 5] #about 477\n",
    "# L3: 10 < x <= 15 in [3, 4] #about 1234\n",
    "# L4: 5 < x <= 10 in [2, 3] #about 5678\n",
    "# L5: 2 < x <= 5 in [1, 2] #about 14662\n",
    "# L6: 0 < x <= 2 in [0, 1] #about 30323"
   ]
  },
  {
   "cell_type": "code",
   "execution_count": 130,
   "metadata": {
    "tags": []
   },
   "outputs": [
    {
     "data": {
      "text/plain": [
       "30324"
      ]
     },
     "execution_count": 130,
     "metadata": {},
     "output_type": "execute_result"
    }
   ],
   "source": [
    "cri1 = gene_score_total['score_total'] > 0\n",
    "cri2 = gene_score_total['score_total'] <= 2\n",
    "len(gene_score_total[cri1 & cri2])"
   ]
  },
  {
   "cell_type": "code",
   "execution_count": 131,
   "metadata": {
    "tags": []
   },
   "outputs": [],
   "source": [
    "# L1 scaling raw score into [5, 6]\n",
    "upper_b = 6\n",
    "lower_b = 5\n",
    "max_val = gene_score_total['score_total'].max()\n",
    "min_val = 25\n",
    "gene_score_total_L1 = gene_score_total[(gene_score_total['score_total'] <= max_val) & (gene_score_total['score_total'] > min_val)].reset_index().drop(['index'], axis = 1)\n",
    "\n",
    "gene_score_total_L1['score'] = gene_score_total_L1['score_total'].apply(scale_score, args = (upper_b, lower_b, max_val, min_val))"
   ]
  },
  {
   "cell_type": "code",
   "execution_count": 132,
   "metadata": {
    "tags": []
   },
   "outputs": [],
   "source": [
    "# L2 scaling raw score into [4, 5]\n",
    "upper_b = 5\n",
    "lower_b = 4\n",
    "max_val = 25\n",
    "min_val = 15\n",
    "gene_score_total_L2 = gene_score_total[(gene_score_total['score_total'] <= max_val) & (gene_score_total['score_total'] > min_val)].reset_index().drop(['index'], axis = 1)\n",
    "\n",
    "gene_score_total_L2['score'] = gene_score_total_L2['score_total'].apply(scale_score, args = (upper_b, lower_b, max_val, min_val))"
   ]
  },
  {
   "cell_type": "code",
   "execution_count": 133,
   "metadata": {
    "tags": []
   },
   "outputs": [],
   "source": [
    "# L3 scaling raw score into [3, 4]\n",
    "upper_b = 4\n",
    "lower_b = 3\n",
    "max_val = 15\n",
    "min_val = 10\n",
    "gene_score_total_L3 = gene_score_total[(gene_score_total['score_total'] <= max_val) & (gene_score_total['score_total'] > min_val)].reset_index().drop(['index'], axis = 1)\n",
    "\n",
    "gene_score_total_L3['score'] = gene_score_total_L3['score_total'].apply(scale_score, args = (upper_b, lower_b, max_val, min_val))"
   ]
  },
  {
   "cell_type": "code",
   "execution_count": 134,
   "metadata": {
    "tags": []
   },
   "outputs": [],
   "source": [
    "# L4 scaling raw score into [2, 3]\n",
    "upper_b = 3\n",
    "lower_b = 2\n",
    "max_val = 10\n",
    "min_val = 5\n",
    "gene_score_total_L4 = gene_score_total[(gene_score_total['score_total'] <= max_val) & (gene_score_total['score_total'] > min_val)].reset_index().drop(['index'], axis = 1)\n",
    "\n",
    "gene_score_total_L4['score'] = gene_score_total_L4['score_total'].apply(scale_score, args = (upper_b, lower_b, max_val, min_val))"
   ]
  },
  {
   "cell_type": "code",
   "execution_count": 135,
   "metadata": {
    "tags": []
   },
   "outputs": [],
   "source": [
    "# L5 scaling raw score into [1, 2]\n",
    "upper_b = 2\n",
    "lower_b = 1\n",
    "max_val = 5\n",
    "min_val = 2\n",
    "gene_score_total_L5 = gene_score_total[(gene_score_total['score_total'] <= max_val) & (gene_score_total['score_total'] > min_val)].reset_index().drop(['index'], axis = 1)\n",
    "\n",
    "gene_score_total_L5['score'] = gene_score_total_L5['score_total'].apply(scale_score, args = (upper_b, lower_b, max_val, min_val))"
   ]
  },
  {
   "cell_type": "code",
   "execution_count": 136,
   "metadata": {
    "tags": []
   },
   "outputs": [],
   "source": [
    "# L6 scaling raw score into [4, 5]\n",
    "upper_b = 1\n",
    "lower_b = 0\n",
    "max_val = 2\n",
    "min_val = 0\n",
    "gene_score_total_L6 = gene_score_total[(gene_score_total['score_total'] <= max_val) & (gene_score_total['score_total'] > min_val)].reset_index().drop(['index'], axis = 1)\n",
    "\n",
    "gene_score_total_L6['score'] = gene_score_total_L6['score_total'].apply(scale_score, args = (upper_b, lower_b, max_val, min_val))"
   ]
  },
  {
   "cell_type": "code",
   "execution_count": 137,
   "metadata": {
    "tags": []
   },
   "outputs": [],
   "source": [
    "gene_score_total_v1 = pd.concat([gene_score_total_L1, gene_score_total_L2, gene_score_total_L3, gene_score_total_L4, gene_score_total_L5, gene_score_total_L6]).reset_index().drop(['index'], axis = 1)"
   ]
  },
  {
   "cell_type": "code",
   "execution_count": 138,
   "metadata": {
    "tags": []
   },
   "outputs": [
    {
     "data": {
      "text/plain": [
       "(array([21615., 13481.,  8285.,  5047.,  2235.,   920.,   515.,   241.,\n",
       "           90.,    25.]),\n",
       " array([1.91372600e-08, 6.00000017e-01, 1.20000002e+00, 1.80000001e+00,\n",
       "        2.40000001e+00, 3.00000001e+00, 3.60000001e+00, 4.20000001e+00,\n",
       "        4.80000000e+00, 5.40000000e+00, 6.00000000e+00]),\n",
       " <BarContainer object of 10 artists>)"
      ]
     },
     "execution_count": 138,
     "metadata": {},
     "output_type": "execute_result"
    },
    {
     "data": {
      "image/png": "[encoded data removed]",
      "text/plain": [
       "<Figure size 640x480 with 1 Axes>"
      ]
     },
     "metadata": {},
     "output_type": "display_data"
    }
   ],
   "source": [
    "plt.hist(gene_score_total_v1['score'])"
   ]
  },
  {
   "cell_type": "code",
   "execution_count": 139,
   "metadata": {
    "tags": []
   },
   "outputs": [],
   "source": [
    "gene_score_total_v1.to_excel(r'C:\\Users\\edwar\\Desktop\\農藝\\paper2\\data collection\\rna_layer_final.xlsx', index = False)"
   ]
  },
  {
   "cell_type": "code",
   "execution_count": null,
   "metadata": {},
   "outputs": [],
   "source": []
  },
  {
   "cell_type": "code",
   "execution_count": 140,
   "metadata": {
    "tags": []
   },
   "outputs": [],
   "source": [
    "# excluding RNA Layer validation set\n",
    "gene_score_total_exclude = gene_score_data_v1[['gene', 'score_individual', 'sig_flag_individual', 'nonsig_flag_individual']].merge(kim_2020_data_v1[['gene', 'score_kim2020', 'sig_flag_kim2020', 'nonsig_flag_kim2020']], on = ['gene'], how = 'outer').merge(rodrigues_2015_data[['gene', 'score_rodrigues2015', 'sig_flag_rodrigues2015', 'nonsig_flag_rodrigues2015']], on = ['gene'], how = 'outer').merge(tripathi_2016_data_v1[['gene', 'score_tripathi2016', 'sig_flag_tripathi2016', 'nonsig_flag_tripathi2016']], on = ['gene'], how = 'outer').merge(wang_2021_data[['gene', 'score_wang2021', 'sig_flag_wang2021', 'nonsig_flag_wang2021']], on = ['gene'], how = 'outer').merge(zhou_2020_data_v1[['gene', 'score_zhou2020', 'sig_flag_zhou2020', 'nonsig_flag_zhou2020']], on = ['gene'], how = 'outer').merge(chen_2016_data_v1[['gene', 'score_chen2016', 'sig_flag_chen2016', 'nonsig_flag_chen2016']], on = ['gene'], how = 'outer').merge(leisner_2017_data[['gene', 'score_leisner2017', 'sig_flag_leisner2017', 'nonsig_flag_leisner2017']], on = ['gene'], how = 'outer').merge(shi_2018_data_v1[['gene', 'score_shi2018', 'sig_flag_shi2018', 'nonsig_flag_shi2018']], on = ['gene'], how = 'outer').merge(le_2012_data_v1[['gene', 'score_le2012', 'sig_flag_le2012', 'nonsig_flag_le2012']], on = ['gene'], how = 'outer')\n",
    "gene_score_total_exclude = gene_score_total_exclude[gene_score_total_exclude['gene'].str.contains('Glyma')].reset_index().drop(['index'], axis = 1)"
   ]
  },
  {
   "cell_type": "code",
   "execution_count": 141,
   "metadata": {
    "tags": []
   },
   "outputs": [],
   "source": [
    "gene_score_total_exclude['score_total'] = gene_score_total_exclude[['score_individual', 'score_kim2020', 'score_rodrigues2015', 'score_tripathi2016', 'score_wang2021', 'score_zhou2020', 'score_chen2016', 'score_leisner2017', 'score_shi2018', 'score_le2012']].sum(axis = 1)\n",
    "gene_score_total_exclude['sigflag_total'] = gene_score_total_exclude[['sig_flag_individual', 'sig_flag_kim2020', 'sig_flag_rodrigues2015', 'sig_flag_tripathi2016', 'sig_flag_wang2021', 'sig_flag_zhou2020', 'sig_flag_chen2016', 'sig_flag_leisner2017', 'sig_flag_shi2018', 'sig_flag_le2012']].sum(axis = 1)\n",
    "gene_score_total_exclude['nonsigflag_total'] = gene_score_total_exclude[['nonsig_flag_individual', 'nonsig_flag_kim2020', 'nonsig_flag_rodrigues2015', 'nonsig_flag_tripathi2016', 'nonsig_flag_wang2021', 'nonsig_flag_zhou2020', 'nonsig_flag_chen2016', 'nonsig_flag_leisner2017', 'nonsig_flag_shi2018', 'nonsig_flag_le2012']].sum(axis = 1)"
   ]
  },
  {
   "cell_type": "code",
   "execution_count": 142,
   "metadata": {
    "tags": []
   },
   "outputs": [
    {
     "data": {
      "text/html": [
       "<div>\n",
       "<style scoped>\n",
       "    .dataframe tbody tr th:only-of-type {\n",
       "        vertical-align: middle;\n",
       "    }\n",
       "\n",
       "    .dataframe tbody tr th {\n",
       "        vertical-align: top;\n",
       "    }\n",
       "\n",
       "    .dataframe thead th {\n",
       "        text-align: right;\n",
       "    }\n",
       "</style>\n",
       "<table border=\"1\" class=\"dataframe\">\n",
       "  <thead>\n",
       "    <tr style=\"text-align: right;\">\n",
       "      <th></th>\n",
       "      <th>gene</th>\n",
       "      <th>score_individual</th>\n",
       "      <th>sig_flag_individual</th>\n",
       "      <th>nonsig_flag_individual</th>\n",
       "      <th>score_kim2020</th>\n",
       "      <th>sig_flag_kim2020</th>\n",
       "      <th>nonsig_flag_kim2020</th>\n",
       "      <th>score_rodrigues2015</th>\n",
       "      <th>sig_flag_rodrigues2015</th>\n",
       "      <th>nonsig_flag_rodrigues2015</th>\n",
       "      <th>score_tripathi2016</th>\n",
       "      <th>sig_flag_tripathi2016</th>\n",
       "      <th>nonsig_flag_tripathi2016</th>\n",
       "      <th>score_wang2021</th>\n",
       "      <th>sig_flag_wang2021</th>\n",
       "      <th>nonsig_flag_wang2021</th>\n",
       "      <th>score_zhou2020</th>\n",
       "      <th>sig_flag_zhou2020</th>\n",
       "      <th>nonsig_flag_zhou2020</th>\n",
       "      <th>score_chen2016</th>\n",
       "      <th>sig_flag_chen2016</th>\n",
       "      <th>nonsig_flag_chen2016</th>\n",
       "      <th>score_leisner2017</th>\n",
       "      <th>sig_flag_leisner2017</th>\n",
       "      <th>nonsig_flag_leisner2017</th>\n",
       "      <th>score_shi2018</th>\n",
       "      <th>sig_flag_shi2018</th>\n",
       "      <th>nonsig_flag_shi2018</th>\n",
       "      <th>score_le2012</th>\n",
       "      <th>sig_flag_le2012</th>\n",
       "      <th>nonsig_flag_le2012</th>\n",
       "      <th>score_total</th>\n",
       "      <th>sigflag_total</th>\n",
       "      <th>nonsigflag_total</th>\n",
       "    </tr>\n",
       "  </thead>\n",
       "  <tbody>\n",
       "    <tr>\n",
       "      <th>0</th>\n",
       "      <td>Glyma.05g039900</td>\n",
       "      <td>0.161962</td>\n",
       "      <td>2</td>\n",
       "      <td>0</td>\n",
       "      <td>NaN</td>\n",
       "      <td>NaN</td>\n",
       "      <td>NaN</td>\n",
       "      <td>NaN</td>\n",
       "      <td>NaN</td>\n",
       "      <td>NaN</td>\n",
       "      <td>0.127345</td>\n",
       "      <td>1</td>\n",
       "      <td>0</td>\n",
       "      <td>1.055032</td>\n",
       "      <td>1</td>\n",
       "      <td>0</td>\n",
       "      <td>0.807834</td>\n",
       "      <td>1</td>\n",
       "      <td>0</td>\n",
       "      <td>0.391703</td>\n",
       "      <td>1</td>\n",
       "      <td>0</td>\n",
       "      <td>0.001801</td>\n",
       "      <td>0</td>\n",
       "      <td>1</td>\n",
       "      <td>2.175267</td>\n",
       "      <td>1</td>\n",
       "      <td>0</td>\n",
       "      <td>0.762800</td>\n",
       "      <td>2.0</td>\n",
       "      <td>0.0</td>\n",
       "      <td>5.483744</td>\n",
       "      <td>9.0</td>\n",
       "      <td>1.0</td>\n",
       "    </tr>\n",
       "    <tr>\n",
       "      <th>1</th>\n",
       "      <td>Glyma.11g131900</td>\n",
       "      <td>0.115903</td>\n",
       "      <td>1</td>\n",
       "      <td>0</td>\n",
       "      <td>NaN</td>\n",
       "      <td>NaN</td>\n",
       "      <td>NaN</td>\n",
       "      <td>NaN</td>\n",
       "      <td>NaN</td>\n",
       "      <td>NaN</td>\n",
       "      <td>NaN</td>\n",
       "      <td>NaN</td>\n",
       "      <td>NaN</td>\n",
       "      <td>NaN</td>\n",
       "      <td>NaN</td>\n",
       "      <td>NaN</td>\n",
       "      <td>NaN</td>\n",
       "      <td>NaN</td>\n",
       "      <td>NaN</td>\n",
       "      <td>NaN</td>\n",
       "      <td>NaN</td>\n",
       "      <td>NaN</td>\n",
       "      <td>0.002940</td>\n",
       "      <td>0</td>\n",
       "      <td>1</td>\n",
       "      <td>NaN</td>\n",
       "      <td>NaN</td>\n",
       "      <td>NaN</td>\n",
       "      <td>0.000954</td>\n",
       "      <td>0.0</td>\n",
       "      <td>2.0</td>\n",
       "      <td>0.119797</td>\n",
       "      <td>1.0</td>\n",
       "      <td>3.0</td>\n",
       "    </tr>\n",
       "    <tr>\n",
       "      <th>2</th>\n",
       "      <td>Glyma.13g322100</td>\n",
       "      <td>0.110120</td>\n",
       "      <td>1</td>\n",
       "      <td>0</td>\n",
       "      <td>NaN</td>\n",
       "      <td>NaN</td>\n",
       "      <td>NaN</td>\n",
       "      <td>NaN</td>\n",
       "      <td>NaN</td>\n",
       "      <td>NaN</td>\n",
       "      <td>0.096000</td>\n",
       "      <td>1</td>\n",
       "      <td>0</td>\n",
       "      <td>NaN</td>\n",
       "      <td>NaN</td>\n",
       "      <td>NaN</td>\n",
       "      <td>0.684193</td>\n",
       "      <td>1</td>\n",
       "      <td>0</td>\n",
       "      <td>NaN</td>\n",
       "      <td>NaN</td>\n",
       "      <td>NaN</td>\n",
       "      <td>2.000000</td>\n",
       "      <td>1</td>\n",
       "      <td>0</td>\n",
       "      <td>0.444204</td>\n",
       "      <td>0</td>\n",
       "      <td>1</td>\n",
       "      <td>0.005801</td>\n",
       "      <td>0.0</td>\n",
       "      <td>2.0</td>\n",
       "      <td>3.340318</td>\n",
       "      <td>4.0</td>\n",
       "      <td>3.0</td>\n",
       "    </tr>\n",
       "    <tr>\n",
       "      <th>3</th>\n",
       "      <td>Glyma.05g123700</td>\n",
       "      <td>0.111244</td>\n",
       "      <td>1</td>\n",
       "      <td>0</td>\n",
       "      <td>NaN</td>\n",
       "      <td>NaN</td>\n",
       "      <td>NaN</td>\n",
       "      <td>NaN</td>\n",
       "      <td>NaN</td>\n",
       "      <td>NaN</td>\n",
       "      <td>NaN</td>\n",
       "      <td>NaN</td>\n",
       "      <td>NaN</td>\n",
       "      <td>NaN</td>\n",
       "      <td>NaN</td>\n",
       "      <td>NaN</td>\n",
       "      <td>2.026026</td>\n",
       "      <td>1</td>\n",
       "      <td>0</td>\n",
       "      <td>NaN</td>\n",
       "      <td>NaN</td>\n",
       "      <td>NaN</td>\n",
       "      <td>NaN</td>\n",
       "      <td>NaN</td>\n",
       "      <td>NaN</td>\n",
       "      <td>NaN</td>\n",
       "      <td>NaN</td>\n",
       "      <td>NaN</td>\n",
       "      <td>0.000599</td>\n",
       "      <td>0.0</td>\n",
       "      <td>2.0</td>\n",
       "      <td>2.137869</td>\n",
       "      <td>2.0</td>\n",
       "      <td>2.0</td>\n",
       "    </tr>\n",
       "    <tr>\n",
       "      <th>4</th>\n",
       "      <td>Glyma.09g163300</td>\n",
       "      <td>0.119740</td>\n",
       "      <td>1</td>\n",
       "      <td>0</td>\n",
       "      <td>NaN</td>\n",
       "      <td>NaN</td>\n",
       "      <td>NaN</td>\n",
       "      <td>NaN</td>\n",
       "      <td>NaN</td>\n",
       "      <td>NaN</td>\n",
       "      <td>NaN</td>\n",
       "      <td>NaN</td>\n",
       "      <td>NaN</td>\n",
       "      <td>NaN</td>\n",
       "      <td>NaN</td>\n",
       "      <td>NaN</td>\n",
       "      <td>0.498962</td>\n",
       "      <td>1</td>\n",
       "      <td>0</td>\n",
       "      <td>NaN</td>\n",
       "      <td>NaN</td>\n",
       "      <td>NaN</td>\n",
       "      <td>NaN</td>\n",
       "      <td>NaN</td>\n",
       "      <td>NaN</td>\n",
       "      <td>NaN</td>\n",
       "      <td>NaN</td>\n",
       "      <td>NaN</td>\n",
       "      <td>0.006599</td>\n",
       "      <td>0.0</td>\n",
       "      <td>2.0</td>\n",
       "      <td>0.625300</td>\n",
       "      <td>2.0</td>\n",
       "      <td>2.0</td>\n",
       "    </tr>\n",
       "    <tr>\n",
       "      <th>...</th>\n",
       "      <td>...</td>\n",
       "      <td>...</td>\n",
       "      <td>...</td>\n",
       "      <td>...</td>\n",
       "      <td>...</td>\n",
       "      <td>...</td>\n",
       "      <td>...</td>\n",
       "      <td>...</td>\n",
       "      <td>...</td>\n",
       "      <td>...</td>\n",
       "      <td>...</td>\n",
       "      <td>...</td>\n",
       "      <td>...</td>\n",
       "      <td>...</td>\n",
       "      <td>...</td>\n",
       "      <td>...</td>\n",
       "      <td>...</td>\n",
       "      <td>...</td>\n",
       "      <td>...</td>\n",
       "      <td>...</td>\n",
       "      <td>...</td>\n",
       "      <td>...</td>\n",
       "      <td>...</td>\n",
       "      <td>...</td>\n",
       "      <td>...</td>\n",
       "      <td>...</td>\n",
       "      <td>...</td>\n",
       "      <td>...</td>\n",
       "      <td>...</td>\n",
       "      <td>...</td>\n",
       "      <td>...</td>\n",
       "      <td>...</td>\n",
       "      <td>...</td>\n",
       "      <td>...</td>\n",
       "    </tr>\n",
       "    <tr>\n",
       "      <th>46708</th>\n",
       "      <td>Glyma.09g124300</td>\n",
       "      <td>NaN</td>\n",
       "      <td>NaN</td>\n",
       "      <td>NaN</td>\n",
       "      <td>NaN</td>\n",
       "      <td>NaN</td>\n",
       "      <td>NaN</td>\n",
       "      <td>NaN</td>\n",
       "      <td>NaN</td>\n",
       "      <td>NaN</td>\n",
       "      <td>NaN</td>\n",
       "      <td>NaN</td>\n",
       "      <td>NaN</td>\n",
       "      <td>NaN</td>\n",
       "      <td>NaN</td>\n",
       "      <td>NaN</td>\n",
       "      <td>NaN</td>\n",
       "      <td>NaN</td>\n",
       "      <td>NaN</td>\n",
       "      <td>NaN</td>\n",
       "      <td>NaN</td>\n",
       "      <td>NaN</td>\n",
       "      <td>NaN</td>\n",
       "      <td>NaN</td>\n",
       "      <td>NaN</td>\n",
       "      <td>NaN</td>\n",
       "      <td>NaN</td>\n",
       "      <td>NaN</td>\n",
       "      <td>0.001567</td>\n",
       "      <td>0.0</td>\n",
       "      <td>2.0</td>\n",
       "      <td>0.001567</td>\n",
       "      <td>0.0</td>\n",
       "      <td>2.0</td>\n",
       "    </tr>\n",
       "    <tr>\n",
       "      <th>46709</th>\n",
       "      <td>Glyma.06g278900</td>\n",
       "      <td>NaN</td>\n",
       "      <td>NaN</td>\n",
       "      <td>NaN</td>\n",
       "      <td>NaN</td>\n",
       "      <td>NaN</td>\n",
       "      <td>NaN</td>\n",
       "      <td>NaN</td>\n",
       "      <td>NaN</td>\n",
       "      <td>NaN</td>\n",
       "      <td>NaN</td>\n",
       "      <td>NaN</td>\n",
       "      <td>NaN</td>\n",
       "      <td>NaN</td>\n",
       "      <td>NaN</td>\n",
       "      <td>NaN</td>\n",
       "      <td>NaN</td>\n",
       "      <td>NaN</td>\n",
       "      <td>NaN</td>\n",
       "      <td>NaN</td>\n",
       "      <td>NaN</td>\n",
       "      <td>NaN</td>\n",
       "      <td>NaN</td>\n",
       "      <td>NaN</td>\n",
       "      <td>NaN</td>\n",
       "      <td>NaN</td>\n",
       "      <td>NaN</td>\n",
       "      <td>NaN</td>\n",
       "      <td>0.314676</td>\n",
       "      <td>0.0</td>\n",
       "      <td>2.0</td>\n",
       "      <td>0.314676</td>\n",
       "      <td>0.0</td>\n",
       "      <td>2.0</td>\n",
       "    </tr>\n",
       "    <tr>\n",
       "      <th>46710</th>\n",
       "      <td>Glyma.06g278300</td>\n",
       "      <td>NaN</td>\n",
       "      <td>NaN</td>\n",
       "      <td>NaN</td>\n",
       "      <td>NaN</td>\n",
       "      <td>NaN</td>\n",
       "      <td>NaN</td>\n",
       "      <td>NaN</td>\n",
       "      <td>NaN</td>\n",
       "      <td>NaN</td>\n",
       "      <td>NaN</td>\n",
       "      <td>NaN</td>\n",
       "      <td>NaN</td>\n",
       "      <td>NaN</td>\n",
       "      <td>NaN</td>\n",
       "      <td>NaN</td>\n",
       "      <td>NaN</td>\n",
       "      <td>NaN</td>\n",
       "      <td>NaN</td>\n",
       "      <td>NaN</td>\n",
       "      <td>NaN</td>\n",
       "      <td>NaN</td>\n",
       "      <td>NaN</td>\n",
       "      <td>NaN</td>\n",
       "      <td>NaN</td>\n",
       "      <td>NaN</td>\n",
       "      <td>NaN</td>\n",
       "      <td>NaN</td>\n",
       "      <td>0.428495</td>\n",
       "      <td>1.0</td>\n",
       "      <td>1.0</td>\n",
       "      <td>0.428495</td>\n",
       "      <td>1.0</td>\n",
       "      <td>1.0</td>\n",
       "    </tr>\n",
       "    <tr>\n",
       "      <th>46711</th>\n",
       "      <td>Glyma.10g073000</td>\n",
       "      <td>NaN</td>\n",
       "      <td>NaN</td>\n",
       "      <td>NaN</td>\n",
       "      <td>NaN</td>\n",
       "      <td>NaN</td>\n",
       "      <td>NaN</td>\n",
       "      <td>NaN</td>\n",
       "      <td>NaN</td>\n",
       "      <td>NaN</td>\n",
       "      <td>NaN</td>\n",
       "      <td>NaN</td>\n",
       "      <td>NaN</td>\n",
       "      <td>NaN</td>\n",
       "      <td>NaN</td>\n",
       "      <td>NaN</td>\n",
       "      <td>NaN</td>\n",
       "      <td>NaN</td>\n",
       "      <td>NaN</td>\n",
       "      <td>NaN</td>\n",
       "      <td>NaN</td>\n",
       "      <td>NaN</td>\n",
       "      <td>NaN</td>\n",
       "      <td>NaN</td>\n",
       "      <td>NaN</td>\n",
       "      <td>NaN</td>\n",
       "      <td>NaN</td>\n",
       "      <td>NaN</td>\n",
       "      <td>0.028481</td>\n",
       "      <td>0.0</td>\n",
       "      <td>2.0</td>\n",
       "      <td>0.028481</td>\n",
       "      <td>0.0</td>\n",
       "      <td>2.0</td>\n",
       "    </tr>\n",
       "    <tr>\n",
       "      <th>46712</th>\n",
       "      <td>Glyma.04g116000</td>\n",
       "      <td>NaN</td>\n",
       "      <td>NaN</td>\n",
       "      <td>NaN</td>\n",
       "      <td>NaN</td>\n",
       "      <td>NaN</td>\n",
       "      <td>NaN</td>\n",
       "      <td>NaN</td>\n",
       "      <td>NaN</td>\n",
       "      <td>NaN</td>\n",
       "      <td>NaN</td>\n",
       "      <td>NaN</td>\n",
       "      <td>NaN</td>\n",
       "      <td>NaN</td>\n",
       "      <td>NaN</td>\n",
       "      <td>NaN</td>\n",
       "      <td>NaN</td>\n",
       "      <td>NaN</td>\n",
       "      <td>NaN</td>\n",
       "      <td>NaN</td>\n",
       "      <td>NaN</td>\n",
       "      <td>NaN</td>\n",
       "      <td>NaN</td>\n",
       "      <td>NaN</td>\n",
       "      <td>NaN</td>\n",
       "      <td>NaN</td>\n",
       "      <td>NaN</td>\n",
       "      <td>NaN</td>\n",
       "      <td>0.000948</td>\n",
       "      <td>0.0</td>\n",
       "      <td>2.0</td>\n",
       "      <td>0.000948</td>\n",
       "      <td>0.0</td>\n",
       "      <td>2.0</td>\n",
       "    </tr>\n",
       "  </tbody>\n",
       "</table>\n",
       "<p>46713 rows × 34 columns</p>\n",
       "</div>"
      ],
      "text/plain": [
       "                  gene  score_individual sig_flag_individual  \\\n",
       "0      Glyma.05g039900          0.161962                   2   \n",
       "1      Glyma.11g131900          0.115903                   1   \n",
       "2      Glyma.13g322100          0.110120                   1   \n",
       "3      Glyma.05g123700          0.111244                   1   \n",
       "4      Glyma.09g163300          0.119740                   1   \n",
       "...                ...               ...                 ...   \n",
       "46708  Glyma.09g124300               NaN                 NaN   \n",
       "46709  Glyma.06g278900               NaN                 NaN   \n",
       "46710  Glyma.06g278300               NaN                 NaN   \n",
       "46711  Glyma.10g073000               NaN                 NaN   \n",
       "46712  Glyma.04g116000               NaN                 NaN   \n",
       "\n",
       "      nonsig_flag_individual  score_kim2020 sig_flag_kim2020  \\\n",
       "0                          0            NaN              NaN   \n",
       "1                          0            NaN              NaN   \n",
       "2                          0            NaN              NaN   \n",
       "3                          0            NaN              NaN   \n",
       "4                          0            NaN              NaN   \n",
       "...                      ...            ...              ...   \n",
       "46708                    NaN            NaN              NaN   \n",
       "46709                    NaN            NaN              NaN   \n",
       "46710                    NaN            NaN              NaN   \n",
       "46711                    NaN            NaN              NaN   \n",
       "46712                    NaN            NaN              NaN   \n",
       "\n",
       "      nonsig_flag_kim2020  score_rodrigues2015 sig_flag_rodrigues2015  \\\n",
       "0                     NaN                  NaN                    NaN   \n",
       "1                     NaN                  NaN                    NaN   \n",
       "2                     NaN                  NaN                    NaN   \n",
       "3                     NaN                  NaN                    NaN   \n",
       "4                     NaN                  NaN                    NaN   \n",
       "...                   ...                  ...                    ...   \n",
       "46708                 NaN                  NaN                    NaN   \n",
       "46709                 NaN                  NaN                    NaN   \n",
       "46710                 NaN                  NaN                    NaN   \n",
       "46711                 NaN                  NaN                    NaN   \n",
       "46712                 NaN                  NaN                    NaN   \n",
       "\n",
       "      nonsig_flag_rodrigues2015  score_tripathi2016 sig_flag_tripathi2016  \\\n",
       "0                           NaN            0.127345                     1   \n",
       "1                           NaN                 NaN                   NaN   \n",
       "2                           NaN            0.096000                     1   \n",
       "3                           NaN                 NaN                   NaN   \n",
       "4                           NaN                 NaN                   NaN   \n",
       "...                         ...                 ...                   ...   \n",
       "46708                       NaN                 NaN                   NaN   \n",
       "46709                       NaN                 NaN                   NaN   \n",
       "46710                       NaN                 NaN                   NaN   \n",
       "46711                       NaN                 NaN                   NaN   \n",
       "46712                       NaN                 NaN                   NaN   \n",
       "\n",
       "      nonsig_flag_tripathi2016  score_wang2021 sig_flag_wang2021  \\\n",
       "0                            0        1.055032                 1   \n",
       "1                          NaN             NaN               NaN   \n",
       "2                            0             NaN               NaN   \n",
       "3                          NaN             NaN               NaN   \n",
       "4                          NaN             NaN               NaN   \n",
       "...                        ...             ...               ...   \n",
       "46708                      NaN             NaN               NaN   \n",
       "46709                      NaN             NaN               NaN   \n",
       "46710                      NaN             NaN               NaN   \n",
       "46711                      NaN             NaN               NaN   \n",
       "46712                      NaN             NaN               NaN   \n",
       "\n",
       "      nonsig_flag_wang2021  score_zhou2020 sig_flag_zhou2020  \\\n",
       "0                        0        0.807834                 1   \n",
       "1                      NaN             NaN               NaN   \n",
       "2                      NaN        0.684193                 1   \n",
       "3                      NaN        2.026026                 1   \n",
       "4                      NaN        0.498962                 1   \n",
       "...                    ...             ...               ...   \n",
       "46708                  NaN             NaN               NaN   \n",
       "46709                  NaN             NaN               NaN   \n",
       "46710                  NaN             NaN               NaN   \n",
       "46711                  NaN             NaN               NaN   \n",
       "46712                  NaN             NaN               NaN   \n",
       "\n",
       "      nonsig_flag_zhou2020  score_chen2016 sig_flag_chen2016  \\\n",
       "0                        0        0.391703                 1   \n",
       "1                      NaN             NaN               NaN   \n",
       "2                        0             NaN               NaN   \n",
       "3                        0             NaN               NaN   \n",
       "4                        0             NaN               NaN   \n",
       "...                    ...             ...               ...   \n",
       "46708                  NaN             NaN               NaN   \n",
       "46709                  NaN             NaN               NaN   \n",
       "46710                  NaN             NaN               NaN   \n",
       "46711                  NaN             NaN               NaN   \n",
       "46712                  NaN             NaN               NaN   \n",
       "\n",
       "      nonsig_flag_chen2016  score_leisner2017 sig_flag_leisner2017  \\\n",
       "0                        0           0.001801                    0   \n",
       "1                      NaN           0.002940                    0   \n",
       "2                      NaN           2.000000                    1   \n",
       "3                      NaN                NaN                  NaN   \n",
       "4                      NaN                NaN                  NaN   \n",
       "...                    ...                ...                  ...   \n",
       "46708                  NaN                NaN                  NaN   \n",
       "46709                  NaN                NaN                  NaN   \n",
       "46710                  NaN                NaN                  NaN   \n",
       "46711                  NaN                NaN                  NaN   \n",
       "46712                  NaN                NaN                  NaN   \n",
       "\n",
       "      nonsig_flag_leisner2017  score_shi2018 sig_flag_shi2018  \\\n",
       "0                           1       2.175267                1   \n",
       "1                           1            NaN              NaN   \n",
       "2                           0       0.444204                0   \n",
       "3                         NaN            NaN              NaN   \n",
       "4                         NaN            NaN              NaN   \n",
       "...                       ...            ...              ...   \n",
       "46708                     NaN            NaN              NaN   \n",
       "46709                     NaN            NaN              NaN   \n",
       "46710                     NaN            NaN              NaN   \n",
       "46711                     NaN            NaN              NaN   \n",
       "46712                     NaN            NaN              NaN   \n",
       "\n",
       "      nonsig_flag_shi2018  score_le2012  sig_flag_le2012  nonsig_flag_le2012  \\\n",
       "0                       0      0.762800              2.0                 0.0   \n",
       "1                     NaN      0.000954              0.0                 2.0   \n",
       "2                       1      0.005801              0.0                 2.0   \n",
       "3                     NaN      0.000599              0.0                 2.0   \n",
       "4                     NaN      0.006599              0.0                 2.0   \n",
       "...                   ...           ...              ...                 ...   \n",
       "46708                 NaN      0.001567              0.0                 2.0   \n",
       "46709                 NaN      0.314676              0.0                 2.0   \n",
       "46710                 NaN      0.428495              1.0                 1.0   \n",
       "46711                 NaN      0.028481              0.0                 2.0   \n",
       "46712                 NaN      0.000948              0.0                 2.0   \n",
       "\n",
       "       score_total  sigflag_total  nonsigflag_total  \n",
       "0         5.483744            9.0               1.0  \n",
       "1         0.119797            1.0               3.0  \n",
       "2         3.340318            4.0               3.0  \n",
       "3         2.137869            2.0               2.0  \n",
       "4         0.625300            2.0               2.0  \n",
       "...            ...            ...               ...  \n",
       "46708     0.001567            0.0               2.0  \n",
       "46709     0.314676            0.0               2.0  \n",
       "46710     0.428495            1.0               1.0  \n",
       "46711     0.028481            0.0               2.0  \n",
       "46712     0.000948            0.0               2.0  \n",
       "\n",
       "[46713 rows x 34 columns]"
      ]
     },
     "execution_count": 142,
     "metadata": {},
     "output_type": "execute_result"
    }
   ],
   "source": [
    "gene_score_total_exclude"
   ]
  },
  {
   "cell_type": "code",
   "execution_count": 143,
   "metadata": {
    "tags": []
   },
   "outputs": [
    {
     "data": {
      "text/plain": [
       "(array([3.6764e+04, 6.9910e+03, 1.8740e+03, 6.4100e+02, 2.4400e+02,\n",
       "        1.1300e+02, 4.4000e+01, 2.2000e+01, 1.3000e+01, 7.0000e+00]),\n",
       " array([3.82745201e-08, 3.07856399e+00, 6.15712794e+00, 9.23569189e+00,\n",
       "        1.23142558e+01, 1.53928198e+01, 1.84713837e+01, 2.15499477e+01,\n",
       "        2.46285116e+01, 2.77070756e+01, 3.07856395e+01]),\n",
       " <BarContainer object of 10 artists>)"
      ]
     },
     "execution_count": 143,
     "metadata": {},
     "output_type": "execute_result"
    },
    {
     "data": {
      "image/png": "[encoded data removed]",
      "text/plain": [
       "<Figure size 640x480 with 1 Axes>"
      ]
     },
     "metadata": {},
     "output_type": "display_data"
    }
   ],
   "source": [
    "plt.hist(gene_score_total_exclude['score_total'])"
   ]
  },
  {
   "cell_type": "code",
   "execution_count": 144,
   "metadata": {
    "tags": []
   },
   "outputs": [
    {
     "data": {
      "text/html": [
       "<div>\n",
       "<style scoped>\n",
       "    .dataframe tbody tr th:only-of-type {\n",
       "        vertical-align: middle;\n",
       "    }\n",
       "\n",
       "    .dataframe tbody tr th {\n",
       "        vertical-align: top;\n",
       "    }\n",
       "\n",
       "    .dataframe thead th {\n",
       "        text-align: right;\n",
       "    }\n",
       "</style>\n",
       "<table border=\"1\" class=\"dataframe\">\n",
       "  <thead>\n",
       "    <tr style=\"text-align: right;\">\n",
       "      <th></th>\n",
       "      <th>gene</th>\n",
       "      <th>score_individual</th>\n",
       "      <th>sig_flag_individual</th>\n",
       "      <th>nonsig_flag_individual</th>\n",
       "      <th>score_kim2020</th>\n",
       "      <th>sig_flag_kim2020</th>\n",
       "      <th>nonsig_flag_kim2020</th>\n",
       "      <th>score_rodrigues2015</th>\n",
       "      <th>sig_flag_rodrigues2015</th>\n",
       "      <th>nonsig_flag_rodrigues2015</th>\n",
       "      <th>score_tripathi2016</th>\n",
       "      <th>sig_flag_tripathi2016</th>\n",
       "      <th>nonsig_flag_tripathi2016</th>\n",
       "      <th>score_wang2021</th>\n",
       "      <th>sig_flag_wang2021</th>\n",
       "      <th>nonsig_flag_wang2021</th>\n",
       "      <th>score_zhou2020</th>\n",
       "      <th>sig_flag_zhou2020</th>\n",
       "      <th>nonsig_flag_zhou2020</th>\n",
       "      <th>score_chen2016</th>\n",
       "      <th>sig_flag_chen2016</th>\n",
       "      <th>nonsig_flag_chen2016</th>\n",
       "      <th>score_leisner2017</th>\n",
       "      <th>sig_flag_leisner2017</th>\n",
       "      <th>nonsig_flag_leisner2017</th>\n",
       "      <th>score_shi2018</th>\n",
       "      <th>sig_flag_shi2018</th>\n",
       "      <th>nonsig_flag_shi2018</th>\n",
       "      <th>score_le2012</th>\n",
       "      <th>sig_flag_le2012</th>\n",
       "      <th>nonsig_flag_le2012</th>\n",
       "      <th>score_total</th>\n",
       "      <th>sigflag_total</th>\n",
       "      <th>nonsigflag_total</th>\n",
       "    </tr>\n",
       "  </thead>\n",
       "  <tbody>\n",
       "    <tr>\n",
       "      <th>0</th>\n",
       "      <td>Glyma.05g039900</td>\n",
       "      <td>0.161962</td>\n",
       "      <td>2</td>\n",
       "      <td>0</td>\n",
       "      <td>NaN</td>\n",
       "      <td>NaN</td>\n",
       "      <td>NaN</td>\n",
       "      <td>NaN</td>\n",
       "      <td>NaN</td>\n",
       "      <td>NaN</td>\n",
       "      <td>0.127345</td>\n",
       "      <td>1</td>\n",
       "      <td>0</td>\n",
       "      <td>1.055032</td>\n",
       "      <td>1</td>\n",
       "      <td>0</td>\n",
       "      <td>0.807834</td>\n",
       "      <td>1</td>\n",
       "      <td>0</td>\n",
       "      <td>0.391703</td>\n",
       "      <td>1</td>\n",
       "      <td>0</td>\n",
       "      <td>0.001801</td>\n",
       "      <td>0</td>\n",
       "      <td>1</td>\n",
       "      <td>2.175267</td>\n",
       "      <td>1</td>\n",
       "      <td>0</td>\n",
       "      <td>0.762800</td>\n",
       "      <td>2.0</td>\n",
       "      <td>0.0</td>\n",
       "      <td>5.483744</td>\n",
       "      <td>9.0</td>\n",
       "      <td>1.0</td>\n",
       "    </tr>\n",
       "    <tr>\n",
       "      <th>1</th>\n",
       "      <td>Glyma.11g131900</td>\n",
       "      <td>0.115903</td>\n",
       "      <td>1</td>\n",
       "      <td>0</td>\n",
       "      <td>NaN</td>\n",
       "      <td>NaN</td>\n",
       "      <td>NaN</td>\n",
       "      <td>NaN</td>\n",
       "      <td>NaN</td>\n",
       "      <td>NaN</td>\n",
       "      <td>NaN</td>\n",
       "      <td>NaN</td>\n",
       "      <td>NaN</td>\n",
       "      <td>NaN</td>\n",
       "      <td>NaN</td>\n",
       "      <td>NaN</td>\n",
       "      <td>NaN</td>\n",
       "      <td>NaN</td>\n",
       "      <td>NaN</td>\n",
       "      <td>NaN</td>\n",
       "      <td>NaN</td>\n",
       "      <td>NaN</td>\n",
       "      <td>0.002940</td>\n",
       "      <td>0</td>\n",
       "      <td>1</td>\n",
       "      <td>NaN</td>\n",
       "      <td>NaN</td>\n",
       "      <td>NaN</td>\n",
       "      <td>0.000954</td>\n",
       "      <td>0.0</td>\n",
       "      <td>2.0</td>\n",
       "      <td>0.119797</td>\n",
       "      <td>1.0</td>\n",
       "      <td>3.0</td>\n",
       "    </tr>\n",
       "    <tr>\n",
       "      <th>2</th>\n",
       "      <td>Glyma.13g322100</td>\n",
       "      <td>0.110120</td>\n",
       "      <td>1</td>\n",
       "      <td>0</td>\n",
       "      <td>NaN</td>\n",
       "      <td>NaN</td>\n",
       "      <td>NaN</td>\n",
       "      <td>NaN</td>\n",
       "      <td>NaN</td>\n",
       "      <td>NaN</td>\n",
       "      <td>0.096000</td>\n",
       "      <td>1</td>\n",
       "      <td>0</td>\n",
       "      <td>NaN</td>\n",
       "      <td>NaN</td>\n",
       "      <td>NaN</td>\n",
       "      <td>0.684193</td>\n",
       "      <td>1</td>\n",
       "      <td>0</td>\n",
       "      <td>NaN</td>\n",
       "      <td>NaN</td>\n",
       "      <td>NaN</td>\n",
       "      <td>2.000000</td>\n",
       "      <td>1</td>\n",
       "      <td>0</td>\n",
       "      <td>0.444204</td>\n",
       "      <td>0</td>\n",
       "      <td>1</td>\n",
       "      <td>0.005801</td>\n",
       "      <td>0.0</td>\n",
       "      <td>2.0</td>\n",
       "      <td>3.340318</td>\n",
       "      <td>4.0</td>\n",
       "      <td>3.0</td>\n",
       "    </tr>\n",
       "    <tr>\n",
       "      <th>3</th>\n",
       "      <td>Glyma.05g123700</td>\n",
       "      <td>0.111244</td>\n",
       "      <td>1</td>\n",
       "      <td>0</td>\n",
       "      <td>NaN</td>\n",
       "      <td>NaN</td>\n",
       "      <td>NaN</td>\n",
       "      <td>NaN</td>\n",
       "      <td>NaN</td>\n",
       "      <td>NaN</td>\n",
       "      <td>NaN</td>\n",
       "      <td>NaN</td>\n",
       "      <td>NaN</td>\n",
       "      <td>NaN</td>\n",
       "      <td>NaN</td>\n",
       "      <td>NaN</td>\n",
       "      <td>2.026026</td>\n",
       "      <td>1</td>\n",
       "      <td>0</td>\n",
       "      <td>NaN</td>\n",
       "      <td>NaN</td>\n",
       "      <td>NaN</td>\n",
       "      <td>NaN</td>\n",
       "      <td>NaN</td>\n",
       "      <td>NaN</td>\n",
       "      <td>NaN</td>\n",
       "      <td>NaN</td>\n",
       "      <td>NaN</td>\n",
       "      <td>0.000599</td>\n",
       "      <td>0.0</td>\n",
       "      <td>2.0</td>\n",
       "      <td>2.137869</td>\n",
       "      <td>2.0</td>\n",
       "      <td>2.0</td>\n",
       "    </tr>\n",
       "    <tr>\n",
       "      <th>4</th>\n",
       "      <td>Glyma.09g163300</td>\n",
       "      <td>0.119740</td>\n",
       "      <td>1</td>\n",
       "      <td>0</td>\n",
       "      <td>NaN</td>\n",
       "      <td>NaN</td>\n",
       "      <td>NaN</td>\n",
       "      <td>NaN</td>\n",
       "      <td>NaN</td>\n",
       "      <td>NaN</td>\n",
       "      <td>NaN</td>\n",
       "      <td>NaN</td>\n",
       "      <td>NaN</td>\n",
       "      <td>NaN</td>\n",
       "      <td>NaN</td>\n",
       "      <td>NaN</td>\n",
       "      <td>0.498962</td>\n",
       "      <td>1</td>\n",
       "      <td>0</td>\n",
       "      <td>NaN</td>\n",
       "      <td>NaN</td>\n",
       "      <td>NaN</td>\n",
       "      <td>NaN</td>\n",
       "      <td>NaN</td>\n",
       "      <td>NaN</td>\n",
       "      <td>NaN</td>\n",
       "      <td>NaN</td>\n",
       "      <td>NaN</td>\n",
       "      <td>0.006599</td>\n",
       "      <td>0.0</td>\n",
       "      <td>2.0</td>\n",
       "      <td>0.625300</td>\n",
       "      <td>2.0</td>\n",
       "      <td>2.0</td>\n",
       "    </tr>\n",
       "  </tbody>\n",
       "</table>\n",
       "</div>"
      ],
      "text/plain": [
       "              gene  score_individual sig_flag_individual  \\\n",
       "0  Glyma.05g039900          0.161962                   2   \n",
       "1  Glyma.11g131900          0.115903                   1   \n",
       "2  Glyma.13g322100          0.110120                   1   \n",
       "3  Glyma.05g123700          0.111244                   1   \n",
       "4  Glyma.09g163300          0.119740                   1   \n",
       "\n",
       "  nonsig_flag_individual  score_kim2020 sig_flag_kim2020 nonsig_flag_kim2020  \\\n",
       "0                      0            NaN              NaN                 NaN   \n",
       "1                      0            NaN              NaN                 NaN   \n",
       "2                      0            NaN              NaN                 NaN   \n",
       "3                      0            NaN              NaN                 NaN   \n",
       "4                      0            NaN              NaN                 NaN   \n",
       "\n",
       "   score_rodrigues2015 sig_flag_rodrigues2015 nonsig_flag_rodrigues2015  \\\n",
       "0                  NaN                    NaN                       NaN   \n",
       "1                  NaN                    NaN                       NaN   \n",
       "2                  NaN                    NaN                       NaN   \n",
       "3                  NaN                    NaN                       NaN   \n",
       "4                  NaN                    NaN                       NaN   \n",
       "\n",
       "   score_tripathi2016 sig_flag_tripathi2016 nonsig_flag_tripathi2016  \\\n",
       "0            0.127345                     1                        0   \n",
       "1                 NaN                   NaN                      NaN   \n",
       "2            0.096000                     1                        0   \n",
       "3                 NaN                   NaN                      NaN   \n",
       "4                 NaN                   NaN                      NaN   \n",
       "\n",
       "   score_wang2021 sig_flag_wang2021 nonsig_flag_wang2021  score_zhou2020  \\\n",
       "0        1.055032                 1                    0        0.807834   \n",
       "1             NaN               NaN                  NaN             NaN   \n",
       "2             NaN               NaN                  NaN        0.684193   \n",
       "3             NaN               NaN                  NaN        2.026026   \n",
       "4             NaN               NaN                  NaN        0.498962   \n",
       "\n",
       "  sig_flag_zhou2020 nonsig_flag_zhou2020  score_chen2016 sig_flag_chen2016  \\\n",
       "0                 1                    0        0.391703                 1   \n",
       "1               NaN                  NaN             NaN               NaN   \n",
       "2                 1                    0             NaN               NaN   \n",
       "3                 1                    0             NaN               NaN   \n",
       "4                 1                    0             NaN               NaN   \n",
       "\n",
       "  nonsig_flag_chen2016  score_leisner2017 sig_flag_leisner2017  \\\n",
       "0                    0           0.001801                    0   \n",
       "1                  NaN           0.002940                    0   \n",
       "2                  NaN           2.000000                    1   \n",
       "3                  NaN                NaN                  NaN   \n",
       "4                  NaN                NaN                  NaN   \n",
       "\n",
       "  nonsig_flag_leisner2017  score_shi2018 sig_flag_shi2018 nonsig_flag_shi2018  \\\n",
       "0                       1       2.175267                1                   0   \n",
       "1                       1            NaN              NaN                 NaN   \n",
       "2                       0       0.444204                0                   1   \n",
       "3                     NaN            NaN              NaN                 NaN   \n",
       "4                     NaN            NaN              NaN                 NaN   \n",
       "\n",
       "   score_le2012  sig_flag_le2012  nonsig_flag_le2012  score_total  \\\n",
       "0      0.762800              2.0                 0.0     5.483744   \n",
       "1      0.000954              0.0                 2.0     0.119797   \n",
       "2      0.005801              0.0                 2.0     3.340318   \n",
       "3      0.000599              0.0                 2.0     2.137869   \n",
       "4      0.006599              0.0                 2.0     0.625300   \n",
       "\n",
       "   sigflag_total  nonsigflag_total  \n",
       "0            9.0               1.0  \n",
       "1            1.0               3.0  \n",
       "2            4.0               3.0  \n",
       "3            2.0               2.0  \n",
       "4            2.0               2.0  "
      ]
     },
     "execution_count": 144,
     "metadata": {},
     "output_type": "execute_result"
    }
   ],
   "source": [
    "gene_score_total_exclude.head()"
   ]
  },
  {
   "cell_type": "markdown",
   "metadata": {},
   "source": [
    "# L1: 20 < x <= max in [5, 6] #about 65\n",
    "# L2: 12 < x <= 20 in [4, 5] #about 413\n",
    "# L3: 7 < x <= 12 in [3, 4] #about 1711\n",
    "# L4: 4 < x <= 7 in [2, 3] #about 4445\n",
    "# L5: 2 < x <= 4 in [1, 2] #about 9888\n",
    "# L6: 0 < x <= 2 in [0, 1] #about 30191"
   ]
  },
  {
   "cell_type": "code",
   "execution_count": 145,
   "metadata": {
    "tags": []
   },
   "outputs": [
    {
     "data": {
      "text/plain": [
       "30193"
      ]
     },
     "execution_count": 145,
     "metadata": {},
     "output_type": "execute_result"
    }
   ],
   "source": [
    "cri1 = gene_score_total_exclude['score_total'] > 0\n",
    "cri2 = gene_score_total_exclude['score_total'] <= 2\n",
    "len(gene_score_total_exclude[cri1 & cri2])"
   ]
  },
  {
   "cell_type": "code",
   "execution_count": 146,
   "metadata": {
    "tags": []
   },
   "outputs": [],
   "source": [
    "# L1 scaling\n",
    "upper_b = 6\n",
    "lower_b = 5\n",
    "max_val = gene_score_total_exclude['score_total'].max()\n",
    "min_val = 20\n",
    "gene_score_total_exclude_L1 = gene_score_total_exclude[(gene_score_total_exclude['score_total'] > min_val) & (gene_score_total_exclude['score_total'] <= max_val)].reset_index().drop(['index'], axis = 1)\n",
    "\n",
    "gene_score_total_exclude_L1['score'] = gene_score_total_exclude_L1['score_total'].apply(scale_score, args = (upper_b, lower_b, max_val, min_val))"
   ]
  },
  {
   "cell_type": "code",
   "execution_count": 147,
   "metadata": {
    "tags": []
   },
   "outputs": [],
   "source": [
    "# L2 scaling\n",
    "upper_b = 5\n",
    "lower_b = 4\n",
    "max_val = 20\n",
    "min_val = 12\n",
    "gene_score_total_exclude_L2 = gene_score_total_exclude[(gene_score_total_exclude['score_total'] > min_val) & (gene_score_total_exclude['score_total'] <= max_val)].reset_index().drop(['index'], axis = 1)\n",
    "\n",
    "gene_score_total_exclude_L2['score'] = gene_score_total_exclude_L2['score_total'].apply(scale_score, args = (upper_b, lower_b, max_val, min_val))"
   ]
  },
  {
   "cell_type": "code",
   "execution_count": 148,
   "metadata": {
    "tags": []
   },
   "outputs": [],
   "source": [
    "# L3 scaling\n",
    "upper_b = 4\n",
    "lower_b = 3\n",
    "max_val = 12\n",
    "min_val = 7\n",
    "gene_score_total_exclude_L3 = gene_score_total_exclude[(gene_score_total_exclude['score_total'] > min_val) & (gene_score_total_exclude['score_total'] <= max_val)].reset_index().drop(['index'], axis = 1)\n",
    "\n",
    "gene_score_total_exclude_L3['score'] = gene_score_total_exclude_L3['score_total'].apply(scale_score, args = (upper_b, lower_b, max_val, min_val))"
   ]
  },
  {
   "cell_type": "code",
   "execution_count": 149,
   "metadata": {
    "tags": []
   },
   "outputs": [],
   "source": [
    "# L4 scaling\n",
    "upper_b = 3\n",
    "lower_b = 2\n",
    "max_val = 7\n",
    "min_val = 4\n",
    "gene_score_total_exclude_L4 = gene_score_total_exclude[(gene_score_total_exclude['score_total'] > min_val) & (gene_score_total_exclude['score_total'] <= max_val)].reset_index().drop(['index'], axis = 1)\n",
    "\n",
    "gene_score_total_exclude_L4['score'] = gene_score_total_exclude_L4['score_total'].apply(scale_score, args = (upper_b, lower_b, max_val, min_val))"
   ]
  },
  {
   "cell_type": "code",
   "execution_count": 150,
   "metadata": {
    "tags": []
   },
   "outputs": [],
   "source": [
    "# L5 scaling\n",
    "upper_b = 2\n",
    "lower_b = 1\n",
    "max_val = 4\n",
    "min_val = 2\n",
    "gene_score_total_exclude_L5 = gene_score_total_exclude[(gene_score_total_exclude['score_total'] > min_val) & (gene_score_total_exclude['score_total'] <= max_val)].reset_index().drop(['index'], axis = 1)\n",
    "\n",
    "gene_score_total_exclude_L5['score'] = gene_score_total_exclude_L5['score_total'].apply(scale_score, args = (upper_b, lower_b, max_val, min_val))"
   ]
  },
  {
   "cell_type": "code",
   "execution_count": 151,
   "metadata": {
    "tags": []
   },
   "outputs": [],
   "source": [
    "# L6 scaling\n",
    "upper_b = 1\n",
    "lower_b = 0\n",
    "max_val = 2\n",
    "min_val = 0\n",
    "gene_score_total_exclude_L6 = gene_score_total_exclude[(gene_score_total_exclude['score_total'] > min_val) & (gene_score_total_exclude['score_total'] <= max_val)].reset_index().drop(['index'], axis = 1)\n",
    "\n",
    "gene_score_total_exclude_L6['score'] = gene_score_total_exclude_L6['score_total'].apply(scale_score, args = (upper_b, lower_b, max_val, min_val))"
   ]
  },
  {
   "cell_type": "code",
   "execution_count": 152,
   "metadata": {
    "tags": []
   },
   "outputs": [],
   "source": [
    "gene_score_total_exclude_v1 = pd.concat([gene_score_total_exclude_L1, gene_score_total_exclude_L2, gene_score_total_exclude_L3, gene_score_total_exclude_L4, gene_score_total_exclude_L5, gene_score_total_exclude_L6]).reset_index().drop(['index'], axis = 1)"
   ]
  },
  {
   "cell_type": "code",
   "execution_count": 153,
   "metadata": {
    "tags": []
   },
   "outputs": [
    {
     "data": {
      "text/plain": [
       "(array([2.2506e+04, 1.0756e+04, 5.4780e+03, 3.8250e+03, 1.9590e+03,\n",
       "        1.3080e+03, 5.7300e+02, 2.2100e+02, 6.5000e+01, 2.2000e+01]),\n",
       " array([1.91372600e-08, 6.00000017e-01, 1.20000002e+00, 1.80000001e+00,\n",
       "        2.40000001e+00, 3.00000001e+00, 3.60000001e+00, 4.20000001e+00,\n",
       "        4.80000000e+00, 5.40000000e+00, 6.00000000e+00]),\n",
       " <BarContainer object of 10 artists>)"
      ]
     },
     "execution_count": 153,
     "metadata": {},
     "output_type": "execute_result"
    },
    {
     "data": {
      "image/png": "[encoded data removed]",
      "text/plain": [
       "<Figure size 640x480 with 1 Axes>"
      ]
     },
     "metadata": {},
     "output_type": "display_data"
    }
   ],
   "source": [
    "plt.hist(gene_score_total_exclude_v1['score'])"
   ]
  },
  {
   "cell_type": "code",
   "execution_count": 154,
   "metadata": {
    "tags": []
   },
   "outputs": [
    {
     "data": {
      "text/html": [
       "<div>\n",
       "<style scoped>\n",
       "    .dataframe tbody tr th:only-of-type {\n",
       "        vertical-align: middle;\n",
       "    }\n",
       "\n",
       "    .dataframe tbody tr th {\n",
       "        vertical-align: top;\n",
       "    }\n",
       "\n",
       "    .dataframe thead th {\n",
       "        text-align: right;\n",
       "    }\n",
       "</style>\n",
       "<table border=\"1\" class=\"dataframe\">\n",
       "  <thead>\n",
       "    <tr style=\"text-align: right;\">\n",
       "      <th></th>\n",
       "      <th>gene</th>\n",
       "      <th>score_individual</th>\n",
       "      <th>sig_flag_individual</th>\n",
       "      <th>nonsig_flag_individual</th>\n",
       "      <th>score_kim2020</th>\n",
       "      <th>sig_flag_kim2020</th>\n",
       "      <th>nonsig_flag_kim2020</th>\n",
       "      <th>score_rodrigues2015</th>\n",
       "      <th>sig_flag_rodrigues2015</th>\n",
       "      <th>nonsig_flag_rodrigues2015</th>\n",
       "      <th>score_tripathi2016</th>\n",
       "      <th>sig_flag_tripathi2016</th>\n",
       "      <th>nonsig_flag_tripathi2016</th>\n",
       "      <th>score_wang2021</th>\n",
       "      <th>sig_flag_wang2021</th>\n",
       "      <th>nonsig_flag_wang2021</th>\n",
       "      <th>score_zhou2020</th>\n",
       "      <th>sig_flag_zhou2020</th>\n",
       "      <th>nonsig_flag_zhou2020</th>\n",
       "      <th>score_chen2016</th>\n",
       "      <th>sig_flag_chen2016</th>\n",
       "      <th>nonsig_flag_chen2016</th>\n",
       "      <th>score_leisner2017</th>\n",
       "      <th>sig_flag_leisner2017</th>\n",
       "      <th>nonsig_flag_leisner2017</th>\n",
       "      <th>score_shi2018</th>\n",
       "      <th>sig_flag_shi2018</th>\n",
       "      <th>nonsig_flag_shi2018</th>\n",
       "      <th>score_le2012</th>\n",
       "      <th>sig_flag_le2012</th>\n",
       "      <th>nonsig_flag_le2012</th>\n",
       "      <th>score_total</th>\n",
       "      <th>sigflag_total</th>\n",
       "      <th>nonsigflag_total</th>\n",
       "      <th>score</th>\n",
       "    </tr>\n",
       "  </thead>\n",
       "  <tbody>\n",
       "    <tr>\n",
       "      <th>0</th>\n",
       "      <td>Glyma.06g154400</td>\n",
       "      <td>4.266194</td>\n",
       "      <td>6</td>\n",
       "      <td>0</td>\n",
       "      <td>4.561853</td>\n",
       "      <td>1</td>\n",
       "      <td>0</td>\n",
       "      <td>3.568934</td>\n",
       "      <td>1</td>\n",
       "      <td>0</td>\n",
       "      <td>0.822809</td>\n",
       "      <td>1</td>\n",
       "      <td>0</td>\n",
       "      <td>1.836406</td>\n",
       "      <td>1</td>\n",
       "      <td>0</td>\n",
       "      <td>NaN</td>\n",
       "      <td>NaN</td>\n",
       "      <td>NaN</td>\n",
       "      <td>1.481282</td>\n",
       "      <td>1</td>\n",
       "      <td>0</td>\n",
       "      <td>0.008873</td>\n",
       "      <td>1</td>\n",
       "      <td>0</td>\n",
       "      <td>2.615471</td>\n",
       "      <td>1</td>\n",
       "      <td>0</td>\n",
       "      <td>4.099220</td>\n",
       "      <td>2.0</td>\n",
       "      <td>0.0</td>\n",
       "      <td>23.261043</td>\n",
       "      <td>15.0</td>\n",
       "      <td>0.0</td>\n",
       "      <td>5.302350</td>\n",
       "    </tr>\n",
       "    <tr>\n",
       "      <th>1</th>\n",
       "      <td>Glyma.06g248900</td>\n",
       "      <td>3.429289</td>\n",
       "      <td>10</td>\n",
       "      <td>0</td>\n",
       "      <td>3.545640</td>\n",
       "      <td>1</td>\n",
       "      <td>0</td>\n",
       "      <td>0.697926</td>\n",
       "      <td>1</td>\n",
       "      <td>0</td>\n",
       "      <td>0.972343</td>\n",
       "      <td>1</td>\n",
       "      <td>0</td>\n",
       "      <td>6.000000</td>\n",
       "      <td>1</td>\n",
       "      <td>0</td>\n",
       "      <td>0.156669</td>\n",
       "      <td>1</td>\n",
       "      <td>0</td>\n",
       "      <td>2.368852</td>\n",
       "      <td>1</td>\n",
       "      <td>0</td>\n",
       "      <td>0.007053</td>\n",
       "      <td>0</td>\n",
       "      <td>1</td>\n",
       "      <td>4.077786</td>\n",
       "      <td>1</td>\n",
       "      <td>0</td>\n",
       "      <td>2.002691</td>\n",
       "      <td>2.0</td>\n",
       "      <td>0.0</td>\n",
       "      <td>23.258250</td>\n",
       "      <td>19.0</td>\n",
       "      <td>1.0</td>\n",
       "      <td>5.302091</td>\n",
       "    </tr>\n",
       "    <tr>\n",
       "      <th>2</th>\n",
       "      <td>Glyma.12g149100</td>\n",
       "      <td>3.999288</td>\n",
       "      <td>9</td>\n",
       "      <td>0</td>\n",
       "      <td>4.386931</td>\n",
       "      <td>1</td>\n",
       "      <td>0</td>\n",
       "      <td>0.603691</td>\n",
       "      <td>1</td>\n",
       "      <td>0</td>\n",
       "      <td>3.571205</td>\n",
       "      <td>1</td>\n",
       "      <td>0</td>\n",
       "      <td>0.759918</td>\n",
       "      <td>1</td>\n",
       "      <td>0</td>\n",
       "      <td>NaN</td>\n",
       "      <td>NaN</td>\n",
       "      <td>NaN</td>\n",
       "      <td>1.933510</td>\n",
       "      <td>1</td>\n",
       "      <td>0</td>\n",
       "      <td>0.003723</td>\n",
       "      <td>0</td>\n",
       "      <td>1</td>\n",
       "      <td>3.483614</td>\n",
       "      <td>1</td>\n",
       "      <td>0</td>\n",
       "      <td>1.743978</td>\n",
       "      <td>2.0</td>\n",
       "      <td>0.0</td>\n",
       "      <td>20.485857</td>\n",
       "      <td>17.0</td>\n",
       "      <td>1.0</td>\n",
       "      <td>5.045047</td>\n",
       "    </tr>\n",
       "    <tr>\n",
       "      <th>3</th>\n",
       "      <td>Glyma.12g221500</td>\n",
       "      <td>3.553189</td>\n",
       "      <td>11</td>\n",
       "      <td>0</td>\n",
       "      <td>3.838565</td>\n",
       "      <td>1</td>\n",
       "      <td>0</td>\n",
       "      <td>0.850625</td>\n",
       "      <td>1</td>\n",
       "      <td>0</td>\n",
       "      <td>2.926320</td>\n",
       "      <td>1</td>\n",
       "      <td>0</td>\n",
       "      <td>2.459262</td>\n",
       "      <td>1</td>\n",
       "      <td>0</td>\n",
       "      <td>0.148924</td>\n",
       "      <td>1</td>\n",
       "      <td>0</td>\n",
       "      <td>3.781446</td>\n",
       "      <td>1</td>\n",
       "      <td>0</td>\n",
       "      <td>0.005665</td>\n",
       "      <td>0</td>\n",
       "      <td>1</td>\n",
       "      <td>3.790016</td>\n",
       "      <td>1</td>\n",
       "      <td>0</td>\n",
       "      <td>4.916125</td>\n",
       "      <td>2.0</td>\n",
       "      <td>0.0</td>\n",
       "      <td>26.270136</td>\n",
       "      <td>20.0</td>\n",
       "      <td>1.0</td>\n",
       "      <td>5.581341</td>\n",
       "    </tr>\n",
       "    <tr>\n",
       "      <th>4</th>\n",
       "      <td>Glyma.13g279900</td>\n",
       "      <td>4.302588</td>\n",
       "      <td>8</td>\n",
       "      <td>0</td>\n",
       "      <td>3.771233</td>\n",
       "      <td>1</td>\n",
       "      <td>0</td>\n",
       "      <td>1.284644</td>\n",
       "      <td>1</td>\n",
       "      <td>0</td>\n",
       "      <td>1.233600</td>\n",
       "      <td>1</td>\n",
       "      <td>0</td>\n",
       "      <td>6.000000</td>\n",
       "      <td>1</td>\n",
       "      <td>0</td>\n",
       "      <td>NaN</td>\n",
       "      <td>NaN</td>\n",
       "      <td>NaN</td>\n",
       "      <td>3.494614</td>\n",
       "      <td>1</td>\n",
       "      <td>0</td>\n",
       "      <td>0.005758</td>\n",
       "      <td>0</td>\n",
       "      <td>1</td>\n",
       "      <td>3.970704</td>\n",
       "      <td>1</td>\n",
       "      <td>0</td>\n",
       "      <td>4.349258</td>\n",
       "      <td>2.0</td>\n",
       "      <td>0.0</td>\n",
       "      <td>28.412401</td>\n",
       "      <td>16.0</td>\n",
       "      <td>1.0</td>\n",
       "      <td>5.779963</td>\n",
       "    </tr>\n",
       "  </tbody>\n",
       "</table>\n",
       "</div>"
      ],
      "text/plain": [
       "              gene  score_individual sig_flag_individual  \\\n",
       "0  Glyma.06g154400          4.266194                   6   \n",
       "1  Glyma.06g248900          3.429289                  10   \n",
       "2  Glyma.12g149100          3.999288                   9   \n",
       "3  Glyma.12g221500          3.553189                  11   \n",
       "4  Glyma.13g279900          4.302588                   8   \n",
       "\n",
       "  nonsig_flag_individual  score_kim2020 sig_flag_kim2020 nonsig_flag_kim2020  \\\n",
       "0                      0       4.561853                1                   0   \n",
       "1                      0       3.545640                1                   0   \n",
       "2                      0       4.386931                1                   0   \n",
       "3                      0       3.838565                1                   0   \n",
       "4                      0       3.771233                1                   0   \n",
       "\n",
       "   score_rodrigues2015 sig_flag_rodrigues2015 nonsig_flag_rodrigues2015  \\\n",
       "0             3.568934                      1                         0   \n",
       "1             0.697926                      1                         0   \n",
       "2             0.603691                      1                         0   \n",
       "3             0.850625                      1                         0   \n",
       "4             1.284644                      1                         0   \n",
       "\n",
       "   score_tripathi2016 sig_flag_tripathi2016 nonsig_flag_tripathi2016  \\\n",
       "0            0.822809                     1                        0   \n",
       "1            0.972343                     1                        0   \n",
       "2            3.571205                     1                        0   \n",
       "3            2.926320                     1                        0   \n",
       "4            1.233600                     1                        0   \n",
       "\n",
       "   score_wang2021 sig_flag_wang2021 nonsig_flag_wang2021  score_zhou2020  \\\n",
       "0        1.836406                 1                    0             NaN   \n",
       "1        6.000000                 1                    0        0.156669   \n",
       "2        0.759918                 1                    0             NaN   \n",
       "3        2.459262                 1                    0        0.148924   \n",
       "4        6.000000                 1                    0             NaN   \n",
       "\n",
       "  sig_flag_zhou2020 nonsig_flag_zhou2020  score_chen2016 sig_flag_chen2016  \\\n",
       "0               NaN                  NaN        1.481282                 1   \n",
       "1                 1                    0        2.368852                 1   \n",
       "2               NaN                  NaN        1.933510                 1   \n",
       "3                 1                    0        3.781446                 1   \n",
       "4               NaN                  NaN        3.494614                 1   \n",
       "\n",
       "  nonsig_flag_chen2016  score_leisner2017 sig_flag_leisner2017  \\\n",
       "0                    0           0.008873                    1   \n",
       "1                    0           0.007053                    0   \n",
       "2                    0           0.003723                    0   \n",
       "3                    0           0.005665                    0   \n",
       "4                    0           0.005758                    0   \n",
       "\n",
       "  nonsig_flag_leisner2017  score_shi2018 sig_flag_shi2018 nonsig_flag_shi2018  \\\n",
       "0                       0       2.615471                1                   0   \n",
       "1                       1       4.077786                1                   0   \n",
       "2                       1       3.483614                1                   0   \n",
       "3                       1       3.790016                1                   0   \n",
       "4                       1       3.970704                1                   0   \n",
       "\n",
       "   score_le2012  sig_flag_le2012  nonsig_flag_le2012  score_total  \\\n",
       "0      4.099220              2.0                 0.0    23.261043   \n",
       "1      2.002691              2.0                 0.0    23.258250   \n",
       "2      1.743978              2.0                 0.0    20.485857   \n",
       "3      4.916125              2.0                 0.0    26.270136   \n",
       "4      4.349258              2.0                 0.0    28.412401   \n",
       "\n",
       "   sigflag_total  nonsigflag_total     score  \n",
       "0           15.0               0.0  5.302350  \n",
       "1           19.0               1.0  5.302091  \n",
       "2           17.0               1.0  5.045047  \n",
       "3           20.0               1.0  5.581341  \n",
       "4           16.0               1.0  5.779963  "
      ]
     },
     "execution_count": 154,
     "metadata": {},
     "output_type": "execute_result"
    }
   ],
   "source": [
    "gene_score_total_exclude_v1.head()"
   ]
  },
  {
   "cell_type": "code",
   "execution_count": 155,
   "metadata": {
    "tags": []
   },
   "outputs": [],
   "source": [
    "gene_score_total_exclude_v1.to_excel(r'C:\\Users\\edwar\\Desktop\\農藝\\paper2\\data collection\\rna_layer_final_exclude.xlsx', index = False)"
   ]
  },
  {
   "cell_type": "code",
   "execution_count": null,
   "metadata": {},
   "outputs": [],
   "source": []
  }
 ],
 "metadata": {
  "kernelspec": {
   "display_name": "Python 3 (ipykernel)",
   "language": "python",
   "name": "python3"
  },
  "language_info": {
   "codemirror_mode": {
    "name": "ipython",
    "version": 3
   },
   "file_extension": ".py",
   "mimetype": "text/x-python",
   "name": "python",
   "nbconvert_exporter": "python",
   "pygments_lexer": "ipython3",
   "version": "3.11.8"
  }
 },
 "nbformat": 4,
 "nbformat_minor": 4
}
