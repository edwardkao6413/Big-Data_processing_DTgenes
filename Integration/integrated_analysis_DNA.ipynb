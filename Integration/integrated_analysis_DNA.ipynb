{
 "cells": [
  {
   "cell_type": "code",
   "execution_count": 20,
   "metadata": {
    "tags": []
   },
   "outputs": [],
   "source": [
    "import pandas as pd\n",
    "import numpy as np\n",
    "pd.set_option('display.max_columns', 50)\n",
    "# pd.set_option('display.max_rows', 50)\n",
    "import tabula\n",
    "from pandasql import sqldf\n",
    "import math\n",
    "from scipy.stats import chi2\n",
    "from scipy import stats\n",
    "from matplotlib import pyplot as plt"
   ]
  },
  {
   "cell_type": "code",
   "execution_count": 2,
   "metadata": {
    "tags": []
   },
   "outputs": [],
   "source": [
    "dna_final = pd.read_excel(r'C:\\Users\\edwar\\Desktop\\農藝\\paper2\\data collection\\dna_layer_final.xlsx')\n",
    "rna_final = pd.read_excel(r'C:\\Users\\edwar\\Desktop\\農藝\\paper2\\data collection\\rna_layer_final.xlsx')\n",
    "rna_final_exclude = pd.read_excel(r'C:\\Users\\edwar\\Desktop\\農藝\\paper2\\data collection\\rna_layer_final_exclude.xlsx')\n",
    "prot_final = pd.read_excel(r'C:\\Users\\edwar\\Desktop\\農藝\\paper2\\data collection\\protein_layer_final.xlsx')\n",
    "func_final = pd.read_excel(r'C:\\Users\\edwar\\Desktop\\農藝\\paper2\\data collection\\function_layer_final.xlsx')\n",
    "epig_final = pd.read_excel(r'C:\\Users\\edwar\\Desktop\\農藝\\paper2\\data collection\\epigenomics_fv.xlsx')"
   ]
  },
  {
   "cell_type": "markdown",
   "metadata": {},
   "source": [
    "----- DNA as Val -----"
   ]
  },
  {
   "cell_type": "code",
   "execution_count": 3,
   "metadata": {
    "tags": []
   },
   "outputs": [
    {
     "data": {
      "text/html": [
       "<div>\n",
       "<style scoped>\n",
       "    .dataframe tbody tr th:only-of-type {\n",
       "        vertical-align: middle;\n",
       "    }\n",
       "\n",
       "    .dataframe tbody tr th {\n",
       "        vertical-align: top;\n",
       "    }\n",
       "\n",
       "    .dataframe thead th {\n",
       "        text-align: right;\n",
       "    }\n",
       "</style>\n",
       "<table border=\"1\" class=\"dataframe\">\n",
       "  <thead>\n",
       "    <tr style=\"text-align: right;\">\n",
       "      <th></th>\n",
       "      <th>gene</th>\n",
       "      <th>p_SD</th>\n",
       "      <th>p_LD</th>\n",
       "      <th>p_val</th>\n",
       "      <th>sig_flag</th>\n",
       "      <th>nonsig_flag</th>\n",
       "      <th>score_raw</th>\n",
       "    </tr>\n",
       "  </thead>\n",
       "  <tbody>\n",
       "    <tr>\n",
       "      <th>0</th>\n",
       "      <td>Glyma.01g000100</td>\n",
       "      <td>0.088000</td>\n",
       "      <td>0.066671</td>\n",
       "      <td>0.036014</td>\n",
       "      <td>0</td>\n",
       "      <td>2</td>\n",
       "      <td>1.443523</td>\n",
       "    </tr>\n",
       "    <tr>\n",
       "      <th>1</th>\n",
       "      <td>Glyma.01g000200</td>\n",
       "      <td>0.088000</td>\n",
       "      <td>0.045717</td>\n",
       "      <td>0.026213</td>\n",
       "      <td>1</td>\n",
       "      <td>1</td>\n",
       "      <td>1.581482</td>\n",
       "    </tr>\n",
       "    <tr>\n",
       "      <th>2</th>\n",
       "      <td>Glyma.01g000300</td>\n",
       "      <td>0.364076</td>\n",
       "      <td>0.045717</td>\n",
       "      <td>0.084814</td>\n",
       "      <td>1</td>\n",
       "      <td>1</td>\n",
       "      <td>1.071532</td>\n",
       "    </tr>\n",
       "    <tr>\n",
       "      <th>3</th>\n",
       "      <td>Glyma.01g000400</td>\n",
       "      <td>0.001046</td>\n",
       "      <td>0.022245</td>\n",
       "      <td>0.000271</td>\n",
       "      <td>2</td>\n",
       "      <td>0</td>\n",
       "      <td>3.566280</td>\n",
       "    </tr>\n",
       "    <tr>\n",
       "      <th>4</th>\n",
       "      <td>Glyma.01g000500</td>\n",
       "      <td>0.001046</td>\n",
       "      <td>0.022245</td>\n",
       "      <td>0.000271</td>\n",
       "      <td>2</td>\n",
       "      <td>0</td>\n",
       "      <td>3.566280</td>\n",
       "    </tr>\n",
       "  </tbody>\n",
       "</table>\n",
       "</div>"
      ],
      "text/plain": [
       "              gene      p_SD      p_LD     p_val  sig_flag  nonsig_flag  \\\n",
       "0  Glyma.01g000100  0.088000  0.066671  0.036014         0            2   \n",
       "1  Glyma.01g000200  0.088000  0.045717  0.026213         1            1   \n",
       "2  Glyma.01g000300  0.364076  0.045717  0.084814         1            1   \n",
       "3  Glyma.01g000400  0.001046  0.022245  0.000271         2            0   \n",
       "4  Glyma.01g000500  0.001046  0.022245  0.000271         2            0   \n",
       "\n",
       "   score_raw  \n",
       "0   1.443523  \n",
       "1   1.581482  \n",
       "2   1.071532  \n",
       "3   3.566280  \n",
       "4   3.566280  "
      ]
     },
     "execution_count": 3,
     "metadata": {},
     "output_type": "execute_result"
    }
   ],
   "source": [
    "val_data = pd.read_excel(r\"C:\\Users\\edwar\\Desktop\\農藝\\paper2\\data collection\\whole genome data\\complete\\GWAS\\Saleem-2022\\saleem2022_integration_v1.xlsx\")\n",
    "val_data.head()"
   ]
  },
  {
   "cell_type": "code",
   "execution_count": 4,
   "metadata": {
    "tags": []
   },
   "outputs": [],
   "source": [
    "val_data['-logP_SD'] = -np.log10(val_data['p_SD'])\n",
    "val_data['-logP_LD'] = -np.log10(val_data['p_LD'])\n",
    "val_data_v1 = val_data[['gene', '-logP_SD', '-logP_LD']]"
   ]
  },
  {
   "cell_type": "code",
   "execution_count": 5,
   "metadata": {
    "tags": []
   },
   "outputs": [
    {
     "data": {
      "text/html": [
       "<div>\n",
       "<style scoped>\n",
       "    .dataframe tbody tr th:only-of-type {\n",
       "        vertical-align: middle;\n",
       "    }\n",
       "\n",
       "    .dataframe tbody tr th {\n",
       "        vertical-align: top;\n",
       "    }\n",
       "\n",
       "    .dataframe thead th {\n",
       "        text-align: right;\n",
       "    }\n",
       "</style>\n",
       "<table border=\"1\" class=\"dataframe\">\n",
       "  <thead>\n",
       "    <tr style=\"text-align: right;\">\n",
       "      <th></th>\n",
       "      <th>gene</th>\n",
       "      <th>-logP_SD</th>\n",
       "      <th>-logP_LD</th>\n",
       "    </tr>\n",
       "  </thead>\n",
       "  <tbody>\n",
       "    <tr>\n",
       "      <th>0</th>\n",
       "      <td>Glyma.01g000100</td>\n",
       "      <td>1.055517</td>\n",
       "      <td>1.176061</td>\n",
       "    </tr>\n",
       "    <tr>\n",
       "      <th>1</th>\n",
       "      <td>Glyma.01g000200</td>\n",
       "      <td>1.055517</td>\n",
       "      <td>1.339926</td>\n",
       "    </tr>\n",
       "    <tr>\n",
       "      <th>2</th>\n",
       "      <td>Glyma.01g000300</td>\n",
       "      <td>0.438808</td>\n",
       "      <td>1.339926</td>\n",
       "    </tr>\n",
       "    <tr>\n",
       "      <th>3</th>\n",
       "      <td>Glyma.01g000400</td>\n",
       "      <td>2.980526</td>\n",
       "      <td>1.652771</td>\n",
       "    </tr>\n",
       "    <tr>\n",
       "      <th>4</th>\n",
       "      <td>Glyma.01g000500</td>\n",
       "      <td>2.980526</td>\n",
       "      <td>1.652771</td>\n",
       "    </tr>\n",
       "  </tbody>\n",
       "</table>\n",
       "</div>"
      ],
      "text/plain": [
       "              gene  -logP_SD  -logP_LD\n",
       "0  Glyma.01g000100  1.055517  1.176061\n",
       "1  Glyma.01g000200  1.055517  1.339926\n",
       "2  Glyma.01g000300  0.438808  1.339926\n",
       "3  Glyma.01g000400  2.980526  1.652771\n",
       "4  Glyma.01g000500  2.980526  1.652771"
      ]
     },
     "execution_count": 5,
     "metadata": {},
     "output_type": "execute_result"
    }
   ],
   "source": [
    "val_data_v1.head()"
   ]
  },
  {
   "cell_type": "code",
   "execution_count": 6,
   "metadata": {
    "tags": []
   },
   "outputs": [
    {
     "data": {
      "text/html": [
       "<div>\n",
       "<style scoped>\n",
       "    .dataframe tbody tr th:only-of-type {\n",
       "        vertical-align: middle;\n",
       "    }\n",
       "\n",
       "    .dataframe tbody tr th {\n",
       "        vertical-align: top;\n",
       "    }\n",
       "\n",
       "    .dataframe thead th {\n",
       "        text-align: right;\n",
       "    }\n",
       "</style>\n",
       "<table border=\"1\" class=\"dataframe\">\n",
       "  <thead>\n",
       "    <tr style=\"text-align: right;\">\n",
       "      <th></th>\n",
       "      <th>gene</th>\n",
       "      <th>score_individual</th>\n",
       "      <th>sig_flag_individual</th>\n",
       "      <th>nonsig_flag_individual</th>\n",
       "      <th>score_kim2020</th>\n",
       "      <th>sig_flag_kim2020</th>\n",
       "      <th>nonsig_flag_kim2020</th>\n",
       "      <th>score_rodrigues2015</th>\n",
       "      <th>sig_flag_rodrigues2015</th>\n",
       "      <th>nonsig_flag_rodrigues2015</th>\n",
       "      <th>score_tripathi2016</th>\n",
       "      <th>sig_flag_tripathi2016</th>\n",
       "      <th>nonsig_flag_tripathi2016</th>\n",
       "      <th>score_wang2021</th>\n",
       "      <th>sig_flag_wang2021</th>\n",
       "      <th>nonsig_flag_wang2021</th>\n",
       "      <th>score_zhou2020</th>\n",
       "      <th>sig_flag_zhou2020</th>\n",
       "      <th>nonsig_flag_zhou2020</th>\n",
       "      <th>score_chen2016</th>\n",
       "      <th>sig_flag_chen2016</th>\n",
       "      <th>nonsig_flag_chen2016</th>\n",
       "      <th>score_leisner2017</th>\n",
       "      <th>sig_flag_leisner2017</th>\n",
       "      <th>nonsig_flag_leisner2017</th>\n",
       "      <th>score_shi2018</th>\n",
       "      <th>sig_flag_shi2018</th>\n",
       "      <th>nonsig_flag_shi2018</th>\n",
       "      <th>score_le2012</th>\n",
       "      <th>sig_flag_le2012</th>\n",
       "      <th>nonsig_flag_le2012</th>\n",
       "      <th>score_tamang2021</th>\n",
       "      <th>sig_flag_tamang2021</th>\n",
       "      <th>nonsig_flag_tamang2021</th>\n",
       "      <th>score_shin2015</th>\n",
       "      <th>sig_flag_shin2015</th>\n",
       "      <th>nonsig_flag_shin2015</th>\n",
       "      <th>score_total</th>\n",
       "      <th>sigflag_total</th>\n",
       "      <th>nonsigflag_total</th>\n",
       "      <th>score</th>\n",
       "    </tr>\n",
       "  </thead>\n",
       "  <tbody>\n",
       "    <tr>\n",
       "      <th>0</th>\n",
       "      <td>Glyma.17g147600</td>\n",
       "      <td>3.564683</td>\n",
       "      <td>2.0</td>\n",
       "      <td>0.0</td>\n",
       "      <td>6.000000</td>\n",
       "      <td>1.0</td>\n",
       "      <td>0.0</td>\n",
       "      <td>NaN</td>\n",
       "      <td>NaN</td>\n",
       "      <td>NaN</td>\n",
       "      <td>2.114160</td>\n",
       "      <td>1.0</td>\n",
       "      <td>0.0</td>\n",
       "      <td>0.065492</td>\n",
       "      <td>1.0</td>\n",
       "      <td>0.0</td>\n",
       "      <td>NaN</td>\n",
       "      <td>NaN</td>\n",
       "      <td>NaN</td>\n",
       "      <td>NaN</td>\n",
       "      <td>NaN</td>\n",
       "      <td>NaN</td>\n",
       "      <td>0.005304</td>\n",
       "      <td>0.0</td>\n",
       "      <td>1.0</td>\n",
       "      <td>3.505604</td>\n",
       "      <td>1.0</td>\n",
       "      <td>0.0</td>\n",
       "      <td>2.920645</td>\n",
       "      <td>1.0</td>\n",
       "      <td>1.0</td>\n",
       "      <td>6.000000</td>\n",
       "      <td>2.0</td>\n",
       "      <td>0.0</td>\n",
       "      <td>2.599628</td>\n",
       "      <td>2.0</td>\n",
       "      <td>1.0</td>\n",
       "      <td>26.775517</td>\n",
       "      <td>3</td>\n",
       "      <td>2</td>\n",
       "      <td>5.112355</td>\n",
       "    </tr>\n",
       "    <tr>\n",
       "      <th>1</th>\n",
       "      <td>Glyma.11g170300</td>\n",
       "      <td>1.279767</td>\n",
       "      <td>3.0</td>\n",
       "      <td>0.0</td>\n",
       "      <td>1.956071</td>\n",
       "      <td>1.0</td>\n",
       "      <td>0.0</td>\n",
       "      <td>1.335171</td>\n",
       "      <td>1.0</td>\n",
       "      <td>0.0</td>\n",
       "      <td>0.730398</td>\n",
       "      <td>1.0</td>\n",
       "      <td>0.0</td>\n",
       "      <td>4.778160</td>\n",
       "      <td>1.0</td>\n",
       "      <td>0.0</td>\n",
       "      <td>NaN</td>\n",
       "      <td>NaN</td>\n",
       "      <td>NaN</td>\n",
       "      <td>NaN</td>\n",
       "      <td>NaN</td>\n",
       "      <td>NaN</td>\n",
       "      <td>0.017541</td>\n",
       "      <td>1.0</td>\n",
       "      <td>0.0</td>\n",
       "      <td>4.532616</td>\n",
       "      <td>1.0</td>\n",
       "      <td>0.0</td>\n",
       "      <td>1.377216</td>\n",
       "      <td>1.0</td>\n",
       "      <td>1.0</td>\n",
       "      <td>3.146451</td>\n",
       "      <td>2.0</td>\n",
       "      <td>0.0</td>\n",
       "      <td>6.000000</td>\n",
       "      <td>3.0</td>\n",
       "      <td>0.0</td>\n",
       "      <td>25.153391</td>\n",
       "      <td>4</td>\n",
       "      <td>1</td>\n",
       "      <td>5.009707</td>\n",
       "    </tr>\n",
       "    <tr>\n",
       "      <th>2</th>\n",
       "      <td>Glyma.06g154400</td>\n",
       "      <td>4.266194</td>\n",
       "      <td>6.0</td>\n",
       "      <td>0.0</td>\n",
       "      <td>4.561853</td>\n",
       "      <td>1.0</td>\n",
       "      <td>0.0</td>\n",
       "      <td>3.568934</td>\n",
       "      <td>1.0</td>\n",
       "      <td>0.0</td>\n",
       "      <td>0.822809</td>\n",
       "      <td>1.0</td>\n",
       "      <td>0.0</td>\n",
       "      <td>1.836406</td>\n",
       "      <td>1.0</td>\n",
       "      <td>0.0</td>\n",
       "      <td>NaN</td>\n",
       "      <td>NaN</td>\n",
       "      <td>NaN</td>\n",
       "      <td>1.481282</td>\n",
       "      <td>1.0</td>\n",
       "      <td>0.0</td>\n",
       "      <td>0.008873</td>\n",
       "      <td>1.0</td>\n",
       "      <td>0.0</td>\n",
       "      <td>2.615471</td>\n",
       "      <td>1.0</td>\n",
       "      <td>0.0</td>\n",
       "      <td>4.099220</td>\n",
       "      <td>2.0</td>\n",
       "      <td>0.0</td>\n",
       "      <td>2.915720</td>\n",
       "      <td>2.0</td>\n",
       "      <td>0.0</td>\n",
       "      <td>2.599628</td>\n",
       "      <td>2.0</td>\n",
       "      <td>1.0</td>\n",
       "      <td>28.776391</td>\n",
       "      <td>4</td>\n",
       "      <td>1</td>\n",
       "      <td>5.238970</td>\n",
       "    </tr>\n",
       "    <tr>\n",
       "      <th>3</th>\n",
       "      <td>Glyma.06g248900</td>\n",
       "      <td>3.429289</td>\n",
       "      <td>10.0</td>\n",
       "      <td>0.0</td>\n",
       "      <td>3.545640</td>\n",
       "      <td>1.0</td>\n",
       "      <td>0.0</td>\n",
       "      <td>0.697926</td>\n",
       "      <td>1.0</td>\n",
       "      <td>0.0</td>\n",
       "      <td>0.972343</td>\n",
       "      <td>1.0</td>\n",
       "      <td>0.0</td>\n",
       "      <td>6.000000</td>\n",
       "      <td>1.0</td>\n",
       "      <td>0.0</td>\n",
       "      <td>0.156669</td>\n",
       "      <td>1.0</td>\n",
       "      <td>0.0</td>\n",
       "      <td>2.368852</td>\n",
       "      <td>1.0</td>\n",
       "      <td>0.0</td>\n",
       "      <td>0.007053</td>\n",
       "      <td>0.0</td>\n",
       "      <td>1.0</td>\n",
       "      <td>4.077786</td>\n",
       "      <td>1.0</td>\n",
       "      <td>0.0</td>\n",
       "      <td>2.002691</td>\n",
       "      <td>2.0</td>\n",
       "      <td>0.0</td>\n",
       "      <td>2.464470</td>\n",
       "      <td>2.0</td>\n",
       "      <td>0.0</td>\n",
       "      <td>2.121680</td>\n",
       "      <td>3.0</td>\n",
       "      <td>0.0</td>\n",
       "      <td>27.844400</td>\n",
       "      <td>5</td>\n",
       "      <td>0</td>\n",
       "      <td>5.179994</td>\n",
       "    </tr>\n",
       "    <tr>\n",
       "      <th>4</th>\n",
       "      <td>Glyma.12g149100</td>\n",
       "      <td>3.999288</td>\n",
       "      <td>9.0</td>\n",
       "      <td>0.0</td>\n",
       "      <td>4.386931</td>\n",
       "      <td>1.0</td>\n",
       "      <td>0.0</td>\n",
       "      <td>0.603691</td>\n",
       "      <td>1.0</td>\n",
       "      <td>0.0</td>\n",
       "      <td>3.571205</td>\n",
       "      <td>1.0</td>\n",
       "      <td>0.0</td>\n",
       "      <td>0.759918</td>\n",
       "      <td>1.0</td>\n",
       "      <td>0.0</td>\n",
       "      <td>NaN</td>\n",
       "      <td>NaN</td>\n",
       "      <td>NaN</td>\n",
       "      <td>1.933510</td>\n",
       "      <td>1.0</td>\n",
       "      <td>0.0</td>\n",
       "      <td>0.003723</td>\n",
       "      <td>0.0</td>\n",
       "      <td>1.0</td>\n",
       "      <td>3.483614</td>\n",
       "      <td>1.0</td>\n",
       "      <td>0.0</td>\n",
       "      <td>1.743978</td>\n",
       "      <td>2.0</td>\n",
       "      <td>0.0</td>\n",
       "      <td>3.777563</td>\n",
       "      <td>2.0</td>\n",
       "      <td>0.0</td>\n",
       "      <td>3.212282</td>\n",
       "      <td>3.0</td>\n",
       "      <td>0.0</td>\n",
       "      <td>27.475702</td>\n",
       "      <td>5</td>\n",
       "      <td>0</td>\n",
       "      <td>5.156663</td>\n",
       "    </tr>\n",
       "  </tbody>\n",
       "</table>\n",
       "</div>"
      ],
      "text/plain": [
       "              gene  score_individual  sig_flag_individual  \\\n",
       "0  Glyma.17g147600          3.564683                  2.0   \n",
       "1  Glyma.11g170300          1.279767                  3.0   \n",
       "2  Glyma.06g154400          4.266194                  6.0   \n",
       "3  Glyma.06g248900          3.429289                 10.0   \n",
       "4  Glyma.12g149100          3.999288                  9.0   \n",
       "\n",
       "   nonsig_flag_individual  score_kim2020  sig_flag_kim2020  \\\n",
       "0                     0.0       6.000000               1.0   \n",
       "1                     0.0       1.956071               1.0   \n",
       "2                     0.0       4.561853               1.0   \n",
       "3                     0.0       3.545640               1.0   \n",
       "4                     0.0       4.386931               1.0   \n",
       "\n",
       "   nonsig_flag_kim2020  score_rodrigues2015  sig_flag_rodrigues2015  \\\n",
       "0                  0.0                  NaN                     NaN   \n",
       "1                  0.0             1.335171                     1.0   \n",
       "2                  0.0             3.568934                     1.0   \n",
       "3                  0.0             0.697926                     1.0   \n",
       "4                  0.0             0.603691                     1.0   \n",
       "\n",
       "   nonsig_flag_rodrigues2015  score_tripathi2016  sig_flag_tripathi2016  \\\n",
       "0                        NaN            2.114160                    1.0   \n",
       "1                        0.0            0.730398                    1.0   \n",
       "2                        0.0            0.822809                    1.0   \n",
       "3                        0.0            0.972343                    1.0   \n",
       "4                        0.0            3.571205                    1.0   \n",
       "\n",
       "   nonsig_flag_tripathi2016  score_wang2021  sig_flag_wang2021  \\\n",
       "0                       0.0        0.065492                1.0   \n",
       "1                       0.0        4.778160                1.0   \n",
       "2                       0.0        1.836406                1.0   \n",
       "3                       0.0        6.000000                1.0   \n",
       "4                       0.0        0.759918                1.0   \n",
       "\n",
       "   nonsig_flag_wang2021  score_zhou2020  sig_flag_zhou2020  \\\n",
       "0                   0.0             NaN                NaN   \n",
       "1                   0.0             NaN                NaN   \n",
       "2                   0.0             NaN                NaN   \n",
       "3                   0.0        0.156669                1.0   \n",
       "4                   0.0             NaN                NaN   \n",
       "\n",
       "   nonsig_flag_zhou2020  score_chen2016  sig_flag_chen2016  \\\n",
       "0                   NaN             NaN                NaN   \n",
       "1                   NaN             NaN                NaN   \n",
       "2                   NaN        1.481282                1.0   \n",
       "3                   0.0        2.368852                1.0   \n",
       "4                   NaN        1.933510                1.0   \n",
       "\n",
       "   nonsig_flag_chen2016  score_leisner2017  sig_flag_leisner2017  \\\n",
       "0                   NaN           0.005304                   0.0   \n",
       "1                   NaN           0.017541                   1.0   \n",
       "2                   0.0           0.008873                   1.0   \n",
       "3                   0.0           0.007053                   0.0   \n",
       "4                   0.0           0.003723                   0.0   \n",
       "\n",
       "   nonsig_flag_leisner2017  score_shi2018  sig_flag_shi2018  \\\n",
       "0                      1.0       3.505604               1.0   \n",
       "1                      0.0       4.532616               1.0   \n",
       "2                      0.0       2.615471               1.0   \n",
       "3                      1.0       4.077786               1.0   \n",
       "4                      1.0       3.483614               1.0   \n",
       "\n",
       "   nonsig_flag_shi2018  score_le2012  sig_flag_le2012  nonsig_flag_le2012  \\\n",
       "0                  0.0      2.920645              1.0                 1.0   \n",
       "1                  0.0      1.377216              1.0                 1.0   \n",
       "2                  0.0      4.099220              2.0                 0.0   \n",
       "3                  0.0      2.002691              2.0                 0.0   \n",
       "4                  0.0      1.743978              2.0                 0.0   \n",
       "\n",
       "   score_tamang2021  sig_flag_tamang2021  nonsig_flag_tamang2021  \\\n",
       "0          6.000000                  2.0                     0.0   \n",
       "1          3.146451                  2.0                     0.0   \n",
       "2          2.915720                  2.0                     0.0   \n",
       "3          2.464470                  2.0                     0.0   \n",
       "4          3.777563                  2.0                     0.0   \n",
       "\n",
       "   score_shin2015  sig_flag_shin2015  nonsig_flag_shin2015  score_total  \\\n",
       "0        2.599628                2.0                   1.0    26.775517   \n",
       "1        6.000000                3.0                   0.0    25.153391   \n",
       "2        2.599628                2.0                   1.0    28.776391   \n",
       "3        2.121680                3.0                   0.0    27.844400   \n",
       "4        3.212282                3.0                   0.0    27.475702   \n",
       "\n",
       "   sigflag_total  nonsigflag_total     score  \n",
       "0              3                 2  5.112355  \n",
       "1              4                 1  5.009707  \n",
       "2              4                 1  5.238970  \n",
       "3              5                 0  5.179994  \n",
       "4              5                 0  5.156663  "
      ]
     },
     "execution_count": 6,
     "metadata": {},
     "output_type": "execute_result"
    }
   ],
   "source": [
    "rna_final.head()"
   ]
  },
  {
   "cell_type": "code",
   "execution_count": 7,
   "metadata": {
    "tags": []
   },
   "outputs": [],
   "source": [
    "dna_final_v1 = dna_final[['gene', 'sigflag_total', 'nonsigflag_total', 'score_individual']]\n",
    "rna_final_v1 = rna_final[['gene', 'sigflag_total', 'nonsigflag_total', 'score']]\n",
    "prot_final_v1 = prot_final[['gene', 'sig_flag', 'nonsig_flag', 'score']]\n",
    "func_final_v1 = func_final[['gene', 'sig_flag', 'nonsig_flag', 'score']]\n",
    "epig_final_v1 = epig_final[['gene', 'sig_flag', 'nonsig_flag', 'score']]\n",
    "\n",
    "dna_final_v1 = dna_final_v1.rename(columns = {'sigflag_total':'sigflag_dna', 'nonsigflag_total':'nonsigflag_dna', 'score_individual':'score_dna'})\n",
    "dna_final_v1 = dna_final_v1[dna_final_v1['score_dna'].isna() == False].reset_index().drop(['index'], axis = 1)\n",
    "rna_final_v1 = rna_final_v1.rename(columns = {'sigflag_total':'sigflag_rna', 'nonsigflag_total':'nonsigflag_rna', 'score':'score_rna'})\n",
    "prot_final_v1 = prot_final_v1.rename(columns = {'sig_flag':'sigflag_protein', 'nonsig_flag':'nonsigflag_protein', 'score':'score_protein'})\n",
    "func_final_v1 = func_final_v1.rename(columns = {'sig_flag':'sigflag_function', 'nonsig_flag':'nonsigflag_function', 'score':'score_function'})\n",
    "epig_final_v1 = epig_final_v1.rename(columns = {'sig_flag':'sigflag_epigen', 'nonsig_flag':'nonsigflag_epigen', 'score':'score_epigen'})"
   ]
  },
  {
   "cell_type": "code",
   "execution_count": 8,
   "metadata": {
    "tags": []
   },
   "outputs": [],
   "source": [
    "dna_final_v1['sig_fv_dna'] = dna_final_v1['sigflag_dna'] - dna_final_v1['nonsigflag_dna']\n",
    "rna_final_v1['sig_fv_rna'] = rna_final_v1['sigflag_rna'] - rna_final_v1['nonsigflag_rna']\n",
    "prot_final_v1['sig_fv_protein'] = prot_final_v1['sigflag_protein'] - prot_final_v1['nonsigflag_protein']\n",
    "func_final_v1['sig_fv_function'] = func_final_v1['sigflag_function'] - func_final_v1['nonsigflag_function']\n",
    "epig_final_v1['sig_fv_epigen'] = epig_final_v1['sigflag_epigen'] - epig_final_v1['nonsigflag_epigen']\n",
    "\n",
    "dna_final_v1 = dna_final_v1.drop(['sigflag_dna', 'nonsigflag_dna'], axis = 1)\n",
    "rna_final_v1 = rna_final_v1.drop(['sigflag_rna', 'nonsigflag_rna'], axis = 1)\n",
    "prot_final_v1 = prot_final_v1.drop(['sigflag_protein', 'nonsigflag_protein'], axis = 1)\n",
    "func_final_v1 = func_final_v1.drop(['sigflag_function', 'nonsigflag_function'], axis = 1)\n",
    "epig_final_v1 = epig_final_v1.drop(['sigflag_epigen', 'nonsigflag_epigen'], axis = 1)\n",
    "\n",
    "dna_final_v1.loc[(dna_final_v1['sig_fv_dna'] > 0), 'sig_fv_dna'] = 0.2\n",
    "dna_final_v1.loc[(dna_final_v1['sig_fv_dna'] < 0), 'sig_fv_dna'] = -0.1\n",
    "dna_final_v1.loc[(dna_final_v1['sig_fv_dna'] == 0), 'sig_fv_dna'] = 0\n",
    "\n",
    "rna_final_v1.loc[(rna_final_v1['sig_fv_rna'] > 0), 'sig_fv_rna'] = 0.2\n",
    "rna_final_v1.loc[(rna_final_v1['sig_fv_rna'] < 0), 'sig_fv_rna'] = -0.1\n",
    "rna_final_v1.loc[(rna_final_v1['sig_fv_rna'] == 0), 'sig_fv_rna'] = 0\n",
    "\n",
    "prot_final_v1.loc[(prot_final_v1['sig_fv_protein'] > 0), 'sig_fv_protein'] = 0.2\n",
    "prot_final_v1.loc[(prot_final_v1['sig_fv_protein'] < 0), 'sig_fv_protein'] = -0.1\n",
    "prot_final_v1.loc[(prot_final_v1['sig_fv_protein'] == 0), 'sig_fv_protein'] = 0\n",
    "\n",
    "func_final_v1.loc[(func_final_v1['sig_fv_function'] > 0), 'sig_fv_function'] = 0.2\n",
    "func_final_v1.loc[(func_final_v1['sig_fv_function'] < 0), 'sig_fv_function'] = -0.1\n",
    "func_final_v1.loc[(func_final_v1['sig_fv_function'] == 0), 'sig_fv_function'] = 0\n",
    "\n",
    "epig_final_v1.loc[(epig_final_v1['sig_fv_epigen'] > 0), 'sig_fv_epigen'] = 0.2\n",
    "epig_final_v1.loc[(epig_final_v1['sig_fv_epigen'] < 0), 'sig_fv_epigen'] = -0.1\n",
    "epig_final_v1.loc[(epig_final_v1['sig_fv_epigen'] == 0), 'sig_fv_epigen'] = 0"
   ]
  },
  {
   "cell_type": "code",
   "execution_count": 9,
   "metadata": {
    "tags": []
   },
   "outputs": [],
   "source": [
    "data_final = dna_final_v1.merge(rna_final_v1, how = 'outer', on = ['gene']).merge(prot_final_v1, how = 'outer', on = ['gene']).merge(func_final_v1, how = 'outer', on = ['gene']).merge(epig_final_v1, how = 'outer', on = ['gene'])[['gene', 'score_dna', 'score_rna', 'score_protein', 'score_function', 'score_epigen', 'sig_fv_dna', 'sig_fv_rna', 'sig_fv_protein', 'sig_fv_function', 'sig_fv_epigen']]"
   ]
  },
  {
   "cell_type": "code",
   "execution_count": 10,
   "metadata": {
    "tags": []
   },
   "outputs": [],
   "source": [
    "data_final['score'] = data_final[['score_dna', 'score_rna', 'score_protein', 'score_function', 'score_epigen']].sum(axis = 1)\n",
    "data_final['weight'] = data_final[['sig_fv_dna', 'sig_fv_rna', 'sig_fv_protein', 'sig_fv_function', 'sig_fv_epigen']].sum(axis = 1)\n",
    "data_final['weight'] = 1 + data_final['weight']"
   ]
  },
  {
   "cell_type": "code",
   "execution_count": 11,
   "metadata": {
    "tags": []
   },
   "outputs": [],
   "source": [
    "data_final['dna_flag'] = ''\n",
    "data_final['rna_flag'] = ''\n",
    "data_final['protein_flag'] = ''\n",
    "data_final['function_flag'] = ''\n",
    "data_final['epigen_flag'] = ''\n",
    "data_final.loc[(data_final['score_dna'].isna() == False), 'dna_flag'] = 1\n",
    "data_final.loc[(data_final['score_dna'].isna()), 'dna_flag'] = 0\n",
    "data_final.loc[(data_final['score_rna'].isna() == False), 'rna_flag'] = 1\n",
    "data_final.loc[(data_final['score_rna'].isna()), 'rna_flag'] = 0\n",
    "data_final.loc[(data_final['score_protein'].isna() == False), 'protein_flag'] = 1\n",
    "data_final.loc[(data_final['score_protein'].isna()), 'protein_flag'] = 0\n",
    "data_final.loc[(data_final['score_function'].isna() == False), 'function_flag'] = 1\n",
    "data_final.loc[(data_final['score_function'].isna()), 'function_flag'] = 0\n",
    "data_final.loc[(data_final['score_epigen'].isna() == False), 'epigen_flag'] = 1\n",
    "data_final.loc[(data_final['score_epigen'].isna()), 'epigen_flag'] = 0\n",
    "\n",
    "data_final['total_layers'] = data_final['dna_flag'] + data_final['rna_flag'] + data_final['protein_flag'] + data_final['function_flag'] + data_final['epigen_flag']"
   ]
  },
  {
   "cell_type": "code",
   "execution_count": 12,
   "metadata": {
    "tags": []
   },
   "outputs": [],
   "source": [
    "data_final['weight_score'] = data_final['score'] * data_final['weight']\n",
    "data_final = data_final.rename(columns = {'score':'unweight_score'})"
   ]
  },
  {
   "cell_type": "code",
   "execution_count": 13,
   "metadata": {
    "tags": []
   },
   "outputs": [],
   "source": [
    "dataf_w = data_final.sort_values(['weight_score'], ascending = False).reset_index().drop(['index'], axis = 1)\n",
    "dataf_uw = data_final.sort_values(['unweight_score'], ascending = False).reset_index().drop(['index'], axis = 1)"
   ]
  },
  {
   "cell_type": "code",
   "execution_count": 14,
   "metadata": {
    "tags": []
   },
   "outputs": [],
   "source": [
    "dataf_w = dataf_w.drop_duplicates(['gene']).reset_index().drop(['index'], axis = 1)\n",
    "dataf_uw = dataf_uw.drop_duplicates(['gene']).reset_index().drop(['index'], axis = 1)"
   ]
  },
  {
   "cell_type": "code",
   "execution_count": 23,
   "metadata": {
    "tags": []
   },
   "outputs": [],
   "source": [
    "# writer = pd.ExcelWriter(r'C:\\Users\\edwar\\Desktop\\農藝\\paper2\\data collection\\integrated_results_RNAinside.xlsx')\n",
    "# dataf_w.to_excel(writer, sheet_name = 'weighted', index = False)\n",
    "# dataf_uw.to_excel(writer, sheet_name = 'unweighted', index = False)\n",
    "# writer.close()"
   ]
  },
  {
   "cell_type": "code",
   "execution_count": 29,
   "metadata": {
    "tags": []
   },
   "outputs": [],
   "source": [
    "n = 135  # uw_score = 10.4 available; w_score > 14.63 available\n",
    "gene_list_uw = list(dataf_uw.iloc[:n]['gene'])\n",
    "gene_list_w = list(dataf_w.iloc[:n]['gene'])"
   ]
  },
  {
   "cell_type": "code",
   "execution_count": 30,
   "metadata": {
    "tags": []
   },
   "outputs": [
    {
     "name": "stdout",
     "output_type": "stream",
     "text": [
      "short-term p uw: 0.05548504033994315\n",
      "short-term p w: 0.034738747555058104\n"
     ]
    }
   ],
   "source": [
    "# short-term\n",
    "p_val = stats.ranksums(list(val_data_v1[val_data_v1['gene'].isin(gene_list_uw)]['-logP_SD']), val_data_v1['-logP_SD'], alternative = 'greater')[1]\n",
    "print('short-term p uw:', p_val)\n",
    "\n",
    "p_val = stats.ranksums(list(val_data_v1[val_data_v1['gene'].isin(gene_list_w)]['-logP_SD']), val_data_v1['-logP_SD'], alternative = 'greater')[1]\n",
    "print('short-term p w:', p_val)"
   ]
  },
  {
   "cell_type": "code",
   "execution_count": 31,
   "metadata": {
    "tags": []
   },
   "outputs": [
    {
     "name": "stdout",
     "output_type": "stream",
     "text": [
      "short-term p uw: 0.10334022613944446\n",
      "short-term p w: 0.014419001969739925\n"
     ]
    }
   ],
   "source": [
    "p_val = stats.ttest_ind(list(val_data_v1[val_data_v1['gene'].isin(gene_list_uw)]['-logP_SD']), val_data_v1['-logP_SD'], alternative = 'greater')[1]\n",
    "print('short-term p uw:', p_val)\n",
    "\n",
    "p_val = stats.ttest_ind(list(val_data_v1[val_data_v1['gene'].isin(gene_list_w)]['-logP_SD']), val_data_v1['-logP_SD'], alternative = 'greater')[1]\n",
    "print('short-term p w:', p_val)"
   ]
  },
  {
   "cell_type": "code",
   "execution_count": 32,
   "metadata": {
    "tags": []
   },
   "outputs": [
    {
     "name": "stdout",
     "output_type": "stream",
     "text": [
      "short-term p uw: 0.029193907526818975\n",
      "short-term p w: 0.008673821764324683\n"
     ]
    }
   ],
   "source": [
    "# long-term\n",
    "p_val = stats.ranksums(list(val_data_v1[val_data_v1['gene'].isin(gene_list_uw)]['-logP_LD']), val_data_v1['-logP_LD'], alternative = 'greater')[1]\n",
    "print('short-term p uw:', p_val)\n",
    "\n",
    "p_val = stats.ranksums(list(val_data_v1[val_data_v1['gene'].isin(gene_list_w)]['-logP_LD']), val_data_v1['-logP_LD'], alternative = 'greater')[1]\n",
    "print('short-term p w:', p_val)"
   ]
  },
  {
   "cell_type": "code",
   "execution_count": 33,
   "metadata": {
    "tags": []
   },
   "outputs": [
    {
     "name": "stdout",
     "output_type": "stream",
     "text": [
      "short-term p uw: 0.1512543858366319\n",
      "short-term p w: 0.11251679898874205\n"
     ]
    }
   ],
   "source": [
    "p_val = stats.ttest_ind(list(val_data_v1[val_data_v1['gene'].isin(gene_list_uw)]['-logP_LD']), val_data_v1['-logP_LD'], alternative = 'greater')[1]\n",
    "print('short-term p uw:', p_val)\n",
    "\n",
    "p_val = stats.ttest_ind(list(val_data_v1[val_data_v1['gene'].isin(gene_list_w)]['-logP_LD']), val_data_v1['-logP_LD'], alternative = 'greater')[1]\n",
    "print('short-term p w:', p_val)"
   ]
  },
  {
   "cell_type": "code",
   "execution_count": null,
   "metadata": {},
   "outputs": [],
   "source": []
  },
  {
   "cell_type": "code",
   "execution_count": null,
   "metadata": {},
   "outputs": [],
   "source": []
  },
  {
   "cell_type": "code",
   "execution_count": null,
   "metadata": {},
   "outputs": [],
   "source": []
  }
 ],
 "metadata": {
  "kernelspec": {
   "display_name": "Python 3 (ipykernel)",
   "language": "python",
   "name": "python3"
  },
  "language_info": {
   "codemirror_mode": {
    "name": "ipython",
    "version": 3
   },
   "file_extension": ".py",
   "mimetype": "text/x-python",
   "name": "python",
   "nbconvert_exporter": "python",
   "pygments_lexer": "ipython3",
   "version": "3.11.8"
  }
 },
 "nbformat": 4,
 "nbformat_minor": 4
}
