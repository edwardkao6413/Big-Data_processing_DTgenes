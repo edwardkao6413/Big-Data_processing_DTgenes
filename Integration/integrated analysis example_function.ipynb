{
 "cells": [
  {
   "cell_type": "code",
   "execution_count": 26,
   "metadata": {
    "tags": []
   },
   "outputs": [],
   "source": [
    "import pandas as pd\n",
    "import numpy as np\n",
    "pd.set_option('display.max_columns', 50)\n",
    "# pd.set_option('display.max_rows', 50)\n",
    "import tabula\n",
    "from pandasql import sqldf\n",
    "import math\n",
    "from scipy.stats import chi2\n",
    "from scipy import stats\n",
    "from matplotlib import pyplot as plt"
   ]
  },
  {
   "cell_type": "markdown",
   "metadata": {},
   "source": [
    "------Function Layer---------"
   ]
  },
  {
   "cell_type": "code",
   "execution_count": 2,
   "metadata": {
    "tags": []
   },
   "outputs": [],
   "source": [
    "# individual data\n",
    "func_layer = pd.read_excel(r'C:\\Users\\edwar\\Desktop\\農藝\\paper2\\metaData_soybean_drought.xlsx', sheet_name = 'Function')\n",
    "\n",
    "# whole genome data\n",
    "xuan_2022 = pd.read_excel(r'C:\\Users\\edwar\\Desktop\\農藝\\paper2\\data collection\\whole genome data\\incomplete\\pathway\\Xuan-2022\\Xuan2022_iwgd.xlsx')"
   ]
  },
  {
   "cell_type": "code",
   "execution_count": 3,
   "metadata": {
    "tags": []
   },
   "outputs": [],
   "source": [
    "func_layer = pd.concat([func_layer, xuan_2022]).reset_index().drop(['index'], axis = 1)"
   ]
  },
  {
   "cell_type": "code",
   "execution_count": 4,
   "metadata": {
    "tags": []
   },
   "outputs": [],
   "source": [
    "# import template\n",
    "template_a2v2 = pd.read_csv(r'C:\\Users\\edwar\\Desktop\\農藝\\paper2\\Glyma2.0_mapping.txt', delimiter = '\\t')\n",
    "template_a1v11 = pd.read_csv(r'C:\\Users\\edwar\\Desktop\\農藝\\paper2\\Glyma1.1_mapping.txt', delimiter = '\\t')\n",
    "template_a1v10 = pd.read_csv(r'C:\\Users\\edwar\\Desktop\\農藝\\paper2\\Glyma1.0_mapping.txt', delimiter = '\\t')"
   ]
  },
  {
   "cell_type": "code",
   "execution_count": 5,
   "metadata": {
    "tags": []
   },
   "outputs": [],
   "source": [
    "# Wang et al., (2022) need score rescale\n",
    "gene_data_score = func_layer[func_layer['score'].isna() == False].reset_index().drop(['index'], axis = 1)[['methodology', 'mapped_gene', 'p', 'score', 'Pathways', 'gene_version', 'article_name']]\n",
    "gene_data_p = func_layer[func_layer['p'].isna() == False].reset_index().drop(['index'], axis = 1)[['methodology', 'mapped_gene', 'p', 'score', 'Pathways', 'gene_version', 'article_name']]"
   ]
  },
  {
   "cell_type": "code",
   "execution_count": 6,
   "metadata": {
    "tags": []
   },
   "outputs": [
    {
     "name": "stdout",
     "output_type": "stream",
     "text": [
      "1\n",
      "2\n"
     ]
    }
   ],
   "source": [
    "# 處理 p 值資料\n",
    "article_list_p = list(gene_data_p['article_name'].unique())\n",
    "gene_score_data_p = pd.DataFrame()\n",
    "\n",
    "count = 0\n",
    "for article in article_list_p:\n",
    "    gene_data_article_p = gene_data_p[gene_data_p['article_name'] == article]\n",
    "    gene_list = list(gene_data_article_p['mapped_gene'].unique())\n",
    "    \n",
    "    for gene in gene_list:\n",
    "        df_gene = gene_data_article_p[gene_data_article_p['mapped_gene'] == gene].reset_index().drop(['index'], axis = 1)\n",
    "        \n",
    "        if len(df_gene['mapped_gene']) > 1:\n",
    "            df_gene_v1 = pd.DataFrame()\n",
    "            p_values = list(df_gene['p'])\n",
    "            p_value = stats.combine_pvalues(p_values, method = 'fisher')[1]\n",
    "            df_gene_v1['mapped_gene'] = df_gene['mapped_gene'].unique()\n",
    "            df_gene_v1['p'] = p_value\n",
    "            df_gene_v1['Pathways'] = str(df_gene['Pathways'].unique()).replace('[', '').replace(']', '').replace(\"'\", \"\")\n",
    "            df_gene_v1['gene_version'] = df_gene['gene_version'].unique()\n",
    "            df_gene_v1['article_name'] = df_gene['article_name'].unique()\n",
    "            gene_score_data_p = pd.concat([gene_score_data_p, df_gene_v1]).reset_index().drop(['index'], axis = 1)\n",
    "            \n",
    "        else:\n",
    "            gene_score_data_p = pd.concat([gene_score_data_p, df_gene]).reset_index().drop(['index'], axis = 1)\n",
    "            \n",
    "    count += 1\n",
    "    print(count)"
   ]
  },
  {
   "cell_type": "code",
   "execution_count": 7,
   "metadata": {
    "tags": []
   },
   "outputs": [],
   "source": [
    "gene_score_data_p.columns = ['methodology', 'gene', 'p', 'score', 'Pathways', 'gene_version', 'article_name']"
   ]
  },
  {
   "cell_type": "code",
   "execution_count": 8,
   "metadata": {},
   "outputs": [],
   "source": [
    "# 判別各基因的顯著與否\n",
    "p_thres = 0.05\n",
    "gene_score_data_p['sig_flag'] = ''\n",
    "gene_score_data_p['nonsig_flag'] = ''\n",
    "gene_score_data_p.loc[(gene_score_data_p['p'] < p_thres), 'sig_flag'] = 1\n",
    "gene_score_data_p.loc[(gene_score_data_p['p'] >= p_thres), 'sig_flag'] = 0\n",
    "\n",
    "gene_score_data_p.loc[(gene_score_data_p['p'] < p_thres), 'nonsig_flag'] = 0\n",
    "gene_score_data_p.loc[(gene_score_data_p['p'] >= p_thres), 'nonsig_flag'] = 1"
   ]
  },
  {
   "cell_type": "code",
   "execution_count": 10,
   "metadata": {
    "collapsed": true,
    "jupyter": {
     "outputs_hidden": true
    }
   },
   "outputs": [
    {
     "name": "stdout",
     "output_type": "stream",
     "text": [
      "100\n",
      "200\n",
      "300\n",
      "400\n",
      "500\n",
      "600\n",
      "700\n",
      "800\n"
     ]
    }
   ],
   "source": [
    "# gene_list = list(gene_score_data_p['gene'].unique())\n",
    "# gene_score_data_p_v1 = pd.DataFrame()\n",
    "\n",
    "# count = 0\n",
    "# for gene in gene_list:\n",
    "#     df_gene = gene_score_data_p[gene_score_data_p['gene'] == gene].reset_index().drop(['index'], axis = 1)\n",
    "#     df_gene['sig_flag_fv'] = ''\n",
    "    \n",
    "#     if df_gene['sig_flag'].sum() > df_gene['nonsig_flag'].sum():\n",
    "#         df_gene['sig_flag_fv'] = '1'\n",
    "    \n",
    "#     elif df_gene['sig_flag'].sum() == df_gene['nonsig_flag'].sum():\n",
    "#         df_gene['sig_flag_fv'] = '0'\n",
    "        \n",
    "#     elif df_gene['sig_flag'].sum() < df_gene['nonsig_flag'].sum():\n",
    "#         df_gene['sig_flag_fv'] = '-1'\n",
    "        \n",
    "#     gene_score_data_p_v1 = pd.concat([gene_score_data_p_v1, df_gene]).reset_index().drop(['index'], axis = 1)\n",
    "    \n",
    "#     count += 1\n",
    "#     if count % 100 == 0:\n",
    "#         print(count)\n",
    "    "
   ]
  },
  {
   "cell_type": "code",
   "execution_count": 30,
   "metadata": {
    "tags": []
   },
   "outputs": [],
   "source": [
    "# pd.DataFrame(gene_score_data_p['gene'].value_counts()[:400]).reset_index().rename(columns = {'gene':'counts', 'index':'gene'}).to_excel(r'C:\\Users\\edwar\\Downloads\\function_genes.xlsx', index = False)"
   ]
  },
  {
   "cell_type": "code",
   "execution_count": 10,
   "metadata": {},
   "outputs": [
    {
     "data": {
      "text/plain": [
       "set()"
      ]
     },
     "execution_count": 10,
     "metadata": {},
     "output_type": "execute_result"
    }
   ],
   "source": [
    "set(gene_score_data_p['gene']) & set(gene_data_score['mapped_gene'])"
   ]
  },
  {
   "cell_type": "code",
   "execution_count": null,
   "metadata": {},
   "outputs": [],
   "source": []
  },
  {
   "cell_type": "code",
   "execution_count": 11,
   "metadata": {},
   "outputs": [
    {
     "name": "stdout",
     "output_type": "stream",
     "text": [
      "100\n",
      "200\n",
      "300\n",
      "400\n",
      "500\n",
      "600\n",
      "700\n",
      "800\n"
     ]
    }
   ],
   "source": [
    "gene_list = list(gene_score_data_p['gene'].unique())\n",
    "gene_score_data_p_v1 = pd.DataFrame()\n",
    "\n",
    "count = 0\n",
    "for gene in gene_list:\n",
    "    df_gene = gene_score_data_p[gene_score_data_p['gene'] == gene].reset_index().drop(['index'], axis = 1)\n",
    "    \n",
    "    if len(df_gene['gene']) > 1:\n",
    "        df_gene_v1 = pd.DataFrame()\n",
    "        p_values = list(df_gene['p'])\n",
    "        p_value = stats.combine_pvalues(p_values, method = 'fisher')[1]\n",
    "        df_gene_v1['gene'] = df_gene['gene'].unique()\n",
    "        df_gene_v1['p'] = p_value\n",
    "#         df_gene_v1['Pathways'] = df_gene['Pathways'].unique()\n",
    "        df_gene_v1['gene_version'] = df_gene['gene_version'].unique()\n",
    "        df_gene_v1['sig_flag'] = df_gene['sig_flag'].sum()\n",
    "        df_gene_v1['nonsig_flag'] = df_gene['nonsig_flag'].sum()\n",
    "        gene_score_data_p_v1 = pd.concat([gene_score_data_p_v1, df_gene_v1]).reset_index().drop(['index'], axis = 1)\n",
    "    \n",
    "    else:\n",
    "        gene_score_data_p_v1 = pd.concat([gene_score_data_p_v1, df_gene[['gene', 'p', 'gene_version', 'sig_flag', 'nonsig_flag']]]).reset_index().drop(['index'], axis = 1)\n",
    "        \n",
    "    count += 1\n",
    "    if count % 100 == 0:\n",
    "        print(count)"
   ]
  },
  {
   "cell_type": "code",
   "execution_count": 12,
   "metadata": {},
   "outputs": [],
   "source": [
    "gene_score_data_p_v1['score'] = -np.log10(gene_score_data_p_v1['p'])"
   ]
  },
  {
   "cell_type": "code",
   "execution_count": 13,
   "metadata": {},
   "outputs": [],
   "source": [
    "gene_score_data_p_v1 = gene_score_data_p_v1.drop(['gene_version'], axis = 1)"
   ]
  },
  {
   "cell_type": "code",
   "execution_count": 14,
   "metadata": {},
   "outputs": [
    {
     "data": {
      "text/plain": [
       "(array([ 71., 380.,  41.,  88., 124.,  56.,   3.,   3.,  10.,   7.,   7.,\n",
       "          3.,   0.,  26.,   0.,  12.,   1.,   0.,   0.,   7.]),\n",
       " array([ 1.4       ,  1.95810926,  2.51621851,  3.07432777,  3.63243703,\n",
       "         4.19054628,  4.74865554,  5.3067648 ,  5.86487405,  6.42298331,\n",
       "         6.98109257,  7.53920182,  8.09731108,  8.65542034,  9.21352959,\n",
       "         9.77163885, 10.32974811, 10.88785736, 11.44596662, 12.00407588,\n",
       "        12.56218513]),\n",
       " <a list of 20 Patch objects>)"
      ]
     },
     "execution_count": 14,
     "metadata": {},
     "output_type": "execute_result"
    },
    {
     "data": {
      "image/png": "[encoded data removed]",
      "text/plain": [
       "<Figure size 432x288 with 1 Axes>"
      ]
     },
     "metadata": {
      "needs_background": "light"
     },
     "output_type": "display_data"
    }
   ],
   "source": [
    "plt.hist(gene_score_data_p_v1['score'], bins = 20)"
   ]
  },
  {
   "cell_type": "code",
   "execution_count": 15,
   "metadata": {},
   "outputs": [
    {
     "data": {
      "text/plain": [
       "7"
      ]
     },
     "execution_count": 15,
     "metadata": {},
     "output_type": "execute_result"
    }
   ],
   "source": [
    "len(gene_score_data_p_v1[gene_score_data_p_v1['score'] > 12])"
   ]
  },
  {
   "cell_type": "code",
   "execution_count": 16,
   "metadata": {},
   "outputs": [
    {
     "data": {
      "text/html": [
       "<div>\n",
       "<style scoped>\n",
       "    .dataframe tbody tr th:only-of-type {\n",
       "        vertical-align: middle;\n",
       "    }\n",
       "\n",
       "    .dataframe tbody tr th {\n",
       "        vertical-align: top;\n",
       "    }\n",
       "\n",
       "    .dataframe thead th {\n",
       "        text-align: right;\n",
       "    }\n",
       "</style>\n",
       "<table border=\"1\" class=\"dataframe\">\n",
       "  <thead>\n",
       "    <tr style=\"text-align: right;\">\n",
       "      <th></th>\n",
       "      <th>gene</th>\n",
       "      <th>p</th>\n",
       "      <th>sig_flag</th>\n",
       "      <th>nonsig_flag</th>\n",
       "      <th>score</th>\n",
       "    </tr>\n",
       "  </thead>\n",
       "  <tbody>\n",
       "    <tr>\n",
       "      <th>0</th>\n",
       "      <td>Glyma.12g073000</td>\n",
       "      <td>0.002179</td>\n",
       "      <td>2</td>\n",
       "      <td>0</td>\n",
       "      <td>2.661821</td>\n",
       "    </tr>\n",
       "    <tr>\n",
       "      <th>1</th>\n",
       "      <td>Glyma.14g040600</td>\n",
       "      <td>0.035481</td>\n",
       "      <td>1</td>\n",
       "      <td>0</td>\n",
       "      <td>1.450000</td>\n",
       "    </tr>\n",
       "    <tr>\n",
       "      <th>2</th>\n",
       "      <td>Glyma.16g042600</td>\n",
       "      <td>0.012589</td>\n",
       "      <td>1</td>\n",
       "      <td>0</td>\n",
       "      <td>1.900000</td>\n",
       "    </tr>\n",
       "    <tr>\n",
       "      <th>3</th>\n",
       "      <td>Glyma.07g184300</td>\n",
       "      <td>0.012589</td>\n",
       "      <td>1</td>\n",
       "      <td>0</td>\n",
       "      <td>1.900000</td>\n",
       "    </tr>\n",
       "    <tr>\n",
       "      <th>4</th>\n",
       "      <td>Glyma.17g186600</td>\n",
       "      <td>0.012589</td>\n",
       "      <td>1</td>\n",
       "      <td>0</td>\n",
       "      <td>1.900000</td>\n",
       "    </tr>\n",
       "    <tr>\n",
       "      <th>...</th>\n",
       "      <td>...</td>\n",
       "      <td>...</td>\n",
       "      <td>...</td>\n",
       "      <td>...</td>\n",
       "      <td>...</td>\n",
       "    </tr>\n",
       "    <tr>\n",
       "      <th>834</th>\n",
       "      <td>Glyma.20g230600</td>\n",
       "      <td>0.010091</td>\n",
       "      <td>1</td>\n",
       "      <td>0</td>\n",
       "      <td>1.996076</td>\n",
       "    </tr>\n",
       "    <tr>\n",
       "      <th>835</th>\n",
       "      <td>Glyma.20g230800</td>\n",
       "      <td>0.010091</td>\n",
       "      <td>1</td>\n",
       "      <td>0</td>\n",
       "      <td>1.996076</td>\n",
       "    </tr>\n",
       "    <tr>\n",
       "      <th>836</th>\n",
       "      <td>Glyma.20g236200</td>\n",
       "      <td>0.006556</td>\n",
       "      <td>1</td>\n",
       "      <td>0</td>\n",
       "      <td>2.183383</td>\n",
       "    </tr>\n",
       "    <tr>\n",
       "      <th>837</th>\n",
       "      <td>Glyma.u021800</td>\n",
       "      <td>0.006556</td>\n",
       "      <td>1</td>\n",
       "      <td>0</td>\n",
       "      <td>2.183383</td>\n",
       "    </tr>\n",
       "    <tr>\n",
       "      <th>838</th>\n",
       "      <td>Glyma.u033000</td>\n",
       "      <td>0.007916</td>\n",
       "      <td>1</td>\n",
       "      <td>0</td>\n",
       "      <td>2.101506</td>\n",
       "    </tr>\n",
       "  </tbody>\n",
       "</table>\n",
       "<p>839 rows × 5 columns</p>\n",
       "</div>"
      ],
      "text/plain": [
       "                gene         p sig_flag nonsig_flag     score\n",
       "0    Glyma.12g073000  0.002179        2           0  2.661821\n",
       "1    Glyma.14g040600  0.035481        1           0  1.450000\n",
       "2    Glyma.16g042600  0.012589        1           0  1.900000\n",
       "3    Glyma.07g184300  0.012589        1           0  1.900000\n",
       "4    Glyma.17g186600  0.012589        1           0  1.900000\n",
       "..               ...       ...      ...         ...       ...\n",
       "834  Glyma.20g230600  0.010091        1           0  1.996076\n",
       "835  Glyma.20g230800  0.010091        1           0  1.996076\n",
       "836  Glyma.20g236200  0.006556        1           0  2.183383\n",
       "837    Glyma.u021800  0.006556        1           0  2.183383\n",
       "838    Glyma.u033000  0.007916        1           0  2.101506\n",
       "\n",
       "[839 rows x 5 columns]"
      ]
     },
     "execution_count": 16,
     "metadata": {},
     "output_type": "execute_result"
    }
   ],
   "source": [
    "gene_score_data_p_v1"
   ]
  },
  {
   "cell_type": "code",
   "execution_count": 9,
   "metadata": {
    "tags": []
   },
   "outputs": [
    {
     "data": {
      "text/html": [
       "<div>\n",
       "<style scoped>\n",
       "    .dataframe tbody tr th:only-of-type {\n",
       "        vertical-align: middle;\n",
       "    }\n",
       "\n",
       "    .dataframe tbody tr th {\n",
       "        vertical-align: top;\n",
       "    }\n",
       "\n",
       "    .dataframe thead th {\n",
       "        text-align: right;\n",
       "    }\n",
       "</style>\n",
       "<table border=\"1\" class=\"dataframe\">\n",
       "  <thead>\n",
       "    <tr style=\"text-align: right;\">\n",
       "      <th></th>\n",
       "      <th>methodology</th>\n",
       "      <th>mapped_gene</th>\n",
       "      <th>p</th>\n",
       "      <th>score</th>\n",
       "      <th>Pathways</th>\n",
       "      <th>gene_version</th>\n",
       "      <th>article_name</th>\n",
       "    </tr>\n",
       "  </thead>\n",
       "  <tbody>\n",
       "    <tr>\n",
       "      <th>0</th>\n",
       "      <td>functional networks</td>\n",
       "      <td>Glyma.02g005600</td>\n",
       "      <td>NaN</td>\n",
       "      <td>8.0</td>\n",
       "      <td>NaN</td>\n",
       "      <td>2</td>\n",
       "      <td>Genome-Wide Identification of the AP2/ERF Gene...</td>\n",
       "    </tr>\n",
       "    <tr>\n",
       "      <th>1</th>\n",
       "      <td>functional networks</td>\n",
       "      <td>Glyma.10g013300</td>\n",
       "      <td>NaN</td>\n",
       "      <td>8.0</td>\n",
       "      <td>NaN</td>\n",
       "      <td>2</td>\n",
       "      <td>Genome-Wide Identification of the AP2/ERF Gene...</td>\n",
       "    </tr>\n",
       "    <tr>\n",
       "      <th>2</th>\n",
       "      <td>functional networks</td>\n",
       "      <td>Glyma.01g198100</td>\n",
       "      <td>NaN</td>\n",
       "      <td>8.0</td>\n",
       "      <td>NaN</td>\n",
       "      <td>2</td>\n",
       "      <td>Genome-Wide Identification of the AP2/ERF Gene...</td>\n",
       "    </tr>\n",
       "    <tr>\n",
       "      <th>3</th>\n",
       "      <td>functional networks</td>\n",
       "      <td>Glyma.19g164600</td>\n",
       "      <td>NaN</td>\n",
       "      <td>10.0</td>\n",
       "      <td>NaN</td>\n",
       "      <td>2</td>\n",
       "      <td>Genome-Wide Identification of the AP2/ERF Gene...</td>\n",
       "    </tr>\n",
       "    <tr>\n",
       "      <th>4</th>\n",
       "      <td>functional networks</td>\n",
       "      <td>Glyma.11g126500</td>\n",
       "      <td>NaN</td>\n",
       "      <td>2.0</td>\n",
       "      <td>NaN</td>\n",
       "      <td>2</td>\n",
       "      <td>Genome-Wide Identification of the AP2/ERF Gene...</td>\n",
       "    </tr>\n",
       "    <tr>\n",
       "      <th>5</th>\n",
       "      <td>functional networks</td>\n",
       "      <td>Glyma.12g051100</td>\n",
       "      <td>NaN</td>\n",
       "      <td>2.0</td>\n",
       "      <td>NaN</td>\n",
       "      <td>2</td>\n",
       "      <td>Genome-Wide Identification of the AP2/ERF Gene...</td>\n",
       "    </tr>\n",
       "    <tr>\n",
       "      <th>6</th>\n",
       "      <td>functional networks</td>\n",
       "      <td>Glyma.09g247500</td>\n",
       "      <td>NaN</td>\n",
       "      <td>9.0</td>\n",
       "      <td>NaN</td>\n",
       "      <td>2</td>\n",
       "      <td>Genome-Wide Identification of the AP2/ERF Gene...</td>\n",
       "    </tr>\n",
       "    <tr>\n",
       "      <th>7</th>\n",
       "      <td>functional networks</td>\n",
       "      <td>Glyma.16g151500</td>\n",
       "      <td>NaN</td>\n",
       "      <td>11.0</td>\n",
       "      <td>NaN</td>\n",
       "      <td>2</td>\n",
       "      <td>Genome-Wide Identification of the AP2/ERF Gene...</td>\n",
       "    </tr>\n",
       "    <tr>\n",
       "      <th>8</th>\n",
       "      <td>functional networks</td>\n",
       "      <td>Glyma.14g171500</td>\n",
       "      <td>NaN</td>\n",
       "      <td>10.0</td>\n",
       "      <td>NaN</td>\n",
       "      <td>2</td>\n",
       "      <td>Genome-Wide Identification of the AP2/ERF Gene...</td>\n",
       "    </tr>\n",
       "  </tbody>\n",
       "</table>\n",
       "</div>"
      ],
      "text/plain": [
       "           methodology      mapped_gene   p  score Pathways  gene_version  \\\n",
       "0  functional networks  Glyma.02g005600 NaN    8.0      NaN             2   \n",
       "1  functional networks  Glyma.10g013300 NaN    8.0      NaN             2   \n",
       "2  functional networks  Glyma.01g198100 NaN    8.0      NaN             2   \n",
       "3  functional networks  Glyma.19g164600 NaN   10.0      NaN             2   \n",
       "4  functional networks  Glyma.11g126500 NaN    2.0      NaN             2   \n",
       "5  functional networks  Glyma.12g051100 NaN    2.0      NaN             2   \n",
       "6  functional networks  Glyma.09g247500 NaN    9.0      NaN             2   \n",
       "7  functional networks  Glyma.16g151500 NaN   11.0      NaN             2   \n",
       "8  functional networks  Glyma.14g171500 NaN   10.0      NaN             2   \n",
       "\n",
       "                                        article_name  \n",
       "0  Genome-Wide Identification of the AP2/ERF Gene...  \n",
       "1  Genome-Wide Identification of the AP2/ERF Gene...  \n",
       "2  Genome-Wide Identification of the AP2/ERF Gene...  \n",
       "3  Genome-Wide Identification of the AP2/ERF Gene...  \n",
       "4  Genome-Wide Identification of the AP2/ERF Gene...  \n",
       "5  Genome-Wide Identification of the AP2/ERF Gene...  \n",
       "6  Genome-Wide Identification of the AP2/ERF Gene...  \n",
       "7  Genome-Wide Identification of the AP2/ERF Gene...  \n",
       "8  Genome-Wide Identification of the AP2/ERF Gene...  "
      ]
     },
     "execution_count": 9,
     "metadata": {},
     "output_type": "execute_result"
    }
   ],
   "source": [
    "gene_data_score"
   ]
  },
  {
   "cell_type": "code",
   "execution_count": 18,
   "metadata": {},
   "outputs": [],
   "source": [
    "# 處理 network score 資料\n",
    "gene_data_score['score_new'] = ''\n",
    "gene_data_score.loc[(gene_data_score['score'] >= 8), 'score_new'] = 3\n",
    "gene_data_score.loc[(gene_data_score['score'] > 9), 'score_new'] = 4\n",
    "gene_data_score.loc[(gene_data_score['score'] > 10), 'score_new'] = 4.5\n",
    "gene_data_score.loc[(gene_data_score['score'] < 8), 'score_new'] = gene_data_score['score'] / 1.5\n",
    "gene_data_score['sig_flag'] = 1\n",
    "gene_data_score['nonsig_flag'] = 0"
   ]
  },
  {
   "cell_type": "code",
   "execution_count": 19,
   "metadata": {},
   "outputs": [],
   "source": [
    "gene_data_score_v1 = gene_data_score[['mapped_gene', 'score_new', 'sig_flag', 'nonsig_flag']]"
   ]
  },
  {
   "cell_type": "code",
   "execution_count": 20,
   "metadata": {},
   "outputs": [],
   "source": [
    "gene_data_score_v1 = gene_data_score_v1.rename(columns = {'mapped_gene':'gene', 'score_new':'score'})"
   ]
  },
  {
   "cell_type": "code",
   "execution_count": 22,
   "metadata": {},
   "outputs": [],
   "source": [
    "gene_score_data = pd.concat([gene_score_data_p_v1, gene_data_score_v1]).reset_index().drop(['index'], axis = 1)"
   ]
  },
  {
   "cell_type": "code",
   "execution_count": 25,
   "metadata": {},
   "outputs": [],
   "source": [
    "gene_score_data['score'] = gene_score_data['score'].astype(float)"
   ]
  },
  {
   "cell_type": "code",
   "execution_count": 26,
   "metadata": {},
   "outputs": [
    {
     "data": {
      "text/plain": [
       "count    848.000000\n",
       "mean       3.234491\n",
       "std        1.952184\n",
       "min        1.333333\n",
       "25%        2.023806\n",
       "50%        2.395204\n",
       "75%        3.723091\n",
       "max       12.562185\n",
       "Name: score, dtype: float64"
      ]
     },
     "execution_count": 26,
     "metadata": {},
     "output_type": "execute_result"
    }
   ],
   "source": [
    "gene_score_data['score'].describe()"
   ]
  },
  {
   "cell_type": "code",
   "execution_count": 45,
   "metadata": {},
   "outputs": [
    {
     "data": {
      "text/html": [
       "<div>\n",
       "<style scoped>\n",
       "    .dataframe tbody tr th:only-of-type {\n",
       "        vertical-align: middle;\n",
       "    }\n",
       "\n",
       "    .dataframe tbody tr th {\n",
       "        vertical-align: top;\n",
       "    }\n",
       "\n",
       "    .dataframe thead th {\n",
       "        text-align: right;\n",
       "    }\n",
       "</style>\n",
       "<table border=\"1\" class=\"dataframe\">\n",
       "  <thead>\n",
       "    <tr style=\"text-align: right;\">\n",
       "      <th></th>\n",
       "      <th>gene</th>\n",
       "      <th>p</th>\n",
       "      <th>sig_flag</th>\n",
       "      <th>nonsig_flag</th>\n",
       "      <th>score</th>\n",
       "    </tr>\n",
       "  </thead>\n",
       "  <tbody>\n",
       "    <tr>\n",
       "      <th>0</th>\n",
       "      <td>Glyma.12g073000</td>\n",
       "      <td>0.002179</td>\n",
       "      <td>2</td>\n",
       "      <td>0</td>\n",
       "      <td>2.661821</td>\n",
       "    </tr>\n",
       "    <tr>\n",
       "      <th>1</th>\n",
       "      <td>Glyma.14g040600</td>\n",
       "      <td>0.035481</td>\n",
       "      <td>1</td>\n",
       "      <td>0</td>\n",
       "      <td>1.450000</td>\n",
       "    </tr>\n",
       "    <tr>\n",
       "      <th>2</th>\n",
       "      <td>Glyma.16g042600</td>\n",
       "      <td>0.012589</td>\n",
       "      <td>1</td>\n",
       "      <td>0</td>\n",
       "      <td>1.900000</td>\n",
       "    </tr>\n",
       "    <tr>\n",
       "      <th>3</th>\n",
       "      <td>Glyma.07g184300</td>\n",
       "      <td>0.012589</td>\n",
       "      <td>1</td>\n",
       "      <td>0</td>\n",
       "      <td>1.900000</td>\n",
       "    </tr>\n",
       "    <tr>\n",
       "      <th>4</th>\n",
       "      <td>Glyma.17g186600</td>\n",
       "      <td>0.012589</td>\n",
       "      <td>1</td>\n",
       "      <td>0</td>\n",
       "      <td>1.900000</td>\n",
       "    </tr>\n",
       "    <tr>\n",
       "      <th>...</th>\n",
       "      <td>...</td>\n",
       "      <td>...</td>\n",
       "      <td>...</td>\n",
       "      <td>...</td>\n",
       "      <td>...</td>\n",
       "    </tr>\n",
       "    <tr>\n",
       "      <th>843</th>\n",
       "      <td>Glyma.11g126500</td>\n",
       "      <td>NaN</td>\n",
       "      <td>1</td>\n",
       "      <td>0</td>\n",
       "      <td>1.333333</td>\n",
       "    </tr>\n",
       "    <tr>\n",
       "      <th>844</th>\n",
       "      <td>Glyma.12g051100</td>\n",
       "      <td>NaN</td>\n",
       "      <td>1</td>\n",
       "      <td>0</td>\n",
       "      <td>1.333333</td>\n",
       "    </tr>\n",
       "    <tr>\n",
       "      <th>845</th>\n",
       "      <td>Glyma.09g247500</td>\n",
       "      <td>NaN</td>\n",
       "      <td>1</td>\n",
       "      <td>0</td>\n",
       "      <td>3.000000</td>\n",
       "    </tr>\n",
       "    <tr>\n",
       "      <th>846</th>\n",
       "      <td>Glyma.16g151500</td>\n",
       "      <td>NaN</td>\n",
       "      <td>1</td>\n",
       "      <td>0</td>\n",
       "      <td>4.500000</td>\n",
       "    </tr>\n",
       "    <tr>\n",
       "      <th>847</th>\n",
       "      <td>Glyma.14g171500</td>\n",
       "      <td>NaN</td>\n",
       "      <td>1</td>\n",
       "      <td>0</td>\n",
       "      <td>4.000000</td>\n",
       "    </tr>\n",
       "  </tbody>\n",
       "</table>\n",
       "<p>848 rows × 5 columns</p>\n",
       "</div>"
      ],
      "text/plain": [
       "                gene         p sig_flag nonsig_flag     score\n",
       "0    Glyma.12g073000  0.002179        2           0  2.661821\n",
       "1    Glyma.14g040600  0.035481        1           0  1.450000\n",
       "2    Glyma.16g042600  0.012589        1           0  1.900000\n",
       "3    Glyma.07g184300  0.012589        1           0  1.900000\n",
       "4    Glyma.17g186600  0.012589        1           0  1.900000\n",
       "..               ...       ...      ...         ...       ...\n",
       "843  Glyma.11g126500       NaN        1           0  1.333333\n",
       "844  Glyma.12g051100       NaN        1           0  1.333333\n",
       "845  Glyma.09g247500       NaN        1           0  3.000000\n",
       "846  Glyma.16g151500       NaN        1           0  4.500000\n",
       "847  Glyma.14g171500       NaN        1           0  4.000000\n",
       "\n",
       "[848 rows x 5 columns]"
      ]
     },
     "execution_count": 45,
     "metadata": {},
     "output_type": "execute_result"
    }
   ],
   "source": [
    "gene_score_data"
   ]
  },
  {
   "cell_type": "code",
   "execution_count": 46,
   "metadata": {},
   "outputs": [
    {
     "data": {
      "text/plain": [
       "(array([  9.,  23., 180., 183.,  58.,   1.,  20.,  35.,  64.,  13.,  78.,\n",
       "         23.,  25.,  45.,  12.,   1.,   0.,   4.,   1.,   0.,   1.,   4.,\n",
       "          5.,   7.,   0.,   2.,   5.,   0.,   0.,   3.,   0.,   0.,   0.,\n",
       "          0.,  26.,   0.,   0.,  12.,   0.,   0.,   0.,   1.,   0.,   0.,\n",
       "          0.,   0.,   0.,   0.,   0.,   7.]),\n",
       " array([ 1.33333333,  1.55791037,  1.78248741,  2.00706444,  2.23164148,\n",
       "         2.45621851,  2.68079555,  2.90537259,  3.12994962,  3.35452666,\n",
       "         3.57910369,  3.80368073,  4.02825777,  4.2528348 ,  4.47741184,\n",
       "         4.70198887,  4.92656591,  5.15114295,  5.37571998,  5.60029702,\n",
       "         5.82487405,  6.04945109,  6.27402813,  6.49860516,  6.7231822 ,\n",
       "         6.94775923,  7.17233627,  7.39691331,  7.62149034,  7.84606738,\n",
       "         8.07064441,  8.29522145,  8.51979849,  8.74437552,  8.96895256,\n",
       "         9.19352959,  9.41810663,  9.64268367,  9.8672607 , 10.09183774,\n",
       "        10.31641477, 10.54099181, 10.76556885, 10.99014588, 11.21472292,\n",
       "        11.43929995, 11.66387699, 11.88845403, 12.11303106, 12.3376081 ,\n",
       "        12.56218513]),\n",
       " <a list of 50 Patch objects>)"
      ]
     },
     "execution_count": 46,
     "metadata": {},
     "output_type": "execute_result"
    },
    {
     "data": {
      "image/png": "[encoded data removed]",
      "text/plain": [
       "<Figure size 432x288 with 1 Axes>"
      ]
     },
     "metadata": {
      "needs_background": "light"
     },
     "output_type": "display_data"
    }
   ],
   "source": [
    "plt.hist(gene_score_data['score'], bins = 50)"
   ]
  },
  {
   "cell_type": "code",
   "execution_count": 51,
   "metadata": {},
   "outputs": [
    {
     "data": {
      "text/plain": [
       "46"
      ]
     },
     "execution_count": 51,
     "metadata": {},
     "output_type": "execute_result"
    }
   ],
   "source": [
    "len(gene_score_data[gene_score_data['score'] > 8])"
   ]
  },
  {
   "cell_type": "code",
   "execution_count": 57,
   "metadata": {},
   "outputs": [
    {
     "data": {
      "text/plain": [
       "198"
      ]
     },
     "execution_count": 57,
     "metadata": {},
     "output_type": "execute_result"
    }
   ],
   "source": [
    "cri1 = gene_score_data['score'] <= 2\n",
    "cri2 = gene_score_data['score'] > 0\n",
    "len(gene_score_data[cri1 & cri2])"
   ]
  },
  {
   "cell_type": "markdown",
   "metadata": {},
   "source": [
    "# L1: 8 < x <= max in [5, 6] #about 46\n",
    "# L2: 4 < x <= 8 in [4, 5] #about 110\n",
    "# L3: 3 < x <= 4 in [3, 4] #about 198\n",
    "# L4: 2 < x <= 3 in [2, 3] #about 291\n",
    "# L5: 0 < x < 2 in [0, 2] #about 198"
   ]
  },
  {
   "cell_type": "code",
   "execution_count": 58,
   "metadata": {},
   "outputs": [],
   "source": [
    "# data scaling function\n",
    "def scale_score(x, upper_b, lower_b, max_val, min_val):\n",
    "    scaling = (upper_b - lower_b) / (max_val - min_val)\n",
    "    return (x - min_val) * scaling + lower_b"
   ]
  },
  {
   "cell_type": "code",
   "execution_count": 60,
   "metadata": {},
   "outputs": [],
   "source": [
    "gene_score_data = gene_score_data.rename(columns = {'score':'score_raw'})"
   ]
  },
  {
   "cell_type": "code",
   "execution_count": 61,
   "metadata": {},
   "outputs": [],
   "source": [
    "# L1 rescaling\n",
    "upper_b = 6\n",
    "lower_b = 5\n",
    "max_val = gene_score_data['score_raw'].max()\n",
    "min_val = 8\n",
    "gene_score_data_L1 = gene_score_data[(gene_score_data['score_raw'] > min_val) & (gene_score_data['score_raw'] <= max_val)].reset_index().drop(['index'], axis = 1)\n",
    "gene_score_data_L1['score'] = gene_score_data_L1['score_raw'].apply(scale_score, args = (upper_b, lower_b, max_val, min_val))"
   ]
  },
  {
   "cell_type": "code",
   "execution_count": 62,
   "metadata": {},
   "outputs": [],
   "source": [
    "# L2 rescaling\n",
    "upper_b = 5\n",
    "lower_b = 4\n",
    "max_val = 8\n",
    "min_val = 4\n",
    "gene_score_data_L2 = gene_score_data[(gene_score_data['score_raw'] > min_val) & (gene_score_data['score_raw'] <= max_val)].reset_index().drop(['index'], axis = 1)\n",
    "gene_score_data_L2['score'] = gene_score_data_L2['score_raw'].apply(scale_score, args = (upper_b, lower_b, max_val, min_val))"
   ]
  },
  {
   "cell_type": "code",
   "execution_count": 63,
   "metadata": {},
   "outputs": [],
   "source": [
    "# L3 rescaling\n",
    "upper_b = 4\n",
    "lower_b = 3\n",
    "max_val = 4\n",
    "min_val = 3\n",
    "gene_score_data_L3 = gene_score_data[(gene_score_data['score_raw'] > min_val) & (gene_score_data['score_raw'] <= max_val)].reset_index().drop(['index'], axis = 1)\n",
    "gene_score_data_L3['score'] = gene_score_data_L3['score_raw'].apply(scale_score, args = (upper_b, lower_b, max_val, min_val))"
   ]
  },
  {
   "cell_type": "code",
   "execution_count": 64,
   "metadata": {},
   "outputs": [],
   "source": [
    "# L4 rescaling\n",
    "upper_b = 3\n",
    "lower_b = 2\n",
    "max_val = 3\n",
    "min_val = 2\n",
    "gene_score_data_L4 = gene_score_data[(gene_score_data['score_raw'] > min_val) & (gene_score_data['score_raw'] <= max_val)].reset_index().drop(['index'], axis = 1)\n",
    "gene_score_data_L4['score'] = gene_score_data_L4['score_raw'].apply(scale_score, args = (upper_b, lower_b, max_val, min_val))"
   ]
  },
  {
   "cell_type": "code",
   "execution_count": 65,
   "metadata": {},
   "outputs": [],
   "source": [
    "# L5 rescaling\n",
    "upper_b = 2\n",
    "lower_b = 0\n",
    "max_val = 2\n",
    "min_val = 0\n",
    "gene_score_data_L5 = gene_score_data[(gene_score_data['score_raw'] > min_val) & (gene_score_data['score_raw'] <= max_val)].reset_index().drop(['index'], axis = 1)\n",
    "gene_score_data_L5['score'] = gene_score_data_L5['score_raw'].apply(scale_score, args = (upper_b, lower_b, max_val, min_val))"
   ]
  },
  {
   "cell_type": "code",
   "execution_count": 66,
   "metadata": {},
   "outputs": [],
   "source": [
    "gene_score_data = pd.concat([gene_score_data_L1, gene_score_data_L2, gene_score_data_L3, gene_score_data_L4, gene_score_data_L5]).reset_index().drop(['index'], axis = 1)"
   ]
  },
  {
   "cell_type": "code",
   "execution_count": 134,
   "metadata": {},
   "outputs": [
    {
     "data": {
      "text/plain": [
       "(array([ 32., 371.,  57.,  84.,  42., 172.,  22.,  22.,  38.,   8.]),\n",
       " array([1.33333333, 1.8       , 2.26666667, 2.73333333, 3.2       ,\n",
       "        3.66666667, 4.13333333, 4.6       , 5.06666667, 5.53333333,\n",
       "        6.        ]),\n",
       " <a list of 10 Patch objects>)"
      ]
     },
     "execution_count": 134,
     "metadata": {},
     "output_type": "execute_result"
    },
    {
     "data": {
      "image/png": "[encoded data removed]",
      "text/plain": [
       "<Figure size 432x288 with 1 Axes>"
      ]
     },
     "metadata": {
      "needs_background": "light"
     },
     "output_type": "display_data"
    }
   ],
   "source": [
    "plt.hist(gene_score_data['score'])"
   ]
  },
  {
   "cell_type": "code",
   "execution_count": null,
   "metadata": {},
   "outputs": [],
   "source": []
  },
  {
   "cell_type": "markdown",
   "metadata": {},
   "source": [
    "------ import pathway results ------"
   ]
  },
  {
   "cell_type": "code",
   "execution_count": 73,
   "metadata": {},
   "outputs": [],
   "source": [
    "gene_data_pathway = pd.read_excel(r'C:\\Users\\edwar\\Desktop\\農藝\\paper2\\data collection\\Function\\pathway_analysis_fv.xlsx')\n",
    "gene_data_pathway = gene_data_pathway[['gene', 'score_total']]"
   ]
  },
  {
   "cell_type": "code",
   "execution_count": 82,
   "metadata": {},
   "outputs": [
    {
     "data": {
      "text/plain": [
       "(array([  65.,    0.,    0., 1323.,    0.,    0.,    0.,    0.,    0.,\n",
       "           0., 1026.,    0.,    0.,  304.,    0.,    0.,   50.,    0.,\n",
       "           0.,    0.,   38.,    0.,    0.,  366.,    0.,    0.,    0.,\n",
       "           0.,    0.,    0.,    6.,    0.,    0.,    0.,    0.,    0.,\n",
       "         227.,    0.,    0.,    0.,    0.,    0.,    0.,   17.,    0.,\n",
       "           0.,    0.,    0.,    0.,   17.]),\n",
       " array([ 1. ,  1.3,  1.6,  1.9,  2.2,  2.5,  2.8,  3.1,  3.4,  3.7,  4. ,\n",
       "         4.3,  4.6,  4.9,  5.2,  5.5,  5.8,  6.1,  6.4,  6.7,  7. ,  7.3,\n",
       "         7.6,  7.9,  8.2,  8.5,  8.8,  9.1,  9.4,  9.7, 10. , 10.3, 10.6,\n",
       "        10.9, 11.2, 11.5, 11.8, 12.1, 12.4, 12.7, 13. , 13.3, 13.6, 13.9,\n",
       "        14.2, 14.5, 14.8, 15.1, 15.4, 15.7, 16. ]),\n",
       " <a list of 50 Patch objects>)"
      ]
     },
     "execution_count": 82,
     "metadata": {},
     "output_type": "execute_result"
    },
    {
     "data": {
      "image/png": "[encoded data removed]",
      "text/plain": [
       "<Figure size 432x288 with 1 Axes>"
      ]
     },
     "metadata": {
      "needs_background": "light"
     },
     "output_type": "display_data"
    }
   ],
   "source": [
    "plt.hist(gene_data_pathway['score_total'], bins = 50)"
   ]
  },
  {
   "cell_type": "markdown",
   "metadata": {},
   "source": [
    "# L1: 12 < x <= max in [5.5, 6] #about 34\n",
    "# L2: 8.5 < x <= 12 in [4.5, 5.5] #about 233\n",
    "# L3: 4 < x <= 8.3 in [3, 4.5] #about 758\n",
    "# L4: 3 < x <= 4 in [2, 3] #about 1026\n",
    "# L5: 0 < x <= 3 in [0, 2] #about 1388"
   ]
  },
  {
   "cell_type": "code",
   "execution_count": 126,
   "metadata": {},
   "outputs": [],
   "source": [
    "# L1 rescaling\n",
    "upper_b = 6\n",
    "lower_b = 5.5\n",
    "max_val = gene_data_pathway['score_total'].max()\n",
    "min_val = 12\n",
    "gene_data_pathway_L1 = gene_data_pathway[(gene_data_pathway['score_total'] <= max_val) & (gene_data_pathway['score_total'] > min_val)].reset_index().drop(['index'], axis = 1)\n",
    "gene_data_pathway_L1['score'] = gene_data_pathway_L1['score_total'].apply(scale_score, args = (upper_b, lower_b, max_val, min_val))"
   ]
  },
  {
   "cell_type": "code",
   "execution_count": 127,
   "metadata": {},
   "outputs": [],
   "source": [
    "# L2 rescaling\n",
    "upper_b = 5.5\n",
    "lower_b = 4.5\n",
    "max_val = 12\n",
    "min_val = 8.5\n",
    "gene_data_pathway_L2 = gene_data_pathway[(gene_data_pathway['score_total'] <= max_val) & (gene_data_pathway['score_total'] > min_val)].reset_index().drop(['index'], axis = 1)\n",
    "gene_data_pathway_L2['score'] = gene_data_pathway_L2['score_total'].apply(scale_score, args = (upper_b, lower_b, max_val, min_val))"
   ]
  },
  {
   "cell_type": "code",
   "execution_count": 128,
   "metadata": {},
   "outputs": [],
   "source": [
    "# L3 rescaling\n",
    "upper_b = 4.5\n",
    "lower_b = 3\n",
    "max_val = 8.3\n",
    "min_val = 4\n",
    "gene_data_pathway_L3 = gene_data_pathway[(gene_data_pathway['score_total'] <= max_val) & (gene_data_pathway['score_total'] > min_val)].reset_index().drop(['index'], axis = 1)\n",
    "gene_data_pathway_L3['score'] = gene_data_pathway_L3['score_total'].apply(scale_score, args = (upper_b, lower_b, max_val, min_val))"
   ]
  },
  {
   "cell_type": "code",
   "execution_count": 129,
   "metadata": {},
   "outputs": [],
   "source": [
    "# L4 rescaling\n",
    "upper_b = 4\n",
    "lower_b = 3\n",
    "max_val = 3\n",
    "min_val = 2\n",
    "gene_data_pathway_L4 = gene_data_pathway[(gene_data_pathway['score_total'] <= max_val) & (gene_data_pathway['score_total'] > min_val)].reset_index().drop(['index'], axis = 1)\n",
    "gene_data_pathway_L4['score'] = gene_data_pathway_L4['score_total'].apply(scale_score, args = (upper_b, lower_b, max_val, min_val))"
   ]
  },
  {
   "cell_type": "code",
   "execution_count": 130,
   "metadata": {},
   "outputs": [],
   "source": [
    "# L5 rescaling\n",
    "upper_b = 3\n",
    "lower_b = 0\n",
    "max_val = 2\n",
    "min_val = 0\n",
    "gene_data_pathway_L5 = gene_data_pathway[(gene_data_pathway['score_total'] <= max_val) & (gene_data_pathway['score_total'] > min_val)].reset_index().drop(['index'], axis = 1)\n",
    "gene_data_pathway_L5['score'] = gene_data_pathway_L5['score_total'].apply(scale_score, args = (upper_b, lower_b, max_val, min_val))"
   ]
  },
  {
   "cell_type": "code",
   "execution_count": 132,
   "metadata": {},
   "outputs": [],
   "source": [
    "gene_data_pathway = pd.concat([gene_data_pathway_L1, gene_data_pathway_L2, gene_data_pathway_L3, gene_data_pathway_L4, gene_data_pathway_L5]).reset_index().drop(['index'], axis = 1)"
   ]
  },
  {
   "cell_type": "code",
   "execution_count": 136,
   "metadata": {},
   "outputs": [],
   "source": [
    "gene_data_pathway = gene_data_pathway.rename(columns = {'score':'score_sysbio'})\n",
    "gene_score_data = gene_score_data.rename(columns = {'score':'score_datacoll'})"
   ]
  },
  {
   "cell_type": "code",
   "execution_count": 155,
   "metadata": {},
   "outputs": [],
   "source": [
    "gene_score_data_v1 = gene_score_data[['gene', 'score_datacoll', 'sig_flag', 'nonsig_flag']].merge(gene_data_pathway[['gene', 'score_sysbio']], how = 'outer', on = ['gene'])"
   ]
  },
  {
   "cell_type": "code",
   "execution_count": 156,
   "metadata": {},
   "outputs": [],
   "source": [
    "gene_score_data_v1['score_raw'] = gene_score_data_v1[['score_datacoll', 'score_sysbio']].sum(axis = 1)"
   ]
  },
  {
   "cell_type": "code",
   "execution_count": 157,
   "metadata": {},
   "outputs": [],
   "source": [
    "gene_score_data_v1.loc[(gene_score_data_v1['sig_flag'].isna()), 'sig_flag'] = 0\n",
    "gene_score_data_v1.loc[(gene_score_data_v1['nonsig_flag'].isna()), 'nonsig_flag'] = 0"
   ]
  },
  {
   "cell_type": "code",
   "execution_count": 158,
   "metadata": {},
   "outputs": [
    {
     "data": {
      "text/plain": [
       "count    3139.000000\n",
       "mean        3.495273\n",
       "std         1.160510\n",
       "min         1.333333\n",
       "25%         3.000000\n",
       "50%         3.000000\n",
       "75%         4.328072\n",
       "max         8.903189\n",
       "Name: score_raw, dtype: float64"
      ]
     },
     "execution_count": 158,
     "metadata": {},
     "output_type": "execute_result"
    }
   ],
   "source": [
    "gene_score_data_v1['score_raw'].describe()"
   ]
  },
  {
   "cell_type": "code",
   "execution_count": 159,
   "metadata": {},
   "outputs": [
    {
     "data": {
      "text/plain": [
       "(array([ 269.,  201., 1636.,  250.,  412.,  269.,   42.,   22.,   29.,\n",
       "           9.]),\n",
       " array([1.33333333, 2.0903189 , 2.84730447, 3.60429004, 4.36127561,\n",
       "        5.11826118, 5.87524675, 6.63223232, 7.38921789, 8.14620346,\n",
       "        8.90318902]),\n",
       " <a list of 10 Patch objects>)"
      ]
     },
     "execution_count": 159,
     "metadata": {},
     "output_type": "execute_result"
    },
    {
     "data": {
      "image/png": "[encoded data removed]",
      "text/plain": [
       "<Figure size 432x288 with 1 Axes>"
      ]
     },
     "metadata": {
      "needs_background": "light"
     },
     "output_type": "display_data"
    }
   ],
   "source": [
    "plt.hist(gene_score_data_v1['score_raw'])"
   ]
  },
  {
   "cell_type": "code",
   "execution_count": 160,
   "metadata": {},
   "outputs": [
    {
     "data": {
      "text/plain": [
       "77"
      ]
     },
     "execution_count": 160,
     "metadata": {},
     "output_type": "execute_result"
    }
   ],
   "source": [
    "len(gene_score_data_v1[gene_score_data_v1['score_raw'] > 6])"
   ]
  },
  {
   "cell_type": "code",
   "execution_count": 173,
   "metadata": {},
   "outputs": [
    {
     "data": {
      "text/plain": [
       "428"
      ]
     },
     "execution_count": 173,
     "metadata": {},
     "output_type": "execute_result"
    }
   ],
   "source": [
    "cri1 = gene_score_data_v1['score_raw'] <= 2.4\n",
    "cri2 = gene_score_data_v1['score_raw'] > 0\n",
    "len(gene_score_data_v1[cri1 & cri2])"
   ]
  },
  {
   "cell_type": "markdown",
   "metadata": {},
   "source": [
    "# L1: 6 < x <= max in [5, 6] #about 77\n",
    "# L2: 5 < x <= 6 in [4, 5] #about 317\n",
    "# L3: 3.3 < x <= 5 in [3, 4] #about 950\n",
    "# L4: 2.4 < x <= 3.3 in [2, 3] #about 1367\n",
    "# L5: 0 < x <= 2.4 in [0, 2] #about 428"
   ]
  },
  {
   "cell_type": "code",
   "execution_count": 174,
   "metadata": {},
   "outputs": [],
   "source": [
    "# L1 rescaling\n",
    "upper_b = 6\n",
    "lower_b = 5\n",
    "max_val = gene_score_data_v1['score_raw'].max()\n",
    "min_val = 6\n",
    "gene_score_data_v1_L1 = gene_score_data_v1[(gene_score_data_v1['score_raw'] <= max_val) & (gene_score_data_v1['score_raw'] > min_val)].reset_index().drop(['index'], axis = 1)\n",
    "gene_score_data_v1_L1['score'] = gene_score_data_v1_L1['score_raw'].apply(scale_score, args = (upper_b, lower_b, max_val, min_val))"
   ]
  },
  {
   "cell_type": "code",
   "execution_count": 175,
   "metadata": {},
   "outputs": [],
   "source": [
    "# L2 rescaling\n",
    "upper_b = 5\n",
    "lower_b = 4\n",
    "max_val = 6\n",
    "min_val = 5\n",
    "gene_score_data_v1_L2 = gene_score_data_v1[(gene_score_data_v1['score_raw'] <= max_val) & (gene_score_data_v1['score_raw'] > min_val)].reset_index().drop(['index'], axis = 1)\n",
    "gene_score_data_v1_L2['score'] = gene_score_data_v1_L2['score_raw'].apply(scale_score, args = (upper_b, lower_b, max_val, min_val))"
   ]
  },
  {
   "cell_type": "code",
   "execution_count": 176,
   "metadata": {},
   "outputs": [],
   "source": [
    "# L3 rescaling\n",
    "upper_b = 4\n",
    "lower_b = 3\n",
    "max_val = 5\n",
    "min_val = 3.3\n",
    "gene_score_data_v1_L3 = gene_score_data_v1[(gene_score_data_v1['score_raw'] <= max_val) & (gene_score_data_v1['score_raw'] > min_val)].reset_index().drop(['index'], axis = 1)\n",
    "gene_score_data_v1_L3['score'] = gene_score_data_v1_L3['score_raw'].apply(scale_score, args = (upper_b, lower_b, max_val, min_val))"
   ]
  },
  {
   "cell_type": "code",
   "execution_count": 177,
   "metadata": {},
   "outputs": [],
   "source": [
    "# L4 rescaling\n",
    "upper_b = 3.3\n",
    "lower_b = 2.4\n",
    "max_val = 3\n",
    "min_val = 2\n",
    "gene_score_data_v1_L4 = gene_score_data_v1[(gene_score_data_v1['score_raw'] <= max_val) & (gene_score_data_v1['score_raw'] > min_val)].reset_index().drop(['index'], axis = 1)\n",
    "gene_score_data_v1_L4['score'] = gene_score_data_v1_L4['score_raw'].apply(scale_score, args = (upper_b, lower_b, max_val, min_val))"
   ]
  },
  {
   "cell_type": "code",
   "execution_count": 178,
   "metadata": {},
   "outputs": [],
   "source": [
    "# L5 rescaling\n",
    "upper_b = 2.4\n",
    "lower_b = 0\n",
    "max_val = 2\n",
    "min_val = 0\n",
    "gene_score_data_v1_L5 = gene_score_data_v1[(gene_score_data_v1['score_raw'] <= max_val) & (gene_score_data_v1['score_raw'] > min_val)].reset_index().drop(['index'], axis = 1)\n",
    "gene_score_data_v1_L5['score'] = gene_score_data_v1_L5['score_raw'].apply(scale_score, args = (upper_b, lower_b, max_val, min_val))"
   ]
  },
  {
   "cell_type": "code",
   "execution_count": 179,
   "metadata": {},
   "outputs": [],
   "source": [
    "gene_score_data_v1 = pd.concat([gene_score_data_v1_L1, gene_score_data_v1_L2, gene_score_data_v1_L3, gene_score_data_v1_L4, gene_score_data_v1_L5]).reset_index().drop(['index'], axis = 1)"
   ]
  },
  {
   "cell_type": "code",
   "execution_count": 181,
   "metadata": {},
   "outputs": [
    {
     "data": {
      "text/plain": [
       "(array([  93.,  176.,  183., 1725.,  478.,   80.,  224.,   48.,   59.,\n",
       "          14.]),\n",
       " array([1.6 , 2.04, 2.48, 2.92, 3.36, 3.8 , 4.24, 4.68, 5.12, 5.56, 6.  ]),\n",
       " <a list of 10 Patch objects>)"
      ]
     },
     "execution_count": 181,
     "metadata": {},
     "output_type": "execute_result"
    },
    {
     "data": {
      "image/png": "[encoded data removed]",
      "text/plain": [
       "<Figure size 432x288 with 1 Axes>"
      ]
     },
     "metadata": {
      "needs_background": "light"
     },
     "output_type": "display_data"
    }
   ],
   "source": [
    "plt.hist(gene_score_data_v1['score'])"
   ]
  },
  {
   "cell_type": "code",
   "execution_count": 183,
   "metadata": {},
   "outputs": [
    {
     "data": {
      "text/plain": [
       "count    3080.000000\n",
       "mean        3.358300\n",
       "std         0.662700\n",
       "min         1.600000\n",
       "25%         3.075956\n",
       "50%         3.300000\n",
       "75%         3.644323\n",
       "max         6.000000\n",
       "Name: score, dtype: float64"
      ]
     },
     "execution_count": 183,
     "metadata": {},
     "output_type": "execute_result"
    }
   ],
   "source": [
    "gene_score_data_v1['score'].describe()"
   ]
  },
  {
   "cell_type": "code",
   "execution_count": 185,
   "metadata": {},
   "outputs": [],
   "source": [
    "gene_score_data_v1.to_excel(r'C:\\Users\\edwar\\Desktop\\農藝\\paper2\\data collection\\function_layer_final.xlsx', index = False)"
   ]
  },
  {
   "cell_type": "code",
   "execution_count": null,
   "metadata": {},
   "outputs": [],
   "source": []
  },
  {
   "cell_type": "code",
   "execution_count": null,
   "metadata": {},
   "outputs": [],
   "source": []
  }
 ],
 "metadata": {
  "kernelspec": {
   "display_name": "Python 3 (ipykernel)",
   "language": "python",
   "name": "python3"
  },
  "language_info": {
   "codemirror_mode": {
    "name": "ipython",
    "version": 3
   },
   "file_extension": ".py",
   "mimetype": "text/x-python",
   "name": "python",
   "nbconvert_exporter": "python",
   "pygments_lexer": "ipython3",
   "version": "3.11.8"
  }
 },
 "nbformat": 4,
 "nbformat_minor": 4
}
